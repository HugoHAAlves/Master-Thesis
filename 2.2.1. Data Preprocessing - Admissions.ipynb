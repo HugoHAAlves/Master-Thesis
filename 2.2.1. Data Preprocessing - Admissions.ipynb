{
 "cells": [
  {
   "cell_type": "markdown",
   "id": "55ded28c",
   "metadata": {},
   "source": [
    "# <font color='#000000'>Master Thesis Hugo Alves | <span style=\"color:#BFD62F;\">__Nova__</span> <span style=\"color:#5C666C;\">__IMS__</span></font>\n",
    "\n",
    "Welcome to the continuation of the second notebook developed for this project. We (Professor Roberto Henriques, Professor Ricardo Santos, and Hugo Alves) aim to develop a machine learning (ML) framework to predict student admissions to postgraduate and masters' programs at Nova IMS, as well as the final grade point average (GPA) of those who are accepted.\n",
    "\n",
    "<br>\n",
    "<div align=\"center\">\n",
    "  <img src=\"https://i.ibb.co/nLy596G/Notebooks-Workflow.png\" alt=\"Workflow\" width=\"800\" />\n",
    "</div>\n",
    "<br>\n",
    "\n",
    "After our initial exploration of the available data, we can now shift our focus to __data preparation and preprocessing__. Here, we will deal with the transformations that are exclusive to the task of predicting admissions. Enjoy!\n",
    "\n",
    "\n",
    "# <font color=\"#5C666C\">Contents</font> <a class=\"anchor\" id=\"toc\"></a>\n",
    "[Initial Setup](#setup)<br>\n",
    "- [ Library and Functions Import](#library)<br>\n",
    "- [ Retrieving the Dataframes](#dataframes)<br>\n",
    "\n",
    "[3. Data Preprocessing](#preprocessing)<br>\n",
    "- [3.5. Scaling](#scaling)<br>\n",
    "- [3.6. Feature Selection](#selection)<br>\n",
    "  - [3.6.1. Spearman Correlation](#spearman)<br>\n",
    "  - [3.6.2. ANOVA](#anova)<br>\n",
    "  - [3.6.3. Chi-Square Test of Independence](#chisquare)<br>\n",
    "  - [3.6.4. Point Biserial Correlation](#biserial)<br>\n",
    "  - [3.6.5. Recursive Feature Elimination - Logistic Regression](#rfelr)<br>\n",
    "  - [3.6.6. Recursive Feature Elimination - Support Vector Machines](#rfesvm)<br>\n",
    "  - [3.6.7. Random Forest](#rf)<br>\n",
    "  - [3.6.8. Least Absolute Shrinkage and Selection Operator (LASSO)](#lasso)<br>\n",
    "  - [3.6.9. Conclusion](#conclusion)<br>\n",
    "- [3.7. DBSCAN for Outlier Removal](#dbscan)<br>\n",
    "- [3.8. Oversampling](#oversampling)<br>\n",
    "- [3.9. Storing the Dataframes](#storing)<br>\n",
    "\n",
    "</div>"
   ]
  },
  {
   "cell_type": "markdown",
   "id": "461b0e50",
   "metadata": {},
   "source": [
    "# <font color=\"#BFD62F\">_____________</font>\n",
    "# <font color='#5C666C'>Initial Setup</font> <a class=\"anchor\" id=\"setup\"></a>\n",
    "[Back to Contents](#toc)"
   ]
  },
  {
   "cell_type": "markdown",
   "id": "f4b38df1",
   "metadata": {},
   "source": [
    "## <font color='#BFD62F'>Library and Functions Import</font> <a class=\"anchor\" id=\"library\"></a>\n",
    "[Back to Contents](#toc)"
   ]
  },
  {
   "cell_type": "code",
   "execution_count": 1,
   "id": "a9c75b9d",
   "metadata": {},
   "outputs": [],
   "source": [
    "#!python --version"
   ]
  },
  {
   "cell_type": "markdown",
   "id": "63a71e8c-cecc-4e1d-8728-acb3ead56265",
   "metadata": {},
   "source": [
    "We will be using the Python version 3.11.8."
   ]
  },
  {
   "cell_type": "code",
   "execution_count": 2,
   "id": "bc1c5a41-f01c-4b7a-af37-68927406da99",
   "metadata": {},
   "outputs": [],
   "source": [
    "#! pip install pandas==2.2.1\n",
    "#! pip install numpy==1.24.4\n",
    "#! pip install matplotlib==3.8.3\n",
    "#! pip install seaborn==0.12.2\n",
    "#! pip install plotly==5.20.0\n",
    "#! pip install tenacity==8.2.2\n",
    "#! pip install openpyxl>=3.1.0\n",
    "#% pip install nbformat>=4.3.0\n",
    "#! pip install rapidfuzz==3.11.0\n",
    "#! pip install xlrd==2.0.1\n",
    "#! pip install sklearn==1.2.2\n",
    "#! pip install imblearn==0.11.0"
   ]
  },
  {
   "cell_type": "code",
   "execution_count": 3,
   "id": "a6589c30-dc4d-40bb-85e3-10099c1ba040",
   "metadata": {},
   "outputs": [],
   "source": [
    "%run Imports"
   ]
  },
  {
   "cell_type": "code",
   "execution_count": 4,
   "id": "c2a8a3fc",
   "metadata": {},
   "outputs": [],
   "source": [
    "import Functions as tf"
   ]
  },
  {
   "cell_type": "markdown",
   "id": "4c5d92d9",
   "metadata": {},
   "source": [
    "## <font color='#BFD62F'>Retrieving the Dataframes </font> <a class=\"anchor\" id=\"dataframes\"></a>\n",
    "[Back to Contents](#toc)\n",
    "\n",
    "Let's retrieve the dataframes that we used in the previous notebook."
   ]
  },
  {
   "cell_type": "code",
   "execution_count": 5,
   "id": "7967bc06",
   "metadata": {},
   "outputs": [],
   "source": [
    "%store -r df_admissions\n",
    "\n",
    "%store -r X_admissions_train\n",
    "%store -r X_admissions_val\n",
    "%store -r y_admissions_train\n",
    "%store -r y_admissions_val"
   ]
  },
  {
   "cell_type": "markdown",
   "id": "dc8d8019-5c97-497c-82f9-9b7387c932c6",
   "metadata": {},
   "source": [
    "# <font color='#BFD62F'>_________________________________________</font>\n",
    "# <font color='#5C666C'>3. Data Preparation and Preprocessing </font> <a class=\"anchor\" id=\"preprocessing\"></a>\n",
    "[Back to Contents](#toc)\n",
    "\n",
    "<br>\n",
    "\n",
    "## <font color='#BFD62F'>3.5. Scaling</font> <a class=\"anchor\" id=\"scaling\"></a>\n",
    "[Back to Contents](#toc)\n",
    "\n",
    "Our first step (of this specific preprocessing stage) will be to scale our data so that all variables fall in a range between 0 and 1. The most direct alternative to this option would be to normalize data. However, since the number of variables that we expect to follow a Gaussian distribution is very reduced, this alternative will be disconsidered."
   ]
  },
  {
   "cell_type": "code",
   "execution_count": 6,
   "id": "d56b7234",
   "metadata": {},
   "outputs": [
    {
     "data": {
      "text/html": [
       "<div>\n",
       "<style scoped>\n",
       "    .dataframe tbody tr th:only-of-type {\n",
       "        vertical-align: middle;\n",
       "    }\n",
       "\n",
       "    .dataframe tbody tr th {\n",
       "        vertical-align: top;\n",
       "    }\n",
       "\n",
       "    .dataframe thead th {\n",
       "        text-align: right;\n",
       "    }\n",
       "</style>\n",
       "<table border=\"1\" class=\"dataframe\">\n",
       "  <thead>\n",
       "    <tr style=\"text-align: right;\">\n",
       "      <th></th>\n",
       "      <th>idgenero</th>\n",
       "      <th>nivelInglesCompreensao</th>\n",
       "      <th>nivelInglesFala</th>\n",
       "      <th>nivelInglesEscrita</th>\n",
       "      <th>dprograma</th>\n",
       "      <th>NumberAcademicExperiences</th>\n",
       "      <th>NumberAcademicDegrees</th>\n",
       "      <th>HighestAcademicDegree</th>\n",
       "      <th>Rank</th>\n",
       "      <th>Student Population</th>\n",
       "      <th>Students to Staff Ratio</th>\n",
       "      <th>Overall Score</th>\n",
       "      <th>Teaching</th>\n",
       "      <th>Research Environment</th>\n",
       "      <th>Research Quality</th>\n",
       "      <th>Industry Impact</th>\n",
       "      <th>International Outlook</th>\n",
       "      <th>Percentage_International_Students</th>\n",
       "      <th>Percentage_Female_Students</th>\n",
       "      <th>Is_Ranked</th>\n",
       "      <th>Previous_IMS_Student</th>\n",
       "      <th>Previous_Data_Studies</th>\n",
       "      <th>Previous_Computer_Studies</th>\n",
       "      <th>Previous_Tech_Studies</th>\n",
       "      <th>Previous_Math_Studies</th>\n",
       "      <th>Previous_Engineering_Studies</th>\n",
       "      <th>Previous_Finance_Studies</th>\n",
       "      <th>Previous_Marketing_Studies</th>\n",
       "      <th>Previous_Field_Studies</th>\n",
       "      <th>Number_Studied_Fields</th>\n",
       "      <th>Non_Finished_Programs</th>\n",
       "      <th>Prop_Finished_Programs</th>\n",
       "      <th>AverageScaledGrade</th>\n",
       "      <th>MaxScaledGrade</th>\n",
       "      <th>MinScaledGrade</th>\n",
       "      <th>countries_region</th>\n",
       "      <th>countries_dist</th>\n",
       "      <th>countries_GDP_per_capita</th>\n",
       "      <th>is_Portuguese</th>\n",
       "      <th>datacandidaturafim_month</th>\n",
       "      <th>datacandidaturafim_day</th>\n",
       "      <th>datacandidaturafim_time_of_day</th>\n",
       "      <th>is_After_Working_Hours</th>\n",
       "      <th>is_Fully_In_Person</th>\n",
       "      <th>Program_Name</th>\n",
       "      <th>Number_Professional_Experiences</th>\n",
       "      <th>Years_of_Experience</th>\n",
       "      <th>Years_of_Longest_Prof_Experience</th>\n",
       "      <th>Working_Upon_Application</th>\n",
       "      <th>Previous_Data_Jobs</th>\n",
       "      <th>Previous_Analytics_Jobs</th>\n",
       "      <th>Previous_Computing_Jobs</th>\n",
       "      <th>Previous_Tech_Jobs</th>\n",
       "      <th>Previous_Math_Jobs</th>\n",
       "      <th>Previous_Engineering_Jobs</th>\n",
       "      <th>Previous_Finance_Jobs</th>\n",
       "      <th>Previous_Marketing_Jobs</th>\n",
       "      <th>Previous_Project_Jobs</th>\n",
       "      <th>Previous_Field_Jobs</th>\n",
       "      <th>Number_Fields_Worked</th>\n",
       "      <th>Previous_Trainee_Jobs</th>\n",
       "      <th>Previous_Jobs_in_Partners</th>\n",
       "      <th>AverageAcademicDegree</th>\n",
       "      <th>datacandidaturafim_day_of_week_sin</th>\n",
       "      <th>datacandidaturafim_day_of_week_cos</th>\n",
       "    </tr>\n",
       "  </thead>\n",
       "  <tbody>\n",
       "    <tr>\n",
       "      <th>6442</th>\n",
       "      <td>1</td>\n",
       "      <td>5</td>\n",
       "      <td>5</td>\n",
       "      <td>5</td>\n",
       "      <td>1</td>\n",
       "      <td>1</td>\n",
       "      <td>1</td>\n",
       "      <td>3</td>\n",
       "      <td>1471.0</td>\n",
       "      <td>48837.0</td>\n",
       "      <td>36.299999</td>\n",
       "      <td>25.708500</td>\n",
       "      <td>15.900000</td>\n",
       "      <td>9.3</td>\n",
       "      <td>48.700001</td>\n",
       "      <td>17.4</td>\n",
       "      <td>40.200001</td>\n",
       "      <td>0.0</td>\n",
       "      <td>48.0</td>\n",
       "      <td>1</td>\n",
       "      <td>0</td>\n",
       "      <td>0</td>\n",
       "      <td>0</td>\n",
       "      <td>0</td>\n",
       "      <td>0</td>\n",
       "      <td>0</td>\n",
       "      <td>0</td>\n",
       "      <td>0</td>\n",
       "      <td>0</td>\n",
       "      <td>0</td>\n",
       "      <td>0</td>\n",
       "      <td>1.0</td>\n",
       "      <td>0.84</td>\n",
       "      <td>0.84</td>\n",
       "      <td>0.84</td>\n",
       "      <td>1</td>\n",
       "      <td>3810.1860</td>\n",
       "      <td>1637.468</td>\n",
       "      <td>0</td>\n",
       "      <td>5</td>\n",
       "      <td>12</td>\n",
       "      <td>0</td>\n",
       "      <td>0</td>\n",
       "      <td>1</td>\n",
       "      <td>0.005562</td>\n",
       "      <td>3</td>\n",
       "      <td>4</td>\n",
       "      <td>1</td>\n",
       "      <td>1</td>\n",
       "      <td>0</td>\n",
       "      <td>0</td>\n",
       "      <td>0</td>\n",
       "      <td>1</td>\n",
       "      <td>0</td>\n",
       "      <td>0</td>\n",
       "      <td>0</td>\n",
       "      <td>0</td>\n",
       "      <td>0</td>\n",
       "      <td>1</td>\n",
       "      <td>1</td>\n",
       "      <td>1</td>\n",
       "      <td>0</td>\n",
       "      <td>3.0</td>\n",
       "      <td>0.433884</td>\n",
       "      <td>-0.900969</td>\n",
       "    </tr>\n",
       "    <tr>\n",
       "      <th>7521</th>\n",
       "      <td>0</td>\n",
       "      <td>2</td>\n",
       "      <td>2</td>\n",
       "      <td>2</td>\n",
       "      <td>0</td>\n",
       "      <td>2</td>\n",
       "      <td>2</td>\n",
       "      <td>4</td>\n",
       "      <td>2100.0</td>\n",
       "      <td>18192.0</td>\n",
       "      <td>18.299999</td>\n",
       "      <td>33.555000</td>\n",
       "      <td>18.200001</td>\n",
       "      <td>11.5</td>\n",
       "      <td>63.900002</td>\n",
       "      <td>23.1</td>\n",
       "      <td>49.500000</td>\n",
       "      <td>3.0</td>\n",
       "      <td>45.0</td>\n",
       "      <td>0</td>\n",
       "      <td>0</td>\n",
       "      <td>0</td>\n",
       "      <td>0</td>\n",
       "      <td>0</td>\n",
       "      <td>0</td>\n",
       "      <td>0</td>\n",
       "      <td>0</td>\n",
       "      <td>0</td>\n",
       "      <td>0</td>\n",
       "      <td>0</td>\n",
       "      <td>0</td>\n",
       "      <td>1.0</td>\n",
       "      <td>0.96</td>\n",
       "      <td>0.96</td>\n",
       "      <td>0.96</td>\n",
       "      <td>2</td>\n",
       "      <td>9162.3600</td>\n",
       "      <td>2651.738</td>\n",
       "      <td>0</td>\n",
       "      <td>3</td>\n",
       "      <td>10</td>\n",
       "      <td>0</td>\n",
       "      <td>0</td>\n",
       "      <td>1</td>\n",
       "      <td>0.024954</td>\n",
       "      <td>1</td>\n",
       "      <td>10</td>\n",
       "      <td>10</td>\n",
       "      <td>1</td>\n",
       "      <td>0</td>\n",
       "      <td>0</td>\n",
       "      <td>0</td>\n",
       "      <td>0</td>\n",
       "      <td>0</td>\n",
       "      <td>0</td>\n",
       "      <td>0</td>\n",
       "      <td>0</td>\n",
       "      <td>0</td>\n",
       "      <td>0</td>\n",
       "      <td>0</td>\n",
       "      <td>0</td>\n",
       "      <td>0</td>\n",
       "      <td>3.5</td>\n",
       "      <td>-0.433884</td>\n",
       "      <td>-0.900969</td>\n",
       "    </tr>\n",
       "    <tr>\n",
       "      <th>13488</th>\n",
       "      <td>0</td>\n",
       "      <td>4</td>\n",
       "      <td>4</td>\n",
       "      <td>4</td>\n",
       "      <td>0</td>\n",
       "      <td>1</td>\n",
       "      <td>1</td>\n",
       "      <td>3</td>\n",
       "      <td>2100.0</td>\n",
       "      <td>14080.0</td>\n",
       "      <td>14.800000</td>\n",
       "      <td>32.587502</td>\n",
       "      <td>24.299999</td>\n",
       "      <td>16.1</td>\n",
       "      <td>53.299999</td>\n",
       "      <td>36.0</td>\n",
       "      <td>54.799999</td>\n",
       "      <td>16.0</td>\n",
       "      <td>55.0</td>\n",
       "      <td>0</td>\n",
       "      <td>0</td>\n",
       "      <td>0</td>\n",
       "      <td>0</td>\n",
       "      <td>0</td>\n",
       "      <td>0</td>\n",
       "      <td>0</td>\n",
       "      <td>0</td>\n",
       "      <td>0</td>\n",
       "      <td>0</td>\n",
       "      <td>0</td>\n",
       "      <td>0</td>\n",
       "      <td>1.0</td>\n",
       "      <td>0.60</td>\n",
       "      <td>0.60</td>\n",
       "      <td>0.60</td>\n",
       "      <td>0</td>\n",
       "      <td>114.3257</td>\n",
       "      <td>27834.773</td>\n",
       "      <td>1</td>\n",
       "      <td>8</td>\n",
       "      <td>12</td>\n",
       "      <td>1</td>\n",
       "      <td>0</td>\n",
       "      <td>1</td>\n",
       "      <td>0.004683</td>\n",
       "      <td>0</td>\n",
       "      <td>0</td>\n",
       "      <td>0</td>\n",
       "      <td>0</td>\n",
       "      <td>0</td>\n",
       "      <td>0</td>\n",
       "      <td>0</td>\n",
       "      <td>0</td>\n",
       "      <td>0</td>\n",
       "      <td>0</td>\n",
       "      <td>0</td>\n",
       "      <td>0</td>\n",
       "      <td>0</td>\n",
       "      <td>0</td>\n",
       "      <td>0</td>\n",
       "      <td>0</td>\n",
       "      <td>0</td>\n",
       "      <td>3.0</td>\n",
       "      <td>0.781832</td>\n",
       "      <td>0.623490</td>\n",
       "    </tr>\n",
       "    <tr>\n",
       "      <th>10078</th>\n",
       "      <td>1</td>\n",
       "      <td>1</td>\n",
       "      <td>1</td>\n",
       "      <td>1</td>\n",
       "      <td>0</td>\n",
       "      <td>1</td>\n",
       "      <td>1</td>\n",
       "      <td>3</td>\n",
       "      <td>2100.0</td>\n",
       "      <td>14080.0</td>\n",
       "      <td>14.800000</td>\n",
       "      <td>32.587502</td>\n",
       "      <td>24.299999</td>\n",
       "      <td>16.1</td>\n",
       "      <td>53.299999</td>\n",
       "      <td>36.0</td>\n",
       "      <td>54.799999</td>\n",
       "      <td>16.0</td>\n",
       "      <td>55.0</td>\n",
       "      <td>0</td>\n",
       "      <td>0</td>\n",
       "      <td>0</td>\n",
       "      <td>0</td>\n",
       "      <td>0</td>\n",
       "      <td>0</td>\n",
       "      <td>0</td>\n",
       "      <td>0</td>\n",
       "      <td>0</td>\n",
       "      <td>0</td>\n",
       "      <td>0</td>\n",
       "      <td>0</td>\n",
       "      <td>1.0</td>\n",
       "      <td>0.60</td>\n",
       "      <td>0.60</td>\n",
       "      <td>0.60</td>\n",
       "      <td>0</td>\n",
       "      <td>114.3257</td>\n",
       "      <td>27834.773</td>\n",
       "      <td>1</td>\n",
       "      <td>3</td>\n",
       "      <td>31</td>\n",
       "      <td>1</td>\n",
       "      <td>0</td>\n",
       "      <td>1</td>\n",
       "      <td>0.044420</td>\n",
       "      <td>1</td>\n",
       "      <td>4</td>\n",
       "      <td>4</td>\n",
       "      <td>1</td>\n",
       "      <td>0</td>\n",
       "      <td>0</td>\n",
       "      <td>0</td>\n",
       "      <td>0</td>\n",
       "      <td>0</td>\n",
       "      <td>0</td>\n",
       "      <td>0</td>\n",
       "      <td>0</td>\n",
       "      <td>0</td>\n",
       "      <td>0</td>\n",
       "      <td>0</td>\n",
       "      <td>0</td>\n",
       "      <td>0</td>\n",
       "      <td>3.0</td>\n",
       "      <td>-0.974928</td>\n",
       "      <td>-0.222521</td>\n",
       "    </tr>\n",
       "    <tr>\n",
       "      <th>2367</th>\n",
       "      <td>0</td>\n",
       "      <td>4</td>\n",
       "      <td>4</td>\n",
       "      <td>4</td>\n",
       "      <td>0</td>\n",
       "      <td>1</td>\n",
       "      <td>1</td>\n",
       "      <td>4</td>\n",
       "      <td>2100.0</td>\n",
       "      <td>14080.0</td>\n",
       "      <td>14.800000</td>\n",
       "      <td>32.587502</td>\n",
       "      <td>24.299999</td>\n",
       "      <td>16.1</td>\n",
       "      <td>53.299999</td>\n",
       "      <td>36.0</td>\n",
       "      <td>54.799999</td>\n",
       "      <td>16.0</td>\n",
       "      <td>55.0</td>\n",
       "      <td>0</td>\n",
       "      <td>0</td>\n",
       "      <td>0</td>\n",
       "      <td>0</td>\n",
       "      <td>0</td>\n",
       "      <td>0</td>\n",
       "      <td>1</td>\n",
       "      <td>0</td>\n",
       "      <td>0</td>\n",
       "      <td>1</td>\n",
       "      <td>1</td>\n",
       "      <td>0</td>\n",
       "      <td>1.0</td>\n",
       "      <td>0.80</td>\n",
       "      <td>0.80</td>\n",
       "      <td>0.80</td>\n",
       "      <td>0</td>\n",
       "      <td>114.3257</td>\n",
       "      <td>27834.773</td>\n",
       "      <td>1</td>\n",
       "      <td>4</td>\n",
       "      <td>30</td>\n",
       "      <td>0</td>\n",
       "      <td>0</td>\n",
       "      <td>1</td>\n",
       "      <td>0.071716</td>\n",
       "      <td>1</td>\n",
       "      <td>5</td>\n",
       "      <td>5</td>\n",
       "      <td>1</td>\n",
       "      <td>1</td>\n",
       "      <td>1</td>\n",
       "      <td>1</td>\n",
       "      <td>0</td>\n",
       "      <td>0</td>\n",
       "      <td>0</td>\n",
       "      <td>0</td>\n",
       "      <td>0</td>\n",
       "      <td>0</td>\n",
       "      <td>1</td>\n",
       "      <td>3</td>\n",
       "      <td>0</td>\n",
       "      <td>0</td>\n",
       "      <td>4.0</td>\n",
       "      <td>0.974928</td>\n",
       "      <td>-0.222521</td>\n",
       "    </tr>\n",
       "  </tbody>\n",
       "</table>\n",
       "</div>"
      ],
      "text/plain": [
       "       idgenero  nivelInglesCompreensao  nivelInglesFala  nivelInglesEscrita  \\\n",
       "6442          1                       5                5                   5   \n",
       "7521          0                       2                2                   2   \n",
       "13488         0                       4                4                   4   \n",
       "10078         1                       1                1                   1   \n",
       "2367          0                       4                4                   4   \n",
       "\n",
       "       dprograma  NumberAcademicExperiences  NumberAcademicDegrees  \\\n",
       "6442           1                          1                      1   \n",
       "7521           0                          2                      2   \n",
       "13488          0                          1                      1   \n",
       "10078          0                          1                      1   \n",
       "2367           0                          1                      1   \n",
       "\n",
       "       HighestAcademicDegree    Rank  Student Population  \\\n",
       "6442                       3  1471.0             48837.0   \n",
       "7521                       4  2100.0             18192.0   \n",
       "13488                      3  2100.0             14080.0   \n",
       "10078                      3  2100.0             14080.0   \n",
       "2367                       4  2100.0             14080.0   \n",
       "\n",
       "       Students to Staff Ratio  Overall Score   Teaching  \\\n",
       "6442                 36.299999      25.708500  15.900000   \n",
       "7521                 18.299999      33.555000  18.200001   \n",
       "13488                14.800000      32.587502  24.299999   \n",
       "10078                14.800000      32.587502  24.299999   \n",
       "2367                 14.800000      32.587502  24.299999   \n",
       "\n",
       "       Research Environment  Research Quality  Industry Impact  \\\n",
       "6442                    9.3         48.700001             17.4   \n",
       "7521                   11.5         63.900002             23.1   \n",
       "13488                  16.1         53.299999             36.0   \n",
       "10078                  16.1         53.299999             36.0   \n",
       "2367                   16.1         53.299999             36.0   \n",
       "\n",
       "       International Outlook  Percentage_International_Students  \\\n",
       "6442               40.200001                                0.0   \n",
       "7521               49.500000                                3.0   \n",
       "13488              54.799999                               16.0   \n",
       "10078              54.799999                               16.0   \n",
       "2367               54.799999                               16.0   \n",
       "\n",
       "       Percentage_Female_Students  Is_Ranked  Previous_IMS_Student  \\\n",
       "6442                         48.0          1                     0   \n",
       "7521                         45.0          0                     0   \n",
       "13488                        55.0          0                     0   \n",
       "10078                        55.0          0                     0   \n",
       "2367                         55.0          0                     0   \n",
       "\n",
       "       Previous_Data_Studies  Previous_Computer_Studies  \\\n",
       "6442                       0                          0   \n",
       "7521                       0                          0   \n",
       "13488                      0                          0   \n",
       "10078                      0                          0   \n",
       "2367                       0                          0   \n",
       "\n",
       "       Previous_Tech_Studies  Previous_Math_Studies  \\\n",
       "6442                       0                      0   \n",
       "7521                       0                      0   \n",
       "13488                      0                      0   \n",
       "10078                      0                      0   \n",
       "2367                       0                      0   \n",
       "\n",
       "       Previous_Engineering_Studies  Previous_Finance_Studies  \\\n",
       "6442                              0                         0   \n",
       "7521                              0                         0   \n",
       "13488                             0                         0   \n",
       "10078                             0                         0   \n",
       "2367                              1                         0   \n",
       "\n",
       "       Previous_Marketing_Studies  Previous_Field_Studies  \\\n",
       "6442                            0                       0   \n",
       "7521                            0                       0   \n",
       "13488                           0                       0   \n",
       "10078                           0                       0   \n",
       "2367                            0                       1   \n",
       "\n",
       "       Number_Studied_Fields  Non_Finished_Programs  Prop_Finished_Programs  \\\n",
       "6442                       0                      0                     1.0   \n",
       "7521                       0                      0                     1.0   \n",
       "13488                      0                      0                     1.0   \n",
       "10078                      0                      0                     1.0   \n",
       "2367                       1                      0                     1.0   \n",
       "\n",
       "       AverageScaledGrade  MaxScaledGrade  MinScaledGrade  countries_region  \\\n",
       "6442                 0.84            0.84            0.84                 1   \n",
       "7521                 0.96            0.96            0.96                 2   \n",
       "13488                0.60            0.60            0.60                 0   \n",
       "10078                0.60            0.60            0.60                 0   \n",
       "2367                 0.80            0.80            0.80                 0   \n",
       "\n",
       "       countries_dist  countries_GDP_per_capita  is_Portuguese  \\\n",
       "6442        3810.1860                  1637.468              0   \n",
       "7521        9162.3600                  2651.738              0   \n",
       "13488        114.3257                 27834.773              1   \n",
       "10078        114.3257                 27834.773              1   \n",
       "2367         114.3257                 27834.773              1   \n",
       "\n",
       "       datacandidaturafim_month  datacandidaturafim_day  \\\n",
       "6442                          5                      12   \n",
       "7521                          3                      10   \n",
       "13488                         8                      12   \n",
       "10078                         3                      31   \n",
       "2367                          4                      30   \n",
       "\n",
       "       datacandidaturafim_time_of_day  is_After_Working_Hours  \\\n",
       "6442                                0                       0   \n",
       "7521                                0                       0   \n",
       "13488                               1                       0   \n",
       "10078                               1                       0   \n",
       "2367                                0                       0   \n",
       "\n",
       "       is_Fully_In_Person  Program_Name  Number_Professional_Experiences  \\\n",
       "6442                    1      0.005562                                3   \n",
       "7521                    1      0.024954                                1   \n",
       "13488                   1      0.004683                                0   \n",
       "10078                   1      0.044420                                1   \n",
       "2367                    1      0.071716                                1   \n",
       "\n",
       "       Years_of_Experience  Years_of_Longest_Prof_Experience  \\\n",
       "6442                     4                                 1   \n",
       "7521                    10                                10   \n",
       "13488                    0                                 0   \n",
       "10078                    4                                 4   \n",
       "2367                     5                                 5   \n",
       "\n",
       "       Working_Upon_Application  Previous_Data_Jobs  Previous_Analytics_Jobs  \\\n",
       "6442                          1                   0                        0   \n",
       "7521                          1                   0                        0   \n",
       "13488                         0                   0                        0   \n",
       "10078                         1                   0                        0   \n",
       "2367                          1                   1                        1   \n",
       "\n",
       "       Previous_Computing_Jobs  Previous_Tech_Jobs  Previous_Math_Jobs  \\\n",
       "6442                         0                   1                   0   \n",
       "7521                         0                   0                   0   \n",
       "13488                        0                   0                   0   \n",
       "10078                        0                   0                   0   \n",
       "2367                         1                   0                   0   \n",
       "\n",
       "       Previous_Engineering_Jobs  Previous_Finance_Jobs  \\\n",
       "6442                           0                      0   \n",
       "7521                           0                      0   \n",
       "13488                          0                      0   \n",
       "10078                          0                      0   \n",
       "2367                           0                      0   \n",
       "\n",
       "       Previous_Marketing_Jobs  Previous_Project_Jobs  Previous_Field_Jobs  \\\n",
       "6442                         0                      0                    1   \n",
       "7521                         0                      0                    0   \n",
       "13488                        0                      0                    0   \n",
       "10078                        0                      0                    0   \n",
       "2367                         0                      0                    1   \n",
       "\n",
       "       Number_Fields_Worked  Previous_Trainee_Jobs  Previous_Jobs_in_Partners  \\\n",
       "6442                      1                      1                          0   \n",
       "7521                      0                      0                          0   \n",
       "13488                     0                      0                          0   \n",
       "10078                     0                      0                          0   \n",
       "2367                      3                      0                          0   \n",
       "\n",
       "       AverageAcademicDegree  datacandidaturafim_day_of_week_sin  \\\n",
       "6442                     3.0                            0.433884   \n",
       "7521                     3.5                           -0.433884   \n",
       "13488                    3.0                            0.781832   \n",
       "10078                    3.0                           -0.974928   \n",
       "2367                     4.0                            0.974928   \n",
       "\n",
       "       datacandidaturafim_day_of_week_cos  \n",
       "6442                            -0.900969  \n",
       "7521                            -0.900969  \n",
       "13488                            0.623490  \n",
       "10078                           -0.222521  \n",
       "2367                            -0.222521  "
      ]
     },
     "execution_count": 6,
     "metadata": {},
     "output_type": "execute_result"
    }
   ],
   "source": [
    "X_admissions_train.head()"
   ]
  },
  {
   "cell_type": "code",
   "execution_count": 7,
   "id": "55777563",
   "metadata": {},
   "outputs": [],
   "source": [
    "features_to_scale = [\"idgenero\", \"nivelInglesCompreensao\", \"nivelInglesFala\", \"nivelInglesEscrita\",\n",
    "                     \"NumberAcademicExperiences\", \"NumberAcademicDegrees\", \"HighestAcademicDegree\",\n",
    "                     \"Rank\", \"Student Population\", \"Students to Staff Ratio\", \"Overall Score\",\n",
    "                     \"Teaching\", \"Research Environment\", \"Research Quality\", \"Industry Impact\", \"International Outlook\",\n",
    "                     \"Percentage_International_Students\", \"Percentage_Female_Students\", \"Number_Studied_Fields\",\n",
    "                     \"Non_Finished_Programs\", \"Prop_Finished_Programs\", \"AverageScaledGrade\", \"MaxScaledGrade\", \"MinScaledGrade\",\n",
    "                     \"countries_region\", \"countries_dist\", \"countries_GDP_per_capita\",\n",
    "                     \"datacandidaturafim_month\", \"datacandidaturafim_day\", \"datacandidaturafim_time_of_day\",\n",
    "                     \"Program_Name\", \"Number_Professional_Experiences\", \"Years_of_Experience\", \"Years_of_Longest_Prof_Experience\",\n",
    "                     \"Number_Fields_Worked\", \"AverageAcademicDegree\", \"datacandidaturafim_day_of_week_sin\",\n",
    "                     \"datacandidaturafim_day_of_week_cos\"]\n",
    "\n",
    "X_admissions_train_to_scale = X_admissions_train[features_to_scale]\n",
    "X_admissions_val_to_scale = X_admissions_val[features_to_scale]"
   ]
  },
  {
   "cell_type": "code",
   "execution_count": 8,
   "id": "5f0006f5",
   "metadata": {},
   "outputs": [],
   "source": [
    "scaler = MinMaxScaler().fit(X_admissions_train_to_scale)\n",
    "\n",
    "min_max_X_admissions_train = scaler.transform(X_admissions_train_to_scale)\n",
    "X_admissions_train_scaled = pd.DataFrame(min_max_X_admissions_train, columns = features_to_scale, index = X_admissions_train.index)\n",
    "X_admissions_train_scaled = pd.concat([X_admissions_train.drop(columns = features_to_scale), X_admissions_train_scaled], axis = 1)\n",
    "\n",
    "min_max_X_admissions_val = scaler.transform(X_admissions_val_to_scale)\n",
    "X_admissions_val_scaled = pd.DataFrame(min_max_X_admissions_val, columns = features_to_scale, index = X_admissions_val.index)\n",
    "X_admissions_val_scaled = pd.concat([X_admissions_val.drop(columns = features_to_scale), X_admissions_val_scaled], axis = 1)"
   ]
  },
  {
   "cell_type": "markdown",
   "id": "f9975d5d",
   "metadata": {},
   "source": [
    "## <font color='#BFD62F'>3.6. Feature Selection </font> <a class=\"anchor\" id=\"selection\"></a>\n",
    "[Back to Contents](#toc)\n",
    "\n",
    "Our feature selection will involve the use of a group of filter, wrapper, and embedded techniques, which will then allow us to take a conclusion regarding the variables that will proceed to the modelling stage. We will use:\n",
    "* __Spearman's Correlation__ to identify numerical features that are correlated with each other (and, therefore, are redundant).\n",
    "* __Analysis of Variance (ANOVA)__ to assess if these numerical features have some correlation with the target. The resultant p-value will also be our way to compare the pairs of correlated variables identified through Spearman's Correlation and decide which should be discarded according to this technique.\n",
    "* __Chi-Square Test of Independence__ to evaluate the correlation between each categorical variable and the target.\n",
    "* __Point Biserial Correlation__ is a variation of Pearson's correlation suited to assess the relationship between a binary and a numerical variable. Therefore, similarly to the ANOVA, we will use it to assess if our numerical features are to any extent correlated with the target.\n",
    "* __Recursive Feature Elimination__, where we will fit a specified model to all variables. At each iteration, the least important variable to create the model will be discarded, until no attributes remain. The combination of features that attains the highest F1 score will be chosen. In our case, we will be using the __Logistic Regression__ and __Support Vector Machine with a linear kernel__ to train our model, both with their respective default parameters.\n",
    "* __Random Forest__, also with default parameters. Since this model directly returns feature importance, we will define a threshold to delimit the accepted and rejected variables.\n",
    "* __Least Absolute Shrinkage and Selection Operator (LASSO)*__, in the same conditions as the Random Forest. This embedded method was chosen instead of the Ridge Regression (its most direct alternative) due to its ability equal irrelevant variables to 0 (since it uses L1 regularization), as well as for encouraging models with fewer parameters, something we look for considering the high dimensionality of the data at the moment.\n",
    "\n",
    "*The biggest difference from the LASSO model to the Logistic Regression utilized for RFE lies in the fact the fromer uses L1 regularization, while the latter employs a L2 penalty strategy."
   ]
  },
  {
   "cell_type": "code",
   "execution_count": 9,
   "id": "dca74bac",
   "metadata": {},
   "outputs": [
    {
     "data": {
      "text/html": [
       "<div>\n",
       "<style scoped>\n",
       "    .dataframe tbody tr th:only-of-type {\n",
       "        vertical-align: middle;\n",
       "    }\n",
       "\n",
       "    .dataframe tbody tr th {\n",
       "        vertical-align: top;\n",
       "    }\n",
       "\n",
       "    .dataframe thead th {\n",
       "        text-align: right;\n",
       "    }\n",
       "</style>\n",
       "<table border=\"1\" class=\"dataframe\">\n",
       "  <thead>\n",
       "    <tr style=\"text-align: right;\">\n",
       "      <th></th>\n",
       "      <th>dprograma</th>\n",
       "      <th>Is_Ranked</th>\n",
       "      <th>Previous_IMS_Student</th>\n",
       "      <th>Previous_Data_Studies</th>\n",
       "      <th>Previous_Computer_Studies</th>\n",
       "      <th>Previous_Tech_Studies</th>\n",
       "      <th>Previous_Math_Studies</th>\n",
       "      <th>Previous_Engineering_Studies</th>\n",
       "      <th>Previous_Finance_Studies</th>\n",
       "      <th>Previous_Marketing_Studies</th>\n",
       "      <th>Previous_Field_Studies</th>\n",
       "      <th>is_Portuguese</th>\n",
       "      <th>is_After_Working_Hours</th>\n",
       "      <th>is_Fully_In_Person</th>\n",
       "      <th>Working_Upon_Application</th>\n",
       "      <th>Previous_Data_Jobs</th>\n",
       "      <th>Previous_Analytics_Jobs</th>\n",
       "      <th>Previous_Computing_Jobs</th>\n",
       "      <th>Previous_Tech_Jobs</th>\n",
       "      <th>Previous_Math_Jobs</th>\n",
       "      <th>Previous_Engineering_Jobs</th>\n",
       "      <th>Previous_Finance_Jobs</th>\n",
       "      <th>Previous_Marketing_Jobs</th>\n",
       "      <th>Previous_Project_Jobs</th>\n",
       "      <th>Previous_Field_Jobs</th>\n",
       "      <th>Previous_Trainee_Jobs</th>\n",
       "      <th>Previous_Jobs_in_Partners</th>\n",
       "      <th>idgenero</th>\n",
       "      <th>nivelInglesCompreensao</th>\n",
       "      <th>nivelInglesFala</th>\n",
       "      <th>nivelInglesEscrita</th>\n",
       "      <th>NumberAcademicExperiences</th>\n",
       "      <th>NumberAcademicDegrees</th>\n",
       "      <th>HighestAcademicDegree</th>\n",
       "      <th>Rank</th>\n",
       "      <th>Student Population</th>\n",
       "      <th>Students to Staff Ratio</th>\n",
       "      <th>Overall Score</th>\n",
       "      <th>Teaching</th>\n",
       "      <th>Research Environment</th>\n",
       "      <th>Research Quality</th>\n",
       "      <th>Industry Impact</th>\n",
       "      <th>International Outlook</th>\n",
       "      <th>Percentage_International_Students</th>\n",
       "      <th>Percentage_Female_Students</th>\n",
       "      <th>Number_Studied_Fields</th>\n",
       "      <th>Non_Finished_Programs</th>\n",
       "      <th>Prop_Finished_Programs</th>\n",
       "      <th>AverageScaledGrade</th>\n",
       "      <th>MaxScaledGrade</th>\n",
       "      <th>MinScaledGrade</th>\n",
       "      <th>countries_region</th>\n",
       "      <th>countries_dist</th>\n",
       "      <th>countries_GDP_per_capita</th>\n",
       "      <th>datacandidaturafim_month</th>\n",
       "      <th>datacandidaturafim_day</th>\n",
       "      <th>datacandidaturafim_time_of_day</th>\n",
       "      <th>Program_Name</th>\n",
       "      <th>Number_Professional_Experiences</th>\n",
       "      <th>Years_of_Experience</th>\n",
       "      <th>Years_of_Longest_Prof_Experience</th>\n",
       "      <th>Number_Fields_Worked</th>\n",
       "      <th>AverageAcademicDegree</th>\n",
       "      <th>datacandidaturafim_day_of_week_sin</th>\n",
       "      <th>datacandidaturafim_day_of_week_cos</th>\n",
       "    </tr>\n",
       "  </thead>\n",
       "  <tbody>\n",
       "    <tr>\n",
       "      <th>6442</th>\n",
       "      <td>1</td>\n",
       "      <td>1</td>\n",
       "      <td>0</td>\n",
       "      <td>0</td>\n",
       "      <td>0</td>\n",
       "      <td>0</td>\n",
       "      <td>0</td>\n",
       "      <td>0</td>\n",
       "      <td>0</td>\n",
       "      <td>0</td>\n",
       "      <td>0</td>\n",
       "      <td>0</td>\n",
       "      <td>0</td>\n",
       "      <td>1</td>\n",
       "      <td>1</td>\n",
       "      <td>0</td>\n",
       "      <td>0</td>\n",
       "      <td>0</td>\n",
       "      <td>1</td>\n",
       "      <td>0</td>\n",
       "      <td>0</td>\n",
       "      <td>0</td>\n",
       "      <td>0</td>\n",
       "      <td>0</td>\n",
       "      <td>1</td>\n",
       "      <td>1</td>\n",
       "      <td>0</td>\n",
       "      <td>0.5</td>\n",
       "      <td>1.0</td>\n",
       "      <td>1.0</td>\n",
       "      <td>1.0</td>\n",
       "      <td>0.0</td>\n",
       "      <td>0.333333</td>\n",
       "      <td>0.6</td>\n",
       "      <td>0.700191</td>\n",
       "      <td>0.098929</td>\n",
       "      <td>0.263836</td>\n",
       "      <td>0.162391</td>\n",
       "      <td>0.071349</td>\n",
       "      <td>0.059811</td>\n",
       "      <td>0.462025</td>\n",
       "      <td>0.019002</td>\n",
       "      <td>0.285714</td>\n",
       "      <td>0.000000</td>\n",
       "      <td>0.428571</td>\n",
       "      <td>0.0</td>\n",
       "      <td>0.0</td>\n",
       "      <td>1.0</td>\n",
       "      <td>0.84</td>\n",
       "      <td>0.84</td>\n",
       "      <td>0.84</td>\n",
       "      <td>0.25</td>\n",
       "      <td>0.192282</td>\n",
       "      <td>0.009479</td>\n",
       "      <td>0.363636</td>\n",
       "      <td>0.366667</td>\n",
       "      <td>0.00</td>\n",
       "      <td>0.026121</td>\n",
       "      <td>0.500000</td>\n",
       "      <td>0.088889</td>\n",
       "      <td>0.012346</td>\n",
       "      <td>0.166667</td>\n",
       "      <td>0.6</td>\n",
       "      <td>0.722521</td>\n",
       "      <td>0.000000</td>\n",
       "    </tr>\n",
       "    <tr>\n",
       "      <th>7521</th>\n",
       "      <td>0</td>\n",
       "      <td>0</td>\n",
       "      <td>0</td>\n",
       "      <td>0</td>\n",
       "      <td>0</td>\n",
       "      <td>0</td>\n",
       "      <td>0</td>\n",
       "      <td>0</td>\n",
       "      <td>0</td>\n",
       "      <td>0</td>\n",
       "      <td>0</td>\n",
       "      <td>0</td>\n",
       "      <td>0</td>\n",
       "      <td>1</td>\n",
       "      <td>1</td>\n",
       "      <td>0</td>\n",
       "      <td>0</td>\n",
       "      <td>0</td>\n",
       "      <td>0</td>\n",
       "      <td>0</td>\n",
       "      <td>0</td>\n",
       "      <td>0</td>\n",
       "      <td>0</td>\n",
       "      <td>0</td>\n",
       "      <td>0</td>\n",
       "      <td>0</td>\n",
       "      <td>0</td>\n",
       "      <td>0.0</td>\n",
       "      <td>0.4</td>\n",
       "      <td>0.4</td>\n",
       "      <td>0.4</td>\n",
       "      <td>0.5</td>\n",
       "      <td>0.666667</td>\n",
       "      <td>0.8</td>\n",
       "      <td>1.000000</td>\n",
       "      <td>0.035440</td>\n",
       "      <td>0.127369</td>\n",
       "      <td>0.253243</td>\n",
       "      <td>0.096990</td>\n",
       "      <td>0.082896</td>\n",
       "      <td>0.622363</td>\n",
       "      <td>0.086698</td>\n",
       "      <td>0.399267</td>\n",
       "      <td>0.032258</td>\n",
       "      <td>0.395604</td>\n",
       "      <td>0.0</td>\n",
       "      <td>0.0</td>\n",
       "      <td>1.0</td>\n",
       "      <td>0.96</td>\n",
       "      <td>0.96</td>\n",
       "      <td>0.96</td>\n",
       "      <td>0.50</td>\n",
       "      <td>0.470735</td>\n",
       "      <td>0.017317</td>\n",
       "      <td>0.181818</td>\n",
       "      <td>0.300000</td>\n",
       "      <td>0.00</td>\n",
       "      <td>0.119661</td>\n",
       "      <td>0.166667</td>\n",
       "      <td>0.222222</td>\n",
       "      <td>0.123457</td>\n",
       "      <td>0.000000</td>\n",
       "      <td>0.7</td>\n",
       "      <td>0.277479</td>\n",
       "      <td>0.000000</td>\n",
       "    </tr>\n",
       "    <tr>\n",
       "      <th>13488</th>\n",
       "      <td>0</td>\n",
       "      <td>0</td>\n",
       "      <td>0</td>\n",
       "      <td>0</td>\n",
       "      <td>0</td>\n",
       "      <td>0</td>\n",
       "      <td>0</td>\n",
       "      <td>0</td>\n",
       "      <td>0</td>\n",
       "      <td>0</td>\n",
       "      <td>0</td>\n",
       "      <td>1</td>\n",
       "      <td>0</td>\n",
       "      <td>1</td>\n",
       "      <td>0</td>\n",
       "      <td>0</td>\n",
       "      <td>0</td>\n",
       "      <td>0</td>\n",
       "      <td>0</td>\n",
       "      <td>0</td>\n",
       "      <td>0</td>\n",
       "      <td>0</td>\n",
       "      <td>0</td>\n",
       "      <td>0</td>\n",
       "      <td>0</td>\n",
       "      <td>0</td>\n",
       "      <td>0</td>\n",
       "      <td>0.0</td>\n",
       "      <td>0.8</td>\n",
       "      <td>0.8</td>\n",
       "      <td>0.8</td>\n",
       "      <td>0.0</td>\n",
       "      <td>0.333333</td>\n",
       "      <td>0.6</td>\n",
       "      <td>1.000000</td>\n",
       "      <td>0.026921</td>\n",
       "      <td>0.100834</td>\n",
       "      <td>0.242041</td>\n",
       "      <td>0.164994</td>\n",
       "      <td>0.131165</td>\n",
       "      <td>0.510549</td>\n",
       "      <td>0.239905</td>\n",
       "      <td>0.463980</td>\n",
       "      <td>0.172043</td>\n",
       "      <td>0.505495</td>\n",
       "      <td>0.0</td>\n",
       "      <td>0.0</td>\n",
       "      <td>1.0</td>\n",
       "      <td>0.60</td>\n",
       "      <td>0.60</td>\n",
       "      <td>0.60</td>\n",
       "      <td>0.00</td>\n",
       "      <td>0.000000</td>\n",
       "      <td>0.211932</td>\n",
       "      <td>0.636364</td>\n",
       "      <td>0.366667</td>\n",
       "      <td>0.25</td>\n",
       "      <td>0.021885</td>\n",
       "      <td>0.000000</td>\n",
       "      <td>0.000000</td>\n",
       "      <td>0.000000</td>\n",
       "      <td>0.000000</td>\n",
       "      <td>0.6</td>\n",
       "      <td>0.900969</td>\n",
       "      <td>0.801938</td>\n",
       "    </tr>\n",
       "    <tr>\n",
       "      <th>10078</th>\n",
       "      <td>0</td>\n",
       "      <td>0</td>\n",
       "      <td>0</td>\n",
       "      <td>0</td>\n",
       "      <td>0</td>\n",
       "      <td>0</td>\n",
       "      <td>0</td>\n",
       "      <td>0</td>\n",
       "      <td>0</td>\n",
       "      <td>0</td>\n",
       "      <td>0</td>\n",
       "      <td>1</td>\n",
       "      <td>0</td>\n",
       "      <td>1</td>\n",
       "      <td>1</td>\n",
       "      <td>0</td>\n",
       "      <td>0</td>\n",
       "      <td>0</td>\n",
       "      <td>0</td>\n",
       "      <td>0</td>\n",
       "      <td>0</td>\n",
       "      <td>0</td>\n",
       "      <td>0</td>\n",
       "      <td>0</td>\n",
       "      <td>0</td>\n",
       "      <td>0</td>\n",
       "      <td>0</td>\n",
       "      <td>0.5</td>\n",
       "      <td>0.2</td>\n",
       "      <td>0.2</td>\n",
       "      <td>0.2</td>\n",
       "      <td>0.0</td>\n",
       "      <td>0.333333</td>\n",
       "      <td>0.6</td>\n",
       "      <td>1.000000</td>\n",
       "      <td>0.026921</td>\n",
       "      <td>0.100834</td>\n",
       "      <td>0.242041</td>\n",
       "      <td>0.164994</td>\n",
       "      <td>0.131165</td>\n",
       "      <td>0.510549</td>\n",
       "      <td>0.239905</td>\n",
       "      <td>0.463980</td>\n",
       "      <td>0.172043</td>\n",
       "      <td>0.505495</td>\n",
       "      <td>0.0</td>\n",
       "      <td>0.0</td>\n",
       "      <td>1.0</td>\n",
       "      <td>0.60</td>\n",
       "      <td>0.60</td>\n",
       "      <td>0.60</td>\n",
       "      <td>0.00</td>\n",
       "      <td>0.000000</td>\n",
       "      <td>0.211932</td>\n",
       "      <td>0.181818</td>\n",
       "      <td>1.000000</td>\n",
       "      <td>0.25</td>\n",
       "      <td>0.213555</td>\n",
       "      <td>0.166667</td>\n",
       "      <td>0.088889</td>\n",
       "      <td>0.049383</td>\n",
       "      <td>0.000000</td>\n",
       "      <td>0.6</td>\n",
       "      <td>0.000000</td>\n",
       "      <td>0.356896</td>\n",
       "    </tr>\n",
       "    <tr>\n",
       "      <th>2367</th>\n",
       "      <td>0</td>\n",
       "      <td>0</td>\n",
       "      <td>0</td>\n",
       "      <td>0</td>\n",
       "      <td>0</td>\n",
       "      <td>0</td>\n",
       "      <td>0</td>\n",
       "      <td>1</td>\n",
       "      <td>0</td>\n",
       "      <td>0</td>\n",
       "      <td>1</td>\n",
       "      <td>1</td>\n",
       "      <td>0</td>\n",
       "      <td>1</td>\n",
       "      <td>1</td>\n",
       "      <td>1</td>\n",
       "      <td>1</td>\n",
       "      <td>1</td>\n",
       "      <td>0</td>\n",
       "      <td>0</td>\n",
       "      <td>0</td>\n",
       "      <td>0</td>\n",
       "      <td>0</td>\n",
       "      <td>0</td>\n",
       "      <td>1</td>\n",
       "      <td>0</td>\n",
       "      <td>0</td>\n",
       "      <td>0.0</td>\n",
       "      <td>0.8</td>\n",
       "      <td>0.8</td>\n",
       "      <td>0.8</td>\n",
       "      <td>0.0</td>\n",
       "      <td>0.333333</td>\n",
       "      <td>0.8</td>\n",
       "      <td>1.000000</td>\n",
       "      <td>0.026921</td>\n",
       "      <td>0.100834</td>\n",
       "      <td>0.242041</td>\n",
       "      <td>0.164994</td>\n",
       "      <td>0.131165</td>\n",
       "      <td>0.510549</td>\n",
       "      <td>0.239905</td>\n",
       "      <td>0.463980</td>\n",
       "      <td>0.172043</td>\n",
       "      <td>0.505495</td>\n",
       "      <td>0.2</td>\n",
       "      <td>0.0</td>\n",
       "      <td>1.0</td>\n",
       "      <td>0.80</td>\n",
       "      <td>0.80</td>\n",
       "      <td>0.80</td>\n",
       "      <td>0.00</td>\n",
       "      <td>0.000000</td>\n",
       "      <td>0.211932</td>\n",
       "      <td>0.272727</td>\n",
       "      <td>0.966667</td>\n",
       "      <td>0.00</td>\n",
       "      <td>0.345217</td>\n",
       "      <td>0.166667</td>\n",
       "      <td>0.111111</td>\n",
       "      <td>0.061728</td>\n",
       "      <td>0.500000</td>\n",
       "      <td>0.8</td>\n",
       "      <td>1.000000</td>\n",
       "      <td>0.356896</td>\n",
       "    </tr>\n",
       "  </tbody>\n",
       "</table>\n",
       "</div>"
      ],
      "text/plain": [
       "       dprograma  Is_Ranked  Previous_IMS_Student  Previous_Data_Studies  \\\n",
       "6442           1          1                     0                      0   \n",
       "7521           0          0                     0                      0   \n",
       "13488          0          0                     0                      0   \n",
       "10078          0          0                     0                      0   \n",
       "2367           0          0                     0                      0   \n",
       "\n",
       "       Previous_Computer_Studies  Previous_Tech_Studies  \\\n",
       "6442                           0                      0   \n",
       "7521                           0                      0   \n",
       "13488                          0                      0   \n",
       "10078                          0                      0   \n",
       "2367                           0                      0   \n",
       "\n",
       "       Previous_Math_Studies  Previous_Engineering_Studies  \\\n",
       "6442                       0                             0   \n",
       "7521                       0                             0   \n",
       "13488                      0                             0   \n",
       "10078                      0                             0   \n",
       "2367                       0                             1   \n",
       "\n",
       "       Previous_Finance_Studies  Previous_Marketing_Studies  \\\n",
       "6442                          0                           0   \n",
       "7521                          0                           0   \n",
       "13488                         0                           0   \n",
       "10078                         0                           0   \n",
       "2367                          0                           0   \n",
       "\n",
       "       Previous_Field_Studies  is_Portuguese  is_After_Working_Hours  \\\n",
       "6442                        0              0                       0   \n",
       "7521                        0              0                       0   \n",
       "13488                       0              1                       0   \n",
       "10078                       0              1                       0   \n",
       "2367                        1              1                       0   \n",
       "\n",
       "       is_Fully_In_Person  Working_Upon_Application  Previous_Data_Jobs  \\\n",
       "6442                    1                         1                   0   \n",
       "7521                    1                         1                   0   \n",
       "13488                   1                         0                   0   \n",
       "10078                   1                         1                   0   \n",
       "2367                    1                         1                   1   \n",
       "\n",
       "       Previous_Analytics_Jobs  Previous_Computing_Jobs  Previous_Tech_Jobs  \\\n",
       "6442                         0                        0                   1   \n",
       "7521                         0                        0                   0   \n",
       "13488                        0                        0                   0   \n",
       "10078                        0                        0                   0   \n",
       "2367                         1                        1                   0   \n",
       "\n",
       "       Previous_Math_Jobs  Previous_Engineering_Jobs  Previous_Finance_Jobs  \\\n",
       "6442                    0                          0                      0   \n",
       "7521                    0                          0                      0   \n",
       "13488                   0                          0                      0   \n",
       "10078                   0                          0                      0   \n",
       "2367                    0                          0                      0   \n",
       "\n",
       "       Previous_Marketing_Jobs  Previous_Project_Jobs  Previous_Field_Jobs  \\\n",
       "6442                         0                      0                    1   \n",
       "7521                         0                      0                    0   \n",
       "13488                        0                      0                    0   \n",
       "10078                        0                      0                    0   \n",
       "2367                         0                      0                    1   \n",
       "\n",
       "       Previous_Trainee_Jobs  Previous_Jobs_in_Partners  idgenero  \\\n",
       "6442                       1                          0       0.5   \n",
       "7521                       0                          0       0.0   \n",
       "13488                      0                          0       0.0   \n",
       "10078                      0                          0       0.5   \n",
       "2367                       0                          0       0.0   \n",
       "\n",
       "       nivelInglesCompreensao  nivelInglesFala  nivelInglesEscrita  \\\n",
       "6442                      1.0              1.0                 1.0   \n",
       "7521                      0.4              0.4                 0.4   \n",
       "13488                     0.8              0.8                 0.8   \n",
       "10078                     0.2              0.2                 0.2   \n",
       "2367                      0.8              0.8                 0.8   \n",
       "\n",
       "       NumberAcademicExperiences  NumberAcademicDegrees  \\\n",
       "6442                         0.0               0.333333   \n",
       "7521                         0.5               0.666667   \n",
       "13488                        0.0               0.333333   \n",
       "10078                        0.0               0.333333   \n",
       "2367                         0.0               0.333333   \n",
       "\n",
       "       HighestAcademicDegree      Rank  Student Population  \\\n",
       "6442                     0.6  0.700191            0.098929   \n",
       "7521                     0.8  1.000000            0.035440   \n",
       "13488                    0.6  1.000000            0.026921   \n",
       "10078                    0.6  1.000000            0.026921   \n",
       "2367                     0.8  1.000000            0.026921   \n",
       "\n",
       "       Students to Staff Ratio  Overall Score  Teaching  Research Environment  \\\n",
       "6442                  0.263836       0.162391  0.071349              0.059811   \n",
       "7521                  0.127369       0.253243  0.096990              0.082896   \n",
       "13488                 0.100834       0.242041  0.164994              0.131165   \n",
       "10078                 0.100834       0.242041  0.164994              0.131165   \n",
       "2367                  0.100834       0.242041  0.164994              0.131165   \n",
       "\n",
       "       Research Quality  Industry Impact  International Outlook  \\\n",
       "6442           0.462025         0.019002               0.285714   \n",
       "7521           0.622363         0.086698               0.399267   \n",
       "13488          0.510549         0.239905               0.463980   \n",
       "10078          0.510549         0.239905               0.463980   \n",
       "2367           0.510549         0.239905               0.463980   \n",
       "\n",
       "       Percentage_International_Students  Percentage_Female_Students  \\\n",
       "6442                            0.000000                    0.428571   \n",
       "7521                            0.032258                    0.395604   \n",
       "13488                           0.172043                    0.505495   \n",
       "10078                           0.172043                    0.505495   \n",
       "2367                            0.172043                    0.505495   \n",
       "\n",
       "       Number_Studied_Fields  Non_Finished_Programs  Prop_Finished_Programs  \\\n",
       "6442                     0.0                    0.0                     1.0   \n",
       "7521                     0.0                    0.0                     1.0   \n",
       "13488                    0.0                    0.0                     1.0   \n",
       "10078                    0.0                    0.0                     1.0   \n",
       "2367                     0.2                    0.0                     1.0   \n",
       "\n",
       "       AverageScaledGrade  MaxScaledGrade  MinScaledGrade  countries_region  \\\n",
       "6442                 0.84            0.84            0.84              0.25   \n",
       "7521                 0.96            0.96            0.96              0.50   \n",
       "13488                0.60            0.60            0.60              0.00   \n",
       "10078                0.60            0.60            0.60              0.00   \n",
       "2367                 0.80            0.80            0.80              0.00   \n",
       "\n",
       "       countries_dist  countries_GDP_per_capita  datacandidaturafim_month  \\\n",
       "6442         0.192282                  0.009479                  0.363636   \n",
       "7521         0.470735                  0.017317                  0.181818   \n",
       "13488        0.000000                  0.211932                  0.636364   \n",
       "10078        0.000000                  0.211932                  0.181818   \n",
       "2367         0.000000                  0.211932                  0.272727   \n",
       "\n",
       "       datacandidaturafim_day  datacandidaturafim_time_of_day  Program_Name  \\\n",
       "6442                 0.366667                            0.00      0.026121   \n",
       "7521                 0.300000                            0.00      0.119661   \n",
       "13488                0.366667                            0.25      0.021885   \n",
       "10078                1.000000                            0.25      0.213555   \n",
       "2367                 0.966667                            0.00      0.345217   \n",
       "\n",
       "       Number_Professional_Experiences  Years_of_Experience  \\\n",
       "6442                          0.500000             0.088889   \n",
       "7521                          0.166667             0.222222   \n",
       "13488                         0.000000             0.000000   \n",
       "10078                         0.166667             0.088889   \n",
       "2367                          0.166667             0.111111   \n",
       "\n",
       "       Years_of_Longest_Prof_Experience  Number_Fields_Worked  \\\n",
       "6442                           0.012346              0.166667   \n",
       "7521                           0.123457              0.000000   \n",
       "13488                          0.000000              0.000000   \n",
       "10078                          0.049383              0.000000   \n",
       "2367                           0.061728              0.500000   \n",
       "\n",
       "       AverageAcademicDegree  datacandidaturafim_day_of_week_sin  \\\n",
       "6442                     0.6                            0.722521   \n",
       "7521                     0.7                            0.277479   \n",
       "13488                    0.6                            0.900969   \n",
       "10078                    0.6                            0.000000   \n",
       "2367                     0.8                            1.000000   \n",
       "\n",
       "       datacandidaturafim_day_of_week_cos  \n",
       "6442                             0.000000  \n",
       "7521                             0.000000  \n",
       "13488                            0.801938  \n",
       "10078                            0.356896  \n",
       "2367                             0.356896  "
      ]
     },
     "execution_count": 9,
     "metadata": {},
     "output_type": "execute_result"
    }
   ],
   "source": [
    "X_admissions_train_scaled.head()"
   ]
  },
  {
   "cell_type": "code",
   "execution_count": 10,
   "id": "af92e80c",
   "metadata": {},
   "outputs": [],
   "source": [
    "numerical_variables = [\"Prop_Finished_Programs\", \"NumberAcademicExperiences\", \"NumberAcademicDegrees\", \"Rank\",\n",
    "                       \"Student Population\", \"Students to Staff Ratio\", \"Overall Score\", \"Teaching\", \"Research Environment\",\n",
    "                       \"Research Quality\", \"Industry Impact\", \"International Outlook\", \"Percentage_International_Students\",\n",
    "                       \"Percentage_Female_Students\", \"Number_Studied_Fields\", \"Non_Finished_Programs\",\n",
    "                       \"AverageScaledGrade\", \"MaxScaledGrade\", \"MinScaledGrade\", \"countries_dist\", \"countries_GDP_per_capita\",\n",
    "                       \"Program_Name\", \"Number_Professional_Experiences\", \"Years_of_Experience\", \"Years_of_Longest_Prof_Experience\",\n",
    "                       \"Number_Fields_Worked\", \"AverageAcademicDegree\", \"datacandidaturafim_day_of_week_sin\",\n",
    "                       \"datacandidaturafim_day_of_week_cos\"]\n",
    "\n",
    "binary_variables = [\"dprograma\", \"Is_Ranked\", \"Previous_IMS_Student\", \"Previous_Data_Studies\",\n",
    "                    \"Previous_Computer_Studies\", \"Previous_Tech_Studies\", \"Previous_Math_Studies\", \"Previous_Engineering_Studies\",\n",
    "                    \"Previous_Finance_Studies\", \"Previous_Marketing_Studies\", \"Previous_Field_Studies\", \"is_Portuguese\",\n",
    "                    \"is_After_Working_Hours\", \"is_Fully_In_Person\", \"Working_Upon_Application\", \"Previous_Data_Jobs\", \"Previous_Analytics_Jobs\",\n",
    "                    \"Previous_Computing_Jobs\", \"Previous_Tech_Jobs\", \"Previous_Math_Jobs\", \"Previous_Engineering_Jobs\", \"Previous_Finance_Jobs\",\n",
    "                    \"Previous_Marketing_Jobs\", \"Previous_Project_Jobs\", \"Previous_Field_Jobs\", \"Previous_Trainee_Jobs\",\n",
    "                    \"Previous_Jobs_in_Partners\"]\n",
    "\n",
    "categorical_variables = binary_variables + [\"nivelInglesCompreensao\", \"nivelInglesFala\", \"nivelInglesEscrita\", \"HighestAcademicDegree\",\n",
    "                                            \"idgenero\", \"countries_region\", \"datacandidaturafim_month\",\n",
    "                                            \"datacandidaturafim_day\", \"datacandidaturafim_time_of_day\"]"
   ]
  },
  {
   "cell_type": "markdown",
   "id": "277fa259",
   "metadata": {},
   "source": [
    "-------\n",
    "### <font color='#BFD62F'>3.6.1. Spearman Correlation</font> <a class=\"anchor\" id=\"spearman\"></a>\n",
    "[Back to Contents](#toc)\n",
    "\n",
    "We will use a heatmap to assess Spearman's Correlation, and print the pairs of variables that display a correlation above the defined threshold of 0.7."
   ]
  },
  {
   "cell_type": "code",
   "execution_count": 11,
   "id": "32bbd88a",
   "metadata": {},
   "outputs": [
    {
     "data": {
      "image/png": "[encoded data removed]",
      "text/plain": [
       "<Figure size 1200x1000 with 2 Axes>"
      ]
     },
     "metadata": {},
     "output_type": "display_data"
    },
    {
     "name": "stdout",
     "output_type": "stream",
     "text": [
      "High Correlation: Prop_Finished_Programs and Non_Finished_Programs - Correlation: -0.9996366884692726\n",
      "High Correlation: NumberAcademicExperiences and NumberAcademicDegrees - Correlation: 0.7485011902499726\n",
      "High Correlation: Overall Score and Research Environment - Correlation: 0.7464956621748827\n",
      "High Correlation: Overall Score and Research Quality - Correlation: 0.805130040264684\n",
      "High Correlation: International Outlook and Percentage_International_Students - Correlation: 0.7744203159711021\n",
      "High Correlation: AverageScaledGrade and MaxScaledGrade - Correlation: 0.9357117659213264\n",
      "High Correlation: AverageScaledGrade and MinScaledGrade - Correlation: 0.9399104756574524\n",
      "High Correlation: MaxScaledGrade and MinScaledGrade - Correlation: 0.7923555571506454\n",
      "High Correlation: Years_of_Experience and Years_of_Longest_Prof_Experience - Correlation: 0.9094120481124459\n"
     ]
    }
   ],
   "source": [
    "cor = tf.spearman_correlation(X_admissions_train_scaled, numerical_variables, 0.7)"
   ]
  },
  {
   "cell_type": "markdown",
   "id": "96e1a23e",
   "metadata": {},
   "source": [
    "-------\n",
    "### <font color='#BFD62F'>3.6.2. ANOVA</font> <a class=\"anchor\" id=\"anova\"></a>\n",
    "[Back to Contents](#toc)\n",
    "\n",
    "The Analysis of Variance technique (ANOVA) will compare the mean of a numerical variable for each of the categories of a categorical feature. If there is a statistically significant difference (showed by a p-value below 0.05), then a variable should not be discarded (according to this method).\n",
    "\n",
    "We should note that these p-values will also decide which variable to keep for each pair of highly-correlated features identified using Spearman correlation."
   ]
  },
  {
   "cell_type": "code",
   "execution_count": 12,
   "id": "c1e27001",
   "metadata": {},
   "outputs": [
    {
     "data": {
      "text/html": [
       "<div>\n",
       "<style scoped>\n",
       "    .dataframe tbody tr th:only-of-type {\n",
       "        vertical-align: middle;\n",
       "    }\n",
       "\n",
       "    .dataframe tbody tr th {\n",
       "        vertical-align: top;\n",
       "    }\n",
       "\n",
       "    .dataframe thead th {\n",
       "        text-align: right;\n",
       "    }\n",
       "</style>\n",
       "<table border=\"1\" class=\"dataframe\">\n",
       "  <thead>\n",
       "    <tr style=\"text-align: right;\">\n",
       "      <th></th>\n",
       "      <th>Feature</th>\n",
       "      <th>P-Value</th>\n",
       "      <th>Significant</th>\n",
       "      <th>Top K</th>\n",
       "    </tr>\n",
       "  </thead>\n",
       "  <tbody>\n",
       "    <tr>\n",
       "      <th>0</th>\n",
       "      <td>Prop_Finished_Programs</td>\n",
       "      <td>0.662686</td>\n",
       "      <td>False</td>\n",
       "      <td>True</td>\n",
       "    </tr>\n",
       "    <tr>\n",
       "      <th>1</th>\n",
       "      <td>NumberAcademicExperiences</td>\n",
       "      <td>0.000976</td>\n",
       "      <td>True</td>\n",
       "      <td>True</td>\n",
       "    </tr>\n",
       "    <tr>\n",
       "      <th>2</th>\n",
       "      <td>NumberAcademicDegrees</td>\n",
       "      <td>0.246852</td>\n",
       "      <td>False</td>\n",
       "      <td>True</td>\n",
       "    </tr>\n",
       "    <tr>\n",
       "      <th>3</th>\n",
       "      <td>Rank</td>\n",
       "      <td>0.000000</td>\n",
       "      <td>True</td>\n",
       "      <td>True</td>\n",
       "    </tr>\n",
       "    <tr>\n",
       "      <th>4</th>\n",
       "      <td>Student Population</td>\n",
       "      <td>0.000000</td>\n",
       "      <td>True</td>\n",
       "      <td>True</td>\n",
       "    </tr>\n",
       "    <tr>\n",
       "      <th>5</th>\n",
       "      <td>Students to Staff Ratio</td>\n",
       "      <td>0.000000</td>\n",
       "      <td>True</td>\n",
       "      <td>True</td>\n",
       "    </tr>\n",
       "    <tr>\n",
       "      <th>6</th>\n",
       "      <td>Overall Score</td>\n",
       "      <td>0.957969</td>\n",
       "      <td>False</td>\n",
       "      <td>True</td>\n",
       "    </tr>\n",
       "    <tr>\n",
       "      <th>7</th>\n",
       "      <td>Teaching</td>\n",
       "      <td>0.016317</td>\n",
       "      <td>True</td>\n",
       "      <td>True</td>\n",
       "    </tr>\n",
       "    <tr>\n",
       "      <th>8</th>\n",
       "      <td>Research Environment</td>\n",
       "      <td>0.573406</td>\n",
       "      <td>False</td>\n",
       "      <td>True</td>\n",
       "    </tr>\n",
       "    <tr>\n",
       "      <th>9</th>\n",
       "      <td>Research Quality</td>\n",
       "      <td>0.058970</td>\n",
       "      <td>False</td>\n",
       "      <td>True</td>\n",
       "    </tr>\n",
       "    <tr>\n",
       "      <th>10</th>\n",
       "      <td>Industry Impact</td>\n",
       "      <td>0.001956</td>\n",
       "      <td>True</td>\n",
       "      <td>True</td>\n",
       "    </tr>\n",
       "    <tr>\n",
       "      <th>11</th>\n",
       "      <td>International Outlook</td>\n",
       "      <td>0.000000</td>\n",
       "      <td>True</td>\n",
       "      <td>True</td>\n",
       "    </tr>\n",
       "    <tr>\n",
       "      <th>12</th>\n",
       "      <td>Percentage_International_Students</td>\n",
       "      <td>0.000000</td>\n",
       "      <td>True</td>\n",
       "      <td>True</td>\n",
       "    </tr>\n",
       "    <tr>\n",
       "      <th>13</th>\n",
       "      <td>Percentage_Female_Students</td>\n",
       "      <td>0.000000</td>\n",
       "      <td>True</td>\n",
       "      <td>True</td>\n",
       "    </tr>\n",
       "    <tr>\n",
       "      <th>14</th>\n",
       "      <td>Number_Studied_Fields</td>\n",
       "      <td>0.000666</td>\n",
       "      <td>True</td>\n",
       "      <td>True</td>\n",
       "    </tr>\n",
       "    <tr>\n",
       "      <th>15</th>\n",
       "      <td>Non_Finished_Programs</td>\n",
       "      <td>0.453108</td>\n",
       "      <td>False</td>\n",
       "      <td>True</td>\n",
       "    </tr>\n",
       "    <tr>\n",
       "      <th>16</th>\n",
       "      <td>AverageScaledGrade</td>\n",
       "      <td>0.000000</td>\n",
       "      <td>True</td>\n",
       "      <td>True</td>\n",
       "    </tr>\n",
       "    <tr>\n",
       "      <th>17</th>\n",
       "      <td>MaxScaledGrade</td>\n",
       "      <td>0.000000</td>\n",
       "      <td>True</td>\n",
       "      <td>True</td>\n",
       "    </tr>\n",
       "    <tr>\n",
       "      <th>18</th>\n",
       "      <td>MinScaledGrade</td>\n",
       "      <td>0.000000</td>\n",
       "      <td>True</td>\n",
       "      <td>True</td>\n",
       "    </tr>\n",
       "    <tr>\n",
       "      <th>19</th>\n",
       "      <td>countries_dist</td>\n",
       "      <td>0.000000</td>\n",
       "      <td>True</td>\n",
       "      <td>True</td>\n",
       "    </tr>\n",
       "    <tr>\n",
       "      <th>20</th>\n",
       "      <td>countries_GDP_per_capita</td>\n",
       "      <td>0.000000</td>\n",
       "      <td>True</td>\n",
       "      <td>True</td>\n",
       "    </tr>\n",
       "    <tr>\n",
       "      <th>21</th>\n",
       "      <td>Program_Name</td>\n",
       "      <td>0.000000</td>\n",
       "      <td>True</td>\n",
       "      <td>True</td>\n",
       "    </tr>\n",
       "    <tr>\n",
       "      <th>22</th>\n",
       "      <td>Number_Professional_Experiences</td>\n",
       "      <td>0.106788</td>\n",
       "      <td>False</td>\n",
       "      <td>True</td>\n",
       "    </tr>\n",
       "    <tr>\n",
       "      <th>23</th>\n",
       "      <td>Years_of_Experience</td>\n",
       "      <td>0.159326</td>\n",
       "      <td>False</td>\n",
       "      <td>True</td>\n",
       "    </tr>\n",
       "    <tr>\n",
       "      <th>24</th>\n",
       "      <td>Years_of_Longest_Prof_Experience</td>\n",
       "      <td>0.367032</td>\n",
       "      <td>False</td>\n",
       "      <td>True</td>\n",
       "    </tr>\n",
       "    <tr>\n",
       "      <th>25</th>\n",
       "      <td>Number_Fields_Worked</td>\n",
       "      <td>0.065977</td>\n",
       "      <td>False</td>\n",
       "      <td>True</td>\n",
       "    </tr>\n",
       "    <tr>\n",
       "      <th>26</th>\n",
       "      <td>AverageAcademicDegree</td>\n",
       "      <td>0.014831</td>\n",
       "      <td>True</td>\n",
       "      <td>True</td>\n",
       "    </tr>\n",
       "    <tr>\n",
       "      <th>27</th>\n",
       "      <td>datacandidaturafim_day_of_week_sin</td>\n",
       "      <td>0.532838</td>\n",
       "      <td>False</td>\n",
       "      <td>True</td>\n",
       "    </tr>\n",
       "    <tr>\n",
       "      <th>28</th>\n",
       "      <td>datacandidaturafim_day_of_week_cos</td>\n",
       "      <td>0.070875</td>\n",
       "      <td>False</td>\n",
       "      <td>True</td>\n",
       "    </tr>\n",
       "  </tbody>\n",
       "</table>\n",
       "</div>"
      ],
      "text/plain": [
       "                               Feature   P-Value  Significant  Top K\n",
       "0               Prop_Finished_Programs  0.662686        False   True\n",
       "1            NumberAcademicExperiences  0.000976         True   True\n",
       "2                NumberAcademicDegrees  0.246852        False   True\n",
       "3                                 Rank  0.000000         True   True\n",
       "4                   Student Population  0.000000         True   True\n",
       "5              Students to Staff Ratio  0.000000         True   True\n",
       "6                        Overall Score  0.957969        False   True\n",
       "7                             Teaching  0.016317         True   True\n",
       "8                 Research Environment  0.573406        False   True\n",
       "9                     Research Quality  0.058970        False   True\n",
       "10                     Industry Impact  0.001956         True   True\n",
       "11               International Outlook  0.000000         True   True\n",
       "12   Percentage_International_Students  0.000000         True   True\n",
       "13          Percentage_Female_Students  0.000000         True   True\n",
       "14               Number_Studied_Fields  0.000666         True   True\n",
       "15               Non_Finished_Programs  0.453108        False   True\n",
       "16                  AverageScaledGrade  0.000000         True   True\n",
       "17                      MaxScaledGrade  0.000000         True   True\n",
       "18                      MinScaledGrade  0.000000         True   True\n",
       "19                      countries_dist  0.000000         True   True\n",
       "20            countries_GDP_per_capita  0.000000         True   True\n",
       "21                        Program_Name  0.000000         True   True\n",
       "22     Number_Professional_Experiences  0.106788        False   True\n",
       "23                 Years_of_Experience  0.159326        False   True\n",
       "24    Years_of_Longest_Prof_Experience  0.367032        False   True\n",
       "25                Number_Fields_Worked  0.065977        False   True\n",
       "26               AverageAcademicDegree  0.014831         True   True\n",
       "27  datacandidaturafim_day_of_week_sin  0.532838        False   True\n",
       "28  datacandidaturafim_day_of_week_cos  0.070875        False   True"
      ]
     },
     "execution_count": 12,
     "metadata": {},
     "output_type": "execute_result"
    }
   ],
   "source": [
    "tf.anova(\"classification\",\n",
    "         df = X_admissions_train_scaled,\n",
    "         numerical_variables = numerical_variables,\n",
    "         y = y_admissions_train,\n",
    "         k = \"all\")"
   ]
  },
  {
   "cell_type": "markdown",
   "id": "ca946f15",
   "metadata": {},
   "source": [
    "-------\n",
    "### <font color='#BFD62F'>3.6.3. Chi-Square Test of Independence</font> <a class=\"anchor\" id=\"chisquare\"></a>\n",
    "[Back to Contents](#toc)\n",
    "\n",
    "The Chi-Square Test of Independence has a similar reasoning to the ANOVA test, but comparing the frequency of each category of a categorical variable across the categories of another categorical variable (in our case, we will compare all our categorical features with the target). The null hypothesis is that there is no relationship between the variables. Therefore, if we reject it, we have statistical evidence that the variable is important to predict admissions."
   ]
  },
  {
   "cell_type": "code",
   "execution_count": 13,
   "metadata": {},
   "outputs": [
    {
     "name": "stdout",
     "output_type": "stream",
     "text": [
      "dprograma is IMPORTANT for Prediction\n",
      "Is_Ranked is IMPORTANT for Prediction\n",
      "Previous_IMS_Student is IMPORTANT for Prediction\n",
      "Previous_Data_Studies is IMPORTANT for Prediction\n",
      "Previous_Computer_Studies is NOT an important predictor. (Discard Previous_Computer_Studies from model)\n",
      "Previous_Tech_Studies is NOT an important predictor. (Discard Previous_Tech_Studies from model)\n",
      "Previous_Math_Studies is IMPORTANT for Prediction\n",
      "Previous_Engineering_Studies is NOT an important predictor. (Discard Previous_Engineering_Studies from model)\n",
      "Previous_Finance_Studies is NOT an important predictor. (Discard Previous_Finance_Studies from model)\n",
      "Previous_Marketing_Studies is NOT an important predictor. (Discard Previous_Marketing_Studies from model)\n",
      "Previous_Field_Studies is IMPORTANT for Prediction\n",
      "is_Portuguese is IMPORTANT for Prediction\n",
      "is_After_Working_Hours is IMPORTANT for Prediction\n",
      "is_Fully_In_Person is IMPORTANT for Prediction\n",
      "Working_Upon_Application is IMPORTANT for Prediction\n",
      "Previous_Data_Jobs is IMPORTANT for Prediction\n",
      "Previous_Analytics_Jobs is IMPORTANT for Prediction\n",
      "Previous_Computing_Jobs is IMPORTANT for Prediction\n",
      "Previous_Tech_Jobs is NOT an important predictor. (Discard Previous_Tech_Jobs from model)\n",
      "Previous_Math_Jobs is NOT an important predictor. (Discard Previous_Math_Jobs from model)\n",
      "Previous_Engineering_Jobs is IMPORTANT for Prediction\n",
      "Previous_Finance_Jobs is IMPORTANT for Prediction\n",
      "Previous_Marketing_Jobs is IMPORTANT for Prediction\n",
      "Previous_Project_Jobs is NOT an important predictor. (Discard Previous_Project_Jobs from model)\n",
      "Previous_Field_Jobs is NOT an important predictor. (Discard Previous_Field_Jobs from model)\n",
      "Previous_Trainee_Jobs is IMPORTANT for Prediction\n",
      "Previous_Jobs_in_Partners is IMPORTANT for Prediction\n",
      "nivelInglesCompreensao is IMPORTANT for Prediction\n",
      "nivelInglesFala is IMPORTANT for Prediction\n",
      "nivelInglesEscrita is IMPORTANT for Prediction\n",
      "HighestAcademicDegree is IMPORTANT for Prediction\n",
      "idgenero is IMPORTANT for Prediction\n",
      "countries_region is IMPORTANT for Prediction\n",
      "datacandidaturafim_month is IMPORTANT for Prediction\n",
      "datacandidaturafim_day is IMPORTANT for Prediction\n",
      "datacandidaturafim_time_of_day is IMPORTANT for Prediction\n"
     ]
    }
   ],
   "source": [
    "tf.chi_square_test_independence(\"classification\",\n",
    "                                X_admissions_train_scaled,\n",
    "                                categorical_variables,\n",
    "                                y = y_admissions_train,\n",
    "                                alpha = 0.05)"
   ]
  },
  {
   "cell_type": "markdown",
   "id": "7d21ffaa",
   "metadata": {},
   "source": [
    "-------\n",
    "### <font color='#BFD62F'>3.6.4. Point Biserial Correlation</font> <a class=\"anchor\" id=\"biserial\"></a>\n",
    "[Back to Contents](#toc)\n",
    "\n",
    "As was explained above, the point biserial correlation is a variation of Pearson's Correlation to assess the relationship between a binary and a numerical variable. The function below returns these correlations in a table format, adding an auxiliary column that will be \"True\" if the (rounded) absolute value of this correlation is above 0.1 - the value we will define as a threshold to accept or reject features."
   ]
  },
  {
   "cell_type": "code",
   "execution_count": 14,
   "id": "8e55368e",
   "metadata": {},
   "outputs": [
    {
     "data": {
      "text/html": [
       "<div>\n",
       "<style scoped>\n",
       "    .dataframe tbody tr th:only-of-type {\n",
       "        vertical-align: middle;\n",
       "    }\n",
       "\n",
       "    .dataframe tbody tr th {\n",
       "        vertical-align: top;\n",
       "    }\n",
       "\n",
       "    .dataframe thead th {\n",
       "        text-align: right;\n",
       "    }\n",
       "</style>\n",
       "<table border=\"1\" class=\"dataframe\">\n",
       "  <thead>\n",
       "    <tr style=\"text-align: right;\">\n",
       "      <th></th>\n",
       "      <th>Variable</th>\n",
       "      <th>Value</th>\n",
       "      <th>|Value| &gt;= Threshold</th>\n",
       "    </tr>\n",
       "  </thead>\n",
       "  <tbody>\n",
       "    <tr>\n",
       "      <th>0</th>\n",
       "      <td>Prop_Finished_Programs</td>\n",
       "      <td>-0.004480</td>\n",
       "      <td>False</td>\n",
       "    </tr>\n",
       "    <tr>\n",
       "      <th>1</th>\n",
       "      <td>NumberAcademicExperiences</td>\n",
       "      <td>-0.033857</td>\n",
       "      <td>False</td>\n",
       "    </tr>\n",
       "    <tr>\n",
       "      <th>2</th>\n",
       "      <td>NumberAcademicDegrees</td>\n",
       "      <td>0.011893</td>\n",
       "      <td>False</td>\n",
       "    </tr>\n",
       "    <tr>\n",
       "      <th>3</th>\n",
       "      <td>Rank</td>\n",
       "      <td>0.090806</td>\n",
       "      <td>True</td>\n",
       "    </tr>\n",
       "    <tr>\n",
       "      <th>4</th>\n",
       "      <td>Student Population</td>\n",
       "      <td>-0.070599</td>\n",
       "      <td>True</td>\n",
       "    </tr>\n",
       "    <tr>\n",
       "      <th>5</th>\n",
       "      <td>Students to Staff Ratio</td>\n",
       "      <td>-0.118119</td>\n",
       "      <td>True</td>\n",
       "    </tr>\n",
       "    <tr>\n",
       "      <th>6</th>\n",
       "      <td>Overall Score</td>\n",
       "      <td>-0.000541</td>\n",
       "      <td>False</td>\n",
       "    </tr>\n",
       "    <tr>\n",
       "      <th>7</th>\n",
       "      <td>Teaching</td>\n",
       "      <td>0.024663</td>\n",
       "      <td>False</td>\n",
       "    </tr>\n",
       "    <tr>\n",
       "      <th>8</th>\n",
       "      <td>Research Environment</td>\n",
       "      <td>0.005783</td>\n",
       "      <td>False</td>\n",
       "    </tr>\n",
       "    <tr>\n",
       "      <th>9</th>\n",
       "      <td>Research Quality</td>\n",
       "      <td>-0.019393</td>\n",
       "      <td>False</td>\n",
       "    </tr>\n",
       "    <tr>\n",
       "      <th>10</th>\n",
       "      <td>Industry Impact</td>\n",
       "      <td>0.031797</td>\n",
       "      <td>False</td>\n",
       "    </tr>\n",
       "    <tr>\n",
       "      <th>11</th>\n",
       "      <td>International Outlook</td>\n",
       "      <td>0.084424</td>\n",
       "      <td>True</td>\n",
       "    </tr>\n",
       "    <tr>\n",
       "      <th>12</th>\n",
       "      <td>Percentage_International_Students</td>\n",
       "      <td>0.169218</td>\n",
       "      <td>True</td>\n",
       "    </tr>\n",
       "    <tr>\n",
       "      <th>13</th>\n",
       "      <td>Percentage_Female_Students</td>\n",
       "      <td>0.145365</td>\n",
       "      <td>True</td>\n",
       "    </tr>\n",
       "    <tr>\n",
       "      <th>14</th>\n",
       "      <td>Number_Studied_Fields</td>\n",
       "      <td>0.034941</td>\n",
       "      <td>False</td>\n",
       "    </tr>\n",
       "    <tr>\n",
       "      <th>15</th>\n",
       "      <td>Non_Finished_Programs</td>\n",
       "      <td>-0.007705</td>\n",
       "      <td>False</td>\n",
       "    </tr>\n",
       "    <tr>\n",
       "      <th>16</th>\n",
       "      <td>AverageScaledGrade</td>\n",
       "      <td>0.115141</td>\n",
       "      <td>True</td>\n",
       "    </tr>\n",
       "    <tr>\n",
       "      <th>17</th>\n",
       "      <td>MaxScaledGrade</td>\n",
       "      <td>0.097248</td>\n",
       "      <td>True</td>\n",
       "    </tr>\n",
       "    <tr>\n",
       "      <th>18</th>\n",
       "      <td>MinScaledGrade</td>\n",
       "      <td>0.125447</td>\n",
       "      <td>True</td>\n",
       "    </tr>\n",
       "    <tr>\n",
       "      <th>19</th>\n",
       "      <td>countries_dist</td>\n",
       "      <td>-0.218225</td>\n",
       "      <td>True</td>\n",
       "    </tr>\n",
       "    <tr>\n",
       "      <th>20</th>\n",
       "      <td>countries_GDP_per_capita</td>\n",
       "      <td>0.177745</td>\n",
       "      <td>True</td>\n",
       "    </tr>\n",
       "    <tr>\n",
       "      <th>21</th>\n",
       "      <td>Program_Name</td>\n",
       "      <td>-0.081596</td>\n",
       "      <td>True</td>\n",
       "    </tr>\n",
       "    <tr>\n",
       "      <th>22</th>\n",
       "      <td>Number_Professional_Experiences</td>\n",
       "      <td>-0.016563</td>\n",
       "      <td>False</td>\n",
       "    </tr>\n",
       "    <tr>\n",
       "      <th>23</th>\n",
       "      <td>Years_of_Experience</td>\n",
       "      <td>-0.014453</td>\n",
       "      <td>False</td>\n",
       "    </tr>\n",
       "    <tr>\n",
       "      <th>24</th>\n",
       "      <td>Years_of_Longest_Prof_Experience</td>\n",
       "      <td>-0.009264</td>\n",
       "      <td>False</td>\n",
       "    </tr>\n",
       "    <tr>\n",
       "      <th>25</th>\n",
       "      <td>Number_Fields_Worked</td>\n",
       "      <td>0.018881</td>\n",
       "      <td>False</td>\n",
       "    </tr>\n",
       "    <tr>\n",
       "      <th>26</th>\n",
       "      <td>AverageAcademicDegree</td>\n",
       "      <td>0.025020</td>\n",
       "      <td>False</td>\n",
       "    </tr>\n",
       "    <tr>\n",
       "      <th>27</th>\n",
       "      <td>datacandidaturafim_day_of_week_sin</td>\n",
       "      <td>-0.006405</td>\n",
       "      <td>False</td>\n",
       "    </tr>\n",
       "    <tr>\n",
       "      <th>28</th>\n",
       "      <td>datacandidaturafim_day_of_week_cos</td>\n",
       "      <td>0.018549</td>\n",
       "      <td>False</td>\n",
       "    </tr>\n",
       "  </tbody>\n",
       "</table>\n",
       "</div>"
      ],
      "text/plain": [
       "                              Variable     Value  |Value| >= Threshold\n",
       "0               Prop_Finished_Programs -0.004480                 False\n",
       "1            NumberAcademicExperiences -0.033857                 False\n",
       "2                NumberAcademicDegrees  0.011893                 False\n",
       "3                                 Rank  0.090806                  True\n",
       "4                   Student Population -0.070599                  True\n",
       "5              Students to Staff Ratio -0.118119                  True\n",
       "6                        Overall Score -0.000541                 False\n",
       "7                             Teaching  0.024663                 False\n",
       "8                 Research Environment  0.005783                 False\n",
       "9                     Research Quality -0.019393                 False\n",
       "10                     Industry Impact  0.031797                 False\n",
       "11               International Outlook  0.084424                  True\n",
       "12   Percentage_International_Students  0.169218                  True\n",
       "13          Percentage_Female_Students  0.145365                  True\n",
       "14               Number_Studied_Fields  0.034941                 False\n",
       "15               Non_Finished_Programs -0.007705                 False\n",
       "16                  AverageScaledGrade  0.115141                  True\n",
       "17                      MaxScaledGrade  0.097248                  True\n",
       "18                      MinScaledGrade  0.125447                  True\n",
       "19                      countries_dist -0.218225                  True\n",
       "20            countries_GDP_per_capita  0.177745                  True\n",
       "21                        Program_Name -0.081596                  True\n",
       "22     Number_Professional_Experiences -0.016563                 False\n",
       "23                 Years_of_Experience -0.014453                 False\n",
       "24    Years_of_Longest_Prof_Experience -0.009264                 False\n",
       "25                Number_Fields_Worked  0.018881                 False\n",
       "26               AverageAcademicDegree  0.025020                 False\n",
       "27  datacandidaturafim_day_of_week_sin -0.006405                 False\n",
       "28  datacandidaturafim_day_of_week_cos  0.018549                 False"
      ]
     },
     "execution_count": 14,
     "metadata": {},
     "output_type": "execute_result"
    }
   ],
   "source": [
    "tf.point_biserial(\"classification\",\n",
    "                  df = X_admissions_train_scaled,\n",
    "                  target = y_admissions_train,\n",
    "                  numerical_variables = numerical_variables,\n",
    "                  threshold = 0.05)"
   ]
  },
  {
   "cell_type": "markdown",
   "id": "04573003",
   "metadata": {},
   "source": [
    "-------\n",
    "### <font color='#BFD62F'>3.6.5. Recursive Feature Elimination - Logistic Regression</font> <a class=\"anchor\" id=\"rfelr\"></a>\n",
    "[Back to Contents](#toc)"
   ]
  },
  {
   "cell_type": "code",
   "execution_count": 15,
   "metadata": {},
   "outputs": [],
   "source": [
    "#rfe_logreg_model = LogisticRegression(random_state = 92)\n",
    "\n",
    "#tf.RFE(\"classification\", X_admissions_train_scaled, X_admissions_val_scaled, y_admissions_train, y_admissions_val, rfe_logreg_model)"
   ]
  },
  {
   "cell_type": "markdown",
   "id": "6d0b798a",
   "metadata": {},
   "source": [
    "-------\n",
    "### <font color='#BFD62F'>3.6.6. Recursive Feature Elimination - Support Vector Machines</font> <a class=\"anchor\" id=\"rfesvm\"></a>\n",
    "[Back to Contents](#toc)"
   ]
  },
  {
   "cell_type": "code",
   "execution_count": 16,
   "id": "b88c6e9a",
   "metadata": {},
   "outputs": [],
   "source": [
    "#rfe_svm_model = LinearSVC(random_state = 92)\n",
    "\n",
    "#tf.RFE(\"classification\", X_admissions_train_scaled, X_admissions_val_scaled, y_admissions_train, y_admissions_val, rfe_svm_model)"
   ]
  },
  {
   "cell_type": "markdown",
   "id": "91580f11",
   "metadata": {},
   "source": [
    "-------\n",
    "### <font color='#BFD62F'>3.6.7. Random Forest</font> <a class=\"anchor\" id=\"rf\"></a>\n",
    "[Back to Contents](#toc)\n",
    "\n",
    "Our implementation (using sklearn) will return feature importance as the normalized (therefore, totalling 1) reduction of the Gini criterion (the default loss function) brought by that feature. We will discard the features (according to this method) whose importance falls below the defined threshold."
   ]
  },
  {
   "cell_type": "code",
   "execution_count": 17,
   "id": "274f6914",
   "metadata": {},
   "outputs": [
    {
     "data": {
      "application/vnd.plotly.v1+json": {
       "config": {
        "plotlyServerURL": "https://plot.ly"
       },
       "data": [
        {
         "alignmentgroup": "True",
         "hovertemplate": "Importance=%{x}<br>Feature=%{y}<extra></extra>",
         "legendgroup": "",
         "marker": {
          "color": "#5C666C",
          "pattern": {
           "shape": ""
          }
         },
         "name": "",
         "offsetgroup": "",
         "orientation": "h",
         "showlegend": false,
         "textposition": "auto",
         "type": "bar",
         "x": [
          0.061616329654630396,
          0.052431144505597674,
          0.046740305466383705,
          0.04269789358108915,
          0.04144205174399668,
          0.04129916213813004,
          0.039266648111083685,
          0.0333729253221593,
          0.03297742843475739,
          0.02574500108854304,
          0.025019984156167942,
          0.022721445450115486,
          0.021932578671968864,
          0.02181888161792549,
          0.0213458453864573,
          0.020619773871992323,
          0.020597574426962452,
          0.020592900927201462,
          0.020377157233525827,
          0.01958641028926735,
          0.018434149601909196,
          0.01752607780227779,
          0.017189932057632536,
          0.01666494152020868,
          0.016217524997910272,
          0.015743435822412093,
          0.01552617919008714,
          0.015345882054696405,
          0.014841408816543783,
          0.014210652673208318,
          0.013075483101484995,
          0.012650707721448343,
          0.011544652843401232,
          0.009861595102055708,
          0.009575432439062694,
          0.008601230687420566,
          0.00847742000148796,
          0.008267384093328455,
          0.00803819779571824,
          0.007112276854561493,
          0.006975254066795709,
          0.0068287248989173975,
          0.006604120009282325,
          0.006503603108874777,
          0.005906704423947574,
          0.005893973250673028,
          0.005523320701441578,
          0.005189154627567355,
          0.004608681871980935,
          0.004383734003208325,
          0.004303493784506626,
          0.004302009823023405,
          0.004240911059866309,
          0.004223285064379661,
          0.004184665218209328,
          0.004169636897590024,
          0.004026288906525252,
          0.0037856229920644685,
          0.0030365082967898755,
          0.0028486355857734935,
          0.0028379705615594825,
          0.0027980446186521707,
          0.0024254137765335397,
          0.0024161310493688755,
          0.0008781041476570736
         ],
         "xaxis": "x",
         "y": [
          "datacandidaturafim_day",
          "Program_Name",
          "datacandidaturafim_month",
          "AverageScaledGrade",
          "MaxScaledGrade",
          "MinScaledGrade",
          "Years_of_Experience",
          "datacandidaturafim_day_of_week_sin",
          "Years_of_Longest_Prof_Experience",
          "countries_GDP_per_capita",
          "datacandidaturafim_time_of_day",
          "Number_Professional_Experiences",
          "nivelInglesCompreensao",
          "datacandidaturafim_day_of_week_cos",
          "countries_region",
          "nivelInglesEscrita",
          "International Outlook",
          "nivelInglesFala",
          "AverageAcademicDegree",
          "Teaching",
          "countries_dist",
          "Percentage_International_Students",
          "Percentage_Female_Students",
          "Research Environment",
          "Students to Staff Ratio",
          "Student Population",
          "Number_Fields_Worked",
          "Research Quality",
          "idgenero",
          "Industry Impact",
          "HighestAcademicDegree",
          "Number_Studied_Fields",
          "Overall Score",
          "is_After_Working_Hours",
          "NumberAcademicExperiences",
          "dprograma",
          "Previous_Trainee_Jobs",
          "Rank",
          "Previous_Field_Jobs",
          "Working_Upon_Application",
          "Previous_Tech_Jobs",
          "NumberAcademicDegrees",
          "Previous_Marketing_Jobs",
          "Previous_Field_Studies",
          "Previous_Marketing_Studies",
          "Previous_Analytics_Jobs",
          "Previous_Jobs_in_Partners",
          "Previous_Tech_Studies",
          "Previous_Engineering_Studies",
          "Previous_Computing_Jobs",
          "Previous_Math_Studies",
          "Previous_Computer_Studies",
          "Previous_Data_Studies",
          "is_Portuguese",
          "Previous_Project_Jobs",
          "Non_Finished_Programs",
          "Prop_Finished_Programs",
          "Previous_Data_Jobs",
          "Previous_Finance_Jobs",
          "Is_Ranked",
          "Previous_Engineering_Jobs",
          "Previous_Finance_Studies",
          "Previous_IMS_Student",
          "Previous_Math_Jobs",
          "is_Fully_In_Person"
         ],
         "yaxis": "y"
        }
       ],
       "layout": {
        "barmode": "relative",
        "height": 1300,
        "legend": {
         "tracegroupgap": 0
        },
        "shapes": [
         {
          "line": {
           "color": "black",
           "dash": "dash"
          },
          "type": "line",
          "x0": 0.02,
          "x1": 0.02,
          "xref": "x",
          "y0": 0,
          "y1": 1,
          "yref": "y domain"
         }
        ],
        "showlegend": false,
        "template": {
         "data": {
          "bar": [
           {
            "error_x": {
             "color": "#2a3f5f"
            },
            "error_y": {
             "color": "#2a3f5f"
            },
            "marker": {
             "line": {
              "color": "#E5ECF6",
              "width": 0.5
             },
             "pattern": {
              "fillmode": "overlay",
              "size": 10,
              "solidity": 0.2
             }
            },
            "type": "bar"
           }
          ],
          "barpolar": [
           {
            "marker": {
             "line": {
              "color": "#E5ECF6",
              "width": 0.5
             },
             "pattern": {
              "fillmode": "overlay",
              "size": 10,
              "solidity": 0.2
             }
            },
            "type": "barpolar"
           }
          ],
          "carpet": [
           {
            "aaxis": {
             "endlinecolor": "#2a3f5f",
             "gridcolor": "white",
             "linecolor": "white",
             "minorgridcolor": "white",
             "startlinecolor": "#2a3f5f"
            },
            "baxis": {
             "endlinecolor": "#2a3f5f",
             "gridcolor": "white",
             "linecolor": "white",
             "minorgridcolor": "white",
             "startlinecolor": "#2a3f5f"
            },
            "type": "carpet"
           }
          ],
          "choropleth": [
           {
            "colorbar": {
             "outlinewidth": 0,
             "ticks": ""
            },
            "type": "choropleth"
           }
          ],
          "contour": [
           {
            "colorbar": {
             "outlinewidth": 0,
             "ticks": ""
            },
            "colorscale": [
             [
              0,
              "#0d0887"
             ],
             [
              0.1111111111111111,
              "#46039f"
             ],
             [
              0.2222222222222222,
              "#7201a8"
             ],
             [
              0.3333333333333333,
              "#9c179e"
             ],
             [
              0.4444444444444444,
              "#bd3786"
             ],
             [
              0.5555555555555556,
              "#d8576b"
             ],
             [
              0.6666666666666666,
              "#ed7953"
             ],
             [
              0.7777777777777778,
              "#fb9f3a"
             ],
             [
              0.8888888888888888,
              "#fdca26"
             ],
             [
              1,
              "#f0f921"
             ]
            ],
            "type": "contour"
           }
          ],
          "contourcarpet": [
           {
            "colorbar": {
             "outlinewidth": 0,
             "ticks": ""
            },
            "type": "contourcarpet"
           }
          ],
          "heatmap": [
           {
            "colorbar": {
             "outlinewidth": 0,
             "ticks": ""
            },
            "colorscale": [
             [
              0,
              "#0d0887"
             ],
             [
              0.1111111111111111,
              "#46039f"
             ],
             [
              0.2222222222222222,
              "#7201a8"
             ],
             [
              0.3333333333333333,
              "#9c179e"
             ],
             [
              0.4444444444444444,
              "#bd3786"
             ],
             [
              0.5555555555555556,
              "#d8576b"
             ],
             [
              0.6666666666666666,
              "#ed7953"
             ],
             [
              0.7777777777777778,
              "#fb9f3a"
             ],
             [
              0.8888888888888888,
              "#fdca26"
             ],
             [
              1,
              "#f0f921"
             ]
            ],
            "type": "heatmap"
           }
          ],
          "heatmapgl": [
           {
            "colorbar": {
             "outlinewidth": 0,
             "ticks": ""
            },
            "colorscale": [
             [
              0,
              "#0d0887"
             ],
             [
              0.1111111111111111,
              "#46039f"
             ],
             [
              0.2222222222222222,
              "#7201a8"
             ],
             [
              0.3333333333333333,
              "#9c179e"
             ],
             [
              0.4444444444444444,
              "#bd3786"
             ],
             [
              0.5555555555555556,
              "#d8576b"
             ],
             [
              0.6666666666666666,
              "#ed7953"
             ],
             [
              0.7777777777777778,
              "#fb9f3a"
             ],
             [
              0.8888888888888888,
              "#fdca26"
             ],
             [
              1,
              "#f0f921"
             ]
            ],
            "type": "heatmapgl"
           }
          ],
          "histogram": [
           {
            "marker": {
             "pattern": {
              "fillmode": "overlay",
              "size": 10,
              "solidity": 0.2
             }
            },
            "type": "histogram"
           }
          ],
          "histogram2d": [
           {
            "colorbar": {
             "outlinewidth": 0,
             "ticks": ""
            },
            "colorscale": [
             [
              0,
              "#0d0887"
             ],
             [
              0.1111111111111111,
              "#46039f"
             ],
             [
              0.2222222222222222,
              "#7201a8"
             ],
             [
              0.3333333333333333,
              "#9c179e"
             ],
             [
              0.4444444444444444,
              "#bd3786"
             ],
             [
              0.5555555555555556,
              "#d8576b"
             ],
             [
              0.6666666666666666,
              "#ed7953"
             ],
             [
              0.7777777777777778,
              "#fb9f3a"
             ],
             [
              0.8888888888888888,
              "#fdca26"
             ],
             [
              1,
              "#f0f921"
             ]
            ],
            "type": "histogram2d"
           }
          ],
          "histogram2dcontour": [
           {
            "colorbar": {
             "outlinewidth": 0,
             "ticks": ""
            },
            "colorscale": [
             [
              0,
              "#0d0887"
             ],
             [
              0.1111111111111111,
              "#46039f"
             ],
             [
              0.2222222222222222,
              "#7201a8"
             ],
             [
              0.3333333333333333,
              "#9c179e"
             ],
             [
              0.4444444444444444,
              "#bd3786"
             ],
             [
              0.5555555555555556,
              "#d8576b"
             ],
             [
              0.6666666666666666,
              "#ed7953"
             ],
             [
              0.7777777777777778,
              "#fb9f3a"
             ],
             [
              0.8888888888888888,
              "#fdca26"
             ],
             [
              1,
              "#f0f921"
             ]
            ],
            "type": "histogram2dcontour"
           }
          ],
          "mesh3d": [
           {
            "colorbar": {
             "outlinewidth": 0,
             "ticks": ""
            },
            "type": "mesh3d"
           }
          ],
          "parcoords": [
           {
            "line": {
             "colorbar": {
              "outlinewidth": 0,
              "ticks": ""
             }
            },
            "type": "parcoords"
           }
          ],
          "pie": [
           {
            "automargin": true,
            "type": "pie"
           }
          ],
          "scatter": [
           {
            "fillpattern": {
             "fillmode": "overlay",
             "size": 10,
             "solidity": 0.2
            },
            "type": "scatter"
           }
          ],
          "scatter3d": [
           {
            "line": {
             "colorbar": {
              "outlinewidth": 0,
              "ticks": ""
             }
            },
            "marker": {
             "colorbar": {
              "outlinewidth": 0,
              "ticks": ""
             }
            },
            "type": "scatter3d"
           }
          ],
          "scattercarpet": [
           {
            "marker": {
             "colorbar": {
              "outlinewidth": 0,
              "ticks": ""
             }
            },
            "type": "scattercarpet"
           }
          ],
          "scattergeo": [
           {
            "marker": {
             "colorbar": {
              "outlinewidth": 0,
              "ticks": ""
             }
            },
            "type": "scattergeo"
           }
          ],
          "scattergl": [
           {
            "marker": {
             "colorbar": {
              "outlinewidth": 0,
              "ticks": ""
             }
            },
            "type": "scattergl"
           }
          ],
          "scattermapbox": [
           {
            "marker": {
             "colorbar": {
              "outlinewidth": 0,
              "ticks": ""
             }
            },
            "type": "scattermapbox"
           }
          ],
          "scatterpolar": [
           {
            "marker": {
             "colorbar": {
              "outlinewidth": 0,
              "ticks": ""
             }
            },
            "type": "scatterpolar"
           }
          ],
          "scatterpolargl": [
           {
            "marker": {
             "colorbar": {
              "outlinewidth": 0,
              "ticks": ""
             }
            },
            "type": "scatterpolargl"
           }
          ],
          "scatterternary": [
           {
            "marker": {
             "colorbar": {
              "outlinewidth": 0,
              "ticks": ""
             }
            },
            "type": "scatterternary"
           }
          ],
          "surface": [
           {
            "colorbar": {
             "outlinewidth": 0,
             "ticks": ""
            },
            "colorscale": [
             [
              0,
              "#0d0887"
             ],
             [
              0.1111111111111111,
              "#46039f"
             ],
             [
              0.2222222222222222,
              "#7201a8"
             ],
             [
              0.3333333333333333,
              "#9c179e"
             ],
             [
              0.4444444444444444,
              "#bd3786"
             ],
             [
              0.5555555555555556,
              "#d8576b"
             ],
             [
              0.6666666666666666,
              "#ed7953"
             ],
             [
              0.7777777777777778,
              "#fb9f3a"
             ],
             [
              0.8888888888888888,
              "#fdca26"
             ],
             [
              1,
              "#f0f921"
             ]
            ],
            "type": "surface"
           }
          ],
          "table": [
           {
            "cells": {
             "fill": {
              "color": "#EBF0F8"
             },
             "line": {
              "color": "white"
             }
            },
            "header": {
             "fill": {
              "color": "#C8D4E3"
             },
             "line": {
              "color": "white"
             }
            },
            "type": "table"
           }
          ]
         },
         "layout": {
          "annotationdefaults": {
           "arrowcolor": "#2a3f5f",
           "arrowhead": 0,
           "arrowwidth": 1
          },
          "autotypenumbers": "strict",
          "coloraxis": {
           "colorbar": {
            "outlinewidth": 0,
            "ticks": ""
           }
          },
          "colorscale": {
           "diverging": [
            [
             0,
             "#8e0152"
            ],
            [
             0.1,
             "#c51b7d"
            ],
            [
             0.2,
             "#de77ae"
            ],
            [
             0.3,
             "#f1b6da"
            ],
            [
             0.4,
             "#fde0ef"
            ],
            [
             0.5,
             "#f7f7f7"
            ],
            [
             0.6,
             "#e6f5d0"
            ],
            [
             0.7,
             "#b8e186"
            ],
            [
             0.8,
             "#7fbc41"
            ],
            [
             0.9,
             "#4d9221"
            ],
            [
             1,
             "#276419"
            ]
           ],
           "sequential": [
            [
             0,
             "#0d0887"
            ],
            [
             0.1111111111111111,
             "#46039f"
            ],
            [
             0.2222222222222222,
             "#7201a8"
            ],
            [
             0.3333333333333333,
             "#9c179e"
            ],
            [
             0.4444444444444444,
             "#bd3786"
            ],
            [
             0.5555555555555556,
             "#d8576b"
            ],
            [
             0.6666666666666666,
             "#ed7953"
            ],
            [
             0.7777777777777778,
             "#fb9f3a"
            ],
            [
             0.8888888888888888,
             "#fdca26"
            ],
            [
             1,
             "#f0f921"
            ]
           ],
           "sequentialminus": [
            [
             0,
             "#0d0887"
            ],
            [
             0.1111111111111111,
             "#46039f"
            ],
            [
             0.2222222222222222,
             "#7201a8"
            ],
            [
             0.3333333333333333,
             "#9c179e"
            ],
            [
             0.4444444444444444,
             "#bd3786"
            ],
            [
             0.5555555555555556,
             "#d8576b"
            ],
            [
             0.6666666666666666,
             "#ed7953"
            ],
            [
             0.7777777777777778,
             "#fb9f3a"
            ],
            [
             0.8888888888888888,
             "#fdca26"
            ],
            [
             1,
             "#f0f921"
            ]
           ]
          },
          "colorway": [
           "#636efa",
           "#EF553B",
           "#00cc96",
           "#ab63fa",
           "#FFA15A",
           "#19d3f3",
           "#FF6692",
           "#B6E880",
           "#FF97FF",
           "#FECB52"
          ],
          "font": {
           "color": "#2a3f5f"
          },
          "geo": {
           "bgcolor": "white",
           "lakecolor": "white",
           "landcolor": "#E5ECF6",
           "showlakes": true,
           "showland": true,
           "subunitcolor": "white"
          },
          "hoverlabel": {
           "align": "left"
          },
          "hovermode": "closest",
          "mapbox": {
           "style": "light"
          },
          "paper_bgcolor": "white",
          "plot_bgcolor": "#E5ECF6",
          "polar": {
           "angularaxis": {
            "gridcolor": "white",
            "linecolor": "white",
            "ticks": ""
           },
           "bgcolor": "#E5ECF6",
           "radialaxis": {
            "gridcolor": "white",
            "linecolor": "white",
            "ticks": ""
           }
          },
          "scene": {
           "xaxis": {
            "backgroundcolor": "#E5ECF6",
            "gridcolor": "white",
            "gridwidth": 2,
            "linecolor": "white",
            "showbackground": true,
            "ticks": "",
            "zerolinecolor": "white"
           },
           "yaxis": {
            "backgroundcolor": "#E5ECF6",
            "gridcolor": "white",
            "gridwidth": 2,
            "linecolor": "white",
            "showbackground": true,
            "ticks": "",
            "zerolinecolor": "white"
           },
           "zaxis": {
            "backgroundcolor": "#E5ECF6",
            "gridcolor": "white",
            "gridwidth": 2,
            "linecolor": "white",
            "showbackground": true,
            "ticks": "",
            "zerolinecolor": "white"
           }
          },
          "shapedefaults": {
           "line": {
            "color": "#2a3f5f"
           }
          },
          "ternary": {
           "aaxis": {
            "gridcolor": "white",
            "linecolor": "white",
            "ticks": ""
           },
           "baxis": {
            "gridcolor": "white",
            "linecolor": "white",
            "ticks": ""
           },
           "bgcolor": "#E5ECF6",
           "caxis": {
            "gridcolor": "white",
            "linecolor": "white",
            "ticks": ""
           }
          },
          "title": {
           "x": 0.05
          },
          "xaxis": {
           "automargin": true,
           "gridcolor": "white",
           "linecolor": "white",
           "ticks": "",
           "title": {
            "standoff": 15
           },
           "zerolinecolor": "white",
           "zerolinewidth": 2
          },
          "yaxis": {
           "automargin": true,
           "gridcolor": "white",
           "linecolor": "white",
           "ticks": "",
           "title": {
            "standoff": 15
           },
           "zerolinecolor": "white",
           "zerolinewidth": 2
          }
         }
        },
        "title": {
         "text": "Feature importance (for a default Random Forest)",
         "x": 0.5
        },
        "xaxis": {
         "anchor": "y",
         "domain": [
          0,
          1
         ],
         "title": {
          "text": "Importance"
         }
        },
        "yaxis": {
         "anchor": "x",
         "domain": [
          0,
          1
         ],
         "title": {
          "text": "Feature"
         }
        }
       }
      }
     },
     "metadata": {},
     "output_type": "display_data"
    }
   ],
   "source": [
    "rf_fs_model = RandomForestClassifier(random_state = 92)\n",
    "\n",
    "tf.random_forest_feature_selection(X_admissions_train_scaled, y_admissions_train, 0.02, rf_fs_model)"
   ]
  },
  {
   "cell_type": "markdown",
   "id": "ecdc8c62",
   "metadata": {},
   "source": [
    "-------\n",
    "### <font color='#BFD62F'>3.6.8. Least Absolute Shrinkage and Selection Operator (LASSO)</font> <a class=\"anchor\" id=\"lasso\"></a>\n",
    "[Back to Contents](#toc)\n",
    "\n",
    "Similarly to the Random Forest, our decision will be to keep the features whose absolute weight in the cost function formula is above the defined threshold."
   ]
  },
  {
   "cell_type": "code",
   "execution_count": 18,
   "id": "11e082f1",
   "metadata": {},
   "outputs": [
    {
     "name": "stdout",
     "output_type": "stream",
     "text": [
      "LASSO picked 60 variables and eliminated the other 5 variables.\n"
     ]
    },
    {
     "data": {
      "application/vnd.plotly.v1+json": {
       "config": {
        "plotlyServerURL": "https://plot.ly"
       },
       "data": [
        {
         "alignmentgroup": "True",
         "hovertemplate": "Importance=%{x}<br>Feature=%{y}<extra></extra>",
         "legendgroup": "",
         "marker": {
          "color": "#5C666C",
          "pattern": {
           "shape": ""
          }
         },
         "name": "",
         "offsetgroup": "",
         "orientation": "h",
         "showlegend": false,
         "textposition": "auto",
         "type": "bar",
         "x": [
          -0.7436397705709864,
          -0.32053753345290487,
          -0.23091493195578003,
          -0.22398414411079007,
          -0.19298536981745343,
          -0.1390911213213756,
          -0.10909297939815732,
          -0.0977358405077899,
          -0.09649524129205832,
          -0.08236002539134618,
          -0.07949466982267932,
          -0.03878912451877733,
          -0.03487944565115236,
          -0.03421548638906132,
          -0.0320367863906515,
          -0.023632110712568006,
          -0.020689533686161797,
          -0.012842102230383508,
          -0.012209215434456742,
          -0.011033098093490692,
          -0.007123420122157876,
          -0.004741659620160645,
          -0.001477186025140399,
          -0.0002447616244738123,
          0,
          0,
          0,
          0,
          0,
          0.0022936738068990467,
          0.008765611527660809,
          0.01006172502631641,
          0.01107551355590238,
          0.013347111624580004,
          0.015572353531061837,
          0.01570036253027722,
          0.017039937642337716,
          0.02149074543868517,
          0.02398032363743792,
          0.024799425683320303,
          0.0306945070813242,
          0.030830588243361483,
          0.03437541736063477,
          0.03620889211690165,
          0.04042595592057065,
          0.04176450450583783,
          0.044314923796088326,
          0.04587556363069725,
          0.0480282419072062,
          0.048266464667984094,
          0.04992689393437025,
          0.05848438259653192,
          0.06384373755648265,
          0.06908144946880583,
          0.08169910547695315,
          0.0949820495703085,
          0.10780666447341682,
          0.19235609973691117,
          0.20240512643803762,
          0.2515025292343439,
          0.2853087919300146,
          0.29253307208367246,
          0.29935135982618394,
          0.37870437719979744,
          0.4617633797030167
         ],
         "xaxis": "x",
         "y": [
          "Overall Score",
          "Non_Finished_Programs",
          "AverageAcademicDegree",
          "Prop_Finished_Programs",
          "Program_Name",
          "NumberAcademicExperiences",
          "Students to Staff Ratio",
          "nivelInglesEscrita",
          "is_Fully_In_Person",
          "countries_dist",
          "datacandidaturafim_month",
          "Previous_Marketing_Studies",
          "Previous_Finance_Studies",
          "Previous_Tech_Studies",
          "Previous_Engineering_Jobs",
          "Number_Professional_Experiences",
          "Previous_Marketing_Jobs",
          "Working_Upon_Application",
          "Previous_Project_Jobs",
          "MaxScaledGrade",
          "Is_Ranked",
          "nivelInglesFala",
          "Previous_Data_Studies",
          "International Outlook",
          "AverageScaledGrade",
          "Research Quality",
          "Number_Fields_Worked",
          "datacandidaturafim_day_of_week_sin",
          "Number_Studied_Fields",
          "datacandidaturafim_day",
          "Previous_Engineering_Studies",
          "Previous_Field_Jobs",
          "Previous_Computing_Jobs",
          "Rank",
          "datacandidaturafim_time_of_day",
          "datacandidaturafim_day_of_week_cos",
          "Student Population",
          "Previous_Tech_Jobs",
          "Previous_Computer_Studies",
          "Years_of_Longest_Prof_Experience",
          "Previous_Data_Jobs",
          "Research Environment",
          "countries_region",
          "Previous_Jobs_in_Partners",
          "Previous_Math_Jobs",
          "Previous_Analytics_Jobs",
          "Previous_Trainee_Jobs",
          "Previous_Math_Studies",
          "Years_of_Experience",
          "nivelInglesCompreensao",
          "idgenero",
          "Previous_Finance_Jobs",
          "dprograma",
          "Previous_Field_Studies",
          "is_After_Working_Hours",
          "Previous_IMS_Student",
          "is_Portuguese",
          "MinScaledGrade",
          "NumberAcademicDegrees",
          "Percentage_Female_Students",
          "Industry Impact",
          "Teaching",
          "HighestAcademicDegree",
          "countries_GDP_per_capita",
          "Percentage_International_Students"
         ],
         "yaxis": "y"
        }
       ],
       "layout": {
        "barmode": "relative",
        "height": 1300,
        "legend": {
         "tracegroupgap": 0
        },
        "shapes": [
         {
          "line": {
           "color": "black",
           "dash": "dash"
          },
          "type": "line",
          "x0": 0.075,
          "x1": 0.075,
          "xref": "x",
          "y0": 0,
          "y1": 1,
          "yref": "y domain"
         },
         {
          "line": {
           "color": "black",
           "dash": "dash"
          },
          "type": "line",
          "x0": -0.075,
          "x1": -0.075,
          "xref": "x",
          "y0": 0,
          "y1": 1,
          "yref": "y domain"
         }
        ],
        "template": {
         "data": {
          "bar": [
           {
            "error_x": {
             "color": "#2a3f5f"
            },
            "error_y": {
             "color": "#2a3f5f"
            },
            "marker": {
             "line": {
              "color": "#E5ECF6",
              "width": 0.5
             },
             "pattern": {
              "fillmode": "overlay",
              "size": 10,
              "solidity": 0.2
             }
            },
            "type": "bar"
           }
          ],
          "barpolar": [
           {
            "marker": {
             "line": {
              "color": "#E5ECF6",
              "width": 0.5
             },
             "pattern": {
              "fillmode": "overlay",
              "size": 10,
              "solidity": 0.2
             }
            },
            "type": "barpolar"
           }
          ],
          "carpet": [
           {
            "aaxis": {
             "endlinecolor": "#2a3f5f",
             "gridcolor": "white",
             "linecolor": "white",
             "minorgridcolor": "white",
             "startlinecolor": "#2a3f5f"
            },
            "baxis": {
             "endlinecolor": "#2a3f5f",
             "gridcolor": "white",
             "linecolor": "white",
             "minorgridcolor": "white",
             "startlinecolor": "#2a3f5f"
            },
            "type": "carpet"
           }
          ],
          "choropleth": [
           {
            "colorbar": {
             "outlinewidth": 0,
             "ticks": ""
            },
            "type": "choropleth"
           }
          ],
          "contour": [
           {
            "colorbar": {
             "outlinewidth": 0,
             "ticks": ""
            },
            "colorscale": [
             [
              0,
              "#0d0887"
             ],
             [
              0.1111111111111111,
              "#46039f"
             ],
             [
              0.2222222222222222,
              "#7201a8"
             ],
             [
              0.3333333333333333,
              "#9c179e"
             ],
             [
              0.4444444444444444,
              "#bd3786"
             ],
             [
              0.5555555555555556,
              "#d8576b"
             ],
             [
              0.6666666666666666,
              "#ed7953"
             ],
             [
              0.7777777777777778,
              "#fb9f3a"
             ],
             [
              0.8888888888888888,
              "#fdca26"
             ],
             [
              1,
              "#f0f921"
             ]
            ],
            "type": "contour"
           }
          ],
          "contourcarpet": [
           {
            "colorbar": {
             "outlinewidth": 0,
             "ticks": ""
            },
            "type": "contourcarpet"
           }
          ],
          "heatmap": [
           {
            "colorbar": {
             "outlinewidth": 0,
             "ticks": ""
            },
            "colorscale": [
             [
              0,
              "#0d0887"
             ],
             [
              0.1111111111111111,
              "#46039f"
             ],
             [
              0.2222222222222222,
              "#7201a8"
             ],
             [
              0.3333333333333333,
              "#9c179e"
             ],
             [
              0.4444444444444444,
              "#bd3786"
             ],
             [
              0.5555555555555556,
              "#d8576b"
             ],
             [
              0.6666666666666666,
              "#ed7953"
             ],
             [
              0.7777777777777778,
              "#fb9f3a"
             ],
             [
              0.8888888888888888,
              "#fdca26"
             ],
             [
              1,
              "#f0f921"
             ]
            ],
            "type": "heatmap"
           }
          ],
          "heatmapgl": [
           {
            "colorbar": {
             "outlinewidth": 0,
             "ticks": ""
            },
            "colorscale": [
             [
              0,
              "#0d0887"
             ],
             [
              0.1111111111111111,
              "#46039f"
             ],
             [
              0.2222222222222222,
              "#7201a8"
             ],
             [
              0.3333333333333333,
              "#9c179e"
             ],
             [
              0.4444444444444444,
              "#bd3786"
             ],
             [
              0.5555555555555556,
              "#d8576b"
             ],
             [
              0.6666666666666666,
              "#ed7953"
             ],
             [
              0.7777777777777778,
              "#fb9f3a"
             ],
             [
              0.8888888888888888,
              "#fdca26"
             ],
             [
              1,
              "#f0f921"
             ]
            ],
            "type": "heatmapgl"
           }
          ],
          "histogram": [
           {
            "marker": {
             "pattern": {
              "fillmode": "overlay",
              "size": 10,
              "solidity": 0.2
             }
            },
            "type": "histogram"
           }
          ],
          "histogram2d": [
           {
            "colorbar": {
             "outlinewidth": 0,
             "ticks": ""
            },
            "colorscale": [
             [
              0,
              "#0d0887"
             ],
             [
              0.1111111111111111,
              "#46039f"
             ],
             [
              0.2222222222222222,
              "#7201a8"
             ],
             [
              0.3333333333333333,
              "#9c179e"
             ],
             [
              0.4444444444444444,
              "#bd3786"
             ],
             [
              0.5555555555555556,
              "#d8576b"
             ],
             [
              0.6666666666666666,
              "#ed7953"
             ],
             [
              0.7777777777777778,
              "#fb9f3a"
             ],
             [
              0.8888888888888888,
              "#fdca26"
             ],
             [
              1,
              "#f0f921"
             ]
            ],
            "type": "histogram2d"
           }
          ],
          "histogram2dcontour": [
           {
            "colorbar": {
             "outlinewidth": 0,
             "ticks": ""
            },
            "colorscale": [
             [
              0,
              "#0d0887"
             ],
             [
              0.1111111111111111,
              "#46039f"
             ],
             [
              0.2222222222222222,
              "#7201a8"
             ],
             [
              0.3333333333333333,
              "#9c179e"
             ],
             [
              0.4444444444444444,
              "#bd3786"
             ],
             [
              0.5555555555555556,
              "#d8576b"
             ],
             [
              0.6666666666666666,
              "#ed7953"
             ],
             [
              0.7777777777777778,
              "#fb9f3a"
             ],
             [
              0.8888888888888888,
              "#fdca26"
             ],
             [
              1,
              "#f0f921"
             ]
            ],
            "type": "histogram2dcontour"
           }
          ],
          "mesh3d": [
           {
            "colorbar": {
             "outlinewidth": 0,
             "ticks": ""
            },
            "type": "mesh3d"
           }
          ],
          "parcoords": [
           {
            "line": {
             "colorbar": {
              "outlinewidth": 0,
              "ticks": ""
             }
            },
            "type": "parcoords"
           }
          ],
          "pie": [
           {
            "automargin": true,
            "type": "pie"
           }
          ],
          "scatter": [
           {
            "fillpattern": {
             "fillmode": "overlay",
             "size": 10,
             "solidity": 0.2
            },
            "type": "scatter"
           }
          ],
          "scatter3d": [
           {
            "line": {
             "colorbar": {
              "outlinewidth": 0,
              "ticks": ""
             }
            },
            "marker": {
             "colorbar": {
              "outlinewidth": 0,
              "ticks": ""
             }
            },
            "type": "scatter3d"
           }
          ],
          "scattercarpet": [
           {
            "marker": {
             "colorbar": {
              "outlinewidth": 0,
              "ticks": ""
             }
            },
            "type": "scattercarpet"
           }
          ],
          "scattergeo": [
           {
            "marker": {
             "colorbar": {
              "outlinewidth": 0,
              "ticks": ""
             }
            },
            "type": "scattergeo"
           }
          ],
          "scattergl": [
           {
            "marker": {
             "colorbar": {
              "outlinewidth": 0,
              "ticks": ""
             }
            },
            "type": "scattergl"
           }
          ],
          "scattermapbox": [
           {
            "marker": {
             "colorbar": {
              "outlinewidth": 0,
              "ticks": ""
             }
            },
            "type": "scattermapbox"
           }
          ],
          "scatterpolar": [
           {
            "marker": {
             "colorbar": {
              "outlinewidth": 0,
              "ticks": ""
             }
            },
            "type": "scatterpolar"
           }
          ],
          "scatterpolargl": [
           {
            "marker": {
             "colorbar": {
              "outlinewidth": 0,
              "ticks": ""
             }
            },
            "type": "scatterpolargl"
           }
          ],
          "scatterternary": [
           {
            "marker": {
             "colorbar": {
              "outlinewidth": 0,
              "ticks": ""
             }
            },
            "type": "scatterternary"
           }
          ],
          "surface": [
           {
            "colorbar": {
             "outlinewidth": 0,
             "ticks": ""
            },
            "colorscale": [
             [
              0,
              "#0d0887"
             ],
             [
              0.1111111111111111,
              "#46039f"
             ],
             [
              0.2222222222222222,
              "#7201a8"
             ],
             [
              0.3333333333333333,
              "#9c179e"
             ],
             [
              0.4444444444444444,
              "#bd3786"
             ],
             [
              0.5555555555555556,
              "#d8576b"
             ],
             [
              0.6666666666666666,
              "#ed7953"
             ],
             [
              0.7777777777777778,
              "#fb9f3a"
             ],
             [
              0.8888888888888888,
              "#fdca26"
             ],
             [
              1,
              "#f0f921"
             ]
            ],
            "type": "surface"
           }
          ],
          "table": [
           {
            "cells": {
             "fill": {
              "color": "#EBF0F8"
             },
             "line": {
              "color": "white"
             }
            },
            "header": {
             "fill": {
              "color": "#C8D4E3"
             },
             "line": {
              "color": "white"
             }
            },
            "type": "table"
           }
          ]
         },
         "layout": {
          "annotationdefaults": {
           "arrowcolor": "#2a3f5f",
           "arrowhead": 0,
           "arrowwidth": 1
          },
          "autotypenumbers": "strict",
          "coloraxis": {
           "colorbar": {
            "outlinewidth": 0,
            "ticks": ""
           }
          },
          "colorscale": {
           "diverging": [
            [
             0,
             "#8e0152"
            ],
            [
             0.1,
             "#c51b7d"
            ],
            [
             0.2,
             "#de77ae"
            ],
            [
             0.3,
             "#f1b6da"
            ],
            [
             0.4,
             "#fde0ef"
            ],
            [
             0.5,
             "#f7f7f7"
            ],
            [
             0.6,
             "#e6f5d0"
            ],
            [
             0.7,
             "#b8e186"
            ],
            [
             0.8,
             "#7fbc41"
            ],
            [
             0.9,
             "#4d9221"
            ],
            [
             1,
             "#276419"
            ]
           ],
           "sequential": [
            [
             0,
             "#0d0887"
            ],
            [
             0.1111111111111111,
             "#46039f"
            ],
            [
             0.2222222222222222,
             "#7201a8"
            ],
            [
             0.3333333333333333,
             "#9c179e"
            ],
            [
             0.4444444444444444,
             "#bd3786"
            ],
            [
             0.5555555555555556,
             "#d8576b"
            ],
            [
             0.6666666666666666,
             "#ed7953"
            ],
            [
             0.7777777777777778,
             "#fb9f3a"
            ],
            [
             0.8888888888888888,
             "#fdca26"
            ],
            [
             1,
             "#f0f921"
            ]
           ],
           "sequentialminus": [
            [
             0,
             "#0d0887"
            ],
            [
             0.1111111111111111,
             "#46039f"
            ],
            [
             0.2222222222222222,
             "#7201a8"
            ],
            [
             0.3333333333333333,
             "#9c179e"
            ],
            [
             0.4444444444444444,
             "#bd3786"
            ],
            [
             0.5555555555555556,
             "#d8576b"
            ],
            [
             0.6666666666666666,
             "#ed7953"
            ],
            [
             0.7777777777777778,
             "#fb9f3a"
            ],
            [
             0.8888888888888888,
             "#fdca26"
            ],
            [
             1,
             "#f0f921"
            ]
           ]
          },
          "colorway": [
           "#636efa",
           "#EF553B",
           "#00cc96",
           "#ab63fa",
           "#FFA15A",
           "#19d3f3",
           "#FF6692",
           "#B6E880",
           "#FF97FF",
           "#FECB52"
          ],
          "font": {
           "color": "#2a3f5f"
          },
          "geo": {
           "bgcolor": "white",
           "lakecolor": "white",
           "landcolor": "#E5ECF6",
           "showlakes": true,
           "showland": true,
           "subunitcolor": "white"
          },
          "hoverlabel": {
           "align": "left"
          },
          "hovermode": "closest",
          "mapbox": {
           "style": "light"
          },
          "paper_bgcolor": "white",
          "plot_bgcolor": "#E5ECF6",
          "polar": {
           "angularaxis": {
            "gridcolor": "white",
            "linecolor": "white",
            "ticks": ""
           },
           "bgcolor": "#E5ECF6",
           "radialaxis": {
            "gridcolor": "white",
            "linecolor": "white",
            "ticks": ""
           }
          },
          "scene": {
           "xaxis": {
            "backgroundcolor": "#E5ECF6",
            "gridcolor": "white",
            "gridwidth": 2,
            "linecolor": "white",
            "showbackground": true,
            "ticks": "",
            "zerolinecolor": "white"
           },
           "yaxis": {
            "backgroundcolor": "#E5ECF6",
            "gridcolor": "white",
            "gridwidth": 2,
            "linecolor": "white",
            "showbackground": true,
            "ticks": "",
            "zerolinecolor": "white"
           },
           "zaxis": {
            "backgroundcolor": "#E5ECF6",
            "gridcolor": "white",
            "gridwidth": 2,
            "linecolor": "white",
            "showbackground": true,
            "ticks": "",
            "zerolinecolor": "white"
           }
          },
          "shapedefaults": {
           "line": {
            "color": "#2a3f5f"
           }
          },
          "ternary": {
           "aaxis": {
            "gridcolor": "white",
            "linecolor": "white",
            "ticks": ""
           },
           "baxis": {
            "gridcolor": "white",
            "linecolor": "white",
            "ticks": ""
           },
           "bgcolor": "#E5ECF6",
           "caxis": {
            "gridcolor": "white",
            "linecolor": "white",
            "ticks": ""
           }
          },
          "title": {
           "x": 0.05
          },
          "xaxis": {
           "automargin": true,
           "gridcolor": "white",
           "linecolor": "white",
           "ticks": "",
           "title": {
            "standoff": 15
           },
           "zerolinecolor": "white",
           "zerolinewidth": 2
          },
          "yaxis": {
           "automargin": true,
           "gridcolor": "white",
           "linecolor": "white",
           "ticks": "",
           "title": {
            "standoff": 15
           },
           "zerolinecolor": "white",
           "zerolinewidth": 2
          }
         }
        },
        "title": {
         "text": "Feature Importance using the Lasso Method",
         "x": 0.5
        },
        "xaxis": {
         "anchor": "y",
         "domain": [
          0,
          1
         ],
         "title": {
          "text": "Coefficient"
         }
        },
        "yaxis": {
         "anchor": "x",
         "domain": [
          0,
          1
         ],
         "title": {
          "text": "Feature"
         }
        }
       }
      }
     },
     "metadata": {},
     "output_type": "display_data"
    }
   ],
   "source": [
    "tf.lasso(X_admissions_train_scaled, y_admissions_train, threshold = 0.075)"
   ]
  },
  {
   "cell_type": "markdown",
   "id": "97e64a3c",
   "metadata": {},
   "source": [
    "-------\n",
    "### <font color='#BFD62F'>3.6.9. Conclusion</font> <a class=\"anchor\" id=\"conclusion\"></a>\n",
    "[Back to Contents](#toc)\n",
    "\n",
    "The decisions for each of the implemented feature selection techniques were compilated in the following Excel sheet, whose results can be displayed as follows.\n",
    "\n",
    "We opted to keep features that were voted to be kept by the majority of the techniques to which they were applied (4/7 for numerical variables, and 3/5 for categorical variables). We dedided not to drop the variables marked as \"Keep*\" due to our understanding of the problem and their potential value to the models, despite having been narrowly eliminated. The exception is the `idgenero` variable. Although it is fantastic (in terms of Nova IMS' operations) that the applicants' gender does not impact admissions, we cannot prove that our ML solution is also neutral regarding this field unless we include it in our model. Therefore, it will be maintained for the following steps of our study.\n",
    "\n",
    "On the contrary, we will drop `MaxScaledGrade` and `MinScaledGrade` due to their very high correlation with `AverageScaledGrade`. We believe that the latter is well representative of the three, and having them all could prove to be confusing to the models, due to the introduction of more noise (and more dimensionality)."
   ]
  },
  {
   "cell_type": "code",
   "execution_count": 19,
   "id": "76b7f6af",
   "metadata": {},
   "outputs": [
    {
     "data": {
      "text/html": [
       "<style type=\"text/css\">\n",
       "#T_a1a2f_row0_col1, #T_a1a2f_row0_col2, #T_a1a2f_row0_col4, #T_a1a2f_row0_col7, #T_a1a2f_row0_col9, #T_a1a2f_row1_col4, #T_a1a2f_row1_col7, #T_a1a2f_row2_col1, #T_a1a2f_row2_col2, #T_a1a2f_row2_col4, #T_a1a2f_row2_col7, #T_a1a2f_row2_col9, #T_a1a2f_row3_col5, #T_a1a2f_row3_col6, #T_a1a2f_row3_col7, #T_a1a2f_row3_col8, #T_a1a2f_row4_col5, #T_a1a2f_row4_col6, #T_a1a2f_row4_col7, #T_a1a2f_row4_col8, #T_a1a2f_row4_col9, #T_a1a2f_row5_col7, #T_a1a2f_row6_col1, #T_a1a2f_row6_col2, #T_a1a2f_row6_col4, #T_a1a2f_row6_col7, #T_a1a2f_row6_col9, #T_a1a2f_row7_col4, #T_a1a2f_row7_col7, #T_a1a2f_row8_col2, #T_a1a2f_row8_col4, #T_a1a2f_row8_col7, #T_a1a2f_row8_col8, #T_a1a2f_row8_col9, #T_a1a2f_row9_col2, #T_a1a2f_row9_col4, #T_a1a2f_row9_col7, #T_a1a2f_row9_col8, #T_a1a2f_row9_col9, #T_a1a2f_row10_col4, #T_a1a2f_row10_col7, #T_a1a2f_row11_col5, #T_a1a2f_row11_col6, #T_a1a2f_row11_col7, #T_a1a2f_row11_col8, #T_a1a2f_row11_col9, #T_a1a2f_row12_col7, #T_a1a2f_row13_col7, #T_a1a2f_row14_col4, #T_a1a2f_row14_col5, #T_a1a2f_row14_col6, #T_a1a2f_row14_col7, #T_a1a2f_row14_col8, #T_a1a2f_row14_col9, #T_a1a2f_row15_col2, #T_a1a2f_row15_col4, #T_a1a2f_row15_col7, #T_a1a2f_row16_col5, #T_a1a2f_row16_col8, #T_a1a2f_row17_col1, #T_a1a2f_row17_col5, #T_a1a2f_row17_col8, #T_a1a2f_row18_col1, #T_a1a2f_row22_col2, #T_a1a2f_row22_col4, #T_a1a2f_row22_col6, #T_a1a2f_row22_col8, #T_a1a2f_row22_col9, #T_a1a2f_row23_col2, #T_a1a2f_row23_col4, #T_a1a2f_row23_col6, #T_a1a2f_row23_col8, #T_a1a2f_row23_col9, #T_a1a2f_row24_col1, #T_a1a2f_row24_col2, #T_a1a2f_row24_col4, #T_a1a2f_row24_col5, #T_a1a2f_row24_col8, #T_a1a2f_row24_col9, #T_a1a2f_row25_col2, #T_a1a2f_row25_col4, #T_a1a2f_row25_col6, #T_a1a2f_row25_col7, #T_a1a2f_row25_col8, #T_a1a2f_row25_col9, #T_a1a2f_row26_col4, #T_a1a2f_row27_col4, #T_a1a2f_row27_col5, #T_a1a2f_row27_col6, #T_a1a2f_row27_col8, #T_a1a2f_row27_col9, #T_a1a2f_row28_col4, #T_a1a2f_row28_col5, #T_a1a2f_row28_col6, #T_a1a2f_row28_col8, #T_a1a2f_row28_col9, #T_a1a2f_row29_col7, #T_a1a2f_row29_col8, #T_a1a2f_row30_col5, #T_a1a2f_row30_col6, #T_a1a2f_row30_col7, #T_a1a2f_row30_col8, #T_a1a2f_row30_col9, #T_a1a2f_row31_col7, #T_a1a2f_row32_col5, #T_a1a2f_row32_col6, #T_a1a2f_row32_col7, #T_a1a2f_row32_col8, #T_a1a2f_row32_col9, #T_a1a2f_row33_col3, #T_a1a2f_row33_col5, #T_a1a2f_row33_col6, #T_a1a2f_row33_col7, #T_a1a2f_row33_col8, #T_a1a2f_row33_col9, #T_a1a2f_row34_col3, #T_a1a2f_row34_col6, #T_a1a2f_row34_col7, #T_a1a2f_row34_col8, #T_a1a2f_row34_col9, #T_a1a2f_row35_col7, #T_a1a2f_row35_col8, #T_a1a2f_row36_col3, #T_a1a2f_row36_col5, #T_a1a2f_row36_col6, #T_a1a2f_row36_col7, #T_a1a2f_row36_col8, #T_a1a2f_row36_col9, #T_a1a2f_row37_col3, #T_a1a2f_row37_col5, #T_a1a2f_row37_col6, #T_a1a2f_row37_col7, #T_a1a2f_row37_col8, #T_a1a2f_row37_col9, #T_a1a2f_row38_col3, #T_a1a2f_row38_col6, #T_a1a2f_row38_col7, #T_a1a2f_row38_col8, #T_a1a2f_row38_col9, #T_a1a2f_row39_col6, #T_a1a2f_row39_col7, #T_a1a2f_row39_col8, #T_a1a2f_row40_col7, #T_a1a2f_row41_col7, #T_a1a2f_row42_col7, #T_a1a2f_row43_col5, #T_a1a2f_row43_col6, #T_a1a2f_row43_col7, #T_a1a2f_row43_col8, #T_a1a2f_row43_col9, #T_a1a2f_row44_col5, #T_a1a2f_row44_col6, #T_a1a2f_row44_col7, #T_a1a2f_row44_col8, #T_a1a2f_row44_col9, #T_a1a2f_row45_col7, #T_a1a2f_row45_col8, #T_a1a2f_row46_col5, #T_a1a2f_row46_col6, #T_a1a2f_row46_col7, #T_a1a2f_row46_col8, #T_a1a2f_row46_col9, #T_a1a2f_row47_col3, #T_a1a2f_row47_col5, #T_a1a2f_row47_col6, #T_a1a2f_row47_col7, #T_a1a2f_row47_col8, #T_a1a2f_row47_col9, #T_a1a2f_row48_col3, #T_a1a2f_row48_col7, #T_a1a2f_row48_col8, #T_a1a2f_row48_col9, #T_a1a2f_row49_col5, #T_a1a2f_row49_col6, #T_a1a2f_row49_col7, #T_a1a2f_row49_col8, #T_a1a2f_row49_col9, #T_a1a2f_row50_col6, #T_a1a2f_row50_col7, #T_a1a2f_row50_col8, #T_a1a2f_row50_col9, #T_a1a2f_row51_col5, #T_a1a2f_row51_col6, #T_a1a2f_row51_col7, #T_a1a2f_row51_col8, #T_a1a2f_row51_col9, #T_a1a2f_row52_col3, #T_a1a2f_row52_col5, #T_a1a2f_row52_col6, #T_a1a2f_row52_col7, #T_a1a2f_row52_col8, #T_a1a2f_row52_col9, #T_a1a2f_row53_col3, #T_a1a2f_row53_col5, #T_a1a2f_row53_col6, #T_a1a2f_row53_col7, #T_a1a2f_row53_col8, #T_a1a2f_row53_col9, #T_a1a2f_row54_col6, #T_a1a2f_row54_col7, #T_a1a2f_row54_col8, #T_a1a2f_row54_col9, #T_a1a2f_row55_col6, #T_a1a2f_row55_col7, #T_a1a2f_row55_col8, #T_a1a2f_row56_col7, #T_a1a2f_row56_col8, #T_a1a2f_row57_col5, #T_a1a2f_row57_col6, #T_a1a2f_row57_col7, #T_a1a2f_row57_col8, #T_a1a2f_row57_col9, #T_a1a2f_row58_col7, #T_a1a2f_row59_col7, #T_a1a2f_row60_col5, #T_a1a2f_row60_col6, #T_a1a2f_row60_col7, #T_a1a2f_row60_col8, #T_a1a2f_row61_col5, #T_a1a2f_row61_col6, #T_a1a2f_row61_col7, #T_a1a2f_row61_col8, #T_a1a2f_row61_col9, #T_a1a2f_row63_col5, #T_a1a2f_row63_col6, #T_a1a2f_row63_col8, #T_a1a2f_row63_col9, #T_a1a2f_row64_col5, #T_a1a2f_row64_col6, #T_a1a2f_row64_col8, #T_a1a2f_row64_col9 {\n",
       "  background-color: #FF8989;\n",
       "}\n",
       "#T_a1a2f_row0_col5, #T_a1a2f_row0_col6, #T_a1a2f_row0_col8, #T_a1a2f_row1_col1, #T_a1a2f_row1_col2, #T_a1a2f_row1_col5, #T_a1a2f_row1_col6, #T_a1a2f_row1_col8, #T_a1a2f_row1_col9, #T_a1a2f_row2_col5, #T_a1a2f_row2_col6, #T_a1a2f_row2_col8, #T_a1a2f_row3_col1, #T_a1a2f_row3_col2, #T_a1a2f_row3_col4, #T_a1a2f_row4_col1, #T_a1a2f_row4_col2, #T_a1a2f_row4_col4, #T_a1a2f_row5_col1, #T_a1a2f_row5_col2, #T_a1a2f_row5_col4, #T_a1a2f_row5_col5, #T_a1a2f_row5_col6, #T_a1a2f_row5_col8, #T_a1a2f_row5_col9, #T_a1a2f_row6_col5, #T_a1a2f_row6_col6, #T_a1a2f_row6_col8, #T_a1a2f_row7_col1, #T_a1a2f_row7_col2, #T_a1a2f_row7_col5, #T_a1a2f_row7_col6, #T_a1a2f_row7_col8, #T_a1a2f_row7_col9, #T_a1a2f_row8_col1, #T_a1a2f_row8_col5, #T_a1a2f_row8_col6, #T_a1a2f_row9_col1, #T_a1a2f_row9_col5, #T_a1a2f_row9_col6, #T_a1a2f_row10_col1, #T_a1a2f_row10_col2, #T_a1a2f_row10_col5, #T_a1a2f_row10_col6, #T_a1a2f_row10_col8, #T_a1a2f_row10_col9, #T_a1a2f_row11_col1, #T_a1a2f_row11_col2, #T_a1a2f_row11_col4, #T_a1a2f_row12_col1, #T_a1a2f_row12_col2, #T_a1a2f_row12_col4, #T_a1a2f_row12_col5, #T_a1a2f_row12_col6, #T_a1a2f_row12_col8, #T_a1a2f_row12_col9, #T_a1a2f_row13_col1, #T_a1a2f_row13_col2, #T_a1a2f_row13_col4, #T_a1a2f_row13_col5, #T_a1a2f_row13_col6, #T_a1a2f_row13_col8, #T_a1a2f_row13_col9, #T_a1a2f_row14_col1, #T_a1a2f_row14_col2, #T_a1a2f_row15_col1, #T_a1a2f_row15_col5, #T_a1a2f_row15_col6, #T_a1a2f_row15_col8, #T_a1a2f_row15_col9, #T_a1a2f_row16_col1, #T_a1a2f_row16_col2, #T_a1a2f_row16_col4, #T_a1a2f_row16_col6, #T_a1a2f_row16_col7, #T_a1a2f_row16_col9, #T_a1a2f_row17_col2, #T_a1a2f_row17_col4, #T_a1a2f_row17_col6, #T_a1a2f_row17_col7, #T_a1a2f_row18_col2, #T_a1a2f_row18_col4, #T_a1a2f_row18_col5, #T_a1a2f_row18_col6, #T_a1a2f_row18_col7, #T_a1a2f_row18_col8, #T_a1a2f_row19_col1, #T_a1a2f_row19_col2, #T_a1a2f_row19_col4, #T_a1a2f_row19_col5, #T_a1a2f_row19_col6, #T_a1a2f_row19_col7, #T_a1a2f_row19_col8, #T_a1a2f_row19_col9, #T_a1a2f_row20_col1, #T_a1a2f_row20_col2, #T_a1a2f_row20_col4, #T_a1a2f_row20_col5, #T_a1a2f_row20_col6, #T_a1a2f_row20_col7, #T_a1a2f_row20_col8, #T_a1a2f_row20_col9, #T_a1a2f_row21_col1, #T_a1a2f_row21_col2, #T_a1a2f_row21_col4, #T_a1a2f_row21_col5, #T_a1a2f_row21_col6, #T_a1a2f_row21_col7, #T_a1a2f_row21_col8, #T_a1a2f_row21_col9, #T_a1a2f_row22_col1, #T_a1a2f_row22_col5, #T_a1a2f_row22_col7, #T_a1a2f_row23_col1, #T_a1a2f_row23_col5, #T_a1a2f_row23_col7, #T_a1a2f_row24_col6, #T_a1a2f_row24_col7, #T_a1a2f_row25_col1, #T_a1a2f_row25_col5, #T_a1a2f_row26_col1, #T_a1a2f_row26_col2, #T_a1a2f_row26_col5, #T_a1a2f_row26_col6, #T_a1a2f_row26_col7, #T_a1a2f_row26_col8, #T_a1a2f_row26_col9, #T_a1a2f_row27_col1, #T_a1a2f_row27_col2, #T_a1a2f_row27_col7, #T_a1a2f_row28_col1, #T_a1a2f_row28_col2, #T_a1a2f_row28_col7, #T_a1a2f_row29_col3, #T_a1a2f_row29_col5, #T_a1a2f_row29_col6, #T_a1a2f_row29_col9, #T_a1a2f_row30_col3, #T_a1a2f_row31_col3, #T_a1a2f_row31_col5, #T_a1a2f_row31_col6, #T_a1a2f_row31_col8, #T_a1a2f_row31_col9, #T_a1a2f_row32_col3, #T_a1a2f_row34_col5, #T_a1a2f_row35_col3, #T_a1a2f_row35_col5, #T_a1a2f_row35_col6, #T_a1a2f_row35_col9, #T_a1a2f_row38_col5, #T_a1a2f_row39_col3, #T_a1a2f_row39_col5, #T_a1a2f_row40_col3, #T_a1a2f_row40_col5, #T_a1a2f_row40_col6, #T_a1a2f_row40_col8, #T_a1a2f_row40_col9, #T_a1a2f_row41_col3, #T_a1a2f_row41_col5, #T_a1a2f_row41_col6, #T_a1a2f_row41_col8, #T_a1a2f_row41_col9, #T_a1a2f_row42_col3, #T_a1a2f_row42_col5, #T_a1a2f_row42_col6, #T_a1a2f_row42_col8, #T_a1a2f_row42_col9, #T_a1a2f_row43_col3, #T_a1a2f_row44_col3, #T_a1a2f_row45_col3, #T_a1a2f_row45_col5, #T_a1a2f_row45_col6, #T_a1a2f_row45_col9, #T_a1a2f_row46_col3, #T_a1a2f_row48_col5, #T_a1a2f_row48_col6, #T_a1a2f_row49_col3, #T_a1a2f_row50_col3, #T_a1a2f_row50_col5, #T_a1a2f_row51_col3, #T_a1a2f_row54_col3, #T_a1a2f_row54_col5, #T_a1a2f_row55_col3, #T_a1a2f_row55_col5, #T_a1a2f_row56_col3, #T_a1a2f_row56_col5, #T_a1a2f_row56_col6, #T_a1a2f_row56_col9, #T_a1a2f_row57_col3, #T_a1a2f_row58_col3, #T_a1a2f_row58_col5, #T_a1a2f_row58_col6, #T_a1a2f_row58_col8, #T_a1a2f_row58_col9, #T_a1a2f_row59_col3, #T_a1a2f_row59_col5, #T_a1a2f_row59_col6, #T_a1a2f_row59_col8, #T_a1a2f_row59_col9, #T_a1a2f_row60_col3, #T_a1a2f_row61_col3, #T_a1a2f_row62_col3, #T_a1a2f_row62_col5, #T_a1a2f_row62_col6, #T_a1a2f_row62_col7, #T_a1a2f_row62_col8, #T_a1a2f_row62_col9, #T_a1a2f_row63_col3, #T_a1a2f_row63_col7, #T_a1a2f_row64_col3, #T_a1a2f_row64_col7 {\n",
       "  background-color: #99FF99;\n",
       "}\n",
       "</style>\n",
       "<table id=\"T_a1a2f\">\n",
       "  <thead>\n",
       "    <tr>\n",
       "      <th class=\"blank level0\" >&nbsp;</th>\n",
       "      <th id=\"T_a1a2f_level0_col0\" class=\"col_heading level0 col0\" >Variable</th>\n",
       "      <th id=\"T_a1a2f_level0_col1\" class=\"col_heading level0 col1\" >Spearman</th>\n",
       "      <th id=\"T_a1a2f_level0_col2\" class=\"col_heading level0 col2\" >ANOVA</th>\n",
       "      <th id=\"T_a1a2f_level0_col3\" class=\"col_heading level0 col3\" >Chi-Square</th>\n",
       "      <th id=\"T_a1a2f_level0_col4\" class=\"col_heading level0 col4\" >Point Biserial</th>\n",
       "      <th id=\"T_a1a2f_level0_col5\" class=\"col_heading level0 col5\" >RFE - LogReg</th>\n",
       "      <th id=\"T_a1a2f_level0_col6\" class=\"col_heading level0 col6\" >RFE - LinSVM</th>\n",
       "      <th id=\"T_a1a2f_level0_col7\" class=\"col_heading level0 col7\" >Random Forest</th>\n",
       "      <th id=\"T_a1a2f_level0_col8\" class=\"col_heading level0 col8\" >LASSO</th>\n",
       "      <th id=\"T_a1a2f_level0_col9\" class=\"col_heading level0 col9\" >Decision</th>\n",
       "    </tr>\n",
       "  </thead>\n",
       "  <tbody>\n",
       "    <tr>\n",
       "      <th id=\"T_a1a2f_level0_row0\" class=\"row_heading level0 row0\" >1</th>\n",
       "      <td id=\"T_a1a2f_row0_col0\" class=\"data row0 col0\" >Prop_Finished_Programs</td>\n",
       "      <td id=\"T_a1a2f_row0_col1\" class=\"data row0 col1\" >Discard</td>\n",
       "      <td id=\"T_a1a2f_row0_col2\" class=\"data row0 col2\" >Discard</td>\n",
       "      <td id=\"T_a1a2f_row0_col3\" class=\"data row0 col3\" >-</td>\n",
       "      <td id=\"T_a1a2f_row0_col4\" class=\"data row0 col4\" >Discard</td>\n",
       "      <td id=\"T_a1a2f_row0_col5\" class=\"data row0 col5\" >Keep</td>\n",
       "      <td id=\"T_a1a2f_row0_col6\" class=\"data row0 col6\" >Keep</td>\n",
       "      <td id=\"T_a1a2f_row0_col7\" class=\"data row0 col7\" >Discard</td>\n",
       "      <td id=\"T_a1a2f_row0_col8\" class=\"data row0 col8\" >Keep</td>\n",
       "      <td id=\"T_a1a2f_row0_col9\" class=\"data row0 col9\" >Discard</td>\n",
       "    </tr>\n",
       "    <tr>\n",
       "      <th id=\"T_a1a2f_level0_row1\" class=\"row_heading level0 row1\" >2</th>\n",
       "      <td id=\"T_a1a2f_row1_col0\" class=\"data row1 col0\" >NumberAcademicExperiences</td>\n",
       "      <td id=\"T_a1a2f_row1_col1\" class=\"data row1 col1\" >Keep</td>\n",
       "      <td id=\"T_a1a2f_row1_col2\" class=\"data row1 col2\" >Keep</td>\n",
       "      <td id=\"T_a1a2f_row1_col3\" class=\"data row1 col3\" >-</td>\n",
       "      <td id=\"T_a1a2f_row1_col4\" class=\"data row1 col4\" >Discard</td>\n",
       "      <td id=\"T_a1a2f_row1_col5\" class=\"data row1 col5\" >Keep</td>\n",
       "      <td id=\"T_a1a2f_row1_col6\" class=\"data row1 col6\" >Keep</td>\n",
       "      <td id=\"T_a1a2f_row1_col7\" class=\"data row1 col7\" >Discard</td>\n",
       "      <td id=\"T_a1a2f_row1_col8\" class=\"data row1 col8\" >Keep</td>\n",
       "      <td id=\"T_a1a2f_row1_col9\" class=\"data row1 col9\" >Keep</td>\n",
       "    </tr>\n",
       "    <tr>\n",
       "      <th id=\"T_a1a2f_level0_row2\" class=\"row_heading level0 row2\" >3</th>\n",
       "      <td id=\"T_a1a2f_row2_col0\" class=\"data row2 col0\" >NumberAcademicDegrees</td>\n",
       "      <td id=\"T_a1a2f_row2_col1\" class=\"data row2 col1\" >Discard</td>\n",
       "      <td id=\"T_a1a2f_row2_col2\" class=\"data row2 col2\" >Discard</td>\n",
       "      <td id=\"T_a1a2f_row2_col3\" class=\"data row2 col3\" >-</td>\n",
       "      <td id=\"T_a1a2f_row2_col4\" class=\"data row2 col4\" >Discard</td>\n",
       "      <td id=\"T_a1a2f_row2_col5\" class=\"data row2 col5\" >Keep</td>\n",
       "      <td id=\"T_a1a2f_row2_col6\" class=\"data row2 col6\" >Keep</td>\n",
       "      <td id=\"T_a1a2f_row2_col7\" class=\"data row2 col7\" >Discard</td>\n",
       "      <td id=\"T_a1a2f_row2_col8\" class=\"data row2 col8\" >Keep</td>\n",
       "      <td id=\"T_a1a2f_row2_col9\" class=\"data row2 col9\" >Discard</td>\n",
       "    </tr>\n",
       "    <tr>\n",
       "      <th id=\"T_a1a2f_level0_row3\" class=\"row_heading level0 row3\" >4</th>\n",
       "      <td id=\"T_a1a2f_row3_col0\" class=\"data row3 col0\" >Rank</td>\n",
       "      <td id=\"T_a1a2f_row3_col1\" class=\"data row3 col1\" >Keep</td>\n",
       "      <td id=\"T_a1a2f_row3_col2\" class=\"data row3 col2\" >Keep</td>\n",
       "      <td id=\"T_a1a2f_row3_col3\" class=\"data row3 col3\" >-</td>\n",
       "      <td id=\"T_a1a2f_row3_col4\" class=\"data row3 col4\" >Keep</td>\n",
       "      <td id=\"T_a1a2f_row3_col5\" class=\"data row3 col5\" >Discard</td>\n",
       "      <td id=\"T_a1a2f_row3_col6\" class=\"data row3 col6\" >Discard</td>\n",
       "      <td id=\"T_a1a2f_row3_col7\" class=\"data row3 col7\" >Discard</td>\n",
       "      <td id=\"T_a1a2f_row3_col8\" class=\"data row3 col8\" >Discard</td>\n",
       "      <td id=\"T_a1a2f_row3_col9\" class=\"data row3 col9\" >Keep*</td>\n",
       "    </tr>\n",
       "    <tr>\n",
       "      <th id=\"T_a1a2f_level0_row4\" class=\"row_heading level0 row4\" >5</th>\n",
       "      <td id=\"T_a1a2f_row4_col0\" class=\"data row4 col0\" >Student Population</td>\n",
       "      <td id=\"T_a1a2f_row4_col1\" class=\"data row4 col1\" >Keep</td>\n",
       "      <td id=\"T_a1a2f_row4_col2\" class=\"data row4 col2\" >Keep</td>\n",
       "      <td id=\"T_a1a2f_row4_col3\" class=\"data row4 col3\" >-</td>\n",
       "      <td id=\"T_a1a2f_row4_col4\" class=\"data row4 col4\" >Keep</td>\n",
       "      <td id=\"T_a1a2f_row4_col5\" class=\"data row4 col5\" >Discard</td>\n",
       "      <td id=\"T_a1a2f_row4_col6\" class=\"data row4 col6\" >Discard</td>\n",
       "      <td id=\"T_a1a2f_row4_col7\" class=\"data row4 col7\" >Discard</td>\n",
       "      <td id=\"T_a1a2f_row4_col8\" class=\"data row4 col8\" >Discard</td>\n",
       "      <td id=\"T_a1a2f_row4_col9\" class=\"data row4 col9\" >Discard</td>\n",
       "    </tr>\n",
       "    <tr>\n",
       "      <th id=\"T_a1a2f_level0_row5\" class=\"row_heading level0 row5\" >6</th>\n",
       "      <td id=\"T_a1a2f_row5_col0\" class=\"data row5 col0\" >Students to Staff Ratio</td>\n",
       "      <td id=\"T_a1a2f_row5_col1\" class=\"data row5 col1\" >Keep</td>\n",
       "      <td id=\"T_a1a2f_row5_col2\" class=\"data row5 col2\" >Keep</td>\n",
       "      <td id=\"T_a1a2f_row5_col3\" class=\"data row5 col3\" >-</td>\n",
       "      <td id=\"T_a1a2f_row5_col4\" class=\"data row5 col4\" >Keep</td>\n",
       "      <td id=\"T_a1a2f_row5_col5\" class=\"data row5 col5\" >Keep</td>\n",
       "      <td id=\"T_a1a2f_row5_col6\" class=\"data row5 col6\" >Keep</td>\n",
       "      <td id=\"T_a1a2f_row5_col7\" class=\"data row5 col7\" >Discard</td>\n",
       "      <td id=\"T_a1a2f_row5_col8\" class=\"data row5 col8\" >Keep</td>\n",
       "      <td id=\"T_a1a2f_row5_col9\" class=\"data row5 col9\" >Keep</td>\n",
       "    </tr>\n",
       "    <tr>\n",
       "      <th id=\"T_a1a2f_level0_row6\" class=\"row_heading level0 row6\" >7</th>\n",
       "      <td id=\"T_a1a2f_row6_col0\" class=\"data row6 col0\" >Overall Score</td>\n",
       "      <td id=\"T_a1a2f_row6_col1\" class=\"data row6 col1\" >Discard</td>\n",
       "      <td id=\"T_a1a2f_row6_col2\" class=\"data row6 col2\" >Discard</td>\n",
       "      <td id=\"T_a1a2f_row6_col3\" class=\"data row6 col3\" >-</td>\n",
       "      <td id=\"T_a1a2f_row6_col4\" class=\"data row6 col4\" >Discard</td>\n",
       "      <td id=\"T_a1a2f_row6_col5\" class=\"data row6 col5\" >Keep</td>\n",
       "      <td id=\"T_a1a2f_row6_col6\" class=\"data row6 col6\" >Keep</td>\n",
       "      <td id=\"T_a1a2f_row6_col7\" class=\"data row6 col7\" >Discard</td>\n",
       "      <td id=\"T_a1a2f_row6_col8\" class=\"data row6 col8\" >Keep</td>\n",
       "      <td id=\"T_a1a2f_row6_col9\" class=\"data row6 col9\" >Discard</td>\n",
       "    </tr>\n",
       "    <tr>\n",
       "      <th id=\"T_a1a2f_level0_row7\" class=\"row_heading level0 row7\" >8</th>\n",
       "      <td id=\"T_a1a2f_row7_col0\" class=\"data row7 col0\" >Teaching</td>\n",
       "      <td id=\"T_a1a2f_row7_col1\" class=\"data row7 col1\" >Keep</td>\n",
       "      <td id=\"T_a1a2f_row7_col2\" class=\"data row7 col2\" >Keep</td>\n",
       "      <td id=\"T_a1a2f_row7_col3\" class=\"data row7 col3\" >-</td>\n",
       "      <td id=\"T_a1a2f_row7_col4\" class=\"data row7 col4\" >Discard</td>\n",
       "      <td id=\"T_a1a2f_row7_col5\" class=\"data row7 col5\" >Keep</td>\n",
       "      <td id=\"T_a1a2f_row7_col6\" class=\"data row7 col6\" >Keep</td>\n",
       "      <td id=\"T_a1a2f_row7_col7\" class=\"data row7 col7\" >Discard</td>\n",
       "      <td id=\"T_a1a2f_row7_col8\" class=\"data row7 col8\" >Keep</td>\n",
       "      <td id=\"T_a1a2f_row7_col9\" class=\"data row7 col9\" >Keep</td>\n",
       "    </tr>\n",
       "    <tr>\n",
       "      <th id=\"T_a1a2f_level0_row8\" class=\"row_heading level0 row8\" >9</th>\n",
       "      <td id=\"T_a1a2f_row8_col0\" class=\"data row8 col0\" >Research Environment</td>\n",
       "      <td id=\"T_a1a2f_row8_col1\" class=\"data row8 col1\" >Keep</td>\n",
       "      <td id=\"T_a1a2f_row8_col2\" class=\"data row8 col2\" >Discard</td>\n",
       "      <td id=\"T_a1a2f_row8_col3\" class=\"data row8 col3\" >-</td>\n",
       "      <td id=\"T_a1a2f_row8_col4\" class=\"data row8 col4\" >Discard</td>\n",
       "      <td id=\"T_a1a2f_row8_col5\" class=\"data row8 col5\" >Keep</td>\n",
       "      <td id=\"T_a1a2f_row8_col6\" class=\"data row8 col6\" >Keep</td>\n",
       "      <td id=\"T_a1a2f_row8_col7\" class=\"data row8 col7\" >Discard</td>\n",
       "      <td id=\"T_a1a2f_row8_col8\" class=\"data row8 col8\" >Discard</td>\n",
       "      <td id=\"T_a1a2f_row8_col9\" class=\"data row8 col9\" >Discard</td>\n",
       "    </tr>\n",
       "    <tr>\n",
       "      <th id=\"T_a1a2f_level0_row9\" class=\"row_heading level0 row9\" >10</th>\n",
       "      <td id=\"T_a1a2f_row9_col0\" class=\"data row9 col0\" >Research Quality</td>\n",
       "      <td id=\"T_a1a2f_row9_col1\" class=\"data row9 col1\" >Keep</td>\n",
       "      <td id=\"T_a1a2f_row9_col2\" class=\"data row9 col2\" >Discard</td>\n",
       "      <td id=\"T_a1a2f_row9_col3\" class=\"data row9 col3\" >-</td>\n",
       "      <td id=\"T_a1a2f_row9_col4\" class=\"data row9 col4\" >Discard</td>\n",
       "      <td id=\"T_a1a2f_row9_col5\" class=\"data row9 col5\" >Keep</td>\n",
       "      <td id=\"T_a1a2f_row9_col6\" class=\"data row9 col6\" >Keep</td>\n",
       "      <td id=\"T_a1a2f_row9_col7\" class=\"data row9 col7\" >Discard</td>\n",
       "      <td id=\"T_a1a2f_row9_col8\" class=\"data row9 col8\" >Discard</td>\n",
       "      <td id=\"T_a1a2f_row9_col9\" class=\"data row9 col9\" >Discard</td>\n",
       "    </tr>\n",
       "    <tr>\n",
       "      <th id=\"T_a1a2f_level0_row10\" class=\"row_heading level0 row10\" >11</th>\n",
       "      <td id=\"T_a1a2f_row10_col0\" class=\"data row10 col0\" >Industry Impact</td>\n",
       "      <td id=\"T_a1a2f_row10_col1\" class=\"data row10 col1\" >Keep</td>\n",
       "      <td id=\"T_a1a2f_row10_col2\" class=\"data row10 col2\" >Keep</td>\n",
       "      <td id=\"T_a1a2f_row10_col3\" class=\"data row10 col3\" >-</td>\n",
       "      <td id=\"T_a1a2f_row10_col4\" class=\"data row10 col4\" >Discard</td>\n",
       "      <td id=\"T_a1a2f_row10_col5\" class=\"data row10 col5\" >Keep</td>\n",
       "      <td id=\"T_a1a2f_row10_col6\" class=\"data row10 col6\" >Keep</td>\n",
       "      <td id=\"T_a1a2f_row10_col7\" class=\"data row10 col7\" >Discard</td>\n",
       "      <td id=\"T_a1a2f_row10_col8\" class=\"data row10 col8\" >Keep</td>\n",
       "      <td id=\"T_a1a2f_row10_col9\" class=\"data row10 col9\" >Keep</td>\n",
       "    </tr>\n",
       "    <tr>\n",
       "      <th id=\"T_a1a2f_level0_row11\" class=\"row_heading level0 row11\" >12</th>\n",
       "      <td id=\"T_a1a2f_row11_col0\" class=\"data row11 col0\" >International Outlook</td>\n",
       "      <td id=\"T_a1a2f_row11_col1\" class=\"data row11 col1\" >Keep</td>\n",
       "      <td id=\"T_a1a2f_row11_col2\" class=\"data row11 col2\" >Keep</td>\n",
       "      <td id=\"T_a1a2f_row11_col3\" class=\"data row11 col3\" >-</td>\n",
       "      <td id=\"T_a1a2f_row11_col4\" class=\"data row11 col4\" >Keep</td>\n",
       "      <td id=\"T_a1a2f_row11_col5\" class=\"data row11 col5\" >Discard</td>\n",
       "      <td id=\"T_a1a2f_row11_col6\" class=\"data row11 col6\" >Discard</td>\n",
       "      <td id=\"T_a1a2f_row11_col7\" class=\"data row11 col7\" >Discard</td>\n",
       "      <td id=\"T_a1a2f_row11_col8\" class=\"data row11 col8\" >Discard</td>\n",
       "      <td id=\"T_a1a2f_row11_col9\" class=\"data row11 col9\" >Discard</td>\n",
       "    </tr>\n",
       "    <tr>\n",
       "      <th id=\"T_a1a2f_level0_row12\" class=\"row_heading level0 row12\" >13</th>\n",
       "      <td id=\"T_a1a2f_row12_col0\" class=\"data row12 col0\" >Percentage_International_Students</td>\n",
       "      <td id=\"T_a1a2f_row12_col1\" class=\"data row12 col1\" >Keep</td>\n",
       "      <td id=\"T_a1a2f_row12_col2\" class=\"data row12 col2\" >Keep</td>\n",
       "      <td id=\"T_a1a2f_row12_col3\" class=\"data row12 col3\" >-</td>\n",
       "      <td id=\"T_a1a2f_row12_col4\" class=\"data row12 col4\" >Keep</td>\n",
       "      <td id=\"T_a1a2f_row12_col5\" class=\"data row12 col5\" >Keep</td>\n",
       "      <td id=\"T_a1a2f_row12_col6\" class=\"data row12 col6\" >Keep</td>\n",
       "      <td id=\"T_a1a2f_row12_col7\" class=\"data row12 col7\" >Discard</td>\n",
       "      <td id=\"T_a1a2f_row12_col8\" class=\"data row12 col8\" >Keep</td>\n",
       "      <td id=\"T_a1a2f_row12_col9\" class=\"data row12 col9\" >Keep</td>\n",
       "    </tr>\n",
       "    <tr>\n",
       "      <th id=\"T_a1a2f_level0_row13\" class=\"row_heading level0 row13\" >14</th>\n",
       "      <td id=\"T_a1a2f_row13_col0\" class=\"data row13 col0\" >Percentage_Female_Students</td>\n",
       "      <td id=\"T_a1a2f_row13_col1\" class=\"data row13 col1\" >Keep</td>\n",
       "      <td id=\"T_a1a2f_row13_col2\" class=\"data row13 col2\" >Keep</td>\n",
       "      <td id=\"T_a1a2f_row13_col3\" class=\"data row13 col3\" >-</td>\n",
       "      <td id=\"T_a1a2f_row13_col4\" class=\"data row13 col4\" >Keep</td>\n",
       "      <td id=\"T_a1a2f_row13_col5\" class=\"data row13 col5\" >Keep</td>\n",
       "      <td id=\"T_a1a2f_row13_col6\" class=\"data row13 col6\" >Keep</td>\n",
       "      <td id=\"T_a1a2f_row13_col7\" class=\"data row13 col7\" >Discard</td>\n",
       "      <td id=\"T_a1a2f_row13_col8\" class=\"data row13 col8\" >Keep</td>\n",
       "      <td id=\"T_a1a2f_row13_col9\" class=\"data row13 col9\" >Keep</td>\n",
       "    </tr>\n",
       "    <tr>\n",
       "      <th id=\"T_a1a2f_level0_row14\" class=\"row_heading level0 row14\" >15</th>\n",
       "      <td id=\"T_a1a2f_row14_col0\" class=\"data row14 col0\" >Number_Studied_Fields</td>\n",
       "      <td id=\"T_a1a2f_row14_col1\" class=\"data row14 col1\" >Keep</td>\n",
       "      <td id=\"T_a1a2f_row14_col2\" class=\"data row14 col2\" >Keep</td>\n",
       "      <td id=\"T_a1a2f_row14_col3\" class=\"data row14 col3\" >-</td>\n",
       "      <td id=\"T_a1a2f_row14_col4\" class=\"data row14 col4\" >Discard</td>\n",
       "      <td id=\"T_a1a2f_row14_col5\" class=\"data row14 col5\" >Discard</td>\n",
       "      <td id=\"T_a1a2f_row14_col6\" class=\"data row14 col6\" >Discard</td>\n",
       "      <td id=\"T_a1a2f_row14_col7\" class=\"data row14 col7\" >Discard</td>\n",
       "      <td id=\"T_a1a2f_row14_col8\" class=\"data row14 col8\" >Discard</td>\n",
       "      <td id=\"T_a1a2f_row14_col9\" class=\"data row14 col9\" >Discard</td>\n",
       "    </tr>\n",
       "    <tr>\n",
       "      <th id=\"T_a1a2f_level0_row15\" class=\"row_heading level0 row15\" >16</th>\n",
       "      <td id=\"T_a1a2f_row15_col0\" class=\"data row15 col0\" >Non_Finished_Programs</td>\n",
       "      <td id=\"T_a1a2f_row15_col1\" class=\"data row15 col1\" >Keep</td>\n",
       "      <td id=\"T_a1a2f_row15_col2\" class=\"data row15 col2\" >Discard</td>\n",
       "      <td id=\"T_a1a2f_row15_col3\" class=\"data row15 col3\" >-</td>\n",
       "      <td id=\"T_a1a2f_row15_col4\" class=\"data row15 col4\" >Discard</td>\n",
       "      <td id=\"T_a1a2f_row15_col5\" class=\"data row15 col5\" >Keep</td>\n",
       "      <td id=\"T_a1a2f_row15_col6\" class=\"data row15 col6\" >Keep</td>\n",
       "      <td id=\"T_a1a2f_row15_col7\" class=\"data row15 col7\" >Discard</td>\n",
       "      <td id=\"T_a1a2f_row15_col8\" class=\"data row15 col8\" >Keep</td>\n",
       "      <td id=\"T_a1a2f_row15_col9\" class=\"data row15 col9\" >Keep</td>\n",
       "    </tr>\n",
       "    <tr>\n",
       "      <th id=\"T_a1a2f_level0_row16\" class=\"row_heading level0 row16\" >17</th>\n",
       "      <td id=\"T_a1a2f_row16_col0\" class=\"data row16 col0\" >AverageScaledGrade</td>\n",
       "      <td id=\"T_a1a2f_row16_col1\" class=\"data row16 col1\" >Keep</td>\n",
       "      <td id=\"T_a1a2f_row16_col2\" class=\"data row16 col2\" >Keep</td>\n",
       "      <td id=\"T_a1a2f_row16_col3\" class=\"data row16 col3\" >-</td>\n",
       "      <td id=\"T_a1a2f_row16_col4\" class=\"data row16 col4\" >Keep</td>\n",
       "      <td id=\"T_a1a2f_row16_col5\" class=\"data row16 col5\" >Discard</td>\n",
       "      <td id=\"T_a1a2f_row16_col6\" class=\"data row16 col6\" >Keep</td>\n",
       "      <td id=\"T_a1a2f_row16_col7\" class=\"data row16 col7\" >Keep</td>\n",
       "      <td id=\"T_a1a2f_row16_col8\" class=\"data row16 col8\" >Discard</td>\n",
       "      <td id=\"T_a1a2f_row16_col9\" class=\"data row16 col9\" >Keep</td>\n",
       "    </tr>\n",
       "    <tr>\n",
       "      <th id=\"T_a1a2f_level0_row17\" class=\"row_heading level0 row17\" >18</th>\n",
       "      <td id=\"T_a1a2f_row17_col0\" class=\"data row17 col0\" >MaxScaledGrade</td>\n",
       "      <td id=\"T_a1a2f_row17_col1\" class=\"data row17 col1\" >Discard</td>\n",
       "      <td id=\"T_a1a2f_row17_col2\" class=\"data row17 col2\" >Keep</td>\n",
       "      <td id=\"T_a1a2f_row17_col3\" class=\"data row17 col3\" >-</td>\n",
       "      <td id=\"T_a1a2f_row17_col4\" class=\"data row17 col4\" >Keep</td>\n",
       "      <td id=\"T_a1a2f_row17_col5\" class=\"data row17 col5\" >Discard</td>\n",
       "      <td id=\"T_a1a2f_row17_col6\" class=\"data row17 col6\" >Keep</td>\n",
       "      <td id=\"T_a1a2f_row17_col7\" class=\"data row17 col7\" >Keep</td>\n",
       "      <td id=\"T_a1a2f_row17_col8\" class=\"data row17 col8\" >Discard</td>\n",
       "      <td id=\"T_a1a2f_row17_col9\" class=\"data row17 col9\" >Discard*</td>\n",
       "    </tr>\n",
       "    <tr>\n",
       "      <th id=\"T_a1a2f_level0_row18\" class=\"row_heading level0 row18\" >19</th>\n",
       "      <td id=\"T_a1a2f_row18_col0\" class=\"data row18 col0\" >MinScaledGrade</td>\n",
       "      <td id=\"T_a1a2f_row18_col1\" class=\"data row18 col1\" >Discard</td>\n",
       "      <td id=\"T_a1a2f_row18_col2\" class=\"data row18 col2\" >Keep</td>\n",
       "      <td id=\"T_a1a2f_row18_col3\" class=\"data row18 col3\" >-</td>\n",
       "      <td id=\"T_a1a2f_row18_col4\" class=\"data row18 col4\" >Keep</td>\n",
       "      <td id=\"T_a1a2f_row18_col5\" class=\"data row18 col5\" >Keep</td>\n",
       "      <td id=\"T_a1a2f_row18_col6\" class=\"data row18 col6\" >Keep</td>\n",
       "      <td id=\"T_a1a2f_row18_col7\" class=\"data row18 col7\" >Keep</td>\n",
       "      <td id=\"T_a1a2f_row18_col8\" class=\"data row18 col8\" >Keep</td>\n",
       "      <td id=\"T_a1a2f_row18_col9\" class=\"data row18 col9\" >Discard*</td>\n",
       "    </tr>\n",
       "    <tr>\n",
       "      <th id=\"T_a1a2f_level0_row19\" class=\"row_heading level0 row19\" >20</th>\n",
       "      <td id=\"T_a1a2f_row19_col0\" class=\"data row19 col0\" >countries_dist</td>\n",
       "      <td id=\"T_a1a2f_row19_col1\" class=\"data row19 col1\" >Keep</td>\n",
       "      <td id=\"T_a1a2f_row19_col2\" class=\"data row19 col2\" >Keep</td>\n",
       "      <td id=\"T_a1a2f_row19_col3\" class=\"data row19 col3\" >-</td>\n",
       "      <td id=\"T_a1a2f_row19_col4\" class=\"data row19 col4\" >Keep</td>\n",
       "      <td id=\"T_a1a2f_row19_col5\" class=\"data row19 col5\" >Keep</td>\n",
       "      <td id=\"T_a1a2f_row19_col6\" class=\"data row19 col6\" >Keep</td>\n",
       "      <td id=\"T_a1a2f_row19_col7\" class=\"data row19 col7\" >Keep</td>\n",
       "      <td id=\"T_a1a2f_row19_col8\" class=\"data row19 col8\" >Keep</td>\n",
       "      <td id=\"T_a1a2f_row19_col9\" class=\"data row19 col9\" >Keep</td>\n",
       "    </tr>\n",
       "    <tr>\n",
       "      <th id=\"T_a1a2f_level0_row20\" class=\"row_heading level0 row20\" >21</th>\n",
       "      <td id=\"T_a1a2f_row20_col0\" class=\"data row20 col0\" >countries_GDP_per_capita</td>\n",
       "      <td id=\"T_a1a2f_row20_col1\" class=\"data row20 col1\" >Keep</td>\n",
       "      <td id=\"T_a1a2f_row20_col2\" class=\"data row20 col2\" >Keep</td>\n",
       "      <td id=\"T_a1a2f_row20_col3\" class=\"data row20 col3\" >-</td>\n",
       "      <td id=\"T_a1a2f_row20_col4\" class=\"data row20 col4\" >Keep</td>\n",
       "      <td id=\"T_a1a2f_row20_col5\" class=\"data row20 col5\" >Keep</td>\n",
       "      <td id=\"T_a1a2f_row20_col6\" class=\"data row20 col6\" >Keep</td>\n",
       "      <td id=\"T_a1a2f_row20_col7\" class=\"data row20 col7\" >Keep</td>\n",
       "      <td id=\"T_a1a2f_row20_col8\" class=\"data row20 col8\" >Keep</td>\n",
       "      <td id=\"T_a1a2f_row20_col9\" class=\"data row20 col9\" >Keep</td>\n",
       "    </tr>\n",
       "    <tr>\n",
       "      <th id=\"T_a1a2f_level0_row21\" class=\"row_heading level0 row21\" >22</th>\n",
       "      <td id=\"T_a1a2f_row21_col0\" class=\"data row21 col0\" >Program_Name</td>\n",
       "      <td id=\"T_a1a2f_row21_col1\" class=\"data row21 col1\" >Keep</td>\n",
       "      <td id=\"T_a1a2f_row21_col2\" class=\"data row21 col2\" >Keep</td>\n",
       "      <td id=\"T_a1a2f_row21_col3\" class=\"data row21 col3\" >-</td>\n",
       "      <td id=\"T_a1a2f_row21_col4\" class=\"data row21 col4\" >Keep</td>\n",
       "      <td id=\"T_a1a2f_row21_col5\" class=\"data row21 col5\" >Keep</td>\n",
       "      <td id=\"T_a1a2f_row21_col6\" class=\"data row21 col6\" >Keep</td>\n",
       "      <td id=\"T_a1a2f_row21_col7\" class=\"data row21 col7\" >Keep</td>\n",
       "      <td id=\"T_a1a2f_row21_col8\" class=\"data row21 col8\" >Keep</td>\n",
       "      <td id=\"T_a1a2f_row21_col9\" class=\"data row21 col9\" >Keep</td>\n",
       "    </tr>\n",
       "    <tr>\n",
       "      <th id=\"T_a1a2f_level0_row22\" class=\"row_heading level0 row22\" >23</th>\n",
       "      <td id=\"T_a1a2f_row22_col0\" class=\"data row22 col0\" >Number_Professional_Experiences</td>\n",
       "      <td id=\"T_a1a2f_row22_col1\" class=\"data row22 col1\" >Keep</td>\n",
       "      <td id=\"T_a1a2f_row22_col2\" class=\"data row22 col2\" >Discard</td>\n",
       "      <td id=\"T_a1a2f_row22_col3\" class=\"data row22 col3\" >-</td>\n",
       "      <td id=\"T_a1a2f_row22_col4\" class=\"data row22 col4\" >Discard</td>\n",
       "      <td id=\"T_a1a2f_row22_col5\" class=\"data row22 col5\" >Keep</td>\n",
       "      <td id=\"T_a1a2f_row22_col6\" class=\"data row22 col6\" >Discard</td>\n",
       "      <td id=\"T_a1a2f_row22_col7\" class=\"data row22 col7\" >Keep</td>\n",
       "      <td id=\"T_a1a2f_row22_col8\" class=\"data row22 col8\" >Discard</td>\n",
       "      <td id=\"T_a1a2f_row22_col9\" class=\"data row22 col9\" >Discard</td>\n",
       "    </tr>\n",
       "    <tr>\n",
       "      <th id=\"T_a1a2f_level0_row23\" class=\"row_heading level0 row23\" >24</th>\n",
       "      <td id=\"T_a1a2f_row23_col0\" class=\"data row23 col0\" >Years_of_Experience</td>\n",
       "      <td id=\"T_a1a2f_row23_col1\" class=\"data row23 col1\" >Keep</td>\n",
       "      <td id=\"T_a1a2f_row23_col2\" class=\"data row23 col2\" >Discard</td>\n",
       "      <td id=\"T_a1a2f_row23_col3\" class=\"data row23 col3\" >-</td>\n",
       "      <td id=\"T_a1a2f_row23_col4\" class=\"data row23 col4\" >Discard</td>\n",
       "      <td id=\"T_a1a2f_row23_col5\" class=\"data row23 col5\" >Keep</td>\n",
       "      <td id=\"T_a1a2f_row23_col6\" class=\"data row23 col6\" >Discard</td>\n",
       "      <td id=\"T_a1a2f_row23_col7\" class=\"data row23 col7\" >Keep</td>\n",
       "      <td id=\"T_a1a2f_row23_col8\" class=\"data row23 col8\" >Discard</td>\n",
       "      <td id=\"T_a1a2f_row23_col9\" class=\"data row23 col9\" >Discard</td>\n",
       "    </tr>\n",
       "    <tr>\n",
       "      <th id=\"T_a1a2f_level0_row24\" class=\"row_heading level0 row24\" >25</th>\n",
       "      <td id=\"T_a1a2f_row24_col0\" class=\"data row24 col0\" >Years_of_Longest_Prof_Experience</td>\n",
       "      <td id=\"T_a1a2f_row24_col1\" class=\"data row24 col1\" >Discard</td>\n",
       "      <td id=\"T_a1a2f_row24_col2\" class=\"data row24 col2\" >Discard</td>\n",
       "      <td id=\"T_a1a2f_row24_col3\" class=\"data row24 col3\" >-</td>\n",
       "      <td id=\"T_a1a2f_row24_col4\" class=\"data row24 col4\" >Discard</td>\n",
       "      <td id=\"T_a1a2f_row24_col5\" class=\"data row24 col5\" >Discard</td>\n",
       "      <td id=\"T_a1a2f_row24_col6\" class=\"data row24 col6\" >Keep</td>\n",
       "      <td id=\"T_a1a2f_row24_col7\" class=\"data row24 col7\" >Keep</td>\n",
       "      <td id=\"T_a1a2f_row24_col8\" class=\"data row24 col8\" >Discard</td>\n",
       "      <td id=\"T_a1a2f_row24_col9\" class=\"data row24 col9\" >Discard</td>\n",
       "    </tr>\n",
       "    <tr>\n",
       "      <th id=\"T_a1a2f_level0_row25\" class=\"row_heading level0 row25\" >26</th>\n",
       "      <td id=\"T_a1a2f_row25_col0\" class=\"data row25 col0\" >Number_Fields_Worked</td>\n",
       "      <td id=\"T_a1a2f_row25_col1\" class=\"data row25 col1\" >Keep</td>\n",
       "      <td id=\"T_a1a2f_row25_col2\" class=\"data row25 col2\" >Discard</td>\n",
       "      <td id=\"T_a1a2f_row25_col3\" class=\"data row25 col3\" >-</td>\n",
       "      <td id=\"T_a1a2f_row25_col4\" class=\"data row25 col4\" >Discard</td>\n",
       "      <td id=\"T_a1a2f_row25_col5\" class=\"data row25 col5\" >Keep</td>\n",
       "      <td id=\"T_a1a2f_row25_col6\" class=\"data row25 col6\" >Discard</td>\n",
       "      <td id=\"T_a1a2f_row25_col7\" class=\"data row25 col7\" >Discard</td>\n",
       "      <td id=\"T_a1a2f_row25_col8\" class=\"data row25 col8\" >Discard</td>\n",
       "      <td id=\"T_a1a2f_row25_col9\" class=\"data row25 col9\" >Discard</td>\n",
       "    </tr>\n",
       "    <tr>\n",
       "      <th id=\"T_a1a2f_level0_row26\" class=\"row_heading level0 row26\" >27</th>\n",
       "      <td id=\"T_a1a2f_row26_col0\" class=\"data row26 col0\" >AverageAcademicDegree</td>\n",
       "      <td id=\"T_a1a2f_row26_col1\" class=\"data row26 col1\" >Keep</td>\n",
       "      <td id=\"T_a1a2f_row26_col2\" class=\"data row26 col2\" >Keep</td>\n",
       "      <td id=\"T_a1a2f_row26_col3\" class=\"data row26 col3\" >-</td>\n",
       "      <td id=\"T_a1a2f_row26_col4\" class=\"data row26 col4\" >Discard</td>\n",
       "      <td id=\"T_a1a2f_row26_col5\" class=\"data row26 col5\" >Keep</td>\n",
       "      <td id=\"T_a1a2f_row26_col6\" class=\"data row26 col6\" >Keep</td>\n",
       "      <td id=\"T_a1a2f_row26_col7\" class=\"data row26 col7\" >Keep</td>\n",
       "      <td id=\"T_a1a2f_row26_col8\" class=\"data row26 col8\" >Keep</td>\n",
       "      <td id=\"T_a1a2f_row26_col9\" class=\"data row26 col9\" >Keep</td>\n",
       "    </tr>\n",
       "    <tr>\n",
       "      <th id=\"T_a1a2f_level0_row27\" class=\"row_heading level0 row27\" >28</th>\n",
       "      <td id=\"T_a1a2f_row27_col0\" class=\"data row27 col0\" >datacandidaturafim_day_of_week_sin</td>\n",
       "      <td id=\"T_a1a2f_row27_col1\" class=\"data row27 col1\" >Keep</td>\n",
       "      <td id=\"T_a1a2f_row27_col2\" class=\"data row27 col2\" >Keep</td>\n",
       "      <td id=\"T_a1a2f_row27_col3\" class=\"data row27 col3\" >-</td>\n",
       "      <td id=\"T_a1a2f_row27_col4\" class=\"data row27 col4\" >Discard</td>\n",
       "      <td id=\"T_a1a2f_row27_col5\" class=\"data row27 col5\" >Discard</td>\n",
       "      <td id=\"T_a1a2f_row27_col6\" class=\"data row27 col6\" >Discard</td>\n",
       "      <td id=\"T_a1a2f_row27_col7\" class=\"data row27 col7\" >Keep</td>\n",
       "      <td id=\"T_a1a2f_row27_col8\" class=\"data row27 col8\" >Discard</td>\n",
       "      <td id=\"T_a1a2f_row27_col9\" class=\"data row27 col9\" >Discard</td>\n",
       "    </tr>\n",
       "    <tr>\n",
       "      <th id=\"T_a1a2f_level0_row28\" class=\"row_heading level0 row28\" >29</th>\n",
       "      <td id=\"T_a1a2f_row28_col0\" class=\"data row28 col0\" >datacandidaturafim_day_of_week_cos</td>\n",
       "      <td id=\"T_a1a2f_row28_col1\" class=\"data row28 col1\" >Keep</td>\n",
       "      <td id=\"T_a1a2f_row28_col2\" class=\"data row28 col2\" >Keep</td>\n",
       "      <td id=\"T_a1a2f_row28_col3\" class=\"data row28 col3\" >-</td>\n",
       "      <td id=\"T_a1a2f_row28_col4\" class=\"data row28 col4\" >Discard</td>\n",
       "      <td id=\"T_a1a2f_row28_col5\" class=\"data row28 col5\" >Discard</td>\n",
       "      <td id=\"T_a1a2f_row28_col6\" class=\"data row28 col6\" >Discard</td>\n",
       "      <td id=\"T_a1a2f_row28_col7\" class=\"data row28 col7\" >Keep</td>\n",
       "      <td id=\"T_a1a2f_row28_col8\" class=\"data row28 col8\" >Discard</td>\n",
       "      <td id=\"T_a1a2f_row28_col9\" class=\"data row28 col9\" >Discard</td>\n",
       "    </tr>\n",
       "    <tr>\n",
       "      <th id=\"T_a1a2f_level0_row29\" class=\"row_heading level0 row29\" >30</th>\n",
       "      <td id=\"T_a1a2f_row29_col0\" class=\"data row29 col0\" >dprograma</td>\n",
       "      <td id=\"T_a1a2f_row29_col1\" class=\"data row29 col1\" >-</td>\n",
       "      <td id=\"T_a1a2f_row29_col2\" class=\"data row29 col2\" >-</td>\n",
       "      <td id=\"T_a1a2f_row29_col3\" class=\"data row29 col3\" >Keep</td>\n",
       "      <td id=\"T_a1a2f_row29_col4\" class=\"data row29 col4\" >-</td>\n",
       "      <td id=\"T_a1a2f_row29_col5\" class=\"data row29 col5\" >Keep</td>\n",
       "      <td id=\"T_a1a2f_row29_col6\" class=\"data row29 col6\" >Keep</td>\n",
       "      <td id=\"T_a1a2f_row29_col7\" class=\"data row29 col7\" >Discard</td>\n",
       "      <td id=\"T_a1a2f_row29_col8\" class=\"data row29 col8\" >Discard</td>\n",
       "      <td id=\"T_a1a2f_row29_col9\" class=\"data row29 col9\" >Keep</td>\n",
       "    </tr>\n",
       "    <tr>\n",
       "      <th id=\"T_a1a2f_level0_row30\" class=\"row_heading level0 row30\" >31</th>\n",
       "      <td id=\"T_a1a2f_row30_col0\" class=\"data row30 col0\" >Is_Ranked</td>\n",
       "      <td id=\"T_a1a2f_row30_col1\" class=\"data row30 col1\" >-</td>\n",
       "      <td id=\"T_a1a2f_row30_col2\" class=\"data row30 col2\" >-</td>\n",
       "      <td id=\"T_a1a2f_row30_col3\" class=\"data row30 col3\" >Keep</td>\n",
       "      <td id=\"T_a1a2f_row30_col4\" class=\"data row30 col4\" >-</td>\n",
       "      <td id=\"T_a1a2f_row30_col5\" class=\"data row30 col5\" >Discard</td>\n",
       "      <td id=\"T_a1a2f_row30_col6\" class=\"data row30 col6\" >Discard</td>\n",
       "      <td id=\"T_a1a2f_row30_col7\" class=\"data row30 col7\" >Discard</td>\n",
       "      <td id=\"T_a1a2f_row30_col8\" class=\"data row30 col8\" >Discard</td>\n",
       "      <td id=\"T_a1a2f_row30_col9\" class=\"data row30 col9\" >Discard</td>\n",
       "    </tr>\n",
       "    <tr>\n",
       "      <th id=\"T_a1a2f_level0_row31\" class=\"row_heading level0 row31\" >32</th>\n",
       "      <td id=\"T_a1a2f_row31_col0\" class=\"data row31 col0\" >Previous_IMS_Student</td>\n",
       "      <td id=\"T_a1a2f_row31_col1\" class=\"data row31 col1\" >-</td>\n",
       "      <td id=\"T_a1a2f_row31_col2\" class=\"data row31 col2\" >-</td>\n",
       "      <td id=\"T_a1a2f_row31_col3\" class=\"data row31 col3\" >Keep</td>\n",
       "      <td id=\"T_a1a2f_row31_col4\" class=\"data row31 col4\" >-</td>\n",
       "      <td id=\"T_a1a2f_row31_col5\" class=\"data row31 col5\" >Keep</td>\n",
       "      <td id=\"T_a1a2f_row31_col6\" class=\"data row31 col6\" >Keep</td>\n",
       "      <td id=\"T_a1a2f_row31_col7\" class=\"data row31 col7\" >Discard</td>\n",
       "      <td id=\"T_a1a2f_row31_col8\" class=\"data row31 col8\" >Keep</td>\n",
       "      <td id=\"T_a1a2f_row31_col9\" class=\"data row31 col9\" >Keep</td>\n",
       "    </tr>\n",
       "    <tr>\n",
       "      <th id=\"T_a1a2f_level0_row32\" class=\"row_heading level0 row32\" >33</th>\n",
       "      <td id=\"T_a1a2f_row32_col0\" class=\"data row32 col0\" >Previous_Data_Studies</td>\n",
       "      <td id=\"T_a1a2f_row32_col1\" class=\"data row32 col1\" >-</td>\n",
       "      <td id=\"T_a1a2f_row32_col2\" class=\"data row32 col2\" >-</td>\n",
       "      <td id=\"T_a1a2f_row32_col3\" class=\"data row32 col3\" >Keep</td>\n",
       "      <td id=\"T_a1a2f_row32_col4\" class=\"data row32 col4\" >-</td>\n",
       "      <td id=\"T_a1a2f_row32_col5\" class=\"data row32 col5\" >Discard</td>\n",
       "      <td id=\"T_a1a2f_row32_col6\" class=\"data row32 col6\" >Discard</td>\n",
       "      <td id=\"T_a1a2f_row32_col7\" class=\"data row32 col7\" >Discard</td>\n",
       "      <td id=\"T_a1a2f_row32_col8\" class=\"data row32 col8\" >Discard</td>\n",
       "      <td id=\"T_a1a2f_row32_col9\" class=\"data row32 col9\" >Discard</td>\n",
       "    </tr>\n",
       "    <tr>\n",
       "      <th id=\"T_a1a2f_level0_row33\" class=\"row_heading level0 row33\" >34</th>\n",
       "      <td id=\"T_a1a2f_row33_col0\" class=\"data row33 col0\" >Previous_Computer_Studies</td>\n",
       "      <td id=\"T_a1a2f_row33_col1\" class=\"data row33 col1\" >-</td>\n",
       "      <td id=\"T_a1a2f_row33_col2\" class=\"data row33 col2\" >-</td>\n",
       "      <td id=\"T_a1a2f_row33_col3\" class=\"data row33 col3\" >Discard</td>\n",
       "      <td id=\"T_a1a2f_row33_col4\" class=\"data row33 col4\" >-</td>\n",
       "      <td id=\"T_a1a2f_row33_col5\" class=\"data row33 col5\" >Discard</td>\n",
       "      <td id=\"T_a1a2f_row33_col6\" class=\"data row33 col6\" >Discard</td>\n",
       "      <td id=\"T_a1a2f_row33_col7\" class=\"data row33 col7\" >Discard</td>\n",
       "      <td id=\"T_a1a2f_row33_col8\" class=\"data row33 col8\" >Discard</td>\n",
       "      <td id=\"T_a1a2f_row33_col9\" class=\"data row33 col9\" >Discard</td>\n",
       "    </tr>\n",
       "    <tr>\n",
       "      <th id=\"T_a1a2f_level0_row34\" class=\"row_heading level0 row34\" >35</th>\n",
       "      <td id=\"T_a1a2f_row34_col0\" class=\"data row34 col0\" >Previous_Tech_Studies</td>\n",
       "      <td id=\"T_a1a2f_row34_col1\" class=\"data row34 col1\" >-</td>\n",
       "      <td id=\"T_a1a2f_row34_col2\" class=\"data row34 col2\" >-</td>\n",
       "      <td id=\"T_a1a2f_row34_col3\" class=\"data row34 col3\" >Discard</td>\n",
       "      <td id=\"T_a1a2f_row34_col4\" class=\"data row34 col4\" >-</td>\n",
       "      <td id=\"T_a1a2f_row34_col5\" class=\"data row34 col5\" >Keep</td>\n",
       "      <td id=\"T_a1a2f_row34_col6\" class=\"data row34 col6\" >Discard</td>\n",
       "      <td id=\"T_a1a2f_row34_col7\" class=\"data row34 col7\" >Discard</td>\n",
       "      <td id=\"T_a1a2f_row34_col8\" class=\"data row34 col8\" >Discard</td>\n",
       "      <td id=\"T_a1a2f_row34_col9\" class=\"data row34 col9\" >Discard</td>\n",
       "    </tr>\n",
       "    <tr>\n",
       "      <th id=\"T_a1a2f_level0_row35\" class=\"row_heading level0 row35\" >36</th>\n",
       "      <td id=\"T_a1a2f_row35_col0\" class=\"data row35 col0\" >Previous_Math_Studies</td>\n",
       "      <td id=\"T_a1a2f_row35_col1\" class=\"data row35 col1\" >-</td>\n",
       "      <td id=\"T_a1a2f_row35_col2\" class=\"data row35 col2\" >-</td>\n",
       "      <td id=\"T_a1a2f_row35_col3\" class=\"data row35 col3\" >Keep</td>\n",
       "      <td id=\"T_a1a2f_row35_col4\" class=\"data row35 col4\" >-</td>\n",
       "      <td id=\"T_a1a2f_row35_col5\" class=\"data row35 col5\" >Keep</td>\n",
       "      <td id=\"T_a1a2f_row35_col6\" class=\"data row35 col6\" >Keep</td>\n",
       "      <td id=\"T_a1a2f_row35_col7\" class=\"data row35 col7\" >Discard</td>\n",
       "      <td id=\"T_a1a2f_row35_col8\" class=\"data row35 col8\" >Discard</td>\n",
       "      <td id=\"T_a1a2f_row35_col9\" class=\"data row35 col9\" >Keep</td>\n",
       "    </tr>\n",
       "    <tr>\n",
       "      <th id=\"T_a1a2f_level0_row36\" class=\"row_heading level0 row36\" >37</th>\n",
       "      <td id=\"T_a1a2f_row36_col0\" class=\"data row36 col0\" >Previous_Engineering_Studies</td>\n",
       "      <td id=\"T_a1a2f_row36_col1\" class=\"data row36 col1\" >-</td>\n",
       "      <td id=\"T_a1a2f_row36_col2\" class=\"data row36 col2\" >-</td>\n",
       "      <td id=\"T_a1a2f_row36_col3\" class=\"data row36 col3\" >Discard</td>\n",
       "      <td id=\"T_a1a2f_row36_col4\" class=\"data row36 col4\" >-</td>\n",
       "      <td id=\"T_a1a2f_row36_col5\" class=\"data row36 col5\" >Discard</td>\n",
       "      <td id=\"T_a1a2f_row36_col6\" class=\"data row36 col6\" >Discard</td>\n",
       "      <td id=\"T_a1a2f_row36_col7\" class=\"data row36 col7\" >Discard</td>\n",
       "      <td id=\"T_a1a2f_row36_col8\" class=\"data row36 col8\" >Discard</td>\n",
       "      <td id=\"T_a1a2f_row36_col9\" class=\"data row36 col9\" >Discard</td>\n",
       "    </tr>\n",
       "    <tr>\n",
       "      <th id=\"T_a1a2f_level0_row37\" class=\"row_heading level0 row37\" >38</th>\n",
       "      <td id=\"T_a1a2f_row37_col0\" class=\"data row37 col0\" >Previous_Finance_Studies</td>\n",
       "      <td id=\"T_a1a2f_row37_col1\" class=\"data row37 col1\" >-</td>\n",
       "      <td id=\"T_a1a2f_row37_col2\" class=\"data row37 col2\" >-</td>\n",
       "      <td id=\"T_a1a2f_row37_col3\" class=\"data row37 col3\" >Discard</td>\n",
       "      <td id=\"T_a1a2f_row37_col4\" class=\"data row37 col4\" >-</td>\n",
       "      <td id=\"T_a1a2f_row37_col5\" class=\"data row37 col5\" >Discard</td>\n",
       "      <td id=\"T_a1a2f_row37_col6\" class=\"data row37 col6\" >Discard</td>\n",
       "      <td id=\"T_a1a2f_row37_col7\" class=\"data row37 col7\" >Discard</td>\n",
       "      <td id=\"T_a1a2f_row37_col8\" class=\"data row37 col8\" >Discard</td>\n",
       "      <td id=\"T_a1a2f_row37_col9\" class=\"data row37 col9\" >Discard</td>\n",
       "    </tr>\n",
       "    <tr>\n",
       "      <th id=\"T_a1a2f_level0_row38\" class=\"row_heading level0 row38\" >39</th>\n",
       "      <td id=\"T_a1a2f_row38_col0\" class=\"data row38 col0\" >Previous_Marketing_Studies</td>\n",
       "      <td id=\"T_a1a2f_row38_col1\" class=\"data row38 col1\" >-</td>\n",
       "      <td id=\"T_a1a2f_row38_col2\" class=\"data row38 col2\" >-</td>\n",
       "      <td id=\"T_a1a2f_row38_col3\" class=\"data row38 col3\" >Discard</td>\n",
       "      <td id=\"T_a1a2f_row38_col4\" class=\"data row38 col4\" >-</td>\n",
       "      <td id=\"T_a1a2f_row38_col5\" class=\"data row38 col5\" >Keep</td>\n",
       "      <td id=\"T_a1a2f_row38_col6\" class=\"data row38 col6\" >Discard</td>\n",
       "      <td id=\"T_a1a2f_row38_col7\" class=\"data row38 col7\" >Discard</td>\n",
       "      <td id=\"T_a1a2f_row38_col8\" class=\"data row38 col8\" >Discard</td>\n",
       "      <td id=\"T_a1a2f_row38_col9\" class=\"data row38 col9\" >Discard</td>\n",
       "    </tr>\n",
       "    <tr>\n",
       "      <th id=\"T_a1a2f_level0_row39\" class=\"row_heading level0 row39\" >40</th>\n",
       "      <td id=\"T_a1a2f_row39_col0\" class=\"data row39 col0\" >Previous_Field_Studies</td>\n",
       "      <td id=\"T_a1a2f_row39_col1\" class=\"data row39 col1\" >-</td>\n",
       "      <td id=\"T_a1a2f_row39_col2\" class=\"data row39 col2\" >-</td>\n",
       "      <td id=\"T_a1a2f_row39_col3\" class=\"data row39 col3\" >Keep</td>\n",
       "      <td id=\"T_a1a2f_row39_col4\" class=\"data row39 col4\" >-</td>\n",
       "      <td id=\"T_a1a2f_row39_col5\" class=\"data row39 col5\" >Keep</td>\n",
       "      <td id=\"T_a1a2f_row39_col6\" class=\"data row39 col6\" >Discard</td>\n",
       "      <td id=\"T_a1a2f_row39_col7\" class=\"data row39 col7\" >Discard</td>\n",
       "      <td id=\"T_a1a2f_row39_col8\" class=\"data row39 col8\" >Discard</td>\n",
       "      <td id=\"T_a1a2f_row39_col9\" class=\"data row39 col9\" >Keep*</td>\n",
       "    </tr>\n",
       "    <tr>\n",
       "      <th id=\"T_a1a2f_level0_row40\" class=\"row_heading level0 row40\" >41</th>\n",
       "      <td id=\"T_a1a2f_row40_col0\" class=\"data row40 col0\" >is_Portuguese</td>\n",
       "      <td id=\"T_a1a2f_row40_col1\" class=\"data row40 col1\" >-</td>\n",
       "      <td id=\"T_a1a2f_row40_col2\" class=\"data row40 col2\" >-</td>\n",
       "      <td id=\"T_a1a2f_row40_col3\" class=\"data row40 col3\" >Keep</td>\n",
       "      <td id=\"T_a1a2f_row40_col4\" class=\"data row40 col4\" >-</td>\n",
       "      <td id=\"T_a1a2f_row40_col5\" class=\"data row40 col5\" >Keep</td>\n",
       "      <td id=\"T_a1a2f_row40_col6\" class=\"data row40 col6\" >Keep</td>\n",
       "      <td id=\"T_a1a2f_row40_col7\" class=\"data row40 col7\" >Discard</td>\n",
       "      <td id=\"T_a1a2f_row40_col8\" class=\"data row40 col8\" >Keep</td>\n",
       "      <td id=\"T_a1a2f_row40_col9\" class=\"data row40 col9\" >Keep</td>\n",
       "    </tr>\n",
       "    <tr>\n",
       "      <th id=\"T_a1a2f_level0_row41\" class=\"row_heading level0 row41\" >42</th>\n",
       "      <td id=\"T_a1a2f_row41_col0\" class=\"data row41 col0\" >is_After_Working_Hours</td>\n",
       "      <td id=\"T_a1a2f_row41_col1\" class=\"data row41 col1\" >-</td>\n",
       "      <td id=\"T_a1a2f_row41_col2\" class=\"data row41 col2\" >-</td>\n",
       "      <td id=\"T_a1a2f_row41_col3\" class=\"data row41 col3\" >Keep</td>\n",
       "      <td id=\"T_a1a2f_row41_col4\" class=\"data row41 col4\" >-</td>\n",
       "      <td id=\"T_a1a2f_row41_col5\" class=\"data row41 col5\" >Keep</td>\n",
       "      <td id=\"T_a1a2f_row41_col6\" class=\"data row41 col6\" >Keep</td>\n",
       "      <td id=\"T_a1a2f_row41_col7\" class=\"data row41 col7\" >Discard</td>\n",
       "      <td id=\"T_a1a2f_row41_col8\" class=\"data row41 col8\" >Keep</td>\n",
       "      <td id=\"T_a1a2f_row41_col9\" class=\"data row41 col9\" >Keep</td>\n",
       "    </tr>\n",
       "    <tr>\n",
       "      <th id=\"T_a1a2f_level0_row42\" class=\"row_heading level0 row42\" >43</th>\n",
       "      <td id=\"T_a1a2f_row42_col0\" class=\"data row42 col0\" >is_Fully_In_Person</td>\n",
       "      <td id=\"T_a1a2f_row42_col1\" class=\"data row42 col1\" >-</td>\n",
       "      <td id=\"T_a1a2f_row42_col2\" class=\"data row42 col2\" >-</td>\n",
       "      <td id=\"T_a1a2f_row42_col3\" class=\"data row42 col3\" >Keep</td>\n",
       "      <td id=\"T_a1a2f_row42_col4\" class=\"data row42 col4\" >-</td>\n",
       "      <td id=\"T_a1a2f_row42_col5\" class=\"data row42 col5\" >Keep</td>\n",
       "      <td id=\"T_a1a2f_row42_col6\" class=\"data row42 col6\" >Keep</td>\n",
       "      <td id=\"T_a1a2f_row42_col7\" class=\"data row42 col7\" >Discard</td>\n",
       "      <td id=\"T_a1a2f_row42_col8\" class=\"data row42 col8\" >Keep</td>\n",
       "      <td id=\"T_a1a2f_row42_col9\" class=\"data row42 col9\" >Keep</td>\n",
       "    </tr>\n",
       "    <tr>\n",
       "      <th id=\"T_a1a2f_level0_row43\" class=\"row_heading level0 row43\" >44</th>\n",
       "      <td id=\"T_a1a2f_row43_col0\" class=\"data row43 col0\" >Working_Upon_Application</td>\n",
       "      <td id=\"T_a1a2f_row43_col1\" class=\"data row43 col1\" >-</td>\n",
       "      <td id=\"T_a1a2f_row43_col2\" class=\"data row43 col2\" >-</td>\n",
       "      <td id=\"T_a1a2f_row43_col3\" class=\"data row43 col3\" >Keep</td>\n",
       "      <td id=\"T_a1a2f_row43_col4\" class=\"data row43 col4\" >-</td>\n",
       "      <td id=\"T_a1a2f_row43_col5\" class=\"data row43 col5\" >Discard</td>\n",
       "      <td id=\"T_a1a2f_row43_col6\" class=\"data row43 col6\" >Discard</td>\n",
       "      <td id=\"T_a1a2f_row43_col7\" class=\"data row43 col7\" >Discard</td>\n",
       "      <td id=\"T_a1a2f_row43_col8\" class=\"data row43 col8\" >Discard</td>\n",
       "      <td id=\"T_a1a2f_row43_col9\" class=\"data row43 col9\" >Discard</td>\n",
       "    </tr>\n",
       "    <tr>\n",
       "      <th id=\"T_a1a2f_level0_row44\" class=\"row_heading level0 row44\" >45</th>\n",
       "      <td id=\"T_a1a2f_row44_col0\" class=\"data row44 col0\" >Previous_Data_Jobs</td>\n",
       "      <td id=\"T_a1a2f_row44_col1\" class=\"data row44 col1\" >-</td>\n",
       "      <td id=\"T_a1a2f_row44_col2\" class=\"data row44 col2\" >-</td>\n",
       "      <td id=\"T_a1a2f_row44_col3\" class=\"data row44 col3\" >Keep</td>\n",
       "      <td id=\"T_a1a2f_row44_col4\" class=\"data row44 col4\" >-</td>\n",
       "      <td id=\"T_a1a2f_row44_col5\" class=\"data row44 col5\" >Discard</td>\n",
       "      <td id=\"T_a1a2f_row44_col6\" class=\"data row44 col6\" >Discard</td>\n",
       "      <td id=\"T_a1a2f_row44_col7\" class=\"data row44 col7\" >Discard</td>\n",
       "      <td id=\"T_a1a2f_row44_col8\" class=\"data row44 col8\" >Discard</td>\n",
       "      <td id=\"T_a1a2f_row44_col9\" class=\"data row44 col9\" >Discard</td>\n",
       "    </tr>\n",
       "    <tr>\n",
       "      <th id=\"T_a1a2f_level0_row45\" class=\"row_heading level0 row45\" >46</th>\n",
       "      <td id=\"T_a1a2f_row45_col0\" class=\"data row45 col0\" >Previous_Analytics_Jobs</td>\n",
       "      <td id=\"T_a1a2f_row45_col1\" class=\"data row45 col1\" >-</td>\n",
       "      <td id=\"T_a1a2f_row45_col2\" class=\"data row45 col2\" >-</td>\n",
       "      <td id=\"T_a1a2f_row45_col3\" class=\"data row45 col3\" >Keep</td>\n",
       "      <td id=\"T_a1a2f_row45_col4\" class=\"data row45 col4\" >-</td>\n",
       "      <td id=\"T_a1a2f_row45_col5\" class=\"data row45 col5\" >Keep</td>\n",
       "      <td id=\"T_a1a2f_row45_col6\" class=\"data row45 col6\" >Keep</td>\n",
       "      <td id=\"T_a1a2f_row45_col7\" class=\"data row45 col7\" >Discard</td>\n",
       "      <td id=\"T_a1a2f_row45_col8\" class=\"data row45 col8\" >Discard</td>\n",
       "      <td id=\"T_a1a2f_row45_col9\" class=\"data row45 col9\" >Keep</td>\n",
       "    </tr>\n",
       "    <tr>\n",
       "      <th id=\"T_a1a2f_level0_row46\" class=\"row_heading level0 row46\" >47</th>\n",
       "      <td id=\"T_a1a2f_row46_col0\" class=\"data row46 col0\" >Previous_Computing_Jobs</td>\n",
       "      <td id=\"T_a1a2f_row46_col1\" class=\"data row46 col1\" >-</td>\n",
       "      <td id=\"T_a1a2f_row46_col2\" class=\"data row46 col2\" >-</td>\n",
       "      <td id=\"T_a1a2f_row46_col3\" class=\"data row46 col3\" >Keep</td>\n",
       "      <td id=\"T_a1a2f_row46_col4\" class=\"data row46 col4\" >-</td>\n",
       "      <td id=\"T_a1a2f_row46_col5\" class=\"data row46 col5\" >Discard</td>\n",
       "      <td id=\"T_a1a2f_row46_col6\" class=\"data row46 col6\" >Discard</td>\n",
       "      <td id=\"T_a1a2f_row46_col7\" class=\"data row46 col7\" >Discard</td>\n",
       "      <td id=\"T_a1a2f_row46_col8\" class=\"data row46 col8\" >Discard</td>\n",
       "      <td id=\"T_a1a2f_row46_col9\" class=\"data row46 col9\" >Discard</td>\n",
       "    </tr>\n",
       "    <tr>\n",
       "      <th id=\"T_a1a2f_level0_row47\" class=\"row_heading level0 row47\" >48</th>\n",
       "      <td id=\"T_a1a2f_row47_col0\" class=\"data row47 col0\" >Previous_Tech_Jobs</td>\n",
       "      <td id=\"T_a1a2f_row47_col1\" class=\"data row47 col1\" >-</td>\n",
       "      <td id=\"T_a1a2f_row47_col2\" class=\"data row47 col2\" >-</td>\n",
       "      <td id=\"T_a1a2f_row47_col3\" class=\"data row47 col3\" >Discard</td>\n",
       "      <td id=\"T_a1a2f_row47_col4\" class=\"data row47 col4\" >-</td>\n",
       "      <td id=\"T_a1a2f_row47_col5\" class=\"data row47 col5\" >Discard</td>\n",
       "      <td id=\"T_a1a2f_row47_col6\" class=\"data row47 col6\" >Discard</td>\n",
       "      <td id=\"T_a1a2f_row47_col7\" class=\"data row47 col7\" >Discard</td>\n",
       "      <td id=\"T_a1a2f_row47_col8\" class=\"data row47 col8\" >Discard</td>\n",
       "      <td id=\"T_a1a2f_row47_col9\" class=\"data row47 col9\" >Discard</td>\n",
       "    </tr>\n",
       "    <tr>\n",
       "      <th id=\"T_a1a2f_level0_row48\" class=\"row_heading level0 row48\" >49</th>\n",
       "      <td id=\"T_a1a2f_row48_col0\" class=\"data row48 col0\" >Previous_Math_Jobs</td>\n",
       "      <td id=\"T_a1a2f_row48_col1\" class=\"data row48 col1\" >-</td>\n",
       "      <td id=\"T_a1a2f_row48_col2\" class=\"data row48 col2\" >-</td>\n",
       "      <td id=\"T_a1a2f_row48_col3\" class=\"data row48 col3\" >Discard</td>\n",
       "      <td id=\"T_a1a2f_row48_col4\" class=\"data row48 col4\" >-</td>\n",
       "      <td id=\"T_a1a2f_row48_col5\" class=\"data row48 col5\" >Keep</td>\n",
       "      <td id=\"T_a1a2f_row48_col6\" class=\"data row48 col6\" >Keep</td>\n",
       "      <td id=\"T_a1a2f_row48_col7\" class=\"data row48 col7\" >Discard</td>\n",
       "      <td id=\"T_a1a2f_row48_col8\" class=\"data row48 col8\" >Discard</td>\n",
       "      <td id=\"T_a1a2f_row48_col9\" class=\"data row48 col9\" >Discard</td>\n",
       "    </tr>\n",
       "    <tr>\n",
       "      <th id=\"T_a1a2f_level0_row49\" class=\"row_heading level0 row49\" >50</th>\n",
       "      <td id=\"T_a1a2f_row49_col0\" class=\"data row49 col0\" >Previous_Engineering_Jobs</td>\n",
       "      <td id=\"T_a1a2f_row49_col1\" class=\"data row49 col1\" >-</td>\n",
       "      <td id=\"T_a1a2f_row49_col2\" class=\"data row49 col2\" >-</td>\n",
       "      <td id=\"T_a1a2f_row49_col3\" class=\"data row49 col3\" >Keep</td>\n",
       "      <td id=\"T_a1a2f_row49_col4\" class=\"data row49 col4\" >-</td>\n",
       "      <td id=\"T_a1a2f_row49_col5\" class=\"data row49 col5\" >Discard</td>\n",
       "      <td id=\"T_a1a2f_row49_col6\" class=\"data row49 col6\" >Discard</td>\n",
       "      <td id=\"T_a1a2f_row49_col7\" class=\"data row49 col7\" >Discard</td>\n",
       "      <td id=\"T_a1a2f_row49_col8\" class=\"data row49 col8\" >Discard</td>\n",
       "      <td id=\"T_a1a2f_row49_col9\" class=\"data row49 col9\" >Discard</td>\n",
       "    </tr>\n",
       "    <tr>\n",
       "      <th id=\"T_a1a2f_level0_row50\" class=\"row_heading level0 row50\" >51</th>\n",
       "      <td id=\"T_a1a2f_row50_col0\" class=\"data row50 col0\" >Previous_Finance_Jobs</td>\n",
       "      <td id=\"T_a1a2f_row50_col1\" class=\"data row50 col1\" >-</td>\n",
       "      <td id=\"T_a1a2f_row50_col2\" class=\"data row50 col2\" >-</td>\n",
       "      <td id=\"T_a1a2f_row50_col3\" class=\"data row50 col3\" >Keep</td>\n",
       "      <td id=\"T_a1a2f_row50_col4\" class=\"data row50 col4\" >-</td>\n",
       "      <td id=\"T_a1a2f_row50_col5\" class=\"data row50 col5\" >Keep</td>\n",
       "      <td id=\"T_a1a2f_row50_col6\" class=\"data row50 col6\" >Discard</td>\n",
       "      <td id=\"T_a1a2f_row50_col7\" class=\"data row50 col7\" >Discard</td>\n",
       "      <td id=\"T_a1a2f_row50_col8\" class=\"data row50 col8\" >Discard</td>\n",
       "      <td id=\"T_a1a2f_row50_col9\" class=\"data row50 col9\" >Discard</td>\n",
       "    </tr>\n",
       "    <tr>\n",
       "      <th id=\"T_a1a2f_level0_row51\" class=\"row_heading level0 row51\" >52</th>\n",
       "      <td id=\"T_a1a2f_row51_col0\" class=\"data row51 col0\" >Previous_Marketing_Jobs</td>\n",
       "      <td id=\"T_a1a2f_row51_col1\" class=\"data row51 col1\" >-</td>\n",
       "      <td id=\"T_a1a2f_row51_col2\" class=\"data row51 col2\" >-</td>\n",
       "      <td id=\"T_a1a2f_row51_col3\" class=\"data row51 col3\" >Keep</td>\n",
       "      <td id=\"T_a1a2f_row51_col4\" class=\"data row51 col4\" >-</td>\n",
       "      <td id=\"T_a1a2f_row51_col5\" class=\"data row51 col5\" >Discard</td>\n",
       "      <td id=\"T_a1a2f_row51_col6\" class=\"data row51 col6\" >Discard</td>\n",
       "      <td id=\"T_a1a2f_row51_col7\" class=\"data row51 col7\" >Discard</td>\n",
       "      <td id=\"T_a1a2f_row51_col8\" class=\"data row51 col8\" >Discard</td>\n",
       "      <td id=\"T_a1a2f_row51_col9\" class=\"data row51 col9\" >Discard</td>\n",
       "    </tr>\n",
       "    <tr>\n",
       "      <th id=\"T_a1a2f_level0_row52\" class=\"row_heading level0 row52\" >53</th>\n",
       "      <td id=\"T_a1a2f_row52_col0\" class=\"data row52 col0\" >Previous_Project_Jobs</td>\n",
       "      <td id=\"T_a1a2f_row52_col1\" class=\"data row52 col1\" >-</td>\n",
       "      <td id=\"T_a1a2f_row52_col2\" class=\"data row52 col2\" >-</td>\n",
       "      <td id=\"T_a1a2f_row52_col3\" class=\"data row52 col3\" >Discard</td>\n",
       "      <td id=\"T_a1a2f_row52_col4\" class=\"data row52 col4\" >-</td>\n",
       "      <td id=\"T_a1a2f_row52_col5\" class=\"data row52 col5\" >Discard</td>\n",
       "      <td id=\"T_a1a2f_row52_col6\" class=\"data row52 col6\" >Discard</td>\n",
       "      <td id=\"T_a1a2f_row52_col7\" class=\"data row52 col7\" >Discard</td>\n",
       "      <td id=\"T_a1a2f_row52_col8\" class=\"data row52 col8\" >Discard</td>\n",
       "      <td id=\"T_a1a2f_row52_col9\" class=\"data row52 col9\" >Discard</td>\n",
       "    </tr>\n",
       "    <tr>\n",
       "      <th id=\"T_a1a2f_level0_row53\" class=\"row_heading level0 row53\" >54</th>\n",
       "      <td id=\"T_a1a2f_row53_col0\" class=\"data row53 col0\" >Previous_Field_Jobs</td>\n",
       "      <td id=\"T_a1a2f_row53_col1\" class=\"data row53 col1\" >-</td>\n",
       "      <td id=\"T_a1a2f_row53_col2\" class=\"data row53 col2\" >-</td>\n",
       "      <td id=\"T_a1a2f_row53_col3\" class=\"data row53 col3\" >Discard</td>\n",
       "      <td id=\"T_a1a2f_row53_col4\" class=\"data row53 col4\" >-</td>\n",
       "      <td id=\"T_a1a2f_row53_col5\" class=\"data row53 col5\" >Discard</td>\n",
       "      <td id=\"T_a1a2f_row53_col6\" class=\"data row53 col6\" >Discard</td>\n",
       "      <td id=\"T_a1a2f_row53_col7\" class=\"data row53 col7\" >Discard</td>\n",
       "      <td id=\"T_a1a2f_row53_col8\" class=\"data row53 col8\" >Discard</td>\n",
       "      <td id=\"T_a1a2f_row53_col9\" class=\"data row53 col9\" >Discard</td>\n",
       "    </tr>\n",
       "    <tr>\n",
       "      <th id=\"T_a1a2f_level0_row54\" class=\"row_heading level0 row54\" >55</th>\n",
       "      <td id=\"T_a1a2f_row54_col0\" class=\"data row54 col0\" >Previous_Trainee_Jobs</td>\n",
       "      <td id=\"T_a1a2f_row54_col1\" class=\"data row54 col1\" >-</td>\n",
       "      <td id=\"T_a1a2f_row54_col2\" class=\"data row54 col2\" >-</td>\n",
       "      <td id=\"T_a1a2f_row54_col3\" class=\"data row54 col3\" >Keep</td>\n",
       "      <td id=\"T_a1a2f_row54_col4\" class=\"data row54 col4\" >-</td>\n",
       "      <td id=\"T_a1a2f_row54_col5\" class=\"data row54 col5\" >Keep</td>\n",
       "      <td id=\"T_a1a2f_row54_col6\" class=\"data row54 col6\" >Discard</td>\n",
       "      <td id=\"T_a1a2f_row54_col7\" class=\"data row54 col7\" >Discard</td>\n",
       "      <td id=\"T_a1a2f_row54_col8\" class=\"data row54 col8\" >Discard</td>\n",
       "      <td id=\"T_a1a2f_row54_col9\" class=\"data row54 col9\" >Discard</td>\n",
       "    </tr>\n",
       "    <tr>\n",
       "      <th id=\"T_a1a2f_level0_row55\" class=\"row_heading level0 row55\" >56</th>\n",
       "      <td id=\"T_a1a2f_row55_col0\" class=\"data row55 col0\" >Previous_Jobs_in_Partners</td>\n",
       "      <td id=\"T_a1a2f_row55_col1\" class=\"data row55 col1\" >-</td>\n",
       "      <td id=\"T_a1a2f_row55_col2\" class=\"data row55 col2\" >-</td>\n",
       "      <td id=\"T_a1a2f_row55_col3\" class=\"data row55 col3\" >Keep</td>\n",
       "      <td id=\"T_a1a2f_row55_col4\" class=\"data row55 col4\" >-</td>\n",
       "      <td id=\"T_a1a2f_row55_col5\" class=\"data row55 col5\" >Keep</td>\n",
       "      <td id=\"T_a1a2f_row55_col6\" class=\"data row55 col6\" >Discard</td>\n",
       "      <td id=\"T_a1a2f_row55_col7\" class=\"data row55 col7\" >Discard</td>\n",
       "      <td id=\"T_a1a2f_row55_col8\" class=\"data row55 col8\" >Discard</td>\n",
       "      <td id=\"T_a1a2f_row55_col9\" class=\"data row55 col9\" >Keep*</td>\n",
       "    </tr>\n",
       "    <tr>\n",
       "      <th id=\"T_a1a2f_level0_row56\" class=\"row_heading level0 row56\" >57</th>\n",
       "      <td id=\"T_a1a2f_row56_col0\" class=\"data row56 col0\" >nivelInglesCompreensao</td>\n",
       "      <td id=\"T_a1a2f_row56_col1\" class=\"data row56 col1\" >-</td>\n",
       "      <td id=\"T_a1a2f_row56_col2\" class=\"data row56 col2\" >-</td>\n",
       "      <td id=\"T_a1a2f_row56_col3\" class=\"data row56 col3\" >Keep</td>\n",
       "      <td id=\"T_a1a2f_row56_col4\" class=\"data row56 col4\" >-</td>\n",
       "      <td id=\"T_a1a2f_row56_col5\" class=\"data row56 col5\" >Keep</td>\n",
       "      <td id=\"T_a1a2f_row56_col6\" class=\"data row56 col6\" >Keep</td>\n",
       "      <td id=\"T_a1a2f_row56_col7\" class=\"data row56 col7\" >Discard</td>\n",
       "      <td id=\"T_a1a2f_row56_col8\" class=\"data row56 col8\" >Discard</td>\n",
       "      <td id=\"T_a1a2f_row56_col9\" class=\"data row56 col9\" >Keep</td>\n",
       "    </tr>\n",
       "    <tr>\n",
       "      <th id=\"T_a1a2f_level0_row57\" class=\"row_heading level0 row57\" >58</th>\n",
       "      <td id=\"T_a1a2f_row57_col0\" class=\"data row57 col0\" >nivelInglesFala</td>\n",
       "      <td id=\"T_a1a2f_row57_col1\" class=\"data row57 col1\" >-</td>\n",
       "      <td id=\"T_a1a2f_row57_col2\" class=\"data row57 col2\" >-</td>\n",
       "      <td id=\"T_a1a2f_row57_col3\" class=\"data row57 col3\" >Keep</td>\n",
       "      <td id=\"T_a1a2f_row57_col4\" class=\"data row57 col4\" >-</td>\n",
       "      <td id=\"T_a1a2f_row57_col5\" class=\"data row57 col5\" >Discard</td>\n",
       "      <td id=\"T_a1a2f_row57_col6\" class=\"data row57 col6\" >Discard</td>\n",
       "      <td id=\"T_a1a2f_row57_col7\" class=\"data row57 col7\" >Discard</td>\n",
       "      <td id=\"T_a1a2f_row57_col8\" class=\"data row57 col8\" >Discard</td>\n",
       "      <td id=\"T_a1a2f_row57_col9\" class=\"data row57 col9\" >Discard</td>\n",
       "    </tr>\n",
       "    <tr>\n",
       "      <th id=\"T_a1a2f_level0_row58\" class=\"row_heading level0 row58\" >59</th>\n",
       "      <td id=\"T_a1a2f_row58_col0\" class=\"data row58 col0\" >nivelInglesEscrita</td>\n",
       "      <td id=\"T_a1a2f_row58_col1\" class=\"data row58 col1\" >-</td>\n",
       "      <td id=\"T_a1a2f_row58_col2\" class=\"data row58 col2\" >-</td>\n",
       "      <td id=\"T_a1a2f_row58_col3\" class=\"data row58 col3\" >Keep</td>\n",
       "      <td id=\"T_a1a2f_row58_col4\" class=\"data row58 col4\" >-</td>\n",
       "      <td id=\"T_a1a2f_row58_col5\" class=\"data row58 col5\" >Keep</td>\n",
       "      <td id=\"T_a1a2f_row58_col6\" class=\"data row58 col6\" >Keep</td>\n",
       "      <td id=\"T_a1a2f_row58_col7\" class=\"data row58 col7\" >Discard</td>\n",
       "      <td id=\"T_a1a2f_row58_col8\" class=\"data row58 col8\" >Keep</td>\n",
       "      <td id=\"T_a1a2f_row58_col9\" class=\"data row58 col9\" >Keep</td>\n",
       "    </tr>\n",
       "    <tr>\n",
       "      <th id=\"T_a1a2f_level0_row59\" class=\"row_heading level0 row59\" >60</th>\n",
       "      <td id=\"T_a1a2f_row59_col0\" class=\"data row59 col0\" >HighestAcademicDegree</td>\n",
       "      <td id=\"T_a1a2f_row59_col1\" class=\"data row59 col1\" >-</td>\n",
       "      <td id=\"T_a1a2f_row59_col2\" class=\"data row59 col2\" >-</td>\n",
       "      <td id=\"T_a1a2f_row59_col3\" class=\"data row59 col3\" >Keep</td>\n",
       "      <td id=\"T_a1a2f_row59_col4\" class=\"data row59 col4\" >-</td>\n",
       "      <td id=\"T_a1a2f_row59_col5\" class=\"data row59 col5\" >Keep</td>\n",
       "      <td id=\"T_a1a2f_row59_col6\" class=\"data row59 col6\" >Keep</td>\n",
       "      <td id=\"T_a1a2f_row59_col7\" class=\"data row59 col7\" >Discard</td>\n",
       "      <td id=\"T_a1a2f_row59_col8\" class=\"data row59 col8\" >Keep</td>\n",
       "      <td id=\"T_a1a2f_row59_col9\" class=\"data row59 col9\" >Keep</td>\n",
       "    </tr>\n",
       "    <tr>\n",
       "      <th id=\"T_a1a2f_level0_row60\" class=\"row_heading level0 row60\" >61</th>\n",
       "      <td id=\"T_a1a2f_row60_col0\" class=\"data row60 col0\" >idgenero</td>\n",
       "      <td id=\"T_a1a2f_row60_col1\" class=\"data row60 col1\" >-</td>\n",
       "      <td id=\"T_a1a2f_row60_col2\" class=\"data row60 col2\" >-</td>\n",
       "      <td id=\"T_a1a2f_row60_col3\" class=\"data row60 col3\" >Keep</td>\n",
       "      <td id=\"T_a1a2f_row60_col4\" class=\"data row60 col4\" >-</td>\n",
       "      <td id=\"T_a1a2f_row60_col5\" class=\"data row60 col5\" >Discard</td>\n",
       "      <td id=\"T_a1a2f_row60_col6\" class=\"data row60 col6\" >Discard</td>\n",
       "      <td id=\"T_a1a2f_row60_col7\" class=\"data row60 col7\" >Discard</td>\n",
       "      <td id=\"T_a1a2f_row60_col8\" class=\"data row60 col8\" >Discard</td>\n",
       "      <td id=\"T_a1a2f_row60_col9\" class=\"data row60 col9\" >Keep*</td>\n",
       "    </tr>\n",
       "    <tr>\n",
       "      <th id=\"T_a1a2f_level0_row61\" class=\"row_heading level0 row61\" >62</th>\n",
       "      <td id=\"T_a1a2f_row61_col0\" class=\"data row61 col0\" >countries_region</td>\n",
       "      <td id=\"T_a1a2f_row61_col1\" class=\"data row61 col1\" >-</td>\n",
       "      <td id=\"T_a1a2f_row61_col2\" class=\"data row61 col2\" >-</td>\n",
       "      <td id=\"T_a1a2f_row61_col3\" class=\"data row61 col3\" >Keep</td>\n",
       "      <td id=\"T_a1a2f_row61_col4\" class=\"data row61 col4\" >-</td>\n",
       "      <td id=\"T_a1a2f_row61_col5\" class=\"data row61 col5\" >Discard</td>\n",
       "      <td id=\"T_a1a2f_row61_col6\" class=\"data row61 col6\" >Discard</td>\n",
       "      <td id=\"T_a1a2f_row61_col7\" class=\"data row61 col7\" >Discard</td>\n",
       "      <td id=\"T_a1a2f_row61_col8\" class=\"data row61 col8\" >Discard</td>\n",
       "      <td id=\"T_a1a2f_row61_col9\" class=\"data row61 col9\" >Discard</td>\n",
       "    </tr>\n",
       "    <tr>\n",
       "      <th id=\"T_a1a2f_level0_row62\" class=\"row_heading level0 row62\" >63</th>\n",
       "      <td id=\"T_a1a2f_row62_col0\" class=\"data row62 col0\" >datacandidaturafim_month</td>\n",
       "      <td id=\"T_a1a2f_row62_col1\" class=\"data row62 col1\" >-</td>\n",
       "      <td id=\"T_a1a2f_row62_col2\" class=\"data row62 col2\" >-</td>\n",
       "      <td id=\"T_a1a2f_row62_col3\" class=\"data row62 col3\" >Keep</td>\n",
       "      <td id=\"T_a1a2f_row62_col4\" class=\"data row62 col4\" >-</td>\n",
       "      <td id=\"T_a1a2f_row62_col5\" class=\"data row62 col5\" >Keep</td>\n",
       "      <td id=\"T_a1a2f_row62_col6\" class=\"data row62 col6\" >Keep</td>\n",
       "      <td id=\"T_a1a2f_row62_col7\" class=\"data row62 col7\" >Keep</td>\n",
       "      <td id=\"T_a1a2f_row62_col8\" class=\"data row62 col8\" >Keep</td>\n",
       "      <td id=\"T_a1a2f_row62_col9\" class=\"data row62 col9\" >Keep</td>\n",
       "    </tr>\n",
       "    <tr>\n",
       "      <th id=\"T_a1a2f_level0_row63\" class=\"row_heading level0 row63\" >64</th>\n",
       "      <td id=\"T_a1a2f_row63_col0\" class=\"data row63 col0\" >datacandidaturafim_day</td>\n",
       "      <td id=\"T_a1a2f_row63_col1\" class=\"data row63 col1\" >-</td>\n",
       "      <td id=\"T_a1a2f_row63_col2\" class=\"data row63 col2\" >-</td>\n",
       "      <td id=\"T_a1a2f_row63_col3\" class=\"data row63 col3\" >Keep</td>\n",
       "      <td id=\"T_a1a2f_row63_col4\" class=\"data row63 col4\" >-</td>\n",
       "      <td id=\"T_a1a2f_row63_col5\" class=\"data row63 col5\" >Discard</td>\n",
       "      <td id=\"T_a1a2f_row63_col6\" class=\"data row63 col6\" >Discard</td>\n",
       "      <td id=\"T_a1a2f_row63_col7\" class=\"data row63 col7\" >Keep</td>\n",
       "      <td id=\"T_a1a2f_row63_col8\" class=\"data row63 col8\" >Discard</td>\n",
       "      <td id=\"T_a1a2f_row63_col9\" class=\"data row63 col9\" >Discard</td>\n",
       "    </tr>\n",
       "    <tr>\n",
       "      <th id=\"T_a1a2f_level0_row64\" class=\"row_heading level0 row64\" >65</th>\n",
       "      <td id=\"T_a1a2f_row64_col0\" class=\"data row64 col0\" >datacandidaturafim_time_of_day</td>\n",
       "      <td id=\"T_a1a2f_row64_col1\" class=\"data row64 col1\" >-</td>\n",
       "      <td id=\"T_a1a2f_row64_col2\" class=\"data row64 col2\" >-</td>\n",
       "      <td id=\"T_a1a2f_row64_col3\" class=\"data row64 col3\" >Keep</td>\n",
       "      <td id=\"T_a1a2f_row64_col4\" class=\"data row64 col4\" >-</td>\n",
       "      <td id=\"T_a1a2f_row64_col5\" class=\"data row64 col5\" >Discard</td>\n",
       "      <td id=\"T_a1a2f_row64_col6\" class=\"data row64 col6\" >Discard</td>\n",
       "      <td id=\"T_a1a2f_row64_col7\" class=\"data row64 col7\" >Keep</td>\n",
       "      <td id=\"T_a1a2f_row64_col8\" class=\"data row64 col8\" >Discard</td>\n",
       "      <td id=\"T_a1a2f_row64_col9\" class=\"data row64 col9\" >Discard</td>\n",
       "    </tr>\n",
       "  </tbody>\n",
       "</table>\n"
      ],
      "text/plain": [
       "<pandas.io.formats.style.Styler at 0x2621ba1a390>"
      ]
     },
     "execution_count": 19,
     "metadata": {},
     "output_type": "execute_result"
    }
   ],
   "source": [
    "excel_path = \"Feature Selection.xlsx\"\n",
    "sheet_name = \"Admissions\"\n",
    "wb = load_workbook(excel_path, data_only=True)\n",
    "sheet = wb[sheet_name]\n",
    "\n",
    "fs_table = pd.DataFrame(sheet.values, columns = [cell.value for cell in sheet[1]])\n",
    "fs_table.drop(index = 0, inplace = True)\n",
    "styled_df = fs_table.style.apply(lambda row: [tf.highlight_cell(val, column) for val, column in zip(row, fs_table.columns)], axis=1)\n",
    "styled_df"
   ]
  },
  {
   "cell_type": "code",
   "execution_count": 20,
   "id": "2f76b97d",
   "metadata": {},
   "outputs": [
    {
     "data": {
      "text/html": [
       "<div>\n",
       "<style scoped>\n",
       "    .dataframe tbody tr th:only-of-type {\n",
       "        vertical-align: middle;\n",
       "    }\n",
       "\n",
       "    .dataframe tbody tr th {\n",
       "        vertical-align: top;\n",
       "    }\n",
       "\n",
       "    .dataframe thead th {\n",
       "        text-align: right;\n",
       "    }\n",
       "</style>\n",
       "<table border=\"1\" class=\"dataframe\">\n",
       "  <thead>\n",
       "    <tr style=\"text-align: right;\">\n",
       "      <th></th>\n",
       "      <th>NumberAcademicExperiences</th>\n",
       "      <th>Rank</th>\n",
       "      <th>Students to Staff Ratio</th>\n",
       "      <th>Teaching</th>\n",
       "      <th>Industry Impact</th>\n",
       "      <th>Percentage_International_Students</th>\n",
       "      <th>Percentage_Female_Students</th>\n",
       "      <th>Non_Finished_Programs</th>\n",
       "      <th>AverageScaledGrade</th>\n",
       "      <th>countries_dist</th>\n",
       "      <th>countries_GDP_per_capita</th>\n",
       "      <th>Program_Name</th>\n",
       "      <th>AverageAcademicDegree</th>\n",
       "      <th>dprograma</th>\n",
       "      <th>Previous_IMS_Student</th>\n",
       "      <th>Previous_Math_Studies</th>\n",
       "      <th>Previous_Field_Studies</th>\n",
       "      <th>is_Portuguese</th>\n",
       "      <th>is_After_Working_Hours</th>\n",
       "      <th>is_Fully_In_Person</th>\n",
       "      <th>Previous_Analytics_Jobs</th>\n",
       "      <th>Previous_Jobs_in_Partners</th>\n",
       "      <th>nivelInglesCompreensao</th>\n",
       "      <th>nivelInglesEscrita</th>\n",
       "      <th>HighestAcademicDegree</th>\n",
       "      <th>idgenero</th>\n",
       "      <th>datacandidaturafim_month</th>\n",
       "    </tr>\n",
       "  </thead>\n",
       "  <tbody>\n",
       "    <tr>\n",
       "      <th>6442</th>\n",
       "      <td>0.0</td>\n",
       "      <td>0.700191</td>\n",
       "      <td>0.263836</td>\n",
       "      <td>0.071349</td>\n",
       "      <td>0.019002</td>\n",
       "      <td>0.000000</td>\n",
       "      <td>0.428571</td>\n",
       "      <td>0.0</td>\n",
       "      <td>0.84</td>\n",
       "      <td>0.192282</td>\n",
       "      <td>0.009479</td>\n",
       "      <td>0.026121</td>\n",
       "      <td>0.6</td>\n",
       "      <td>1</td>\n",
       "      <td>0</td>\n",
       "      <td>0</td>\n",
       "      <td>0</td>\n",
       "      <td>0</td>\n",
       "      <td>0</td>\n",
       "      <td>1</td>\n",
       "      <td>0</td>\n",
       "      <td>0</td>\n",
       "      <td>1.0</td>\n",
       "      <td>1.0</td>\n",
       "      <td>0.6</td>\n",
       "      <td>0.5</td>\n",
       "      <td>0.363636</td>\n",
       "    </tr>\n",
       "    <tr>\n",
       "      <th>7521</th>\n",
       "      <td>0.5</td>\n",
       "      <td>1.000000</td>\n",
       "      <td>0.127369</td>\n",
       "      <td>0.096990</td>\n",
       "      <td>0.086698</td>\n",
       "      <td>0.032258</td>\n",
       "      <td>0.395604</td>\n",
       "      <td>0.0</td>\n",
       "      <td>0.96</td>\n",
       "      <td>0.470735</td>\n",
       "      <td>0.017317</td>\n",
       "      <td>0.119661</td>\n",
       "      <td>0.7</td>\n",
       "      <td>0</td>\n",
       "      <td>0</td>\n",
       "      <td>0</td>\n",
       "      <td>0</td>\n",
       "      <td>0</td>\n",
       "      <td>0</td>\n",
       "      <td>1</td>\n",
       "      <td>0</td>\n",
       "      <td>0</td>\n",
       "      <td>0.4</td>\n",
       "      <td>0.4</td>\n",
       "      <td>0.8</td>\n",
       "      <td>0.0</td>\n",
       "      <td>0.181818</td>\n",
       "    </tr>\n",
       "    <tr>\n",
       "      <th>13488</th>\n",
       "      <td>0.0</td>\n",
       "      <td>1.000000</td>\n",
       "      <td>0.100834</td>\n",
       "      <td>0.164994</td>\n",
       "      <td>0.239905</td>\n",
       "      <td>0.172043</td>\n",
       "      <td>0.505495</td>\n",
       "      <td>0.0</td>\n",
       "      <td>0.60</td>\n",
       "      <td>0.000000</td>\n",
       "      <td>0.211932</td>\n",
       "      <td>0.021885</td>\n",
       "      <td>0.6</td>\n",
       "      <td>0</td>\n",
       "      <td>0</td>\n",
       "      <td>0</td>\n",
       "      <td>0</td>\n",
       "      <td>1</td>\n",
       "      <td>0</td>\n",
       "      <td>1</td>\n",
       "      <td>0</td>\n",
       "      <td>0</td>\n",
       "      <td>0.8</td>\n",
       "      <td>0.8</td>\n",
       "      <td>0.6</td>\n",
       "      <td>0.0</td>\n",
       "      <td>0.636364</td>\n",
       "    </tr>\n",
       "    <tr>\n",
       "      <th>10078</th>\n",
       "      <td>0.0</td>\n",
       "      <td>1.000000</td>\n",
       "      <td>0.100834</td>\n",
       "      <td>0.164994</td>\n",
       "      <td>0.239905</td>\n",
       "      <td>0.172043</td>\n",
       "      <td>0.505495</td>\n",
       "      <td>0.0</td>\n",
       "      <td>0.60</td>\n",
       "      <td>0.000000</td>\n",
       "      <td>0.211932</td>\n",
       "      <td>0.213555</td>\n",
       "      <td>0.6</td>\n",
       "      <td>0</td>\n",
       "      <td>0</td>\n",
       "      <td>0</td>\n",
       "      <td>0</td>\n",
       "      <td>1</td>\n",
       "      <td>0</td>\n",
       "      <td>1</td>\n",
       "      <td>0</td>\n",
       "      <td>0</td>\n",
       "      <td>0.2</td>\n",
       "      <td>0.2</td>\n",
       "      <td>0.6</td>\n",
       "      <td>0.5</td>\n",
       "      <td>0.181818</td>\n",
       "    </tr>\n",
       "    <tr>\n",
       "      <th>2367</th>\n",
       "      <td>0.0</td>\n",
       "      <td>1.000000</td>\n",
       "      <td>0.100834</td>\n",
       "      <td>0.164994</td>\n",
       "      <td>0.239905</td>\n",
       "      <td>0.172043</td>\n",
       "      <td>0.505495</td>\n",
       "      <td>0.0</td>\n",
       "      <td>0.80</td>\n",
       "      <td>0.000000</td>\n",
       "      <td>0.211932</td>\n",
       "      <td>0.345217</td>\n",
       "      <td>0.8</td>\n",
       "      <td>0</td>\n",
       "      <td>0</td>\n",
       "      <td>0</td>\n",
       "      <td>1</td>\n",
       "      <td>1</td>\n",
       "      <td>0</td>\n",
       "      <td>1</td>\n",
       "      <td>1</td>\n",
       "      <td>0</td>\n",
       "      <td>0.8</td>\n",
       "      <td>0.8</td>\n",
       "      <td>0.8</td>\n",
       "      <td>0.0</td>\n",
       "      <td>0.272727</td>\n",
       "    </tr>\n",
       "  </tbody>\n",
       "</table>\n",
       "</div>"
      ],
      "text/plain": [
       "       NumberAcademicExperiences      Rank  Students to Staff Ratio  Teaching  \\\n",
       "6442                         0.0  0.700191                 0.263836  0.071349   \n",
       "7521                         0.5  1.000000                 0.127369  0.096990   \n",
       "13488                        0.0  1.000000                 0.100834  0.164994   \n",
       "10078                        0.0  1.000000                 0.100834  0.164994   \n",
       "2367                         0.0  1.000000                 0.100834  0.164994   \n",
       "\n",
       "       Industry Impact  Percentage_International_Students  \\\n",
       "6442          0.019002                           0.000000   \n",
       "7521          0.086698                           0.032258   \n",
       "13488         0.239905                           0.172043   \n",
       "10078         0.239905                           0.172043   \n",
       "2367          0.239905                           0.172043   \n",
       "\n",
       "       Percentage_Female_Students  Non_Finished_Programs  AverageScaledGrade  \\\n",
       "6442                     0.428571                    0.0                0.84   \n",
       "7521                     0.395604                    0.0                0.96   \n",
       "13488                    0.505495                    0.0                0.60   \n",
       "10078                    0.505495                    0.0                0.60   \n",
       "2367                     0.505495                    0.0                0.80   \n",
       "\n",
       "       countries_dist  countries_GDP_per_capita  Program_Name  \\\n",
       "6442         0.192282                  0.009479      0.026121   \n",
       "7521         0.470735                  0.017317      0.119661   \n",
       "13488        0.000000                  0.211932      0.021885   \n",
       "10078        0.000000                  0.211932      0.213555   \n",
       "2367         0.000000                  0.211932      0.345217   \n",
       "\n",
       "       AverageAcademicDegree  dprograma  Previous_IMS_Student  \\\n",
       "6442                     0.6          1                     0   \n",
       "7521                     0.7          0                     0   \n",
       "13488                    0.6          0                     0   \n",
       "10078                    0.6          0                     0   \n",
       "2367                     0.8          0                     0   \n",
       "\n",
       "       Previous_Math_Studies  Previous_Field_Studies  is_Portuguese  \\\n",
       "6442                       0                       0              0   \n",
       "7521                       0                       0              0   \n",
       "13488                      0                       0              1   \n",
       "10078                      0                       0              1   \n",
       "2367                       0                       1              1   \n",
       "\n",
       "       is_After_Working_Hours  is_Fully_In_Person  Previous_Analytics_Jobs  \\\n",
       "6442                        0                   1                        0   \n",
       "7521                        0                   1                        0   \n",
       "13488                       0                   1                        0   \n",
       "10078                       0                   1                        0   \n",
       "2367                        0                   1                        1   \n",
       "\n",
       "       Previous_Jobs_in_Partners  nivelInglesCompreensao  nivelInglesEscrita  \\\n",
       "6442                           0                     1.0                 1.0   \n",
       "7521                           0                     0.4                 0.4   \n",
       "13488                          0                     0.8                 0.8   \n",
       "10078                          0                     0.2                 0.2   \n",
       "2367                           0                     0.8                 0.8   \n",
       "\n",
       "       HighestAcademicDegree  idgenero  datacandidaturafim_month  \n",
       "6442                     0.6       0.5                  0.363636  \n",
       "7521                     0.8       0.0                  0.181818  \n",
       "13488                    0.6       0.0                  0.636364  \n",
       "10078                    0.6       0.5                  0.181818  \n",
       "2367                     0.8       0.0                  0.272727  "
      ]
     },
     "execution_count": 20,
     "metadata": {},
     "output_type": "execute_result"
    }
   ],
   "source": [
    "variables_to_keep = fs_table[(fs_table[\"Decision\"].isin([\"Keep\", \"Keep*\"]))][\"Variable\"].tolist()\n",
    "\n",
    "X_admissions_train_scaled = X_admissions_train_scaled[variables_to_keep]\n",
    "X_admissions_val_scaled = X_admissions_val_scaled[variables_to_keep]\n",
    "\n",
    "X_admissions_train_scaled.head()"
   ]
  },
  {
   "cell_type": "code",
   "execution_count": 21,
   "id": "6fff663a",
   "metadata": {},
   "outputs": [],
   "source": [
    "numerical_variables_admissions = [var for var in numerical_variables if var in variables_to_keep]\n",
    "binary_variables_admissions = [var for var in binary_variables if var in variables_to_keep]\n",
    "categorical_variables_admissions = [var for var in categorical_variables if var in variables_to_keep]"
   ]
  },
  {
   "cell_type": "markdown",
   "id": "3621148a",
   "metadata": {},
   "source": [
    "## <font color='#BFD62F'>3.7. DBSCAN for Outlier Removal</font> <a class=\"anchor\" id=\"dbscan\"></a>\n",
    "[Back to Contents](#toc)\n",
    "\n",
    "Density-Based Spatial Clustering of Applications with Noise (commonly known as DBSCAN) is a popular algorithm to perform density-based clustering, which groups observations according to the density of the regions surrounding it in the feature space.\n",
    "\n",
    "Our implementation (adapted from [Pierian Training](https://pieriantraining.com/dbscan-for-outlier-detection-in-python-and-scikit-learn-machine-learning-in-python/) and [Medium](https://medium.com/@dilip.voleti/dbscan-algorithm-for-fraud-detection-outlier-detection-in-a-data-set-60a10ad06ea8)) will retrieve the outliers as per this algorithm, which are observations (applicants) that are in a sparser region of the feature space.\n",
    "\n",
    "Since our data has more than 2 dimensions, we will define our ideal number of neighbours by doing 2 * number of dimensions in the data. [(Sander et al., 1998)](https://doi.org/10.1023/A:1009745219419)"
   ]
  },
  {
   "cell_type": "code",
   "execution_count": 22,
   "id": "911ff9ee",
   "metadata": {},
   "outputs": [
    {
     "name": "stdout",
     "output_type": "stream",
     "text": [
      "Number of neighbours: 25\n"
     ]
    }
   ],
   "source": [
    "neigh = NearestNeighbors(n_neighbors = 2 * len(numerical_variables_admissions) - 1)\n",
    "nbrs = neigh.fit(X_admissions_train_scaled[numerical_variables_admissions])\n",
    "distances, indices = nbrs.kneighbors(X_admissions_train_scaled[numerical_variables_admissions])\n",
    "\n",
    "print(\"Number of neighbours:\", 2 * len(numerical_variables_admissions) - 1)"
   ]
  },
  {
   "cell_type": "code",
   "execution_count": 23,
   "id": "20ee6323",
   "metadata": {},
   "outputs": [
    {
     "data": {
      "image/png": "[encoded data removed]",
      "text/plain": [
       "<Figure size 2000x1000 with 1 Axes>"
      ]
     },
     "metadata": {},
     "output_type": "display_data"
    }
   ],
   "source": [
    "distances = np.sort(distances, axis = 0)\n",
    "distances = distances[:,1]\n",
    "plt.figure(figsize=(20,10))\n",
    "plt.plot(distances, color = \"navy\")\n",
    "plt.axhline(y = 0.3, color = \"black\", linestyle = \"--\") \n",
    "plt.title(\"K-distance Graph\", fontsize = 20)\n",
    "plt.xlabel(\"Data Points sorted by distance\", fontsize = 14)\n",
    "plt.ylabel(\"Epsilon\", fontsize = 14)\n",
    "plt.show()"
   ]
  },
  {
   "cell_type": "markdown",
   "id": "8ff34027",
   "metadata": {},
   "source": [
    "Contrary to what could be expected, there is not a clear frontier that separates what is an outlier and what isn't (we would expect for a much bigger slope after a certain number of data points). Therefore, it seems that our DBSCAN solution, even with a considerably high value for the epsilon parameter (which defines the radius of the neighbourhood), will identify too many observations as outliers - which raises the question to if they really are outliers in that case."
   ]
  },
  {
   "cell_type": "code",
   "execution_count": 24,
   "id": "6d9a68a1",
   "metadata": {},
   "outputs": [
    {
     "data": {
      "text/html": [
       "<div>\n",
       "<style scoped>\n",
       "    .dataframe tbody tr th:only-of-type {\n",
       "        vertical-align: middle;\n",
       "    }\n",
       "\n",
       "    .dataframe tbody tr th {\n",
       "        vertical-align: top;\n",
       "    }\n",
       "\n",
       "    .dataframe thead th {\n",
       "        text-align: right;\n",
       "    }\n",
       "</style>\n",
       "<table border=\"1\" class=\"dataframe\">\n",
       "  <thead>\n",
       "    <tr style=\"text-align: right;\">\n",
       "      <th></th>\n",
       "      <th>NumberAcademicExperiences</th>\n",
       "      <th>Rank</th>\n",
       "      <th>Students to Staff Ratio</th>\n",
       "      <th>Teaching</th>\n",
       "      <th>Industry Impact</th>\n",
       "      <th>Percentage_International_Students</th>\n",
       "      <th>Percentage_Female_Students</th>\n",
       "      <th>Non_Finished_Programs</th>\n",
       "      <th>AverageScaledGrade</th>\n",
       "      <th>countries_dist</th>\n",
       "      <th>countries_GDP_per_capita</th>\n",
       "      <th>Program_Name</th>\n",
       "      <th>AverageAcademicDegree</th>\n",
       "      <th>dprograma</th>\n",
       "      <th>Previous_IMS_Student</th>\n",
       "      <th>Previous_Math_Studies</th>\n",
       "      <th>Previous_Field_Studies</th>\n",
       "      <th>is_Portuguese</th>\n",
       "      <th>is_After_Working_Hours</th>\n",
       "      <th>is_Fully_In_Person</th>\n",
       "      <th>Previous_Analytics_Jobs</th>\n",
       "      <th>Previous_Jobs_in_Partners</th>\n",
       "      <th>nivelInglesCompreensao</th>\n",
       "      <th>nivelInglesEscrita</th>\n",
       "      <th>HighestAcademicDegree</th>\n",
       "      <th>idgenero</th>\n",
       "      <th>datacandidaturafim_month</th>\n",
       "    </tr>\n",
       "  </thead>\n",
       "  <tbody>\n",
       "    <tr>\n",
       "      <th>13177</th>\n",
       "      <td>0.5</td>\n",
       "      <td>0.484747</td>\n",
       "      <td>0.103108</td>\n",
       "      <td>0.269788</td>\n",
       "      <td>0.598575</td>\n",
       "      <td>0.021505</td>\n",
       "      <td>0.439560</td>\n",
       "      <td>0.0</td>\n",
       "      <td>0.770000</td>\n",
       "      <td>0.407954</td>\n",
       "      <td>0.076175</td>\n",
       "      <td>0.008825</td>\n",
       "      <td>0.300000</td>\n",
       "      <td>0</td>\n",
       "      <td>0</td>\n",
       "      <td>0</td>\n",
       "      <td>1</td>\n",
       "      <td>0</td>\n",
       "      <td>0</td>\n",
       "      <td>1</td>\n",
       "      <td>1</td>\n",
       "      <td>0</td>\n",
       "      <td>0.6</td>\n",
       "      <td>0.4</td>\n",
       "      <td>0.6</td>\n",
       "      <td>0.5</td>\n",
       "      <td>0.454545</td>\n",
       "    </tr>\n",
       "    <tr>\n",
       "      <th>3551</th>\n",
       "      <td>0.0</td>\n",
       "      <td>1.000000</td>\n",
       "      <td>0.132676</td>\n",
       "      <td>0.412207</td>\n",
       "      <td>0.973872</td>\n",
       "      <td>0.384409</td>\n",
       "      <td>0.524725</td>\n",
       "      <td>0.0</td>\n",
       "      <td>0.870000</td>\n",
       "      <td>0.083090</td>\n",
       "      <td>0.413010</td>\n",
       "      <td>0.854924</td>\n",
       "      <td>0.600000</td>\n",
       "      <td>1</td>\n",
       "      <td>0</td>\n",
       "      <td>0</td>\n",
       "      <td>0</td>\n",
       "      <td>0</td>\n",
       "      <td>0</td>\n",
       "      <td>1</td>\n",
       "      <td>1</td>\n",
       "      <td>0</td>\n",
       "      <td>0.8</td>\n",
       "      <td>0.6</td>\n",
       "      <td>0.6</td>\n",
       "      <td>0.5</td>\n",
       "      <td>0.181818</td>\n",
       "    </tr>\n",
       "    <tr>\n",
       "      <th>11692</th>\n",
       "      <td>0.0</td>\n",
       "      <td>0.128217</td>\n",
       "      <td>0.326763</td>\n",
       "      <td>0.272018</td>\n",
       "      <td>0.690024</td>\n",
       "      <td>1.000000</td>\n",
       "      <td>0.527473</td>\n",
       "      <td>0.0</td>\n",
       "      <td>0.630000</td>\n",
       "      <td>0.497439</td>\n",
       "      <td>0.094176</td>\n",
       "      <td>0.666784</td>\n",
       "      <td>0.600000</td>\n",
       "      <td>1</td>\n",
       "      <td>0</td>\n",
       "      <td>0</td>\n",
       "      <td>0</td>\n",
       "      <td>0</td>\n",
       "      <td>0</td>\n",
       "      <td>1</td>\n",
       "      <td>0</td>\n",
       "      <td>0</td>\n",
       "      <td>0.4</td>\n",
       "      <td>0.4</td>\n",
       "      <td>0.6</td>\n",
       "      <td>0.0</td>\n",
       "      <td>0.090909</td>\n",
       "    </tr>\n",
       "    <tr>\n",
       "      <th>1313</th>\n",
       "      <td>0.5</td>\n",
       "      <td>0.495234</td>\n",
       "      <td>0.104625</td>\n",
       "      <td>0.096990</td>\n",
       "      <td>0.136580</td>\n",
       "      <td>0.193548</td>\n",
       "      <td>0.505495</td>\n",
       "      <td>0.5</td>\n",
       "      <td>0.650000</td>\n",
       "      <td>0.000000</td>\n",
       "      <td>0.211932</td>\n",
       "      <td>0.110131</td>\n",
       "      <td>0.700000</td>\n",
       "      <td>0</td>\n",
       "      <td>0</td>\n",
       "      <td>0</td>\n",
       "      <td>0</td>\n",
       "      <td>1</td>\n",
       "      <td>0</td>\n",
       "      <td>1</td>\n",
       "      <td>0</td>\n",
       "      <td>0</td>\n",
       "      <td>0.4</td>\n",
       "      <td>0.4</td>\n",
       "      <td>0.8</td>\n",
       "      <td>0.5</td>\n",
       "      <td>0.909091</td>\n",
       "    </tr>\n",
       "    <tr>\n",
       "      <th>2880</th>\n",
       "      <td>1.0</td>\n",
       "      <td>1.000000</td>\n",
       "      <td>0.093252</td>\n",
       "      <td>0.255295</td>\n",
       "      <td>0.345606</td>\n",
       "      <td>0.010753</td>\n",
       "      <td>0.505495</td>\n",
       "      <td>0.5</td>\n",
       "      <td>0.746667</td>\n",
       "      <td>0.407954</td>\n",
       "      <td>0.076175</td>\n",
       "      <td>0.374162</td>\n",
       "      <td>0.666667</td>\n",
       "      <td>1</td>\n",
       "      <td>0</td>\n",
       "      <td>0</td>\n",
       "      <td>1</td>\n",
       "      <td>0</td>\n",
       "      <td>0</td>\n",
       "      <td>1</td>\n",
       "      <td>0</td>\n",
       "      <td>1</td>\n",
       "      <td>1.0</td>\n",
       "      <td>1.0</td>\n",
       "      <td>0.8</td>\n",
       "      <td>0.0</td>\n",
       "      <td>0.636364</td>\n",
       "    </tr>\n",
       "    <tr>\n",
       "      <th>...</th>\n",
       "      <td>...</td>\n",
       "      <td>...</td>\n",
       "      <td>...</td>\n",
       "      <td>...</td>\n",
       "      <td>...</td>\n",
       "      <td>...</td>\n",
       "      <td>...</td>\n",
       "      <td>...</td>\n",
       "      <td>...</td>\n",
       "      <td>...</td>\n",
       "      <td>...</td>\n",
       "      <td>...</td>\n",
       "      <td>...</td>\n",
       "      <td>...</td>\n",
       "      <td>...</td>\n",
       "      <td>...</td>\n",
       "      <td>...</td>\n",
       "      <td>...</td>\n",
       "      <td>...</td>\n",
       "      <td>...</td>\n",
       "      <td>...</td>\n",
       "      <td>...</td>\n",
       "      <td>...</td>\n",
       "      <td>...</td>\n",
       "      <td>...</td>\n",
       "      <td>...</td>\n",
       "      <td>...</td>\n",
       "    </tr>\n",
       "    <tr>\n",
       "      <th>1502</th>\n",
       "      <td>0.5</td>\n",
       "      <td>1.000000</td>\n",
       "      <td>0.128886</td>\n",
       "      <td>0.290970</td>\n",
       "      <td>0.497625</td>\n",
       "      <td>0.268817</td>\n",
       "      <td>0.505495</td>\n",
       "      <td>0.5</td>\n",
       "      <td>0.865000</td>\n",
       "      <td>0.069639</td>\n",
       "      <td>0.354671</td>\n",
       "      <td>0.374162</td>\n",
       "      <td>0.400000</td>\n",
       "      <td>1</td>\n",
       "      <td>0</td>\n",
       "      <td>0</td>\n",
       "      <td>0</td>\n",
       "      <td>0</td>\n",
       "      <td>0</td>\n",
       "      <td>1</td>\n",
       "      <td>0</td>\n",
       "      <td>0</td>\n",
       "      <td>0.8</td>\n",
       "      <td>0.8</td>\n",
       "      <td>0.6</td>\n",
       "      <td>0.5</td>\n",
       "      <td>0.090909</td>\n",
       "    </tr>\n",
       "    <tr>\n",
       "      <th>4748</th>\n",
       "      <td>0.0</td>\n",
       "      <td>0.738799</td>\n",
       "      <td>0.053071</td>\n",
       "      <td>0.259755</td>\n",
       "      <td>0.460808</td>\n",
       "      <td>0.043011</td>\n",
       "      <td>0.582418</td>\n",
       "      <td>0.0</td>\n",
       "      <td>0.720000</td>\n",
       "      <td>0.276304</td>\n",
       "      <td>0.636048</td>\n",
       "      <td>0.037769</td>\n",
       "      <td>0.600000</td>\n",
       "      <td>1</td>\n",
       "      <td>0</td>\n",
       "      <td>0</td>\n",
       "      <td>0</td>\n",
       "      <td>0</td>\n",
       "      <td>0</td>\n",
       "      <td>1</td>\n",
       "      <td>0</td>\n",
       "      <td>0</td>\n",
       "      <td>1.0</td>\n",
       "      <td>1.0</td>\n",
       "      <td>0.6</td>\n",
       "      <td>0.0</td>\n",
       "      <td>0.545455</td>\n",
       "    </tr>\n",
       "    <tr>\n",
       "      <th>2296</th>\n",
       "      <td>0.0</td>\n",
       "      <td>0.034318</td>\n",
       "      <td>0.128127</td>\n",
       "      <td>0.415831</td>\n",
       "      <td>0.984561</td>\n",
       "      <td>0.236559</td>\n",
       "      <td>0.560440</td>\n",
       "      <td>0.0</td>\n",
       "      <td>0.700000</td>\n",
       "      <td>0.000000</td>\n",
       "      <td>0.211932</td>\n",
       "      <td>0.079068</td>\n",
       "      <td>0.400000</td>\n",
       "      <td>0</td>\n",
       "      <td>0</td>\n",
       "      <td>0</td>\n",
       "      <td>0</td>\n",
       "      <td>1</td>\n",
       "      <td>0</td>\n",
       "      <td>1</td>\n",
       "      <td>0</td>\n",
       "      <td>0</td>\n",
       "      <td>0.8</td>\n",
       "      <td>0.8</td>\n",
       "      <td>0.4</td>\n",
       "      <td>0.5</td>\n",
       "      <td>0.272727</td>\n",
       "    </tr>\n",
       "    <tr>\n",
       "      <th>11020</th>\n",
       "      <td>1.0</td>\n",
       "      <td>0.790753</td>\n",
       "      <td>0.097043</td>\n",
       "      <td>0.148272</td>\n",
       "      <td>0.086698</td>\n",
       "      <td>0.000000</td>\n",
       "      <td>0.439560</td>\n",
       "      <td>0.0</td>\n",
       "      <td>0.866667</td>\n",
       "      <td>0.000000</td>\n",
       "      <td>0.211932</td>\n",
       "      <td>1.000000</td>\n",
       "      <td>0.666667</td>\n",
       "      <td>1</td>\n",
       "      <td>0</td>\n",
       "      <td>0</td>\n",
       "      <td>1</td>\n",
       "      <td>1</td>\n",
       "      <td>1</td>\n",
       "      <td>1</td>\n",
       "      <td>0</td>\n",
       "      <td>0</td>\n",
       "      <td>0.6</td>\n",
       "      <td>0.4</td>\n",
       "      <td>0.8</td>\n",
       "      <td>0.0</td>\n",
       "      <td>0.636364</td>\n",
       "    </tr>\n",
       "    <tr>\n",
       "      <th>5183</th>\n",
       "      <td>0.0</td>\n",
       "      <td>1.000000</td>\n",
       "      <td>0.093252</td>\n",
       "      <td>0.255295</td>\n",
       "      <td>0.345606</td>\n",
       "      <td>0.010753</td>\n",
       "      <td>0.505495</td>\n",
       "      <td>0.0</td>\n",
       "      <td>0.300000</td>\n",
       "      <td>0.407954</td>\n",
       "      <td>0.076175</td>\n",
       "      <td>0.854924</td>\n",
       "      <td>0.600000</td>\n",
       "      <td>1</td>\n",
       "      <td>0</td>\n",
       "      <td>0</td>\n",
       "      <td>1</td>\n",
       "      <td>0</td>\n",
       "      <td>0</td>\n",
       "      <td>1</td>\n",
       "      <td>0</td>\n",
       "      <td>0</td>\n",
       "      <td>0.8</td>\n",
       "      <td>0.6</td>\n",
       "      <td>0.6</td>\n",
       "      <td>0.0</td>\n",
       "      <td>0.000000</td>\n",
       "    </tr>\n",
       "  </tbody>\n",
       "</table>\n",
       "<p>1799 rows × 27 columns</p>\n",
       "</div>"
      ],
      "text/plain": [
       "       NumberAcademicExperiences      Rank  Students to Staff Ratio  Teaching  \\\n",
       "13177                        0.5  0.484747                 0.103108  0.269788   \n",
       "3551                         0.0  1.000000                 0.132676  0.412207   \n",
       "11692                        0.0  0.128217                 0.326763  0.272018   \n",
       "1313                         0.5  0.495234                 0.104625  0.096990   \n",
       "2880                         1.0  1.000000                 0.093252  0.255295   \n",
       "...                          ...       ...                      ...       ...   \n",
       "1502                         0.5  1.000000                 0.128886  0.290970   \n",
       "4748                         0.0  0.738799                 0.053071  0.259755   \n",
       "2296                         0.0  0.034318                 0.128127  0.415831   \n",
       "11020                        1.0  0.790753                 0.097043  0.148272   \n",
       "5183                         0.0  1.000000                 0.093252  0.255295   \n",
       "\n",
       "       Industry Impact  Percentage_International_Students  \\\n",
       "13177         0.598575                           0.021505   \n",
       "3551          0.973872                           0.384409   \n",
       "11692         0.690024                           1.000000   \n",
       "1313          0.136580                           0.193548   \n",
       "2880          0.345606                           0.010753   \n",
       "...                ...                                ...   \n",
       "1502          0.497625                           0.268817   \n",
       "4748          0.460808                           0.043011   \n",
       "2296          0.984561                           0.236559   \n",
       "11020         0.086698                           0.000000   \n",
       "5183          0.345606                           0.010753   \n",
       "\n",
       "       Percentage_Female_Students  Non_Finished_Programs  AverageScaledGrade  \\\n",
       "13177                    0.439560                    0.0            0.770000   \n",
       "3551                     0.524725                    0.0            0.870000   \n",
       "11692                    0.527473                    0.0            0.630000   \n",
       "1313                     0.505495                    0.5            0.650000   \n",
       "2880                     0.505495                    0.5            0.746667   \n",
       "...                           ...                    ...                 ...   \n",
       "1502                     0.505495                    0.5            0.865000   \n",
       "4748                     0.582418                    0.0            0.720000   \n",
       "2296                     0.560440                    0.0            0.700000   \n",
       "11020                    0.439560                    0.0            0.866667   \n",
       "5183                     0.505495                    0.0            0.300000   \n",
       "\n",
       "       countries_dist  countries_GDP_per_capita  Program_Name  \\\n",
       "13177        0.407954                  0.076175      0.008825   \n",
       "3551         0.083090                  0.413010      0.854924   \n",
       "11692        0.497439                  0.094176      0.666784   \n",
       "1313         0.000000                  0.211932      0.110131   \n",
       "2880         0.407954                  0.076175      0.374162   \n",
       "...               ...                       ...           ...   \n",
       "1502         0.069639                  0.354671      0.374162   \n",
       "4748         0.276304                  0.636048      0.037769   \n",
       "2296         0.000000                  0.211932      0.079068   \n",
       "11020        0.000000                  0.211932      1.000000   \n",
       "5183         0.407954                  0.076175      0.854924   \n",
       "\n",
       "       AverageAcademicDegree  dprograma  Previous_IMS_Student  \\\n",
       "13177               0.300000          0                     0   \n",
       "3551                0.600000          1                     0   \n",
       "11692               0.600000          1                     0   \n",
       "1313                0.700000          0                     0   \n",
       "2880                0.666667          1                     0   \n",
       "...                      ...        ...                   ...   \n",
       "1502                0.400000          1                     0   \n",
       "4748                0.600000          1                     0   \n",
       "2296                0.400000          0                     0   \n",
       "11020               0.666667          1                     0   \n",
       "5183                0.600000          1                     0   \n",
       "\n",
       "       Previous_Math_Studies  Previous_Field_Studies  is_Portuguese  \\\n",
       "13177                      0                       1              0   \n",
       "3551                       0                       0              0   \n",
       "11692                      0                       0              0   \n",
       "1313                       0                       0              1   \n",
       "2880                       0                       1              0   \n",
       "...                      ...                     ...            ...   \n",
       "1502                       0                       0              0   \n",
       "4748                       0                       0              0   \n",
       "2296                       0                       0              1   \n",
       "11020                      0                       1              1   \n",
       "5183                       0                       1              0   \n",
       "\n",
       "       is_After_Working_Hours  is_Fully_In_Person  Previous_Analytics_Jobs  \\\n",
       "13177                       0                   1                        1   \n",
       "3551                        0                   1                        1   \n",
       "11692                       0                   1                        0   \n",
       "1313                        0                   1                        0   \n",
       "2880                        0                   1                        0   \n",
       "...                       ...                 ...                      ...   \n",
       "1502                        0                   1                        0   \n",
       "4748                        0                   1                        0   \n",
       "2296                        0                   1                        0   \n",
       "11020                       1                   1                        0   \n",
       "5183                        0                   1                        0   \n",
       "\n",
       "       Previous_Jobs_in_Partners  nivelInglesCompreensao  nivelInglesEscrita  \\\n",
       "13177                          0                     0.6                 0.4   \n",
       "3551                           0                     0.8                 0.6   \n",
       "11692                          0                     0.4                 0.4   \n",
       "1313                           0                     0.4                 0.4   \n",
       "2880                           1                     1.0                 1.0   \n",
       "...                          ...                     ...                 ...   \n",
       "1502                           0                     0.8                 0.8   \n",
       "4748                           0                     1.0                 1.0   \n",
       "2296                           0                     0.8                 0.8   \n",
       "11020                          0                     0.6                 0.4   \n",
       "5183                           0                     0.8                 0.6   \n",
       "\n",
       "       HighestAcademicDegree  idgenero  datacandidaturafim_month  \n",
       "13177                    0.6       0.5                  0.454545  \n",
       "3551                     0.6       0.5                  0.181818  \n",
       "11692                    0.6       0.0                  0.090909  \n",
       "1313                     0.8       0.5                  0.909091  \n",
       "2880                     0.8       0.0                  0.636364  \n",
       "...                      ...       ...                       ...  \n",
       "1502                     0.6       0.5                  0.090909  \n",
       "4748                     0.6       0.0                  0.545455  \n",
       "2296                     0.4       0.5                  0.272727  \n",
       "11020                    0.8       0.0                  0.636364  \n",
       "5183                     0.6       0.0                  0.000000  \n",
       "\n",
       "[1799 rows x 27 columns]"
      ]
     },
     "execution_count": 24,
     "metadata": {},
     "output_type": "execute_result"
    }
   ],
   "source": [
    "dbscan_out = DBSCAN(eps = 0.3, min_samples = 2 * len(numerical_variables_admissions) - 1).fit(\n",
    "    X_admissions_train_scaled[numerical_variables_admissions])\n",
    "\n",
    "outliers_dbscan = X_admissions_train_scaled[dbscan_out.labels_ == -1]\n",
    "outliers_dbscan"
   ]
  },
  {
   "cell_type": "code",
   "execution_count": 25,
   "id": "fba8be66",
   "metadata": {},
   "outputs": [
    {
     "data": {
      "text/plain": [
       "9483"
      ]
     },
     "execution_count": 25,
     "metadata": {},
     "output_type": "execute_result"
    }
   ],
   "source": [
    "len(X_admissions_train_scaled)"
   ]
  },
  {
   "cell_type": "markdown",
   "id": "54864b40",
   "metadata": {},
   "source": [
    "Since DBSCAN identified almost 19% of our dataset as being outliers (even with a higher threshold), __we will choose not to remove any observation from the dataset__. It is not clear that there are applicants whose characteristics fall far from the common behaviour, and therefore we will allow our prediction models to learn using all these observations.\n",
    "\n",
    "Following this, let's now move to our last preprocessing stage, oversampling.\n",
    "\n",
    "## <font color='#BFD62F'>3.8. Oversampling</font> <a class=\"anchor\" id=\"oversampling\"></a>\n",
    "[Back to Contents](#toc)\n",
    "\n",
    "As we have been able to learn from our interventions so far, there is a notorious imbalance towards the positive class of our dataset - which represents the applicants that were admitted to Nova IMS' postgraduates and masters' programs. Our training data contains much more of these observations than rejected candidates, which will naturally lead the prediction models to focus more on this majority class. Since this deviates from our intended analysis (we are equally interested in predicting admitted and rejected students*), we will check if it is beneficial to resort to oversampling techniques that will balance the weight of each target class in the total number of observations. Undersampling (or a mix of both approaches) was not considered due to our small number of observations, which would then leave us with even less samples to train and validate our predictions on. To that extent, we will test the __Synthetic Minority Over-sampling Technique (SMOTE)__, __Adaptive Synthetic (ADASYN)__, __Random Oversampler__, __SMOTE for Nominal and Continuous (SMOTENC)__, __Borderline SMOTE__, __K-Means SMOTE__, and __SVM-SMOTE__ algorithms against a baseline Neural Network with default parameters. The technique returning the highest F1 score (assessed through the validation dataset) will be chosen to resample our dataset.\n",
    "\n",
    "This step was done after feature selection following the conclusions of [Tsai et al. (2024)](https://doi.org/10.1016/j.asoc.2024.111267) and our own conclusions taken from [Blagus & Lusa's (2013)](https://doi.org/10.1186/1471-2105-14-106) work.\n",
    "\n",
    "*it is as important to predict admitted and rejected applicants since Nova IMS is interested in accepting students with a strong academic potential, but also on not letting go of individuals that exhibit positive academic capabilities."
   ]
  },
  {
   "cell_type": "code",
   "execution_count": 26,
   "id": "55f31631",
   "metadata": {},
   "outputs": [
    {
     "name": "stdout",
     "output_type": "stream",
     "text": [
      "Oversampling Baseline Model | F1 Score: 0.8897 | Precision: 0.8380 | Recall: 0.9481\n"
     ]
    }
   ],
   "source": [
    "# obm stands for \"Oversampling Baseline Model\"\n",
    "obm = MLPClassifier(random_state = 92)\n",
    "obm.fit(X_admissions_train_scaled, y_admissions_train)\n",
    "\n",
    "y_pred_obm = obm.predict(X_admissions_val_scaled)\n",
    "obm_f1 = f1_score(y_admissions_val, y_pred_obm)\n",
    "obm_precision = precision_score(y_admissions_val, y_pred_obm)\n",
    "obm_recall = recall_score(y_admissions_val, y_pred_obm)\n",
    "\n",
    "print(f\"Oversampling Baseline Model | F1 Score: {obm_f1:.4f} | Precision: {obm_precision:.4f} | Recall: {obm_recall:.4f}\")"
   ]
  },
  {
   "cell_type": "code",
   "execution_count": 27,
   "id": "7527c19c",
   "metadata": {},
   "outputs": [
    {
     "name": "stdout",
     "output_type": "stream",
     "text": [
      "Best sampling technique: KMeansSMOTE with F1 score: 0.8644400785854617\n"
     ]
    },
    {
     "data": {
      "text/html": [
       "<div>\n",
       "<style scoped>\n",
       "    .dataframe tbody tr th:only-of-type {\n",
       "        vertical-align: middle;\n",
       "    }\n",
       "\n",
       "    .dataframe tbody tr th {\n",
       "        vertical-align: top;\n",
       "    }\n",
       "\n",
       "    .dataframe thead th {\n",
       "        text-align: right;\n",
       "    }\n",
       "</style>\n",
       "<table border=\"1\" class=\"dataframe\">\n",
       "  <thead>\n",
       "    <tr style=\"text-align: right;\">\n",
       "      <th></th>\n",
       "      <th>Sampler</th>\n",
       "      <th>F1 score</th>\n",
       "      <th>Precision</th>\n",
       "      <th>Recall</th>\n",
       "    </tr>\n",
       "  </thead>\n",
       "  <tbody>\n",
       "    <tr>\n",
       "      <th>5</th>\n",
       "      <td>KMeansSMOTE</td>\n",
       "      <td>0.864440</td>\n",
       "      <td>0.851190</td>\n",
       "      <td>0.878109</td>\n",
       "    </tr>\n",
       "    <tr>\n",
       "      <th>6</th>\n",
       "      <td>SVMSMOTE</td>\n",
       "      <td>0.848494</td>\n",
       "      <td>0.867265</td>\n",
       "      <td>0.830519</td>\n",
       "    </tr>\n",
       "    <tr>\n",
       "      <th>1</th>\n",
       "      <td>ADASYN</td>\n",
       "      <td>0.807921</td>\n",
       "      <td>0.873350</td>\n",
       "      <td>0.751612</td>\n",
       "    </tr>\n",
       "    <tr>\n",
       "      <th>3</th>\n",
       "      <td>SMOTENC</td>\n",
       "      <td>0.799472</td>\n",
       "      <td>0.864383</td>\n",
       "      <td>0.743629</td>\n",
       "    </tr>\n",
       "    <tr>\n",
       "      <th>2</th>\n",
       "      <td>RandomOverSampler</td>\n",
       "      <td>0.781320</td>\n",
       "      <td>0.890416</td>\n",
       "      <td>0.696039</td>\n",
       "    </tr>\n",
       "    <tr>\n",
       "      <th>4</th>\n",
       "      <td>BorderlineSMOTE</td>\n",
       "      <td>0.775779</td>\n",
       "      <td>0.888625</td>\n",
       "      <td>0.688364</td>\n",
       "    </tr>\n",
       "    <tr>\n",
       "      <th>0</th>\n",
       "      <td>SMOTE</td>\n",
       "      <td>0.772452</td>\n",
       "      <td>0.885012</td>\n",
       "      <td>0.685293</td>\n",
       "    </tr>\n",
       "  </tbody>\n",
       "</table>\n",
       "</div>"
      ],
      "text/plain": [
       "             Sampler  F1 score  Precision    Recall\n",
       "5        KMeansSMOTE  0.864440   0.851190  0.878109\n",
       "6           SVMSMOTE  0.848494   0.867265  0.830519\n",
       "1             ADASYN  0.807921   0.873350  0.751612\n",
       "3            SMOTENC  0.799472   0.864383  0.743629\n",
       "2  RandomOverSampler  0.781320   0.890416  0.696039\n",
       "4    BorderlineSMOTE  0.775779   0.888625  0.688364\n",
       "0              SMOTE  0.772452   0.885012  0.685293"
      ]
     },
     "execution_count": 27,
     "metadata": {},
     "output_type": "execute_result"
    }
   ],
   "source": [
    "# SVMSMOTE was facing some issues handling columns with uint8 data type\n",
    "for col in X_admissions_train_scaled.select_dtypes(include = [\"uint8\"]).columns:\n",
    "    X_admissions_train_scaled[col] = X_admissions_train_scaled[col].astype(\"int8\")\n",
    "\n",
    "tf.evaluate_oversampling_techniques(X_admissions_train_scaled,\n",
    "                                    X_admissions_val_scaled,\n",
    "                                    y_admissions_train,\n",
    "                                    y_admissions_val,\n",
    "                                    MLPClassifier(random_state = 92),\n",
    "                                    categorical_variables_admissions,\n",
    "                                    neighbors = 10,\n",
    "                                    random_seed = 92)"
   ]
  },
  {
   "cell_type": "markdown",
   "id": "6fad8e85",
   "metadata": {},
   "source": [
    "Contrary to our expectations, none of the oversampling techniques outperformed the baseline model employed. For this reason, and considering that the trade-off between precision and recall is not extremely significant in the baseline model (in fact, there are oversmpling techniques that attained more imbalanced scores), we will proceed to the modelling stage using the imbalanced dataset.\n",
    "\n",
    "## <font color='#BFD62F'>3.9. Storing the Dataframes</font> <a class=\"anchor\" id=\"storing\"></a>\n",
    "[Back to Contents](#toc)\n",
    "\n",
    "Marking the end of our preprocessing, we will store the dataframes to be used for modelling in the next notebook. See you there! 👋"
   ]
  },
  {
   "cell_type": "code",
   "execution_count": 28,
   "id": "762f8864",
   "metadata": {},
   "outputs": [
    {
     "name": "stdout",
     "output_type": "stream",
     "text": [
      "Stored 'X_admissions_train_scaled' (DataFrame)\n",
      "Stored 'X_admissions_val_scaled' (DataFrame)\n",
      "Stored 'y_admissions_train' (Series)\n",
      "Stored 'y_admissions_val' (Series)\n",
      "Stored 'numerical_variables_admissions' (list)\n",
      "Stored 'binary_variables_admissions' (list)\n",
      "Stored 'categorical_variables_admissions' (list)\n"
     ]
    }
   ],
   "source": [
    "%store X_admissions_train_scaled\n",
    "%store X_admissions_val_scaled\n",
    "%store y_admissions_train\n",
    "%store y_admissions_val\n",
    "\n",
    "#%store X_admissions_train\n",
    "#%store X_admissions_val\n",
    "\n",
    "%store numerical_variables_admissions\n",
    "%store binary_variables_admissions\n",
    "%store categorical_variables_admissions"
   ]
  }
 ],
 "metadata": {
  "kernelspec": {
   "display_name": "nova",
   "language": "python",
   "name": "python3"
  },
  "language_info": {
   "codemirror_mode": {
    "name": "ipython",
    "version": 3
   },
   "file_extension": ".py",
   "mimetype": "text/x-python",
   "name": "python",
   "nbconvert_exporter": "python",
   "pygments_lexer": "ipython3",
   "version": "3.11.8"
  }
 },
 "nbformat": 4,
 "nbformat_minor": 5
}
