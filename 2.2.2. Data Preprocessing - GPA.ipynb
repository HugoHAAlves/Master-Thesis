{
 "cells": [
  {
   "cell_type": "markdown",
   "id": "55ded28c",
   "metadata": {},
   "source": [
    "# <font color='#000000'>Master Thesis Hugo Alves | <span style=\"color:#BFD62F;\">__Nova__</span> <span style=\"color:#5C666C;\">__IMS__</span></font>\n",
    "\n",
    "Welcome to the continuation of the second notebook developed for this project. We (Professor Roberto Henriques, Professor Ricardo Santos, and Hugo Alves) aim to develop a machine learning (ML) framework to predict student admissions to postgraduate and masters' programs at Nova IMS, as well as the final grade point average (GPA) of those who are accepted.\n",
    "\n",
    "<br>\n",
    "<div align=\"center\">\n",
    "  <img src=\"https://i.ibb.co/dMnkW88/Notebooks-Workflow.png\" alt=\"Workflow\" width=\"800\" />\n",
    "</div>\n",
    "<br>\n",
    "\n",
    "After our initial exploration of the available data, we can now shift our focus to __data preparation and preprocessing__. Here, we will deal with the transformations that are exclusive to the task of predicting the students' final GPAs. Enjoy!\n",
    "\n",
    "\n",
    "# <font color=\"#5C666C\">Contents</font> <a class=\"anchor\" id=\"toc\"></a>\n",
    "[Initial Setup](#setup)<br>\n",
    "- [ Library and Functions Import](#library)<br>\n",
    "- [ Retrieving the Dataframes](#dataframes)<br>\n",
    "\n",
    "[3. Data Preprocessing](#preprocessing)<br>\n",
    "- [3.5. Scaling](#scaling)<br>\n",
    "- [3.6. Feature Selection](#selection)<br>\n",
    "  - [3.6.1. Spearman Correlation (between independent variables)](#spearmanredundant)<br>\n",
    "  - [3.6.2. Spearman Correlation (against the dependent variable)](#spearmanrelevant)<br>\n",
    "  - [3.6.3. ANOVA](#anova)<br>\n",
    "  - [3.6.4. Point Biserial Correlation](#biserial)<br>\n",
    "  - [3.6.5. Recursive Feature Elimination - Linear Regression](#rfelr)<br>\n",
    "  - [3.6.6. Recursive Feature Elimination - Support Vector Machines](#rfesvm)<br>\n",
    "  - [3.6.7. Random Forest](#rf)<br>\n",
    "  - [3.6.8. Least Absolute Shrinkage and Selection Operator (LASSO)](#lasso)<br>\n",
    "  - [3.6.9. Conclusion](#conclusion)<br>\n",
    "- [3.7. DBSCAN for Outlier Removal](#dbscan)<br>\n",
    "- [3.8. Storing the Dataframes](#storing)<br>\n",
    "\n",
    "</div>"
   ]
  },
  {
   "cell_type": "markdown",
   "id": "461b0e50",
   "metadata": {},
   "source": [
    "# <font color=\"#BFD62F\">_____________</font>\n",
    "# <font color='#5C666C'>Initial Setup</font> <a class=\"anchor\" id=\"setup\"></a>\n",
    "[Back to Contents](#toc)"
   ]
  },
  {
   "cell_type": "markdown",
   "id": "f4b38df1",
   "metadata": {},
   "source": [
    "## <font color='#BFD62F'>Library and Functions Import</font> <a class=\"anchor\" id=\"library\"></a>\n",
    "[Back to Contents](#toc)"
   ]
  },
  {
   "cell_type": "code",
   "execution_count": 1,
   "id": "a9c75b9d",
   "metadata": {},
   "outputs": [],
   "source": [
    "#!python --version"
   ]
  },
  {
   "cell_type": "markdown",
   "id": "63a71e8c-cecc-4e1d-8728-acb3ead56265",
   "metadata": {},
   "source": [
    "We will be using the Python version 3.11.8."
   ]
  },
  {
   "cell_type": "code",
   "execution_count": 2,
   "id": "bc1c5a41-f01c-4b7a-af37-68927406da99",
   "metadata": {},
   "outputs": [],
   "source": [
    "#! pip install pandas==2.2.1\n",
    "#! pip install numpy==1.24.4\n",
    "#! pip install matplotlib==3.8.3\n",
    "#! pip install seaborn==0.12.2\n",
    "#! pip install plotly==5.20.0\n",
    "#! pip install tenacity==8.2.2\n",
    "#! pip install openpyxl>=3.1.0\n",
    "#% pip install nbformat>=4.3.0\n",
    "#! pip install rapidfuzz==3.11.0\n",
    "#! pip install xlrd==2.0.1\n",
    "#! pip install sklearn==1.2.2\n",
    "#! pip install imblearn==0.11.0"
   ]
  },
  {
   "cell_type": "code",
   "execution_count": 3,
   "id": "a6589c30-dc4d-40bb-85e3-10099c1ba040",
   "metadata": {},
   "outputs": [],
   "source": [
    "%run Imports"
   ]
  },
  {
   "cell_type": "code",
   "execution_count": 4,
   "id": "c2a8a3fc",
   "metadata": {},
   "outputs": [],
   "source": [
    "import Functions as tf"
   ]
  },
  {
   "cell_type": "markdown",
   "id": "4c5d92d9",
   "metadata": {},
   "source": [
    "## <font color='#BFD62F'>Retrieving the Dataframes </font> <a class=\"anchor\" id=\"dataframes\"></a>\n",
    "[Back to Contents](#toc)\n",
    "\n",
    "Let's retrieve the dataframes that we used in the previous notebook."
   ]
  },
  {
   "cell_type": "code",
   "execution_count": 5,
   "id": "7967bc06",
   "metadata": {},
   "outputs": [],
   "source": [
    "%store -r df_grades\n",
    "\n",
    "%store -r X_grades_train\n",
    "%store -r X_grades_val\n",
    "%store -r y_grades_train\n",
    "%store -r y_grades_val"
   ]
  },
  {
   "cell_type": "markdown",
   "id": "dc8d8019-5c97-497c-82f9-9b7387c932c6",
   "metadata": {},
   "source": [
    "# <font color='#BFD62F'>_________________________________________</font>\n",
    "# <font color='#000000'>3. Data Preparation and Preprocessing </font> <a class=\"anchor\" id=\"preprocessing\"></a>\n",
    "[Back to Contents](#toc)\n",
    "\n",
    "<br>\n",
    "\n",
    "## <font color='#BFD62F'>3.5. Scaling</font> <a class=\"anchor\" id=\"scaling\"></a>\n",
    "[Back to Contents](#toc)\n",
    "\n",
    "Our first step (of this specific preprocessing stage) will be to scale our data so that all variables fall in a range between 0 and 1. The most direct alternative to this option would be to normalize data. However, since the number of variables that we expect to follow a Gaussian distribution is very reduced, this alternative will be disconsidered."
   ]
  },
  {
   "cell_type": "code",
   "execution_count": 6,
   "id": "51494a2c",
   "metadata": {},
   "outputs": [
    {
     "data": {
      "text/html": [
       "<div>\n",
       "<style scoped>\n",
       "    .dataframe tbody tr th:only-of-type {\n",
       "        vertical-align: middle;\n",
       "    }\n",
       "\n",
       "    .dataframe tbody tr th {\n",
       "        vertical-align: top;\n",
       "    }\n",
       "\n",
       "    .dataframe thead th {\n",
       "        text-align: right;\n",
       "    }\n",
       "</style>\n",
       "<table border=\"1\" class=\"dataframe\">\n",
       "  <thead>\n",
       "    <tr style=\"text-align: right;\">\n",
       "      <th></th>\n",
       "      <th>idgenero</th>\n",
       "      <th>nivelInglesCompreensao</th>\n",
       "      <th>nivelInglesFala</th>\n",
       "      <th>nivelInglesEscrita</th>\n",
       "      <th>dprograma</th>\n",
       "      <th>NumberAcademicExperiences</th>\n",
       "      <th>NumberAcademicDegrees</th>\n",
       "      <th>HighestAcademicDegree</th>\n",
       "      <th>Rank</th>\n",
       "      <th>Student Population</th>\n",
       "      <th>Students to Staff Ratio</th>\n",
       "      <th>Overall Score</th>\n",
       "      <th>Teaching</th>\n",
       "      <th>Research Environment</th>\n",
       "      <th>Research Quality</th>\n",
       "      <th>Industry Impact</th>\n",
       "      <th>International Outlook</th>\n",
       "      <th>Percentage_International_Students</th>\n",
       "      <th>Percentage_Female_Students</th>\n",
       "      <th>Is_Ranked</th>\n",
       "      <th>Previous_IMS_Student</th>\n",
       "      <th>Previous_Data_Studies</th>\n",
       "      <th>Previous_Computer_Studies</th>\n",
       "      <th>Previous_Tech_Studies</th>\n",
       "      <th>Previous_Math_Studies</th>\n",
       "      <th>Previous_Engineering_Studies</th>\n",
       "      <th>Previous_Finance_Studies</th>\n",
       "      <th>Previous_Marketing_Studies</th>\n",
       "      <th>Previous_Field_Studies</th>\n",
       "      <th>Number_Studied_Fields</th>\n",
       "      <th>Non_Finished_Programs</th>\n",
       "      <th>Prop_Finished_Programs</th>\n",
       "      <th>AverageScaledGrade</th>\n",
       "      <th>MaxScaledGrade</th>\n",
       "      <th>MinScaledGrade</th>\n",
       "      <th>countries_region</th>\n",
       "      <th>countries_dist</th>\n",
       "      <th>countries_GDP_per_capita</th>\n",
       "      <th>is_Portuguese</th>\n",
       "      <th>datacandidaturafim_month</th>\n",
       "      <th>datacandidaturafim_day</th>\n",
       "      <th>datacandidaturafim_time_of_day</th>\n",
       "      <th>is_After_Working_Hours</th>\n",
       "      <th>is_Fully_In_Person</th>\n",
       "      <th>Program_Name</th>\n",
       "      <th>Number_Professional_Experiences</th>\n",
       "      <th>Years_of_Experience</th>\n",
       "      <th>Years_of_Longest_Prof_Experience</th>\n",
       "      <th>Working_Upon_Application</th>\n",
       "      <th>Previous_Data_Jobs</th>\n",
       "      <th>Previous_Analytics_Jobs</th>\n",
       "      <th>Previous_Computing_Jobs</th>\n",
       "      <th>Previous_Tech_Jobs</th>\n",
       "      <th>Previous_Math_Jobs</th>\n",
       "      <th>Previous_Engineering_Jobs</th>\n",
       "      <th>Previous_Finance_Jobs</th>\n",
       "      <th>Previous_Marketing_Jobs</th>\n",
       "      <th>Previous_Project_Jobs</th>\n",
       "      <th>Previous_Field_Jobs</th>\n",
       "      <th>Number_Fields_Worked</th>\n",
       "      <th>Previous_Trainee_Jobs</th>\n",
       "      <th>Previous_Jobs_in_Partners</th>\n",
       "      <th>AverageAcademicDegree</th>\n",
       "      <th>datacandidaturafim_day_of_week_sin</th>\n",
       "      <th>datacandidaturafim_day_of_week_cos</th>\n",
       "    </tr>\n",
       "  </thead>\n",
       "  <tbody>\n",
       "    <tr>\n",
       "      <th>14</th>\n",
       "      <td>0</td>\n",
       "      <td>3</td>\n",
       "      <td>3</td>\n",
       "      <td>3</td>\n",
       "      <td>1</td>\n",
       "      <td>2</td>\n",
       "      <td>1</td>\n",
       "      <td>3</td>\n",
       "      <td>68.0</td>\n",
       "      <td>25442.0</td>\n",
       "      <td>27.6</td>\n",
       "      <td>72.651497</td>\n",
       "      <td>49.599998</td>\n",
       "      <td>65.500000</td>\n",
       "      <td>96.699997</td>\n",
       "      <td>96.800003</td>\n",
       "      <td>81.900002</td>\n",
       "      <td>17.0</td>\n",
       "      <td>55.0</td>\n",
       "      <td>1</td>\n",
       "      <td>0</td>\n",
       "      <td>0</td>\n",
       "      <td>1</td>\n",
       "      <td>0</td>\n",
       "      <td>0</td>\n",
       "      <td>0</td>\n",
       "      <td>0</td>\n",
       "      <td>0</td>\n",
       "      <td>1</td>\n",
       "      <td>1</td>\n",
       "      <td>0</td>\n",
       "      <td>1.0</td>\n",
       "      <td>0.855</td>\n",
       "      <td>0.94</td>\n",
       "      <td>0.77</td>\n",
       "      <td>0</td>\n",
       "      <td>114.3257</td>\n",
       "      <td>27834.773</td>\n",
       "      <td>1</td>\n",
       "      <td>2</td>\n",
       "      <td>1</td>\n",
       "      <td>1</td>\n",
       "      <td>0</td>\n",
       "      <td>1</td>\n",
       "      <td>0.177387</td>\n",
       "      <td>3</td>\n",
       "      <td>4</td>\n",
       "      <td>1</td>\n",
       "      <td>1</td>\n",
       "      <td>0</td>\n",
       "      <td>0</td>\n",
       "      <td>0</td>\n",
       "      <td>0</td>\n",
       "      <td>0</td>\n",
       "      <td>0</td>\n",
       "      <td>0</td>\n",
       "      <td>0</td>\n",
       "      <td>0</td>\n",
       "      <td>0</td>\n",
       "      <td>0</td>\n",
       "      <td>1</td>\n",
       "      <td>0</td>\n",
       "      <td>1.5</td>\n",
       "      <td>-0.433884</td>\n",
       "      <td>-0.900969</td>\n",
       "    </tr>\n",
       "    <tr>\n",
       "      <th>15</th>\n",
       "      <td>0</td>\n",
       "      <td>5</td>\n",
       "      <td>5</td>\n",
       "      <td>5</td>\n",
       "      <td>1</td>\n",
       "      <td>1</td>\n",
       "      <td>1</td>\n",
       "      <td>3</td>\n",
       "      <td>2100.0</td>\n",
       "      <td>32590.0</td>\n",
       "      <td>16.1</td>\n",
       "      <td>57.984001</td>\n",
       "      <td>44.000000</td>\n",
       "      <td>45.200001</td>\n",
       "      <td>83.500000</td>\n",
       "      <td>71.000000</td>\n",
       "      <td>62.900002</td>\n",
       "      <td>14.0</td>\n",
       "      <td>53.0</td>\n",
       "      <td>0</td>\n",
       "      <td>0</td>\n",
       "      <td>0</td>\n",
       "      <td>0</td>\n",
       "      <td>0</td>\n",
       "      <td>0</td>\n",
       "      <td>0</td>\n",
       "      <td>0</td>\n",
       "      <td>0</td>\n",
       "      <td>0</td>\n",
       "      <td>0</td>\n",
       "      <td>0</td>\n",
       "      <td>1.0</td>\n",
       "      <td>0.750</td>\n",
       "      <td>0.75</td>\n",
       "      <td>0.75</td>\n",
       "      <td>3</td>\n",
       "      <td>5425.1890</td>\n",
       "      <td>82715.100</td>\n",
       "      <td>0</td>\n",
       "      <td>2</td>\n",
       "      <td>2</td>\n",
       "      <td>4</td>\n",
       "      <td>0</td>\n",
       "      <td>1</td>\n",
       "      <td>0.207464</td>\n",
       "      <td>1</td>\n",
       "      <td>2</td>\n",
       "      <td>2</td>\n",
       "      <td>1</td>\n",
       "      <td>0</td>\n",
       "      <td>0</td>\n",
       "      <td>0</td>\n",
       "      <td>0</td>\n",
       "      <td>0</td>\n",
       "      <td>0</td>\n",
       "      <td>0</td>\n",
       "      <td>1</td>\n",
       "      <td>0</td>\n",
       "      <td>1</td>\n",
       "      <td>1</td>\n",
       "      <td>0</td>\n",
       "      <td>0</td>\n",
       "      <td>3.0</td>\n",
       "      <td>-0.974928</td>\n",
       "      <td>-0.222521</td>\n",
       "    </tr>\n",
       "    <tr>\n",
       "      <th>25</th>\n",
       "      <td>1</td>\n",
       "      <td>4</td>\n",
       "      <td>4</td>\n",
       "      <td>4</td>\n",
       "      <td>1</td>\n",
       "      <td>1</td>\n",
       "      <td>1</td>\n",
       "      <td>2</td>\n",
       "      <td>2100.0</td>\n",
       "      <td>14080.0</td>\n",
       "      <td>14.8</td>\n",
       "      <td>32.587502</td>\n",
       "      <td>24.299999</td>\n",
       "      <td>16.100000</td>\n",
       "      <td>53.299999</td>\n",
       "      <td>36.000000</td>\n",
       "      <td>54.799999</td>\n",
       "      <td>16.0</td>\n",
       "      <td>55.0</td>\n",
       "      <td>0</td>\n",
       "      <td>0</td>\n",
       "      <td>0</td>\n",
       "      <td>0</td>\n",
       "      <td>0</td>\n",
       "      <td>0</td>\n",
       "      <td>1</td>\n",
       "      <td>0</td>\n",
       "      <td>0</td>\n",
       "      <td>1</td>\n",
       "      <td>1</td>\n",
       "      <td>0</td>\n",
       "      <td>1.0</td>\n",
       "      <td>0.650</td>\n",
       "      <td>0.65</td>\n",
       "      <td>0.65</td>\n",
       "      <td>0</td>\n",
       "      <td>114.3257</td>\n",
       "      <td>27834.773</td>\n",
       "      <td>1</td>\n",
       "      <td>2</td>\n",
       "      <td>5</td>\n",
       "      <td>0</td>\n",
       "      <td>0</td>\n",
       "      <td>1</td>\n",
       "      <td>0.207464</td>\n",
       "      <td>2</td>\n",
       "      <td>2</td>\n",
       "      <td>1</td>\n",
       "      <td>1</td>\n",
       "      <td>0</td>\n",
       "      <td>0</td>\n",
       "      <td>0</td>\n",
       "      <td>0</td>\n",
       "      <td>0</td>\n",
       "      <td>0</td>\n",
       "      <td>0</td>\n",
       "      <td>0</td>\n",
       "      <td>0</td>\n",
       "      <td>0</td>\n",
       "      <td>0</td>\n",
       "      <td>1</td>\n",
       "      <td>0</td>\n",
       "      <td>2.0</td>\n",
       "      <td>0.781832</td>\n",
       "      <td>0.623490</td>\n",
       "    </tr>\n",
       "    <tr>\n",
       "      <th>27</th>\n",
       "      <td>1</td>\n",
       "      <td>3</td>\n",
       "      <td>3</td>\n",
       "      <td>3</td>\n",
       "      <td>1</td>\n",
       "      <td>1</td>\n",
       "      <td>1</td>\n",
       "      <td>4</td>\n",
       "      <td>2100.0</td>\n",
       "      <td>18156.0</td>\n",
       "      <td>15.4</td>\n",
       "      <td>28.209499</td>\n",
       "      <td>27.500000</td>\n",
       "      <td>10.400000</td>\n",
       "      <td>43.500000</td>\n",
       "      <td>43.500000</td>\n",
       "      <td>45.599998</td>\n",
       "      <td>5.0</td>\n",
       "      <td>62.0</td>\n",
       "      <td>0</td>\n",
       "      <td>0</td>\n",
       "      <td>0</td>\n",
       "      <td>0</td>\n",
       "      <td>0</td>\n",
       "      <td>0</td>\n",
       "      <td>1</td>\n",
       "      <td>0</td>\n",
       "      <td>0</td>\n",
       "      <td>1</td>\n",
       "      <td>1</td>\n",
       "      <td>0</td>\n",
       "      <td>1.0</td>\n",
       "      <td>0.630</td>\n",
       "      <td>0.63</td>\n",
       "      <td>0.63</td>\n",
       "      <td>1</td>\n",
       "      <td>1711.9280</td>\n",
       "      <td>3967.481</td>\n",
       "      <td>0</td>\n",
       "      <td>2</td>\n",
       "      <td>5</td>\n",
       "      <td>1</td>\n",
       "      <td>0</td>\n",
       "      <td>1</td>\n",
       "      <td>0.207464</td>\n",
       "      <td>2</td>\n",
       "      <td>3</td>\n",
       "      <td>2</td>\n",
       "      <td>1</td>\n",
       "      <td>0</td>\n",
       "      <td>0</td>\n",
       "      <td>0</td>\n",
       "      <td>1</td>\n",
       "      <td>0</td>\n",
       "      <td>1</td>\n",
       "      <td>0</td>\n",
       "      <td>0</td>\n",
       "      <td>1</td>\n",
       "      <td>1</td>\n",
       "      <td>3</td>\n",
       "      <td>0</td>\n",
       "      <td>0</td>\n",
       "      <td>4.0</td>\n",
       "      <td>0.781832</td>\n",
       "      <td>0.623490</td>\n",
       "    </tr>\n",
       "    <tr>\n",
       "      <th>28</th>\n",
       "      <td>0</td>\n",
       "      <td>4</td>\n",
       "      <td>4</td>\n",
       "      <td>4</td>\n",
       "      <td>1</td>\n",
       "      <td>2</td>\n",
       "      <td>2</td>\n",
       "      <td>5</td>\n",
       "      <td>1763.0</td>\n",
       "      <td>21855.0</td>\n",
       "      <td>7.5</td>\n",
       "      <td>20.828501</td>\n",
       "      <td>27.100000</td>\n",
       "      <td>12.000000</td>\n",
       "      <td>18.100000</td>\n",
       "      <td>29.100000</td>\n",
       "      <td>36.799999</td>\n",
       "      <td>7.0</td>\n",
       "      <td>66.0</td>\n",
       "      <td>1</td>\n",
       "      <td>0</td>\n",
       "      <td>0</td>\n",
       "      <td>0</td>\n",
       "      <td>0</td>\n",
       "      <td>0</td>\n",
       "      <td>0</td>\n",
       "      <td>0</td>\n",
       "      <td>0</td>\n",
       "      <td>0</td>\n",
       "      <td>0</td>\n",
       "      <td>0</td>\n",
       "      <td>1.0</td>\n",
       "      <td>0.830</td>\n",
       "      <td>0.83</td>\n",
       "      <td>0.83</td>\n",
       "      <td>0</td>\n",
       "      <td>114.3257</td>\n",
       "      <td>27834.773</td>\n",
       "      <td>1</td>\n",
       "      <td>2</td>\n",
       "      <td>5</td>\n",
       "      <td>1</td>\n",
       "      <td>0</td>\n",
       "      <td>1</td>\n",
       "      <td>0.177387</td>\n",
       "      <td>0</td>\n",
       "      <td>0</td>\n",
       "      <td>0</td>\n",
       "      <td>0</td>\n",
       "      <td>0</td>\n",
       "      <td>0</td>\n",
       "      <td>0</td>\n",
       "      <td>0</td>\n",
       "      <td>0</td>\n",
       "      <td>0</td>\n",
       "      <td>0</td>\n",
       "      <td>0</td>\n",
       "      <td>0</td>\n",
       "      <td>0</td>\n",
       "      <td>0</td>\n",
       "      <td>0</td>\n",
       "      <td>0</td>\n",
       "      <td>4.5</td>\n",
       "      <td>0.781832</td>\n",
       "      <td>0.623490</td>\n",
       "    </tr>\n",
       "  </tbody>\n",
       "</table>\n",
       "</div>"
      ],
      "text/plain": [
       "    idgenero  nivelInglesCompreensao  nivelInglesFala  nivelInglesEscrita  \\\n",
       "14         0                       3                3                   3   \n",
       "15         0                       5                5                   5   \n",
       "25         1                       4                4                   4   \n",
       "27         1                       3                3                   3   \n",
       "28         0                       4                4                   4   \n",
       "\n",
       "    dprograma  NumberAcademicExperiences  NumberAcademicDegrees  \\\n",
       "14          1                          2                      1   \n",
       "15          1                          1                      1   \n",
       "25          1                          1                      1   \n",
       "27          1                          1                      1   \n",
       "28          1                          2                      2   \n",
       "\n",
       "    HighestAcademicDegree    Rank  Student Population  \\\n",
       "14                      3    68.0             25442.0   \n",
       "15                      3  2100.0             32590.0   \n",
       "25                      2  2100.0             14080.0   \n",
       "27                      4  2100.0             18156.0   \n",
       "28                      5  1763.0             21855.0   \n",
       "\n",
       "    Students to Staff Ratio  Overall Score   Teaching  Research Environment  \\\n",
       "14                     27.6      72.651497  49.599998             65.500000   \n",
       "15                     16.1      57.984001  44.000000             45.200001   \n",
       "25                     14.8      32.587502  24.299999             16.100000   \n",
       "27                     15.4      28.209499  27.500000             10.400000   \n",
       "28                      7.5      20.828501  27.100000             12.000000   \n",
       "\n",
       "    Research Quality  Industry Impact  International Outlook  \\\n",
       "14         96.699997        96.800003              81.900002   \n",
       "15         83.500000        71.000000              62.900002   \n",
       "25         53.299999        36.000000              54.799999   \n",
       "27         43.500000        43.500000              45.599998   \n",
       "28         18.100000        29.100000              36.799999   \n",
       "\n",
       "    Percentage_International_Students  Percentage_Female_Students  Is_Ranked  \\\n",
       "14                               17.0                        55.0          1   \n",
       "15                               14.0                        53.0          0   \n",
       "25                               16.0                        55.0          0   \n",
       "27                                5.0                        62.0          0   \n",
       "28                                7.0                        66.0          1   \n",
       "\n",
       "    Previous_IMS_Student  Previous_Data_Studies  Previous_Computer_Studies  \\\n",
       "14                     0                      0                          1   \n",
       "15                     0                      0                          0   \n",
       "25                     0                      0                          0   \n",
       "27                     0                      0                          0   \n",
       "28                     0                      0                          0   \n",
       "\n",
       "    Previous_Tech_Studies  Previous_Math_Studies  \\\n",
       "14                      0                      0   \n",
       "15                      0                      0   \n",
       "25                      0                      0   \n",
       "27                      0                      0   \n",
       "28                      0                      0   \n",
       "\n",
       "    Previous_Engineering_Studies  Previous_Finance_Studies  \\\n",
       "14                             0                         0   \n",
       "15                             0                         0   \n",
       "25                             1                         0   \n",
       "27                             1                         0   \n",
       "28                             0                         0   \n",
       "\n",
       "    Previous_Marketing_Studies  Previous_Field_Studies  Number_Studied_Fields  \\\n",
       "14                           0                       1                      1   \n",
       "15                           0                       0                      0   \n",
       "25                           0                       1                      1   \n",
       "27                           0                       1                      1   \n",
       "28                           0                       0                      0   \n",
       "\n",
       "    Non_Finished_Programs  Prop_Finished_Programs  AverageScaledGrade  \\\n",
       "14                      0                     1.0               0.855   \n",
       "15                      0                     1.0               0.750   \n",
       "25                      0                     1.0               0.650   \n",
       "27                      0                     1.0               0.630   \n",
       "28                      0                     1.0               0.830   \n",
       "\n",
       "    MaxScaledGrade  MinScaledGrade  countries_region  countries_dist  \\\n",
       "14            0.94            0.77                 0        114.3257   \n",
       "15            0.75            0.75                 3       5425.1890   \n",
       "25            0.65            0.65                 0        114.3257   \n",
       "27            0.63            0.63                 1       1711.9280   \n",
       "28            0.83            0.83                 0        114.3257   \n",
       "\n",
       "    countries_GDP_per_capita  is_Portuguese  datacandidaturafim_month  \\\n",
       "14                 27834.773              1                         2   \n",
       "15                 82715.100              0                         2   \n",
       "25                 27834.773              1                         2   \n",
       "27                  3967.481              0                         2   \n",
       "28                 27834.773              1                         2   \n",
       "\n",
       "    datacandidaturafim_day  datacandidaturafim_time_of_day  \\\n",
       "14                       1                               1   \n",
       "15                       2                               4   \n",
       "25                       5                               0   \n",
       "27                       5                               1   \n",
       "28                       5                               1   \n",
       "\n",
       "    is_After_Working_Hours  is_Fully_In_Person  Program_Name  \\\n",
       "14                       0                   1      0.177387   \n",
       "15                       0                   1      0.207464   \n",
       "25                       0                   1      0.207464   \n",
       "27                       0                   1      0.207464   \n",
       "28                       0                   1      0.177387   \n",
       "\n",
       "    Number_Professional_Experiences  Years_of_Experience  \\\n",
       "14                                3                    4   \n",
       "15                                1                    2   \n",
       "25                                2                    2   \n",
       "27                                2                    3   \n",
       "28                                0                    0   \n",
       "\n",
       "    Years_of_Longest_Prof_Experience  Working_Upon_Application  \\\n",
       "14                                 1                         1   \n",
       "15                                 2                         1   \n",
       "25                                 1                         1   \n",
       "27                                 2                         1   \n",
       "28                                 0                         0   \n",
       "\n",
       "    Previous_Data_Jobs  Previous_Analytics_Jobs  Previous_Computing_Jobs  \\\n",
       "14                   0                        0                        0   \n",
       "15                   0                        0                        0   \n",
       "25                   0                        0                        0   \n",
       "27                   0                        0                        0   \n",
       "28                   0                        0                        0   \n",
       "\n",
       "    Previous_Tech_Jobs  Previous_Math_Jobs  Previous_Engineering_Jobs  \\\n",
       "14                   0                   0                          0   \n",
       "15                   0                   0                          0   \n",
       "25                   0                   0                          0   \n",
       "27                   1                   0                          1   \n",
       "28                   0                   0                          0   \n",
       "\n",
       "    Previous_Finance_Jobs  Previous_Marketing_Jobs  Previous_Project_Jobs  \\\n",
       "14                      0                        0                      0   \n",
       "15                      0                        1                      0   \n",
       "25                      0                        0                      0   \n",
       "27                      0                        0                      1   \n",
       "28                      0                        0                      0   \n",
       "\n",
       "    Previous_Field_Jobs  Number_Fields_Worked  Previous_Trainee_Jobs  \\\n",
       "14                    0                     0                      1   \n",
       "15                    1                     1                      0   \n",
       "25                    0                     0                      1   \n",
       "27                    1                     3                      0   \n",
       "28                    0                     0                      0   \n",
       "\n",
       "    Previous_Jobs_in_Partners  AverageAcademicDegree  \\\n",
       "14                          0                    1.5   \n",
       "15                          0                    3.0   \n",
       "25                          0                    2.0   \n",
       "27                          0                    4.0   \n",
       "28                          0                    4.5   \n",
       "\n",
       "    datacandidaturafim_day_of_week_sin  datacandidaturafim_day_of_week_cos  \n",
       "14                           -0.433884                           -0.900969  \n",
       "15                           -0.974928                           -0.222521  \n",
       "25                            0.781832                            0.623490  \n",
       "27                            0.781832                            0.623490  \n",
       "28                            0.781832                            0.623490  "
      ]
     },
     "execution_count": 6,
     "metadata": {},
     "output_type": "execute_result"
    }
   ],
   "source": [
    "X_grades_train.head()"
   ]
  },
  {
   "cell_type": "code",
   "execution_count": 7,
   "id": "080280fe",
   "metadata": {},
   "outputs": [],
   "source": [
    "features_to_scale = [\"idgenero\", \"nivelInglesCompreensao\", \"nivelInglesFala\", \"nivelInglesEscrita\",\n",
    "                     \"NumberAcademicExperiences\", \"NumberAcademicDegrees\", \"HighestAcademicDegree\",\n",
    "                     \"Rank\", \"Student Population\", \"Students to Staff Ratio\", \"Overall Score\",\n",
    "                     \"Teaching\", \"Research Environment\", \"Research Quality\", \"Industry Impact\", \"International Outlook\",\n",
    "                     \"Percentage_International_Students\", \"Percentage_Female_Students\", \"Number_Studied_Fields\",\n",
    "                     \"Non_Finished_Programs\", \"Prop_Finished_Programs\", \"AverageScaledGrade\", \"MaxScaledGrade\", \"MinScaledGrade\",\n",
    "                     \"countries_region\", \"countries_dist\", \"countries_GDP_per_capita\",\n",
    "                     \"datacandidaturafim_month\", \"datacandidaturafim_day\", \"datacandidaturafim_time_of_day\",\n",
    "                     \"Program_Name\", \"Number_Professional_Experiences\", \"Years_of_Experience\", \"Years_of_Longest_Prof_Experience\",\n",
    "                     \"Number_Fields_Worked\", \"AverageAcademicDegree\", \"datacandidaturafim_day_of_week_sin\", \"datacandidaturafim_day_of_week_cos\"]\n",
    "\n",
    "X_grades_train_to_scale = X_grades_train[features_to_scale]\n",
    "X_grades_val_to_scale = X_grades_val[features_to_scale]"
   ]
  },
  {
   "cell_type": "code",
   "execution_count": 8,
   "id": "7ec9bfa3",
   "metadata": {},
   "outputs": [],
   "source": [
    "scaler = MinMaxScaler().fit(X_grades_train_to_scale)\n",
    "\n",
    "min_max_X_grades_train = scaler.transform(X_grades_train_to_scale)\n",
    "X_grades_train_scaled = pd.DataFrame(min_max_X_grades_train, columns = features_to_scale, index = X_grades_train.index)\n",
    "X_grades_train_scaled = pd.concat([X_grades_train.drop(columns = features_to_scale), X_grades_train_scaled], axis = 1)\n",
    "\n",
    "min_max_X_grades_val = scaler.transform(X_grades_val_to_scale)\n",
    "X_grades_val_scaled = pd.DataFrame(min_max_X_grades_val, columns = features_to_scale, index = X_grades_val.index)\n",
    "X_grades_val_scaled = pd.concat([X_grades_val.drop(columns = features_to_scale), X_grades_val_scaled], axis = 1)"
   ]
  },
  {
   "cell_type": "markdown",
   "id": "27123ee6",
   "metadata": {},
   "source": [
    "We are also going to scale our target."
   ]
  },
  {
   "cell_type": "code",
   "execution_count": 9,
   "id": "5ab0c8c0",
   "metadata": {},
   "outputs": [],
   "source": [
    "scaler_target = MinMaxScaler().fit(y_grades_train.values.reshape(-1, 1))\n",
    "\n",
    "y_grades_train_scaled = pd.Series(\n",
    "    scaler_target.transform(y_grades_train.values.reshape(-1, 1)).flatten(), \n",
    "    index = y_grades_train.index)\n",
    "\n",
    "y_grades_val_scaled = pd.Series(\n",
    "    scaler_target.transform(y_grades_val.values.reshape(-1, 1)).flatten(), \n",
    "    index = y_grades_val.index)"
   ]
  },
  {
   "cell_type": "markdown",
   "id": "e46409f6",
   "metadata": {},
   "source": [
    "## <font color='#BFD62F'>3.6. Feature Selection </font> <a class=\"anchor\" id=\"selection\"></a>\n",
    "[Back to Contents](#toc)\n",
    "\n",
    "Our feature selection will involve the use of a group of filter, wrapper, and embedded techniques, which will then allow us to take a conclusion regarding the variables that will proceed to the modelling stage. We will use:\n",
    "* __Spearman's Correlation__ to identify numerical features that are correlated with each other (and, therefore, are redundant). It will also be used to retrieve the numerical variables that are most correlated with the target (and, therefore, are relevant). It should also be noted that, for each pair of correlated independent variables, the decision on which to keep and which to discard will be based upon the correlation with the target.\n",
    "* __Analysis of Variance (ANOVA)__ to assess if the categorical features have some correlation with the target.\n",
    "* __Point Biserial Correlation__ is a variation of Pearson's correlation suited to assess the relationship between a binary and a numerical variable. Therefore, we will use it to assess if our binary features are to any extent correlated with the target.\n",
    "* __Recursive Feature Elimination__, where we will fit a specified model to all variables. At each iteration, the least important variable to create the model will be discarded, until no attributes remain. The combination of features that attains the highest RMSE will be chosen. In our case, we will be using the __Linear Regression__ and __Support Vector Machine with a linear kernel__ to train our model, both with their respective default parameters.\n",
    "* __Random Forest__, also with default parameters. Since this model directly returns feature importance, we will define a threshold to delimit the accepted and rejected variables.\n",
    "* __Least Absolute Shrinkage and Selection Operator (LASSO)*__, in the same conditions as the Random Forest. This embedded method was chosen instead of the Ridge Regression (its most direct alternative) due to its ability equal irrelevant variables to 0 (since it uses L1 regularization), as well as for encouraging models with fewer parameters, something we look for considering the high dimensionality of the data at the moment.\n",
    "\n",
    "*The biggest difference from the LASSO model to the Logistic Regression utilized for RFE lies in the fact the fromer uses L1 regularization, while the latter employs a L2 penalty strategy."
   ]
  },
  {
   "cell_type": "code",
   "execution_count": 10,
   "id": "6487955b",
   "metadata": {},
   "outputs": [
    {
     "data": {
      "text/html": [
       "<div>\n",
       "<style scoped>\n",
       "    .dataframe tbody tr th:only-of-type {\n",
       "        vertical-align: middle;\n",
       "    }\n",
       "\n",
       "    .dataframe tbody tr th {\n",
       "        vertical-align: top;\n",
       "    }\n",
       "\n",
       "    .dataframe thead th {\n",
       "        text-align: right;\n",
       "    }\n",
       "</style>\n",
       "<table border=\"1\" class=\"dataframe\">\n",
       "  <thead>\n",
       "    <tr style=\"text-align: right;\">\n",
       "      <th></th>\n",
       "      <th>dprograma</th>\n",
       "      <th>Is_Ranked</th>\n",
       "      <th>Previous_IMS_Student</th>\n",
       "      <th>Previous_Data_Studies</th>\n",
       "      <th>Previous_Computer_Studies</th>\n",
       "      <th>Previous_Tech_Studies</th>\n",
       "      <th>Previous_Math_Studies</th>\n",
       "      <th>Previous_Engineering_Studies</th>\n",
       "      <th>Previous_Finance_Studies</th>\n",
       "      <th>Previous_Marketing_Studies</th>\n",
       "      <th>Previous_Field_Studies</th>\n",
       "      <th>is_Portuguese</th>\n",
       "      <th>is_After_Working_Hours</th>\n",
       "      <th>is_Fully_In_Person</th>\n",
       "      <th>Working_Upon_Application</th>\n",
       "      <th>Previous_Data_Jobs</th>\n",
       "      <th>Previous_Analytics_Jobs</th>\n",
       "      <th>Previous_Computing_Jobs</th>\n",
       "      <th>Previous_Tech_Jobs</th>\n",
       "      <th>Previous_Math_Jobs</th>\n",
       "      <th>Previous_Engineering_Jobs</th>\n",
       "      <th>Previous_Finance_Jobs</th>\n",
       "      <th>Previous_Marketing_Jobs</th>\n",
       "      <th>Previous_Project_Jobs</th>\n",
       "      <th>Previous_Field_Jobs</th>\n",
       "      <th>Previous_Trainee_Jobs</th>\n",
       "      <th>Previous_Jobs_in_Partners</th>\n",
       "      <th>idgenero</th>\n",
       "      <th>nivelInglesCompreensao</th>\n",
       "      <th>nivelInglesFala</th>\n",
       "      <th>nivelInglesEscrita</th>\n",
       "      <th>NumberAcademicExperiences</th>\n",
       "      <th>NumberAcademicDegrees</th>\n",
       "      <th>HighestAcademicDegree</th>\n",
       "      <th>Rank</th>\n",
       "      <th>Student Population</th>\n",
       "      <th>Students to Staff Ratio</th>\n",
       "      <th>Overall Score</th>\n",
       "      <th>Teaching</th>\n",
       "      <th>Research Environment</th>\n",
       "      <th>Research Quality</th>\n",
       "      <th>Industry Impact</th>\n",
       "      <th>International Outlook</th>\n",
       "      <th>Percentage_International_Students</th>\n",
       "      <th>Percentage_Female_Students</th>\n",
       "      <th>Number_Studied_Fields</th>\n",
       "      <th>Non_Finished_Programs</th>\n",
       "      <th>Prop_Finished_Programs</th>\n",
       "      <th>AverageScaledGrade</th>\n",
       "      <th>MaxScaledGrade</th>\n",
       "      <th>MinScaledGrade</th>\n",
       "      <th>countries_region</th>\n",
       "      <th>countries_dist</th>\n",
       "      <th>countries_GDP_per_capita</th>\n",
       "      <th>datacandidaturafim_month</th>\n",
       "      <th>datacandidaturafim_day</th>\n",
       "      <th>datacandidaturafim_time_of_day</th>\n",
       "      <th>Program_Name</th>\n",
       "      <th>Number_Professional_Experiences</th>\n",
       "      <th>Years_of_Experience</th>\n",
       "      <th>Years_of_Longest_Prof_Experience</th>\n",
       "      <th>Number_Fields_Worked</th>\n",
       "      <th>AverageAcademicDegree</th>\n",
       "      <th>datacandidaturafim_day_of_week_sin</th>\n",
       "      <th>datacandidaturafim_day_of_week_cos</th>\n",
       "    </tr>\n",
       "  </thead>\n",
       "  <tbody>\n",
       "    <tr>\n",
       "      <th>14</th>\n",
       "      <td>1</td>\n",
       "      <td>1</td>\n",
       "      <td>0</td>\n",
       "      <td>0</td>\n",
       "      <td>1</td>\n",
       "      <td>0</td>\n",
       "      <td>0</td>\n",
       "      <td>0</td>\n",
       "      <td>0</td>\n",
       "      <td>0</td>\n",
       "      <td>1</td>\n",
       "      <td>1</td>\n",
       "      <td>0</td>\n",
       "      <td>1</td>\n",
       "      <td>1</td>\n",
       "      <td>0</td>\n",
       "      <td>0</td>\n",
       "      <td>0</td>\n",
       "      <td>0</td>\n",
       "      <td>0</td>\n",
       "      <td>0</td>\n",
       "      <td>0</td>\n",
       "      <td>0</td>\n",
       "      <td>0</td>\n",
       "      <td>0</td>\n",
       "      <td>1</td>\n",
       "      <td>0</td>\n",
       "      <td>0.0</td>\n",
       "      <td>0.50</td>\n",
       "      <td>0.6</td>\n",
       "      <td>0.6</td>\n",
       "      <td>0.5</td>\n",
       "      <td>0.333333</td>\n",
       "      <td>0.6</td>\n",
       "      <td>0.029608</td>\n",
       "      <td>0.278093</td>\n",
       "      <td>0.416507</td>\n",
       "      <td>0.712220</td>\n",
       "      <td>0.455682</td>\n",
       "      <td>0.643897</td>\n",
       "      <td>0.968984</td>\n",
       "      <td>0.961995</td>\n",
       "      <td>0.797484</td>\n",
       "      <td>0.239437</td>\n",
       "      <td>0.74</td>\n",
       "      <td>0.2</td>\n",
       "      <td>0.0</td>\n",
       "      <td>1.0</td>\n",
       "      <td>0.855</td>\n",
       "      <td>0.94</td>\n",
       "      <td>0.77</td>\n",
       "      <td>0.00</td>\n",
       "      <td>0.000000</td>\n",
       "      <td>0.210667</td>\n",
       "      <td>0.090909</td>\n",
       "      <td>0.000000</td>\n",
       "      <td>0.25</td>\n",
       "      <td>0.854255</td>\n",
       "      <td>0.75</td>\n",
       "      <td>0.121212</td>\n",
       "      <td>0.030303</td>\n",
       "      <td>0.0</td>\n",
       "      <td>0.333333</td>\n",
       "      <td>0.277479</td>\n",
       "      <td>0.000000</td>\n",
       "    </tr>\n",
       "    <tr>\n",
       "      <th>15</th>\n",
       "      <td>1</td>\n",
       "      <td>0</td>\n",
       "      <td>0</td>\n",
       "      <td>0</td>\n",
       "      <td>0</td>\n",
       "      <td>0</td>\n",
       "      <td>0</td>\n",
       "      <td>0</td>\n",
       "      <td>0</td>\n",
       "      <td>0</td>\n",
       "      <td>0</td>\n",
       "      <td>0</td>\n",
       "      <td>0</td>\n",
       "      <td>1</td>\n",
       "      <td>1</td>\n",
       "      <td>0</td>\n",
       "      <td>0</td>\n",
       "      <td>0</td>\n",
       "      <td>0</td>\n",
       "      <td>0</td>\n",
       "      <td>0</td>\n",
       "      <td>0</td>\n",
       "      <td>1</td>\n",
       "      <td>0</td>\n",
       "      <td>1</td>\n",
       "      <td>0</td>\n",
       "      <td>0</td>\n",
       "      <td>0.0</td>\n",
       "      <td>1.00</td>\n",
       "      <td>1.0</td>\n",
       "      <td>1.0</td>\n",
       "      <td>0.0</td>\n",
       "      <td>0.333333</td>\n",
       "      <td>0.6</td>\n",
       "      <td>1.000000</td>\n",
       "      <td>0.372489</td>\n",
       "      <td>0.195777</td>\n",
       "      <td>0.540568</td>\n",
       "      <td>0.392045</td>\n",
       "      <td>0.416573</td>\n",
       "      <td>0.827808</td>\n",
       "      <td>0.655582</td>\n",
       "      <td>0.558491</td>\n",
       "      <td>0.197183</td>\n",
       "      <td>0.70</td>\n",
       "      <td>0.0</td>\n",
       "      <td>0.0</td>\n",
       "      <td>1.0</td>\n",
       "      <td>0.750</td>\n",
       "      <td>0.75</td>\n",
       "      <td>0.75</td>\n",
       "      <td>0.75</td>\n",
       "      <td>0.293803</td>\n",
       "      <td>0.635463</td>\n",
       "      <td>0.090909</td>\n",
       "      <td>0.033333</td>\n",
       "      <td>1.00</td>\n",
       "      <td>1.000000</td>\n",
       "      <td>0.25</td>\n",
       "      <td>0.060606</td>\n",
       "      <td>0.060606</td>\n",
       "      <td>0.2</td>\n",
       "      <td>0.666667</td>\n",
       "      <td>0.000000</td>\n",
       "      <td>0.356896</td>\n",
       "    </tr>\n",
       "    <tr>\n",
       "      <th>25</th>\n",
       "      <td>1</td>\n",
       "      <td>0</td>\n",
       "      <td>0</td>\n",
       "      <td>0</td>\n",
       "      <td>0</td>\n",
       "      <td>0</td>\n",
       "      <td>0</td>\n",
       "      <td>1</td>\n",
       "      <td>0</td>\n",
       "      <td>0</td>\n",
       "      <td>1</td>\n",
       "      <td>1</td>\n",
       "      <td>0</td>\n",
       "      <td>1</td>\n",
       "      <td>1</td>\n",
       "      <td>0</td>\n",
       "      <td>0</td>\n",
       "      <td>0</td>\n",
       "      <td>0</td>\n",
       "      <td>0</td>\n",
       "      <td>0</td>\n",
       "      <td>0</td>\n",
       "      <td>0</td>\n",
       "      <td>0</td>\n",
       "      <td>0</td>\n",
       "      <td>1</td>\n",
       "      <td>0</td>\n",
       "      <td>0.5</td>\n",
       "      <td>0.75</td>\n",
       "      <td>0.8</td>\n",
       "      <td>0.8</td>\n",
       "      <td>0.0</td>\n",
       "      <td>0.333333</td>\n",
       "      <td>0.4</td>\n",
       "      <td>1.000000</td>\n",
       "      <td>0.128046</td>\n",
       "      <td>0.170825</td>\n",
       "      <td>0.243356</td>\n",
       "      <td>0.168182</td>\n",
       "      <td>0.090705</td>\n",
       "      <td>0.504813</td>\n",
       "      <td>0.239905</td>\n",
       "      <td>0.456604</td>\n",
       "      <td>0.225352</td>\n",
       "      <td>0.74</td>\n",
       "      <td>0.2</td>\n",
       "      <td>0.0</td>\n",
       "      <td>1.0</td>\n",
       "      <td>0.650</td>\n",
       "      <td>0.65</td>\n",
       "      <td>0.65</td>\n",
       "      <td>0.00</td>\n",
       "      <td>0.000000</td>\n",
       "      <td>0.210667</td>\n",
       "      <td>0.090909</td>\n",
       "      <td>0.133333</td>\n",
       "      <td>0.00</td>\n",
       "      <td>1.000000</td>\n",
       "      <td>0.50</td>\n",
       "      <td>0.060606</td>\n",
       "      <td>0.030303</td>\n",
       "      <td>0.0</td>\n",
       "      <td>0.444444</td>\n",
       "      <td>0.900969</td>\n",
       "      <td>0.801938</td>\n",
       "    </tr>\n",
       "    <tr>\n",
       "      <th>27</th>\n",
       "      <td>1</td>\n",
       "      <td>0</td>\n",
       "      <td>0</td>\n",
       "      <td>0</td>\n",
       "      <td>0</td>\n",
       "      <td>0</td>\n",
       "      <td>0</td>\n",
       "      <td>1</td>\n",
       "      <td>0</td>\n",
       "      <td>0</td>\n",
       "      <td>1</td>\n",
       "      <td>0</td>\n",
       "      <td>0</td>\n",
       "      <td>1</td>\n",
       "      <td>1</td>\n",
       "      <td>0</td>\n",
       "      <td>0</td>\n",
       "      <td>0</td>\n",
       "      <td>1</td>\n",
       "      <td>0</td>\n",
       "      <td>1</td>\n",
       "      <td>0</td>\n",
       "      <td>0</td>\n",
       "      <td>1</td>\n",
       "      <td>1</td>\n",
       "      <td>0</td>\n",
       "      <td>0</td>\n",
       "      <td>0.5</td>\n",
       "      <td>0.50</td>\n",
       "      <td>0.6</td>\n",
       "      <td>0.6</td>\n",
       "      <td>0.0</td>\n",
       "      <td>0.333333</td>\n",
       "      <td>0.8</td>\n",
       "      <td>1.000000</td>\n",
       "      <td>0.181873</td>\n",
       "      <td>0.182342</td>\n",
       "      <td>0.192120</td>\n",
       "      <td>0.204545</td>\n",
       "      <td>0.026876</td>\n",
       "      <td>0.400000</td>\n",
       "      <td>0.328979</td>\n",
       "      <td>0.340880</td>\n",
       "      <td>0.070423</td>\n",
       "      <td>0.88</td>\n",
       "      <td>0.2</td>\n",
       "      <td>0.0</td>\n",
       "      <td>1.0</td>\n",
       "      <td>0.630</td>\n",
       "      <td>0.63</td>\n",
       "      <td>0.63</td>\n",
       "      <td>0.25</td>\n",
       "      <td>0.088381</td>\n",
       "      <td>0.025924</td>\n",
       "      <td>0.090909</td>\n",
       "      <td>0.133333</td>\n",
       "      <td>0.25</td>\n",
       "      <td>1.000000</td>\n",
       "      <td>0.50</td>\n",
       "      <td>0.090909</td>\n",
       "      <td>0.060606</td>\n",
       "      <td>0.6</td>\n",
       "      <td>0.888889</td>\n",
       "      <td>0.900969</td>\n",
       "      <td>0.801938</td>\n",
       "    </tr>\n",
       "    <tr>\n",
       "      <th>28</th>\n",
       "      <td>1</td>\n",
       "      <td>1</td>\n",
       "      <td>0</td>\n",
       "      <td>0</td>\n",
       "      <td>0</td>\n",
       "      <td>0</td>\n",
       "      <td>0</td>\n",
       "      <td>0</td>\n",
       "      <td>0</td>\n",
       "      <td>0</td>\n",
       "      <td>0</td>\n",
       "      <td>1</td>\n",
       "      <td>0</td>\n",
       "      <td>1</td>\n",
       "      <td>0</td>\n",
       "      <td>0</td>\n",
       "      <td>0</td>\n",
       "      <td>0</td>\n",
       "      <td>0</td>\n",
       "      <td>0</td>\n",
       "      <td>0</td>\n",
       "      <td>0</td>\n",
       "      <td>0</td>\n",
       "      <td>0</td>\n",
       "      <td>0</td>\n",
       "      <td>0</td>\n",
       "      <td>0</td>\n",
       "      <td>0.0</td>\n",
       "      <td>0.75</td>\n",
       "      <td>0.8</td>\n",
       "      <td>0.8</td>\n",
       "      <td>0.5</td>\n",
       "      <td>0.666667</td>\n",
       "      <td>1.0</td>\n",
       "      <td>0.839064</td>\n",
       "      <td>0.230723</td>\n",
       "      <td>0.030710</td>\n",
       "      <td>0.105741</td>\n",
       "      <td>0.200000</td>\n",
       "      <td>0.044793</td>\n",
       "      <td>0.128342</td>\n",
       "      <td>0.157957</td>\n",
       "      <td>0.230189</td>\n",
       "      <td>0.098592</td>\n",
       "      <td>0.96</td>\n",
       "      <td>0.0</td>\n",
       "      <td>0.0</td>\n",
       "      <td>1.0</td>\n",
       "      <td>0.830</td>\n",
       "      <td>0.83</td>\n",
       "      <td>0.83</td>\n",
       "      <td>0.00</td>\n",
       "      <td>0.000000</td>\n",
       "      <td>0.210667</td>\n",
       "      <td>0.090909</td>\n",
       "      <td>0.133333</td>\n",
       "      <td>0.25</td>\n",
       "      <td>0.854255</td>\n",
       "      <td>0.00</td>\n",
       "      <td>0.000000</td>\n",
       "      <td>0.000000</td>\n",
       "      <td>0.0</td>\n",
       "      <td>1.000000</td>\n",
       "      <td>0.900969</td>\n",
       "      <td>0.801938</td>\n",
       "    </tr>\n",
       "  </tbody>\n",
       "</table>\n",
       "</div>"
      ],
      "text/plain": [
       "    dprograma  Is_Ranked  Previous_IMS_Student  Previous_Data_Studies  \\\n",
       "14          1          1                     0                      0   \n",
       "15          1          0                     0                      0   \n",
       "25          1          0                     0                      0   \n",
       "27          1          0                     0                      0   \n",
       "28          1          1                     0                      0   \n",
       "\n",
       "    Previous_Computer_Studies  Previous_Tech_Studies  Previous_Math_Studies  \\\n",
       "14                          1                      0                      0   \n",
       "15                          0                      0                      0   \n",
       "25                          0                      0                      0   \n",
       "27                          0                      0                      0   \n",
       "28                          0                      0                      0   \n",
       "\n",
       "    Previous_Engineering_Studies  Previous_Finance_Studies  \\\n",
       "14                             0                         0   \n",
       "15                             0                         0   \n",
       "25                             1                         0   \n",
       "27                             1                         0   \n",
       "28                             0                         0   \n",
       "\n",
       "    Previous_Marketing_Studies  Previous_Field_Studies  is_Portuguese  \\\n",
       "14                           0                       1              1   \n",
       "15                           0                       0              0   \n",
       "25                           0                       1              1   \n",
       "27                           0                       1              0   \n",
       "28                           0                       0              1   \n",
       "\n",
       "    is_After_Working_Hours  is_Fully_In_Person  Working_Upon_Application  \\\n",
       "14                       0                   1                         1   \n",
       "15                       0                   1                         1   \n",
       "25                       0                   1                         1   \n",
       "27                       0                   1                         1   \n",
       "28                       0                   1                         0   \n",
       "\n",
       "    Previous_Data_Jobs  Previous_Analytics_Jobs  Previous_Computing_Jobs  \\\n",
       "14                   0                        0                        0   \n",
       "15                   0                        0                        0   \n",
       "25                   0                        0                        0   \n",
       "27                   0                        0                        0   \n",
       "28                   0                        0                        0   \n",
       "\n",
       "    Previous_Tech_Jobs  Previous_Math_Jobs  Previous_Engineering_Jobs  \\\n",
       "14                   0                   0                          0   \n",
       "15                   0                   0                          0   \n",
       "25                   0                   0                          0   \n",
       "27                   1                   0                          1   \n",
       "28                   0                   0                          0   \n",
       "\n",
       "    Previous_Finance_Jobs  Previous_Marketing_Jobs  Previous_Project_Jobs  \\\n",
       "14                      0                        0                      0   \n",
       "15                      0                        1                      0   \n",
       "25                      0                        0                      0   \n",
       "27                      0                        0                      1   \n",
       "28                      0                        0                      0   \n",
       "\n",
       "    Previous_Field_Jobs  Previous_Trainee_Jobs  Previous_Jobs_in_Partners  \\\n",
       "14                    0                      1                          0   \n",
       "15                    1                      0                          0   \n",
       "25                    0                      1                          0   \n",
       "27                    1                      0                          0   \n",
       "28                    0                      0                          0   \n",
       "\n",
       "    idgenero  nivelInglesCompreensao  nivelInglesFala  nivelInglesEscrita  \\\n",
       "14       0.0                    0.50              0.6                 0.6   \n",
       "15       0.0                    1.00              1.0                 1.0   \n",
       "25       0.5                    0.75              0.8                 0.8   \n",
       "27       0.5                    0.50              0.6                 0.6   \n",
       "28       0.0                    0.75              0.8                 0.8   \n",
       "\n",
       "    NumberAcademicExperiences  NumberAcademicDegrees  HighestAcademicDegree  \\\n",
       "14                        0.5               0.333333                    0.6   \n",
       "15                        0.0               0.333333                    0.6   \n",
       "25                        0.0               0.333333                    0.4   \n",
       "27                        0.0               0.333333                    0.8   \n",
       "28                        0.5               0.666667                    1.0   \n",
       "\n",
       "        Rank  Student Population  Students to Staff Ratio  Overall Score  \\\n",
       "14  0.029608            0.278093                 0.416507       0.712220   \n",
       "15  1.000000            0.372489                 0.195777       0.540568   \n",
       "25  1.000000            0.128046                 0.170825       0.243356   \n",
       "27  1.000000            0.181873                 0.182342       0.192120   \n",
       "28  0.839064            0.230723                 0.030710       0.105741   \n",
       "\n",
       "    Teaching  Research Environment  Research Quality  Industry Impact  \\\n",
       "14  0.455682              0.643897          0.968984         0.961995   \n",
       "15  0.392045              0.416573          0.827808         0.655582   \n",
       "25  0.168182              0.090705          0.504813         0.239905   \n",
       "27  0.204545              0.026876          0.400000         0.328979   \n",
       "28  0.200000              0.044793          0.128342         0.157957   \n",
       "\n",
       "    International Outlook  Percentage_International_Students  \\\n",
       "14               0.797484                           0.239437   \n",
       "15               0.558491                           0.197183   \n",
       "25               0.456604                           0.225352   \n",
       "27               0.340880                           0.070423   \n",
       "28               0.230189                           0.098592   \n",
       "\n",
       "    Percentage_Female_Students  Number_Studied_Fields  Non_Finished_Programs  \\\n",
       "14                        0.74                    0.2                    0.0   \n",
       "15                        0.70                    0.0                    0.0   \n",
       "25                        0.74                    0.2                    0.0   \n",
       "27                        0.88                    0.2                    0.0   \n",
       "28                        0.96                    0.0                    0.0   \n",
       "\n",
       "    Prop_Finished_Programs  AverageScaledGrade  MaxScaledGrade  \\\n",
       "14                     1.0               0.855            0.94   \n",
       "15                     1.0               0.750            0.75   \n",
       "25                     1.0               0.650            0.65   \n",
       "27                     1.0               0.630            0.63   \n",
       "28                     1.0               0.830            0.83   \n",
       "\n",
       "    MinScaledGrade  countries_region  countries_dist  \\\n",
       "14            0.77              0.00        0.000000   \n",
       "15            0.75              0.75        0.293803   \n",
       "25            0.65              0.00        0.000000   \n",
       "27            0.63              0.25        0.088381   \n",
       "28            0.83              0.00        0.000000   \n",
       "\n",
       "    countries_GDP_per_capita  datacandidaturafim_month  \\\n",
       "14                  0.210667                  0.090909   \n",
       "15                  0.635463                  0.090909   \n",
       "25                  0.210667                  0.090909   \n",
       "27                  0.025924                  0.090909   \n",
       "28                  0.210667                  0.090909   \n",
       "\n",
       "    datacandidaturafim_day  datacandidaturafim_time_of_day  Program_Name  \\\n",
       "14                0.000000                            0.25      0.854255   \n",
       "15                0.033333                            1.00      1.000000   \n",
       "25                0.133333                            0.00      1.000000   \n",
       "27                0.133333                            0.25      1.000000   \n",
       "28                0.133333                            0.25      0.854255   \n",
       "\n",
       "    Number_Professional_Experiences  Years_of_Experience  \\\n",
       "14                             0.75             0.121212   \n",
       "15                             0.25             0.060606   \n",
       "25                             0.50             0.060606   \n",
       "27                             0.50             0.090909   \n",
       "28                             0.00             0.000000   \n",
       "\n",
       "    Years_of_Longest_Prof_Experience  Number_Fields_Worked  \\\n",
       "14                          0.030303                   0.0   \n",
       "15                          0.060606                   0.2   \n",
       "25                          0.030303                   0.0   \n",
       "27                          0.060606                   0.6   \n",
       "28                          0.000000                   0.0   \n",
       "\n",
       "    AverageAcademicDegree  datacandidaturafim_day_of_week_sin  \\\n",
       "14               0.333333                            0.277479   \n",
       "15               0.666667                            0.000000   \n",
       "25               0.444444                            0.900969   \n",
       "27               0.888889                            0.900969   \n",
       "28               1.000000                            0.900969   \n",
       "\n",
       "    datacandidaturafim_day_of_week_cos  \n",
       "14                            0.000000  \n",
       "15                            0.356896  \n",
       "25                            0.801938  \n",
       "27                            0.801938  \n",
       "28                            0.801938  "
      ]
     },
     "execution_count": 10,
     "metadata": {},
     "output_type": "execute_result"
    }
   ],
   "source": [
    "X_grades_train_scaled.head()"
   ]
  },
  {
   "cell_type": "code",
   "execution_count": 11,
   "id": "23f7cdf9",
   "metadata": {},
   "outputs": [],
   "source": [
    "numerical_variables = [\"Prop_Finished_Programs\", \"NumberAcademicExperiences\", \"NumberAcademicDegrees\", \"Rank\",\n",
    "                       \"Student Population\", \"Students to Staff Ratio\", \"Overall Score\", \"Teaching\", \"Research Environment\",\n",
    "                       \"Research Quality\", \"Industry Impact\", \"International Outlook\", \"Percentage_International_Students\",\n",
    "                       \"Percentage_Female_Students\", \"Number_Studied_Fields\", \"Non_Finished_Programs\",\n",
    "                       \"AverageScaledGrade\", \"MaxScaledGrade\", \"MinScaledGrade\", \"countries_dist\", \"countries_GDP_per_capita\",\n",
    "                       \"Program_Name\", \"Number_Professional_Experiences\", \"Years_of_Experience\", \"Years_of_Longest_Prof_Experience\",\n",
    "                       \"Number_Fields_Worked\", \"AverageAcademicDegree\", \"datacandidaturafim_day_of_week_sin\",\n",
    "                       \"datacandidaturafim_day_of_week_cos\"]\n",
    "\n",
    "binary_variables = [\"dprograma\", \"Is_Ranked\", \"Previous_IMS_Student\", \"Previous_Data_Studies\",\n",
    "                    \"Previous_Computer_Studies\", \"Previous_Tech_Studies\", \"Previous_Math_Studies\", \"Previous_Engineering_Studies\",\n",
    "                    \"Previous_Finance_Studies\", \"Previous_Marketing_Studies\", \"Previous_Field_Studies\", \"is_Portuguese\",\n",
    "                    \"is_After_Working_Hours\", \"is_Fully_In_Person\", \"Working_Upon_Application\", \"Previous_Data_Jobs\", \"Previous_Analytics_Jobs\",\n",
    "                    \"Previous_Computing_Jobs\", \"Previous_Tech_Jobs\", \"Previous_Math_Jobs\", \"Previous_Engineering_Jobs\", \"Previous_Finance_Jobs\",\n",
    "                    \"Previous_Marketing_Jobs\", \"Previous_Project_Jobs\", \"Previous_Field_Jobs\", \"Previous_Trainee_Jobs\",\n",
    "                    \"Previous_Jobs_in_Partners\"]\n",
    "\n",
    "categorical_variables = binary_variables + [\"nivelInglesCompreensao\", \"nivelInglesFala\", \"nivelInglesEscrita\", \"HighestAcademicDegree\",\n",
    "                                            \"idgenero\", \"countries_region\", \"datacandidaturafim_month\",\n",
    "                                            \"datacandidaturafim_day\", \"datacandidaturafim_time_of_day\"]"
   ]
  },
  {
   "cell_type": "markdown",
   "id": "49a98b29",
   "metadata": {},
   "source": [
    "-------\n",
    "### <font color='#BFD62F'>3.6.1. Spearman Correlation (between independent variables) </font> <a class=\"anchor\" id=\"spearmanredundant\"></a>\n",
    "[Back to Contents](#toc)\n",
    "\n",
    "We will use a heatmap to assess Spearman's Correlation, and print the pairs of variables that display a correlation above the defined threshold of 0.7."
   ]
  },
  {
   "cell_type": "code",
   "execution_count": 12,
   "id": "90432e9d",
   "metadata": {},
   "outputs": [
    {
     "data": {
      "image/png": "[encoded data removed]",
      "text/plain": [
       "<Figure size 1200x1000 with 2 Axes>"
      ]
     },
     "metadata": {},
     "output_type": "display_data"
    },
    {
     "name": "stdout",
     "output_type": "stream",
     "text": [
      "High Correlation: Prop_Finished_Programs and Non_Finished_Programs - Correlation: -0.9997766703154422\n",
      "High Correlation: NumberAcademicExperiences and NumberAcademicDegrees - Correlation: 0.761573907656017\n",
      "High Correlation: Overall Score and Research Environment - Correlation: 0.8566233546793769\n",
      "High Correlation: Overall Score and Research Quality - Correlation: 0.8022161403284551\n",
      "High Correlation: Teaching and Industry Impact - Correlation: 0.7004964459336186\n",
      "High Correlation: AverageScaledGrade and MaxScaledGrade - Correlation: 0.9417011422642024\n",
      "High Correlation: AverageScaledGrade and MinScaledGrade - Correlation: 0.9289415410888999\n",
      "High Correlation: MaxScaledGrade and MinScaledGrade - Correlation: 0.7767139497532444\n",
      "High Correlation: Years_of_Experience and Years_of_Longest_Prof_Experience - Correlation: 0.9068113330030534\n"
     ]
    }
   ],
   "source": [
    "cor = tf.spearman_correlation(X_grades_train_scaled, numerical_variables, 0.7)"
   ]
  },
  {
   "cell_type": "markdown",
   "id": "a3a192df",
   "metadata": {},
   "source": [
    "-------\n",
    "### <font color='#BFD62F'>3.6.2. Spearman Correlation (against the dependent variable) </font> <a class=\"anchor\" id=\"spearmanrelevant\"></a>\n",
    "[Back to Contents](#toc)\n",
    "\n",
    "We will assess the Spearman Correlation between our numerical variables and the target, preferring those that have a value over 0.1."
   ]
  },
  {
   "cell_type": "code",
   "execution_count": 13,
   "id": "19fdfc74",
   "metadata": {},
   "outputs": [
    {
     "data": {
      "text/html": [
       "<div>\n",
       "<style scoped>\n",
       "    .dataframe tbody tr th:only-of-type {\n",
       "        vertical-align: middle;\n",
       "    }\n",
       "\n",
       "    .dataframe tbody tr th {\n",
       "        vertical-align: top;\n",
       "    }\n",
       "\n",
       "    .dataframe thead th {\n",
       "        text-align: right;\n",
       "    }\n",
       "</style>\n",
       "<table border=\"1\" class=\"dataframe\">\n",
       "  <thead>\n",
       "    <tr style=\"text-align: right;\">\n",
       "      <th></th>\n",
       "      <th>Variable</th>\n",
       "      <th>Spearman Correlation</th>\n",
       "      <th>|Value| &gt;= Threshold</th>\n",
       "    </tr>\n",
       "  </thead>\n",
       "  <tbody>\n",
       "    <tr>\n",
       "      <th>0</th>\n",
       "      <td>Prop_Finished_Programs</td>\n",
       "      <td>0.0060</td>\n",
       "      <td>False</td>\n",
       "    </tr>\n",
       "    <tr>\n",
       "      <th>1</th>\n",
       "      <td>NumberAcademicExperiences</td>\n",
       "      <td>0.0344</td>\n",
       "      <td>False</td>\n",
       "    </tr>\n",
       "    <tr>\n",
       "      <th>2</th>\n",
       "      <td>NumberAcademicDegrees</td>\n",
       "      <td>0.0132</td>\n",
       "      <td>False</td>\n",
       "    </tr>\n",
       "    <tr>\n",
       "      <th>3</th>\n",
       "      <td>Rank</td>\n",
       "      <td>0.0128</td>\n",
       "      <td>False</td>\n",
       "    </tr>\n",
       "    <tr>\n",
       "      <th>4</th>\n",
       "      <td>Student Population</td>\n",
       "      <td>0.0100</td>\n",
       "      <td>False</td>\n",
       "    </tr>\n",
       "    <tr>\n",
       "      <th>5</th>\n",
       "      <td>Students to Staff Ratio</td>\n",
       "      <td>0.0953</td>\n",
       "      <td>False</td>\n",
       "    </tr>\n",
       "    <tr>\n",
       "      <th>6</th>\n",
       "      <td>Overall Score</td>\n",
       "      <td>0.1249</td>\n",
       "      <td>True</td>\n",
       "    </tr>\n",
       "    <tr>\n",
       "      <th>7</th>\n",
       "      <td>Teaching</td>\n",
       "      <td>0.0002</td>\n",
       "      <td>False</td>\n",
       "    </tr>\n",
       "    <tr>\n",
       "      <th>8</th>\n",
       "      <td>Research Environment</td>\n",
       "      <td>0.1108</td>\n",
       "      <td>True</td>\n",
       "    </tr>\n",
       "    <tr>\n",
       "      <th>9</th>\n",
       "      <td>Research Quality</td>\n",
       "      <td>0.1103</td>\n",
       "      <td>True</td>\n",
       "    </tr>\n",
       "    <tr>\n",
       "      <th>10</th>\n",
       "      <td>Industry Impact</td>\n",
       "      <td>0.0407</td>\n",
       "      <td>False</td>\n",
       "    </tr>\n",
       "    <tr>\n",
       "      <th>11</th>\n",
       "      <td>International Outlook</td>\n",
       "      <td>0.1134</td>\n",
       "      <td>True</td>\n",
       "    </tr>\n",
       "    <tr>\n",
       "      <th>12</th>\n",
       "      <td>Percentage_International_Students</td>\n",
       "      <td>0.0397</td>\n",
       "      <td>False</td>\n",
       "    </tr>\n",
       "    <tr>\n",
       "      <th>13</th>\n",
       "      <td>Percentage_Female_Students</td>\n",
       "      <td>0.0313</td>\n",
       "      <td>False</td>\n",
       "    </tr>\n",
       "    <tr>\n",
       "      <th>14</th>\n",
       "      <td>Number_Studied_Fields</td>\n",
       "      <td>0.0691</td>\n",
       "      <td>False</td>\n",
       "    </tr>\n",
       "    <tr>\n",
       "      <th>15</th>\n",
       "      <td>Non_Finished_Programs</td>\n",
       "      <td>-0.0054</td>\n",
       "      <td>False</td>\n",
       "    </tr>\n",
       "    <tr>\n",
       "      <th>16</th>\n",
       "      <td>AverageScaledGrade</td>\n",
       "      <td>0.2007</td>\n",
       "      <td>True</td>\n",
       "    </tr>\n",
       "    <tr>\n",
       "      <th>17</th>\n",
       "      <td>MaxScaledGrade</td>\n",
       "      <td>0.1937</td>\n",
       "      <td>True</td>\n",
       "    </tr>\n",
       "    <tr>\n",
       "      <th>18</th>\n",
       "      <td>MinScaledGrade</td>\n",
       "      <td>0.1795</td>\n",
       "      <td>True</td>\n",
       "    </tr>\n",
       "    <tr>\n",
       "      <th>19</th>\n",
       "      <td>countries_dist</td>\n",
       "      <td>-0.0563</td>\n",
       "      <td>False</td>\n",
       "    </tr>\n",
       "    <tr>\n",
       "      <th>20</th>\n",
       "      <td>countries_GDP_per_capita</td>\n",
       "      <td>0.1917</td>\n",
       "      <td>True</td>\n",
       "    </tr>\n",
       "    <tr>\n",
       "      <th>21</th>\n",
       "      <td>Program_Name</td>\n",
       "      <td>0.1315</td>\n",
       "      <td>True</td>\n",
       "    </tr>\n",
       "    <tr>\n",
       "      <th>22</th>\n",
       "      <td>Number_Professional_Experiences</td>\n",
       "      <td>-0.0378</td>\n",
       "      <td>False</td>\n",
       "    </tr>\n",
       "    <tr>\n",
       "      <th>23</th>\n",
       "      <td>Years_of_Experience</td>\n",
       "      <td>-0.0001</td>\n",
       "      <td>False</td>\n",
       "    </tr>\n",
       "    <tr>\n",
       "      <th>24</th>\n",
       "      <td>Years_of_Longest_Prof_Experience</td>\n",
       "      <td>-0.0036</td>\n",
       "      <td>False</td>\n",
       "    </tr>\n",
       "    <tr>\n",
       "      <th>25</th>\n",
       "      <td>Number_Fields_Worked</td>\n",
       "      <td>0.0160</td>\n",
       "      <td>False</td>\n",
       "    </tr>\n",
       "    <tr>\n",
       "      <th>26</th>\n",
       "      <td>AverageAcademicDegree</td>\n",
       "      <td>0.0396</td>\n",
       "      <td>False</td>\n",
       "    </tr>\n",
       "    <tr>\n",
       "      <th>27</th>\n",
       "      <td>datacandidaturafim_day_of_week_sin</td>\n",
       "      <td>0.0208</td>\n",
       "      <td>False</td>\n",
       "    </tr>\n",
       "    <tr>\n",
       "      <th>28</th>\n",
       "      <td>datacandidaturafim_day_of_week_cos</td>\n",
       "      <td>0.0089</td>\n",
       "      <td>False</td>\n",
       "    </tr>\n",
       "  </tbody>\n",
       "</table>\n",
       "</div>"
      ],
      "text/plain": [
       "                              Variable  Spearman Correlation  \\\n",
       "0               Prop_Finished_Programs                0.0060   \n",
       "1            NumberAcademicExperiences                0.0344   \n",
       "2                NumberAcademicDegrees                0.0132   \n",
       "3                                 Rank                0.0128   \n",
       "4                   Student Population                0.0100   \n",
       "5              Students to Staff Ratio                0.0953   \n",
       "6                        Overall Score                0.1249   \n",
       "7                             Teaching                0.0002   \n",
       "8                 Research Environment                0.1108   \n",
       "9                     Research Quality                0.1103   \n",
       "10                     Industry Impact                0.0407   \n",
       "11               International Outlook                0.1134   \n",
       "12   Percentage_International_Students                0.0397   \n",
       "13          Percentage_Female_Students                0.0313   \n",
       "14               Number_Studied_Fields                0.0691   \n",
       "15               Non_Finished_Programs               -0.0054   \n",
       "16                  AverageScaledGrade                0.2007   \n",
       "17                      MaxScaledGrade                0.1937   \n",
       "18                      MinScaledGrade                0.1795   \n",
       "19                      countries_dist               -0.0563   \n",
       "20            countries_GDP_per_capita                0.1917   \n",
       "21                        Program_Name                0.1315   \n",
       "22     Number_Professional_Experiences               -0.0378   \n",
       "23                 Years_of_Experience               -0.0001   \n",
       "24    Years_of_Longest_Prof_Experience               -0.0036   \n",
       "25                Number_Fields_Worked                0.0160   \n",
       "26               AverageAcademicDegree                0.0396   \n",
       "27  datacandidaturafim_day_of_week_sin                0.0208   \n",
       "28  datacandidaturafim_day_of_week_cos                0.0089   \n",
       "\n",
       "    |Value| >= Threshold  \n",
       "0                  False  \n",
       "1                  False  \n",
       "2                  False  \n",
       "3                  False  \n",
       "4                  False  \n",
       "5                  False  \n",
       "6                   True  \n",
       "7                  False  \n",
       "8                   True  \n",
       "9                   True  \n",
       "10                 False  \n",
       "11                  True  \n",
       "12                 False  \n",
       "13                 False  \n",
       "14                 False  \n",
       "15                 False  \n",
       "16                  True  \n",
       "17                  True  \n",
       "18                  True  \n",
       "19                 False  \n",
       "20                  True  \n",
       "21                  True  \n",
       "22                 False  \n",
       "23                 False  \n",
       "24                 False  \n",
       "25                 False  \n",
       "26                 False  \n",
       "27                 False  \n",
       "28                 False  "
      ]
     },
     "execution_count": 13,
     "metadata": {},
     "output_type": "execute_result"
    }
   ],
   "source": [
    "tf.spearman_correlation_with_target(X_grades_train_scaled, y_grades_train, numerical_variables)"
   ]
  },
  {
   "cell_type": "markdown",
   "id": "89c89b28",
   "metadata": {},
   "source": [
    "-------\n",
    "### <font color='#BFD62F'>3.6.3. ANOVA</font> <a class=\"anchor\" id=\"anova\"></a>\n",
    "[Back to Contents](#toc)\n",
    "\n",
    "The Analysis of Variance technique (ANOVA) will compare the mean of a numerical variable for each of the categories of a categorical feature. If there is a statistically significant difference (showed by a p-value below 0.05), then a variable should not be discarded (according to this method).\n",
    "\n",
    "We should note that these p-values will also decide which variable to keep for each pair of highly-correlated features identified using the Chi-Square Test of Independence."
   ]
  },
  {
   "cell_type": "code",
   "execution_count": 14,
   "id": "5734dd3a",
   "metadata": {},
   "outputs": [
    {
     "data": {
      "text/html": [
       "<div>\n",
       "<style scoped>\n",
       "    .dataframe tbody tr th:only-of-type {\n",
       "        vertical-align: middle;\n",
       "    }\n",
       "\n",
       "    .dataframe tbody tr th {\n",
       "        vertical-align: top;\n",
       "    }\n",
       "\n",
       "    .dataframe thead th {\n",
       "        text-align: right;\n",
       "    }\n",
       "</style>\n",
       "<table border=\"1\" class=\"dataframe\">\n",
       "  <thead>\n",
       "    <tr style=\"text-align: right;\">\n",
       "      <th></th>\n",
       "      <th>Feature</th>\n",
       "      <th>P-Value</th>\n",
       "      <th>Significant</th>\n",
       "    </tr>\n",
       "  </thead>\n",
       "  <tbody>\n",
       "    <tr>\n",
       "      <th>0</th>\n",
       "      <td>dprograma</td>\n",
       "      <td>0.000000</td>\n",
       "      <td>True</td>\n",
       "    </tr>\n",
       "    <tr>\n",
       "      <th>1</th>\n",
       "      <td>Is_Ranked</td>\n",
       "      <td>0.184129</td>\n",
       "      <td>False</td>\n",
       "    </tr>\n",
       "    <tr>\n",
       "      <th>2</th>\n",
       "      <td>Previous_IMS_Student</td>\n",
       "      <td>0.000000</td>\n",
       "      <td>True</td>\n",
       "    </tr>\n",
       "    <tr>\n",
       "      <th>3</th>\n",
       "      <td>Previous_Data_Studies</td>\n",
       "      <td>0.000000</td>\n",
       "      <td>True</td>\n",
       "    </tr>\n",
       "    <tr>\n",
       "      <th>4</th>\n",
       "      <td>Previous_Computer_Studies</td>\n",
       "      <td>0.674746</td>\n",
       "      <td>False</td>\n",
       "    </tr>\n",
       "    <tr>\n",
       "      <th>5</th>\n",
       "      <td>Previous_Tech_Studies</td>\n",
       "      <td>0.017578</td>\n",
       "      <td>True</td>\n",
       "    </tr>\n",
       "    <tr>\n",
       "      <th>6</th>\n",
       "      <td>Previous_Math_Studies</td>\n",
       "      <td>0.074797</td>\n",
       "      <td>False</td>\n",
       "    </tr>\n",
       "    <tr>\n",
       "      <th>7</th>\n",
       "      <td>Previous_Engineering_Studies</td>\n",
       "      <td>0.021601</td>\n",
       "      <td>True</td>\n",
       "    </tr>\n",
       "    <tr>\n",
       "      <th>8</th>\n",
       "      <td>Previous_Finance_Studies</td>\n",
       "      <td>0.040057</td>\n",
       "      <td>True</td>\n",
       "    </tr>\n",
       "    <tr>\n",
       "      <th>9</th>\n",
       "      <td>Previous_Marketing_Studies</td>\n",
       "      <td>0.000184</td>\n",
       "      <td>True</td>\n",
       "    </tr>\n",
       "    <tr>\n",
       "      <th>10</th>\n",
       "      <td>Previous_Field_Studies</td>\n",
       "      <td>0.000526</td>\n",
       "      <td>True</td>\n",
       "    </tr>\n",
       "    <tr>\n",
       "      <th>11</th>\n",
       "      <td>is_Portuguese</td>\n",
       "      <td>0.031563</td>\n",
       "      <td>True</td>\n",
       "    </tr>\n",
       "    <tr>\n",
       "      <th>12</th>\n",
       "      <td>is_After_Working_Hours</td>\n",
       "      <td>0.211490</td>\n",
       "      <td>False</td>\n",
       "    </tr>\n",
       "    <tr>\n",
       "      <th>13</th>\n",
       "      <td>is_Fully_In_Person</td>\n",
       "      <td>0.444555</td>\n",
       "      <td>False</td>\n",
       "    </tr>\n",
       "    <tr>\n",
       "      <th>14</th>\n",
       "      <td>Working_Upon_Application</td>\n",
       "      <td>0.151730</td>\n",
       "      <td>False</td>\n",
       "    </tr>\n",
       "    <tr>\n",
       "      <th>15</th>\n",
       "      <td>Previous_Data_Jobs</td>\n",
       "      <td>0.000256</td>\n",
       "      <td>True</td>\n",
       "    </tr>\n",
       "    <tr>\n",
       "      <th>16</th>\n",
       "      <td>Previous_Analytics_Jobs</td>\n",
       "      <td>0.940207</td>\n",
       "      <td>False</td>\n",
       "    </tr>\n",
       "    <tr>\n",
       "      <th>17</th>\n",
       "      <td>Previous_Computing_Jobs</td>\n",
       "      <td>0.974730</td>\n",
       "      <td>False</td>\n",
       "    </tr>\n",
       "    <tr>\n",
       "      <th>18</th>\n",
       "      <td>Previous_Tech_Jobs</td>\n",
       "      <td>0.153076</td>\n",
       "      <td>False</td>\n",
       "    </tr>\n",
       "    <tr>\n",
       "      <th>19</th>\n",
       "      <td>Previous_Math_Jobs</td>\n",
       "      <td>0.586025</td>\n",
       "      <td>False</td>\n",
       "    </tr>\n",
       "    <tr>\n",
       "      <th>20</th>\n",
       "      <td>Previous_Engineering_Jobs</td>\n",
       "      <td>0.501130</td>\n",
       "      <td>False</td>\n",
       "    </tr>\n",
       "    <tr>\n",
       "      <th>21</th>\n",
       "      <td>Previous_Finance_Jobs</td>\n",
       "      <td>0.609403</td>\n",
       "      <td>False</td>\n",
       "    </tr>\n",
       "    <tr>\n",
       "      <th>22</th>\n",
       "      <td>Previous_Marketing_Jobs</td>\n",
       "      <td>0.002896</td>\n",
       "      <td>True</td>\n",
       "    </tr>\n",
       "    <tr>\n",
       "      <th>23</th>\n",
       "      <td>Previous_Project_Jobs</td>\n",
       "      <td>0.031981</td>\n",
       "      <td>True</td>\n",
       "    </tr>\n",
       "    <tr>\n",
       "      <th>24</th>\n",
       "      <td>Previous_Field_Jobs</td>\n",
       "      <td>0.444447</td>\n",
       "      <td>False</td>\n",
       "    </tr>\n",
       "    <tr>\n",
       "      <th>25</th>\n",
       "      <td>Previous_Trainee_Jobs</td>\n",
       "      <td>0.001346</td>\n",
       "      <td>True</td>\n",
       "    </tr>\n",
       "    <tr>\n",
       "      <th>26</th>\n",
       "      <td>Previous_Jobs_in_Partners</td>\n",
       "      <td>0.000421</td>\n",
       "      <td>True</td>\n",
       "    </tr>\n",
       "    <tr>\n",
       "      <th>27</th>\n",
       "      <td>nivelInglesCompreensao</td>\n",
       "      <td>0.005549</td>\n",
       "      <td>True</td>\n",
       "    </tr>\n",
       "    <tr>\n",
       "      <th>28</th>\n",
       "      <td>nivelInglesFala</td>\n",
       "      <td>0.571715</td>\n",
       "      <td>False</td>\n",
       "    </tr>\n",
       "    <tr>\n",
       "      <th>29</th>\n",
       "      <td>nivelInglesEscrita</td>\n",
       "      <td>0.184065</td>\n",
       "      <td>False</td>\n",
       "    </tr>\n",
       "    <tr>\n",
       "      <th>30</th>\n",
       "      <td>HighestAcademicDegree</td>\n",
       "      <td>0.002052</td>\n",
       "      <td>True</td>\n",
       "    </tr>\n",
       "    <tr>\n",
       "      <th>31</th>\n",
       "      <td>idgenero</td>\n",
       "      <td>0.114836</td>\n",
       "      <td>False</td>\n",
       "    </tr>\n",
       "    <tr>\n",
       "      <th>32</th>\n",
       "      <td>countries_region</td>\n",
       "      <td>0.000000</td>\n",
       "      <td>True</td>\n",
       "    </tr>\n",
       "    <tr>\n",
       "      <th>33</th>\n",
       "      <td>datacandidaturafim_month</td>\n",
       "      <td>0.000000</td>\n",
       "      <td>True</td>\n",
       "    </tr>\n",
       "    <tr>\n",
       "      <th>34</th>\n",
       "      <td>datacandidaturafim_day</td>\n",
       "      <td>0.299603</td>\n",
       "      <td>False</td>\n",
       "    </tr>\n",
       "    <tr>\n",
       "      <th>35</th>\n",
       "      <td>datacandidaturafim_time_of_day</td>\n",
       "      <td>0.280032</td>\n",
       "      <td>False</td>\n",
       "    </tr>\n",
       "  </tbody>\n",
       "</table>\n",
       "</div>"
      ],
      "text/plain": [
       "                           Feature   P-Value  Significant\n",
       "0                        dprograma  0.000000         True\n",
       "1                        Is_Ranked  0.184129        False\n",
       "2             Previous_IMS_Student  0.000000         True\n",
       "3            Previous_Data_Studies  0.000000         True\n",
       "4        Previous_Computer_Studies  0.674746        False\n",
       "5            Previous_Tech_Studies  0.017578         True\n",
       "6            Previous_Math_Studies  0.074797        False\n",
       "7     Previous_Engineering_Studies  0.021601         True\n",
       "8         Previous_Finance_Studies  0.040057         True\n",
       "9       Previous_Marketing_Studies  0.000184         True\n",
       "10          Previous_Field_Studies  0.000526         True\n",
       "11                   is_Portuguese  0.031563         True\n",
       "12          is_After_Working_Hours  0.211490        False\n",
       "13              is_Fully_In_Person  0.444555        False\n",
       "14        Working_Upon_Application  0.151730        False\n",
       "15              Previous_Data_Jobs  0.000256         True\n",
       "16         Previous_Analytics_Jobs  0.940207        False\n",
       "17         Previous_Computing_Jobs  0.974730        False\n",
       "18              Previous_Tech_Jobs  0.153076        False\n",
       "19              Previous_Math_Jobs  0.586025        False\n",
       "20       Previous_Engineering_Jobs  0.501130        False\n",
       "21           Previous_Finance_Jobs  0.609403        False\n",
       "22         Previous_Marketing_Jobs  0.002896         True\n",
       "23           Previous_Project_Jobs  0.031981         True\n",
       "24             Previous_Field_Jobs  0.444447        False\n",
       "25           Previous_Trainee_Jobs  0.001346         True\n",
       "26       Previous_Jobs_in_Partners  0.000421         True\n",
       "27          nivelInglesCompreensao  0.005549         True\n",
       "28                 nivelInglesFala  0.571715        False\n",
       "29              nivelInglesEscrita  0.184065        False\n",
       "30           HighestAcademicDegree  0.002052         True\n",
       "31                        idgenero  0.114836        False\n",
       "32                countries_region  0.000000         True\n",
       "33        datacandidaturafim_month  0.000000         True\n",
       "34          datacandidaturafim_day  0.299603        False\n",
       "35  datacandidaturafim_time_of_day  0.280032        False"
      ]
     },
     "execution_count": 14,
     "metadata": {},
     "output_type": "execute_result"
    }
   ],
   "source": [
    "tf.anova(\"regression\",\n",
    "         df = X_grades_train_scaled,\n",
    "         categorical_variables = categorical_variables,\n",
    "         y = y_grades_train,\n",
    "         k = \"all\")"
   ]
  },
  {
   "cell_type": "markdown",
   "id": "d6be24dc",
   "metadata": {},
   "source": [
    "-------\n",
    "### <font color='#BFD62F'>3.6.4. Point Biserial Correlation</font> <a class=\"anchor\" id=\"biserial\"></a>\n",
    "[Back to Contents](#toc)\n",
    "\n",
    "As was explained above, the point biserial correlation is a variation of Pearson's Correlation to assess the relationship between a binary and a numerical variable. The function below returns these correlations in a table format, adding an auxiliary column that will be \"True\" if the (rounded) absolute value of this correlation is above 0.1 - the value we will define as a threshold to accept or reject features."
   ]
  },
  {
   "cell_type": "code",
   "execution_count": 15,
   "id": "6eb0f657",
   "metadata": {},
   "outputs": [
    {
     "data": {
      "text/html": [
       "<div>\n",
       "<style scoped>\n",
       "    .dataframe tbody tr th:only-of-type {\n",
       "        vertical-align: middle;\n",
       "    }\n",
       "\n",
       "    .dataframe tbody tr th {\n",
       "        vertical-align: top;\n",
       "    }\n",
       "\n",
       "    .dataframe thead th {\n",
       "        text-align: right;\n",
       "    }\n",
       "</style>\n",
       "<table border=\"1\" class=\"dataframe\">\n",
       "  <thead>\n",
       "    <tr style=\"text-align: right;\">\n",
       "      <th></th>\n",
       "      <th>Variable</th>\n",
       "      <th>Value</th>\n",
       "      <th>|Value| &gt;= Threshold</th>\n",
       "    </tr>\n",
       "  </thead>\n",
       "  <tbody>\n",
       "    <tr>\n",
       "      <th>0</th>\n",
       "      <td>dprograma</td>\n",
       "      <td>0.122001</td>\n",
       "      <td>True</td>\n",
       "    </tr>\n",
       "    <tr>\n",
       "      <th>1</th>\n",
       "      <td>Is_Ranked</td>\n",
       "      <td>-0.027985</td>\n",
       "      <td>False</td>\n",
       "    </tr>\n",
       "    <tr>\n",
       "      <th>2</th>\n",
       "      <td>Previous_IMS_Student</td>\n",
       "      <td>0.126607</td>\n",
       "      <td>True</td>\n",
       "    </tr>\n",
       "    <tr>\n",
       "      <th>3</th>\n",
       "      <td>Previous_Data_Studies</td>\n",
       "      <td>0.106695</td>\n",
       "      <td>True</td>\n",
       "    </tr>\n",
       "    <tr>\n",
       "      <th>4</th>\n",
       "      <td>Previous_Computer_Studies</td>\n",
       "      <td>0.008844</td>\n",
       "      <td>False</td>\n",
       "    </tr>\n",
       "    <tr>\n",
       "      <th>5</th>\n",
       "      <td>Previous_Tech_Studies</td>\n",
       "      <td>0.050009</td>\n",
       "      <td>True</td>\n",
       "    </tr>\n",
       "    <tr>\n",
       "      <th>6</th>\n",
       "      <td>Previous_Math_Studies</td>\n",
       "      <td>0.037536</td>\n",
       "      <td>False</td>\n",
       "    </tr>\n",
       "    <tr>\n",
       "      <th>7</th>\n",
       "      <td>Previous_Engineering_Studies</td>\n",
       "      <td>0.048387</td>\n",
       "      <td>True</td>\n",
       "    </tr>\n",
       "    <tr>\n",
       "      <th>8</th>\n",
       "      <td>Previous_Finance_Studies</td>\n",
       "      <td>-0.043250</td>\n",
       "      <td>False</td>\n",
       "    </tr>\n",
       "    <tr>\n",
       "      <th>9</th>\n",
       "      <td>Previous_Marketing_Studies</td>\n",
       "      <td>-0.078709</td>\n",
       "      <td>True</td>\n",
       "    </tr>\n",
       "    <tr>\n",
       "      <th>10</th>\n",
       "      <td>Previous_Field_Studies</td>\n",
       "      <td>0.072970</td>\n",
       "      <td>True</td>\n",
       "    </tr>\n",
       "    <tr>\n",
       "      <th>11</th>\n",
       "      <td>is_Portuguese</td>\n",
       "      <td>0.045286</td>\n",
       "      <td>True</td>\n",
       "    </tr>\n",
       "    <tr>\n",
       "      <th>12</th>\n",
       "      <td>is_After_Working_Hours</td>\n",
       "      <td>-0.026328</td>\n",
       "      <td>False</td>\n",
       "    </tr>\n",
       "    <tr>\n",
       "      <th>13</th>\n",
       "      <td>is_Fully_In_Person</td>\n",
       "      <td>-0.016111</td>\n",
       "      <td>False</td>\n",
       "    </tr>\n",
       "    <tr>\n",
       "      <th>14</th>\n",
       "      <td>Working_Upon_Application</td>\n",
       "      <td>-0.030203</td>\n",
       "      <td>False</td>\n",
       "    </tr>\n",
       "    <tr>\n",
       "      <th>15</th>\n",
       "      <td>Previous_Data_Jobs</td>\n",
       "      <td>0.076943</td>\n",
       "      <td>True</td>\n",
       "    </tr>\n",
       "    <tr>\n",
       "      <th>16</th>\n",
       "      <td>Previous_Analytics_Jobs</td>\n",
       "      <td>0.001581</td>\n",
       "      <td>False</td>\n",
       "    </tr>\n",
       "    <tr>\n",
       "      <th>17</th>\n",
       "      <td>Previous_Computing_Jobs</td>\n",
       "      <td>-0.000668</td>\n",
       "      <td>False</td>\n",
       "    </tr>\n",
       "    <tr>\n",
       "      <th>18</th>\n",
       "      <td>Previous_Tech_Jobs</td>\n",
       "      <td>0.030104</td>\n",
       "      <td>False</td>\n",
       "    </tr>\n",
       "    <tr>\n",
       "      <th>19</th>\n",
       "      <td>Previous_Math_Jobs</td>\n",
       "      <td>-0.011477</td>\n",
       "      <td>False</td>\n",
       "    </tr>\n",
       "    <tr>\n",
       "      <th>20</th>\n",
       "      <td>Previous_Engineering_Jobs</td>\n",
       "      <td>-0.014177</td>\n",
       "      <td>False</td>\n",
       "    </tr>\n",
       "    <tr>\n",
       "      <th>21</th>\n",
       "      <td>Previous_Finance_Jobs</td>\n",
       "      <td>0.010767</td>\n",
       "      <td>False</td>\n",
       "    </tr>\n",
       "    <tr>\n",
       "      <th>22</th>\n",
       "      <td>Previous_Marketing_Jobs</td>\n",
       "      <td>-0.062712</td>\n",
       "      <td>True</td>\n",
       "    </tr>\n",
       "    <tr>\n",
       "      <th>23</th>\n",
       "      <td>Previous_Project_Jobs</td>\n",
       "      <td>0.045175</td>\n",
       "      <td>True</td>\n",
       "    </tr>\n",
       "    <tr>\n",
       "      <th>24</th>\n",
       "      <td>Previous_Field_Jobs</td>\n",
       "      <td>0.016115</td>\n",
       "      <td>False</td>\n",
       "    </tr>\n",
       "    <tr>\n",
       "      <th>25</th>\n",
       "      <td>Previous_Trainee_Jobs</td>\n",
       "      <td>0.067488</td>\n",
       "      <td>True</td>\n",
       "    </tr>\n",
       "    <tr>\n",
       "      <th>26</th>\n",
       "      <td>Previous_Jobs_in_Partners</td>\n",
       "      <td>0.074214</td>\n",
       "      <td>True</td>\n",
       "    </tr>\n",
       "  </tbody>\n",
       "</table>\n",
       "</div>"
      ],
      "text/plain": [
       "                        Variable     Value  |Value| >= Threshold\n",
       "0                      dprograma  0.122001                  True\n",
       "1                      Is_Ranked -0.027985                 False\n",
       "2           Previous_IMS_Student  0.126607                  True\n",
       "3          Previous_Data_Studies  0.106695                  True\n",
       "4      Previous_Computer_Studies  0.008844                 False\n",
       "5          Previous_Tech_Studies  0.050009                  True\n",
       "6          Previous_Math_Studies  0.037536                 False\n",
       "7   Previous_Engineering_Studies  0.048387                  True\n",
       "8       Previous_Finance_Studies -0.043250                 False\n",
       "9     Previous_Marketing_Studies -0.078709                  True\n",
       "10        Previous_Field_Studies  0.072970                  True\n",
       "11                 is_Portuguese  0.045286                  True\n",
       "12        is_After_Working_Hours -0.026328                 False\n",
       "13            is_Fully_In_Person -0.016111                 False\n",
       "14      Working_Upon_Application -0.030203                 False\n",
       "15            Previous_Data_Jobs  0.076943                  True\n",
       "16       Previous_Analytics_Jobs  0.001581                 False\n",
       "17       Previous_Computing_Jobs -0.000668                 False\n",
       "18            Previous_Tech_Jobs  0.030104                 False\n",
       "19            Previous_Math_Jobs -0.011477                 False\n",
       "20     Previous_Engineering_Jobs -0.014177                 False\n",
       "21         Previous_Finance_Jobs  0.010767                 False\n",
       "22       Previous_Marketing_Jobs -0.062712                  True\n",
       "23         Previous_Project_Jobs  0.045175                  True\n",
       "24           Previous_Field_Jobs  0.016115                 False\n",
       "25         Previous_Trainee_Jobs  0.067488                  True\n",
       "26     Previous_Jobs_in_Partners  0.074214                  True"
      ]
     },
     "execution_count": 15,
     "metadata": {},
     "output_type": "execute_result"
    }
   ],
   "source": [
    "tf.point_biserial(\"regression\",\n",
    "                  df = X_grades_train_scaled,\n",
    "                  target = y_grades_train,\n",
    "                  binary_variables = binary_variables,\n",
    "                  threshold = 0.05)"
   ]
  },
  {
   "cell_type": "markdown",
   "id": "3702f72c",
   "metadata": {},
   "source": [
    "-------\n",
    "### <font color='#BFD62F'>3.6.5. Recursive Feature Elimination - Linear Regression</font> <a class=\"anchor\" id=\"rfelr\"></a>\n",
    "[Back to Contents](#toc)"
   ]
  },
  {
   "cell_type": "code",
   "execution_count": 16,
   "id": "41643a44",
   "metadata": {},
   "outputs": [],
   "source": [
    "#rfe_linreg_model = LinearRegression()\n",
    "\n",
    "#tf.RFE(\"regression\", X_grades_train_scaled, X_grades_val_scaled, y_grades_train, y_grades_val, rfe_linreg_model)"
   ]
  },
  {
   "cell_type": "markdown",
   "id": "870b45a0",
   "metadata": {},
   "source": [
    "-------\n",
    "### <font color='#BFD62F'>3.6.6. Recursive Feature Elimination - Support Vector Machines</font> <a class=\"anchor\" id=\"rfesvm\"></a>\n",
    "[Back to Contents](#toc)"
   ]
  },
  {
   "cell_type": "code",
   "execution_count": 17,
   "id": "1af7dbd3",
   "metadata": {},
   "outputs": [],
   "source": [
    "#rfe_svm_model = LinearSVR(random_state = 92)\n",
    "\n",
    "#tf.RFE(\"regression\", X_grades_train_scaled, X_grades_val_scaled, y_grades_train, y_grades_val, rfe_svm_model)"
   ]
  },
  {
   "cell_type": "markdown",
   "id": "08524ea6",
   "metadata": {},
   "source": [
    "-------\n",
    "### <font color='#BFD62F'>3.6.7. Random Forest</font> <a class=\"anchor\" id=\"rf\"></a>\n",
    "[Back to Contents](#toc)\n",
    "\n",
    "Our implementation (using sklearn) will return feature importance as the normalized (therefore, totalling 1) reduction of the squared error (the default loss function) brought by that feature. We will discard the features (according to this method) whose importance falls below the defined threshold."
   ]
  },
  {
   "cell_type": "code",
   "execution_count": 18,
   "id": "597dc319",
   "metadata": {},
   "outputs": [
    {
     "data": {
      "application/vnd.plotly.v1+json": {
       "config": {
        "plotlyServerURL": "https://plot.ly"
       },
       "data": [
        {
         "alignmentgroup": "True",
         "hovertemplate": "Importance=%{x}<br>Feature=%{y}<extra></extra>",
         "legendgroup": "",
         "marker": {
          "color": "#5C666C",
          "pattern": {
           "shape": ""
          }
         },
         "name": "",
         "offsetgroup": "",
         "orientation": "h",
         "showlegend": false,
         "textposition": "auto",
         "type": "bar",
         "x": [
          0.14888736765513969,
          0.0712422147075062,
          0.06808759368578665,
          0.0430788786162524,
          0.041732150648939766,
          0.0399894744900952,
          0.03830312209152072,
          0.03397235318733925,
          0.032842937593597105,
          0.030349529705866515,
          0.024923795724182952,
          0.022729322064757928,
          0.020079853164072067,
          0.019676390699925626,
          0.019172153876204297,
          0.01864096427098522,
          0.014691611846329276,
          0.014103170989057225,
          0.014076339262421458,
          0.013943721106771651,
          0.013207304658656238,
          0.012445552821794484,
          0.011655253209658965,
          0.010523262301931909,
          0.01009172951132969,
          0.01006362344741604,
          0.009614306608586814,
          0.009126268006499348,
          0.009050182567268637,
          0.008902417851192768,
          0.008583940374027245,
          0.008537025294353094,
          0.00824253456213582,
          0.008071254685368866,
          0.007819568741831666,
          0.007138308195238648,
          0.006740041072547198,
          0.0065889595701383065,
          0.0061221966117074944,
          0.0060316638839307225,
          0.005793492740161421,
          0.005787912746934407,
          0.005698811073425154,
          0.005671104185659589,
          0.0056248220505968165,
          0.005570857392114505,
          0.0054030301356554865,
          0.005379996372166668,
          0.005233394040836109,
          0.005102208122238593,
          0.004061558198873885,
          0.0038686879998528962,
          0.003818205757358009,
          0.003717472209012676,
          0.0031230359276992925,
          0.0029963155643764716,
          0.0027929035183707446,
          0.0027326676880836303,
          0.001986278566093046,
          0.0017524498768130786,
          0.001070597046546994,
          0.001051519100781758,
          0.001028110941533711,
          0.0008415843162682452,
          0.0008146450661817951
         ],
         "xaxis": "x",
         "y": [
          "Program_Name",
          "datacandidaturafim_day",
          "AverageScaledGrade",
          "countries_GDP_per_capita",
          "datacandidaturafim_month",
          "Years_of_Experience",
          "MaxScaledGrade",
          "Years_of_Longest_Prof_Experience",
          "MinScaledGrade",
          "datacandidaturafim_day_of_week_sin",
          "nivelInglesCompreensao",
          "Number_Professional_Experiences",
          "AverageAcademicDegree",
          "datacandidaturafim_day_of_week_cos",
          "nivelInglesEscrita",
          "datacandidaturafim_time_of_day",
          "HighestAcademicDegree",
          "nivelInglesFala",
          "idgenero",
          "Number_Studied_Fields",
          "Number_Fields_Worked",
          "Industry Impact",
          "Previous_Math_Studies",
          "Previous_IMS_Student",
          "Student Population",
          "Students to Staff Ratio",
          "Previous_Marketing_Studies",
          "Research Environment",
          "Research Quality",
          "Previous_Engineering_Studies",
          "Previous_Trainee_Jobs",
          "Teaching",
          "Previous_Jobs_in_Partners",
          "Previous_Marketing_Jobs",
          "Previous_Tech_Studies",
          "Working_Upon_Application",
          "Overall Score",
          "International Outlook",
          "is_After_Working_Hours",
          "Percentage_International_Students",
          "Previous_Tech_Jobs",
          "Previous_Data_Studies",
          "Previous_Field_Studies",
          "countries_dist",
          "Previous_Analytics_Jobs",
          "Previous_Data_Jobs",
          "Previous_Computer_Studies",
          "Previous_Project_Jobs",
          "NumberAcademicExperiences",
          "Previous_Finance_Studies",
          "Previous_Field_Jobs",
          "Percentage_Female_Students",
          "Previous_Finance_Jobs",
          "NumberAcademicDegrees",
          "Previous_Engineering_Jobs",
          "Rank",
          "Previous_Computing_Jobs",
          "dprograma",
          "Previous_Math_Jobs",
          "Prop_Finished_Programs",
          "countries_region",
          "Is_Ranked",
          "is_Fully_In_Person",
          "is_Portuguese",
          "Non_Finished_Programs"
         ],
         "yaxis": "y"
        }
       ],
       "layout": {
        "barmode": "relative",
        "height": 1300,
        "legend": {
         "tracegroupgap": 0
        },
        "shapes": [
         {
          "line": {
           "color": "black",
           "dash": "dash"
          },
          "type": "line",
          "x0": 0.02,
          "x1": 0.02,
          "xref": "x",
          "y0": 0,
          "y1": 1,
          "yref": "y domain"
         }
        ],
        "showlegend": false,
        "template": {
         "data": {
          "bar": [
           {
            "error_x": {
             "color": "#2a3f5f"
            },
            "error_y": {
             "color": "#2a3f5f"
            },
            "marker": {
             "line": {
              "color": "#E5ECF6",
              "width": 0.5
             },
             "pattern": {
              "fillmode": "overlay",
              "size": 10,
              "solidity": 0.2
             }
            },
            "type": "bar"
           }
          ],
          "barpolar": [
           {
            "marker": {
             "line": {
              "color": "#E5ECF6",
              "width": 0.5
             },
             "pattern": {
              "fillmode": "overlay",
              "size": 10,
              "solidity": 0.2
             }
            },
            "type": "barpolar"
           }
          ],
          "carpet": [
           {
            "aaxis": {
             "endlinecolor": "#2a3f5f",
             "gridcolor": "white",
             "linecolor": "white",
             "minorgridcolor": "white",
             "startlinecolor": "#2a3f5f"
            },
            "baxis": {
             "endlinecolor": "#2a3f5f",
             "gridcolor": "white",
             "linecolor": "white",
             "minorgridcolor": "white",
             "startlinecolor": "#2a3f5f"
            },
            "type": "carpet"
           }
          ],
          "choropleth": [
           {
            "colorbar": {
             "outlinewidth": 0,
             "ticks": ""
            },
            "type": "choropleth"
           }
          ],
          "contour": [
           {
            "colorbar": {
             "outlinewidth": 0,
             "ticks": ""
            },
            "colorscale": [
             [
              0,
              "#0d0887"
             ],
             [
              0.1111111111111111,
              "#46039f"
             ],
             [
              0.2222222222222222,
              "#7201a8"
             ],
             [
              0.3333333333333333,
              "#9c179e"
             ],
             [
              0.4444444444444444,
              "#bd3786"
             ],
             [
              0.5555555555555556,
              "#d8576b"
             ],
             [
              0.6666666666666666,
              "#ed7953"
             ],
             [
              0.7777777777777778,
              "#fb9f3a"
             ],
             [
              0.8888888888888888,
              "#fdca26"
             ],
             [
              1,
              "#f0f921"
             ]
            ],
            "type": "contour"
           }
          ],
          "contourcarpet": [
           {
            "colorbar": {
             "outlinewidth": 0,
             "ticks": ""
            },
            "type": "contourcarpet"
           }
          ],
          "heatmap": [
           {
            "colorbar": {
             "outlinewidth": 0,
             "ticks": ""
            },
            "colorscale": [
             [
              0,
              "#0d0887"
             ],
             [
              0.1111111111111111,
              "#46039f"
             ],
             [
              0.2222222222222222,
              "#7201a8"
             ],
             [
              0.3333333333333333,
              "#9c179e"
             ],
             [
              0.4444444444444444,
              "#bd3786"
             ],
             [
              0.5555555555555556,
              "#d8576b"
             ],
             [
              0.6666666666666666,
              "#ed7953"
             ],
             [
              0.7777777777777778,
              "#fb9f3a"
             ],
             [
              0.8888888888888888,
              "#fdca26"
             ],
             [
              1,
              "#f0f921"
             ]
            ],
            "type": "heatmap"
           }
          ],
          "heatmapgl": [
           {
            "colorbar": {
             "outlinewidth": 0,
             "ticks": ""
            },
            "colorscale": [
             [
              0,
              "#0d0887"
             ],
             [
              0.1111111111111111,
              "#46039f"
             ],
             [
              0.2222222222222222,
              "#7201a8"
             ],
             [
              0.3333333333333333,
              "#9c179e"
             ],
             [
              0.4444444444444444,
              "#bd3786"
             ],
             [
              0.5555555555555556,
              "#d8576b"
             ],
             [
              0.6666666666666666,
              "#ed7953"
             ],
             [
              0.7777777777777778,
              "#fb9f3a"
             ],
             [
              0.8888888888888888,
              "#fdca26"
             ],
             [
              1,
              "#f0f921"
             ]
            ],
            "type": "heatmapgl"
           }
          ],
          "histogram": [
           {
            "marker": {
             "pattern": {
              "fillmode": "overlay",
              "size": 10,
              "solidity": 0.2
             }
            },
            "type": "histogram"
           }
          ],
          "histogram2d": [
           {
            "colorbar": {
             "outlinewidth": 0,
             "ticks": ""
            },
            "colorscale": [
             [
              0,
              "#0d0887"
             ],
             [
              0.1111111111111111,
              "#46039f"
             ],
             [
              0.2222222222222222,
              "#7201a8"
             ],
             [
              0.3333333333333333,
              "#9c179e"
             ],
             [
              0.4444444444444444,
              "#bd3786"
             ],
             [
              0.5555555555555556,
              "#d8576b"
             ],
             [
              0.6666666666666666,
              "#ed7953"
             ],
             [
              0.7777777777777778,
              "#fb9f3a"
             ],
             [
              0.8888888888888888,
              "#fdca26"
             ],
             [
              1,
              "#f0f921"
             ]
            ],
            "type": "histogram2d"
           }
          ],
          "histogram2dcontour": [
           {
            "colorbar": {
             "outlinewidth": 0,
             "ticks": ""
            },
            "colorscale": [
             [
              0,
              "#0d0887"
             ],
             [
              0.1111111111111111,
              "#46039f"
             ],
             [
              0.2222222222222222,
              "#7201a8"
             ],
             [
              0.3333333333333333,
              "#9c179e"
             ],
             [
              0.4444444444444444,
              "#bd3786"
             ],
             [
              0.5555555555555556,
              "#d8576b"
             ],
             [
              0.6666666666666666,
              "#ed7953"
             ],
             [
              0.7777777777777778,
              "#fb9f3a"
             ],
             [
              0.8888888888888888,
              "#fdca26"
             ],
             [
              1,
              "#f0f921"
             ]
            ],
            "type": "histogram2dcontour"
           }
          ],
          "mesh3d": [
           {
            "colorbar": {
             "outlinewidth": 0,
             "ticks": ""
            },
            "type": "mesh3d"
           }
          ],
          "parcoords": [
           {
            "line": {
             "colorbar": {
              "outlinewidth": 0,
              "ticks": ""
             }
            },
            "type": "parcoords"
           }
          ],
          "pie": [
           {
            "automargin": true,
            "type": "pie"
           }
          ],
          "scatter": [
           {
            "fillpattern": {
             "fillmode": "overlay",
             "size": 10,
             "solidity": 0.2
            },
            "type": "scatter"
           }
          ],
          "scatter3d": [
           {
            "line": {
             "colorbar": {
              "outlinewidth": 0,
              "ticks": ""
             }
            },
            "marker": {
             "colorbar": {
              "outlinewidth": 0,
              "ticks": ""
             }
            },
            "type": "scatter3d"
           }
          ],
          "scattercarpet": [
           {
            "marker": {
             "colorbar": {
              "outlinewidth": 0,
              "ticks": ""
             }
            },
            "type": "scattercarpet"
           }
          ],
          "scattergeo": [
           {
            "marker": {
             "colorbar": {
              "outlinewidth": 0,
              "ticks": ""
             }
            },
            "type": "scattergeo"
           }
          ],
          "scattergl": [
           {
            "marker": {
             "colorbar": {
              "outlinewidth": 0,
              "ticks": ""
             }
            },
            "type": "scattergl"
           }
          ],
          "scattermapbox": [
           {
            "marker": {
             "colorbar": {
              "outlinewidth": 0,
              "ticks": ""
             }
            },
            "type": "scattermapbox"
           }
          ],
          "scatterpolar": [
           {
            "marker": {
             "colorbar": {
              "outlinewidth": 0,
              "ticks": ""
             }
            },
            "type": "scatterpolar"
           }
          ],
          "scatterpolargl": [
           {
            "marker": {
             "colorbar": {
              "outlinewidth": 0,
              "ticks": ""
             }
            },
            "type": "scatterpolargl"
           }
          ],
          "scatterternary": [
           {
            "marker": {
             "colorbar": {
              "outlinewidth": 0,
              "ticks": ""
             }
            },
            "type": "scatterternary"
           }
          ],
          "surface": [
           {
            "colorbar": {
             "outlinewidth": 0,
             "ticks": ""
            },
            "colorscale": [
             [
              0,
              "#0d0887"
             ],
             [
              0.1111111111111111,
              "#46039f"
             ],
             [
              0.2222222222222222,
              "#7201a8"
             ],
             [
              0.3333333333333333,
              "#9c179e"
             ],
             [
              0.4444444444444444,
              "#bd3786"
             ],
             [
              0.5555555555555556,
              "#d8576b"
             ],
             [
              0.6666666666666666,
              "#ed7953"
             ],
             [
              0.7777777777777778,
              "#fb9f3a"
             ],
             [
              0.8888888888888888,
              "#fdca26"
             ],
             [
              1,
              "#f0f921"
             ]
            ],
            "type": "surface"
           }
          ],
          "table": [
           {
            "cells": {
             "fill": {
              "color": "#EBF0F8"
             },
             "line": {
              "color": "white"
             }
            },
            "header": {
             "fill": {
              "color": "#C8D4E3"
             },
             "line": {
              "color": "white"
             }
            },
            "type": "table"
           }
          ]
         },
         "layout": {
          "annotationdefaults": {
           "arrowcolor": "#2a3f5f",
           "arrowhead": 0,
           "arrowwidth": 1
          },
          "autotypenumbers": "strict",
          "coloraxis": {
           "colorbar": {
            "outlinewidth": 0,
            "ticks": ""
           }
          },
          "colorscale": {
           "diverging": [
            [
             0,
             "#8e0152"
            ],
            [
             0.1,
             "#c51b7d"
            ],
            [
             0.2,
             "#de77ae"
            ],
            [
             0.3,
             "#f1b6da"
            ],
            [
             0.4,
             "#fde0ef"
            ],
            [
             0.5,
             "#f7f7f7"
            ],
            [
             0.6,
             "#e6f5d0"
            ],
            [
             0.7,
             "#b8e186"
            ],
            [
             0.8,
             "#7fbc41"
            ],
            [
             0.9,
             "#4d9221"
            ],
            [
             1,
             "#276419"
            ]
           ],
           "sequential": [
            [
             0,
             "#0d0887"
            ],
            [
             0.1111111111111111,
             "#46039f"
            ],
            [
             0.2222222222222222,
             "#7201a8"
            ],
            [
             0.3333333333333333,
             "#9c179e"
            ],
            [
             0.4444444444444444,
             "#bd3786"
            ],
            [
             0.5555555555555556,
             "#d8576b"
            ],
            [
             0.6666666666666666,
             "#ed7953"
            ],
            [
             0.7777777777777778,
             "#fb9f3a"
            ],
            [
             0.8888888888888888,
             "#fdca26"
            ],
            [
             1,
             "#f0f921"
            ]
           ],
           "sequentialminus": [
            [
             0,
             "#0d0887"
            ],
            [
             0.1111111111111111,
             "#46039f"
            ],
            [
             0.2222222222222222,
             "#7201a8"
            ],
            [
             0.3333333333333333,
             "#9c179e"
            ],
            [
             0.4444444444444444,
             "#bd3786"
            ],
            [
             0.5555555555555556,
             "#d8576b"
            ],
            [
             0.6666666666666666,
             "#ed7953"
            ],
            [
             0.7777777777777778,
             "#fb9f3a"
            ],
            [
             0.8888888888888888,
             "#fdca26"
            ],
            [
             1,
             "#f0f921"
            ]
           ]
          },
          "colorway": [
           "#636efa",
           "#EF553B",
           "#00cc96",
           "#ab63fa",
           "#FFA15A",
           "#19d3f3",
           "#FF6692",
           "#B6E880",
           "#FF97FF",
           "#FECB52"
          ],
          "font": {
           "color": "#2a3f5f"
          },
          "geo": {
           "bgcolor": "white",
           "lakecolor": "white",
           "landcolor": "#E5ECF6",
           "showlakes": true,
           "showland": true,
           "subunitcolor": "white"
          },
          "hoverlabel": {
           "align": "left"
          },
          "hovermode": "closest",
          "mapbox": {
           "style": "light"
          },
          "paper_bgcolor": "white",
          "plot_bgcolor": "#E5ECF6",
          "polar": {
           "angularaxis": {
            "gridcolor": "white",
            "linecolor": "white",
            "ticks": ""
           },
           "bgcolor": "#E5ECF6",
           "radialaxis": {
            "gridcolor": "white",
            "linecolor": "white",
            "ticks": ""
           }
          },
          "scene": {
           "xaxis": {
            "backgroundcolor": "#E5ECF6",
            "gridcolor": "white",
            "gridwidth": 2,
            "linecolor": "white",
            "showbackground": true,
            "ticks": "",
            "zerolinecolor": "white"
           },
           "yaxis": {
            "backgroundcolor": "#E5ECF6",
            "gridcolor": "white",
            "gridwidth": 2,
            "linecolor": "white",
            "showbackground": true,
            "ticks": "",
            "zerolinecolor": "white"
           },
           "zaxis": {
            "backgroundcolor": "#E5ECF6",
            "gridcolor": "white",
            "gridwidth": 2,
            "linecolor": "white",
            "showbackground": true,
            "ticks": "",
            "zerolinecolor": "white"
           }
          },
          "shapedefaults": {
           "line": {
            "color": "#2a3f5f"
           }
          },
          "ternary": {
           "aaxis": {
            "gridcolor": "white",
            "linecolor": "white",
            "ticks": ""
           },
           "baxis": {
            "gridcolor": "white",
            "linecolor": "white",
            "ticks": ""
           },
           "bgcolor": "#E5ECF6",
           "caxis": {
            "gridcolor": "white",
            "linecolor": "white",
            "ticks": ""
           }
          },
          "title": {
           "x": 0.05
          },
          "xaxis": {
           "automargin": true,
           "gridcolor": "white",
           "linecolor": "white",
           "ticks": "",
           "title": {
            "standoff": 15
           },
           "zerolinecolor": "white",
           "zerolinewidth": 2
          },
          "yaxis": {
           "automargin": true,
           "gridcolor": "white",
           "linecolor": "white",
           "ticks": "",
           "title": {
            "standoff": 15
           },
           "zerolinecolor": "white",
           "zerolinewidth": 2
          }
         }
        },
        "title": {
         "text": "Feature importance (for a default Random Forest)",
         "x": 0.5
        },
        "xaxis": {
         "anchor": "y",
         "domain": [
          0,
          1
         ],
         "title": {
          "text": "Importance"
         }
        },
        "yaxis": {
         "anchor": "x",
         "domain": [
          0,
          1
         ],
         "title": {
          "text": "Feature"
         }
        }
       }
      }
     },
     "metadata": {},
     "output_type": "display_data"
    }
   ],
   "source": [
    "rf_fs_model = RandomForestRegressor(random_state = 92)\n",
    "\n",
    "tf.random_forest_feature_selection(X_grades_train_scaled, y_grades_train, 0.02, rf_fs_model)"
   ]
  },
  {
   "cell_type": "markdown",
   "id": "6005fbc9",
   "metadata": {},
   "source": [
    "-------\n",
    "### <font color='#BFD62F'>3.6.8. Least Absolute Shrinkage and Selection Operator (LASSO)</font> <a class=\"anchor\" id=\"lasso\"></a>\n",
    "[Back to Contents](#toc)\n",
    "\n",
    "Similarly to the Random Forest, our decision will be to keep the features whose absolute weight in the cost function formula is above the defined threshold."
   ]
  },
  {
   "cell_type": "code",
   "execution_count": 19,
   "id": "cf3ca651",
   "metadata": {},
   "outputs": [
    {
     "name": "stdout",
     "output_type": "stream",
     "text": [
      "LASSO picked 51 variables and eliminated the other 14 variables.\n"
     ]
    },
    {
     "data": {
      "application/vnd.plotly.v1+json": {
       "config": {
        "plotlyServerURL": "https://plot.ly"
       },
       "data": [
        {
         "alignmentgroup": "True",
         "hovertemplate": "Importance=%{x}<br>Feature=%{y}<extra></extra>",
         "legendgroup": "",
         "marker": {
          "color": "#5C666C",
          "pattern": {
           "shape": ""
          }
         },
         "name": "",
         "offsetgroup": "",
         "orientation": "h",
         "showlegend": false,
         "textposition": "auto",
         "type": "bar",
         "x": [
          -0.4114258525071592,
          -0.4052553590050608,
          -0.3987749878380703,
          -0.34229200106217267,
          -0.3379949546142364,
          -0.3227735854309572,
          -0.2860411472383563,
          -0.2269406456729852,
          -0.22127942051354998,
          -0.196283033274411,
          -0.16232639491421835,
          -0.15801302278622045,
          -0.1459720167296916,
          -0.13110419609524757,
          -0.10164993918965336,
          -0.10097223481247784,
          -0.09788362725187241,
          -0.053400332709335016,
          -0.01075444251431049,
          0,
          0,
          0,
          0,
          0,
          0,
          0,
          0,
          0,
          0,
          0,
          0,
          0,
          0,
          0.022851447414541058,
          0.026875407524744342,
          0.0273152544446997,
          0.03739654574222879,
          0.054998146762119844,
          0.07365291118693007,
          0.10549011745444108,
          0.1219115688577539,
          0.1348844327450888,
          0.15182972935810263,
          0.15649035761560978,
          0.16677625732068552,
          0.19269732799429692,
          0.21651919181153126,
          0.2234884390265789,
          0.22779866887077377,
          0.23008436987606784,
          0.24986445958808737,
          0.2693413947431994,
          0.3261151528192883,
          0.3324275813941575,
          0.35239292527029953,
          0.3978676838491252,
          0.4574315311025924,
          0.48892563813891177,
          0.5044204447453111,
          0.7361038557492777,
          0.7563429501556742,
          0.7794806933659341,
          0.835600773146663,
          1.2509852723369799,
          1.5175218005167055
         ],
         "xaxis": "x",
         "y": [
          "countries_region",
          "is_After_Working_Hours",
          "NumberAcademicDegrees",
          "Previous_Engineering_Jobs",
          "nivelInglesFala",
          "Previous_Marketing_Studies",
          "Previous_Finance_Studies",
          "Previous_Data_Studies",
          "is_Fully_In_Person",
          "Teaching",
          "Previous_Marketing_Jobs",
          "Number_Professional_Experiences",
          "Student Population",
          "Previous_Computer_Studies",
          "Is_Ranked",
          "Previous_Math_Jobs",
          "Previous_Computing_Jobs",
          "Working_Upon_Application",
          "datacandidaturafim_time_of_day",
          "Overall Score",
          "NumberAcademicExperiences",
          "Research Environment",
          "AverageAcademicDegree",
          "Research Quality",
          "Percentage_International_Students",
          "Percentage_Female_Students",
          "Number_Fields_Worked",
          "Non_Finished_Programs",
          "AverageScaledGrade",
          "Rank",
          "Previous_Analytics_Jobs",
          "countries_dist",
          "Number_Studied_Fields",
          "Previous_Field_Jobs",
          "Previous_Math_Studies",
          "Previous_Tech_Studies",
          "datacandidaturafim_day_of_week_cos",
          "datacandidaturafim_day_of_week_sin",
          "Previous_Engineering_Studies",
          "Previous_Tech_Jobs",
          "nivelInglesEscrita",
          "Previous_Finance_Jobs",
          "idgenero",
          "International Outlook",
          "Previous_Project_Jobs",
          "dprograma",
          "Previous_Trainee_Jobs",
          "Previous_Jobs_in_Partners",
          "Prop_Finished_Programs",
          "Previous_Field_Studies",
          "Previous_Data_Jobs",
          "datacandidaturafim_day",
          "datacandidaturafim_month",
          "is_Portuguese",
          "MinScaledGrade",
          "Previous_IMS_Student",
          "Students to Staff Ratio",
          "Years_of_Longest_Prof_Experience",
          "nivelInglesCompreensao",
          "Years_of_Experience",
          "countries_GDP_per_capita",
          "Program_Name",
          "Industry Impact",
          "HighestAcademicDegree",
          "MaxScaledGrade"
         ],
         "yaxis": "y"
        }
       ],
       "layout": {
        "barmode": "relative",
        "height": 1300,
        "legend": {
         "tracegroupgap": 0
        },
        "shapes": [
         {
          "line": {
           "color": "black",
           "dash": "dash"
          },
          "type": "line",
          "x0": 0.2,
          "x1": 0.2,
          "xref": "x",
          "y0": 0,
          "y1": 1,
          "yref": "y domain"
         },
         {
          "line": {
           "color": "black",
           "dash": "dash"
          },
          "type": "line",
          "x0": -0.2,
          "x1": -0.2,
          "xref": "x",
          "y0": 0,
          "y1": 1,
          "yref": "y domain"
         }
        ],
        "template": {
         "data": {
          "bar": [
           {
            "error_x": {
             "color": "#2a3f5f"
            },
            "error_y": {
             "color": "#2a3f5f"
            },
            "marker": {
             "line": {
              "color": "#E5ECF6",
              "width": 0.5
             },
             "pattern": {
              "fillmode": "overlay",
              "size": 10,
              "solidity": 0.2
             }
            },
            "type": "bar"
           }
          ],
          "barpolar": [
           {
            "marker": {
             "line": {
              "color": "#E5ECF6",
              "width": 0.5
             },
             "pattern": {
              "fillmode": "overlay",
              "size": 10,
              "solidity": 0.2
             }
            },
            "type": "barpolar"
           }
          ],
          "carpet": [
           {
            "aaxis": {
             "endlinecolor": "#2a3f5f",
             "gridcolor": "white",
             "linecolor": "white",
             "minorgridcolor": "white",
             "startlinecolor": "#2a3f5f"
            },
            "baxis": {
             "endlinecolor": "#2a3f5f",
             "gridcolor": "white",
             "linecolor": "white",
             "minorgridcolor": "white",
             "startlinecolor": "#2a3f5f"
            },
            "type": "carpet"
           }
          ],
          "choropleth": [
           {
            "colorbar": {
             "outlinewidth": 0,
             "ticks": ""
            },
            "type": "choropleth"
           }
          ],
          "contour": [
           {
            "colorbar": {
             "outlinewidth": 0,
             "ticks": ""
            },
            "colorscale": [
             [
              0,
              "#0d0887"
             ],
             [
              0.1111111111111111,
              "#46039f"
             ],
             [
              0.2222222222222222,
              "#7201a8"
             ],
             [
              0.3333333333333333,
              "#9c179e"
             ],
             [
              0.4444444444444444,
              "#bd3786"
             ],
             [
              0.5555555555555556,
              "#d8576b"
             ],
             [
              0.6666666666666666,
              "#ed7953"
             ],
             [
              0.7777777777777778,
              "#fb9f3a"
             ],
             [
              0.8888888888888888,
              "#fdca26"
             ],
             [
              1,
              "#f0f921"
             ]
            ],
            "type": "contour"
           }
          ],
          "contourcarpet": [
           {
            "colorbar": {
             "outlinewidth": 0,
             "ticks": ""
            },
            "type": "contourcarpet"
           }
          ],
          "heatmap": [
           {
            "colorbar": {
             "outlinewidth": 0,
             "ticks": ""
            },
            "colorscale": [
             [
              0,
              "#0d0887"
             ],
             [
              0.1111111111111111,
              "#46039f"
             ],
             [
              0.2222222222222222,
              "#7201a8"
             ],
             [
              0.3333333333333333,
              "#9c179e"
             ],
             [
              0.4444444444444444,
              "#bd3786"
             ],
             [
              0.5555555555555556,
              "#d8576b"
             ],
             [
              0.6666666666666666,
              "#ed7953"
             ],
             [
              0.7777777777777778,
              "#fb9f3a"
             ],
             [
              0.8888888888888888,
              "#fdca26"
             ],
             [
              1,
              "#f0f921"
             ]
            ],
            "type": "heatmap"
           }
          ],
          "heatmapgl": [
           {
            "colorbar": {
             "outlinewidth": 0,
             "ticks": ""
            },
            "colorscale": [
             [
              0,
              "#0d0887"
             ],
             [
              0.1111111111111111,
              "#46039f"
             ],
             [
              0.2222222222222222,
              "#7201a8"
             ],
             [
              0.3333333333333333,
              "#9c179e"
             ],
             [
              0.4444444444444444,
              "#bd3786"
             ],
             [
              0.5555555555555556,
              "#d8576b"
             ],
             [
              0.6666666666666666,
              "#ed7953"
             ],
             [
              0.7777777777777778,
              "#fb9f3a"
             ],
             [
              0.8888888888888888,
              "#fdca26"
             ],
             [
              1,
              "#f0f921"
             ]
            ],
            "type": "heatmapgl"
           }
          ],
          "histogram": [
           {
            "marker": {
             "pattern": {
              "fillmode": "overlay",
              "size": 10,
              "solidity": 0.2
             }
            },
            "type": "histogram"
           }
          ],
          "histogram2d": [
           {
            "colorbar": {
             "outlinewidth": 0,
             "ticks": ""
            },
            "colorscale": [
             [
              0,
              "#0d0887"
             ],
             [
              0.1111111111111111,
              "#46039f"
             ],
             [
              0.2222222222222222,
              "#7201a8"
             ],
             [
              0.3333333333333333,
              "#9c179e"
             ],
             [
              0.4444444444444444,
              "#bd3786"
             ],
             [
              0.5555555555555556,
              "#d8576b"
             ],
             [
              0.6666666666666666,
              "#ed7953"
             ],
             [
              0.7777777777777778,
              "#fb9f3a"
             ],
             [
              0.8888888888888888,
              "#fdca26"
             ],
             [
              1,
              "#f0f921"
             ]
            ],
            "type": "histogram2d"
           }
          ],
          "histogram2dcontour": [
           {
            "colorbar": {
             "outlinewidth": 0,
             "ticks": ""
            },
            "colorscale": [
             [
              0,
              "#0d0887"
             ],
             [
              0.1111111111111111,
              "#46039f"
             ],
             [
              0.2222222222222222,
              "#7201a8"
             ],
             [
              0.3333333333333333,
              "#9c179e"
             ],
             [
              0.4444444444444444,
              "#bd3786"
             ],
             [
              0.5555555555555556,
              "#d8576b"
             ],
             [
              0.6666666666666666,
              "#ed7953"
             ],
             [
              0.7777777777777778,
              "#fb9f3a"
             ],
             [
              0.8888888888888888,
              "#fdca26"
             ],
             [
              1,
              "#f0f921"
             ]
            ],
            "type": "histogram2dcontour"
           }
          ],
          "mesh3d": [
           {
            "colorbar": {
             "outlinewidth": 0,
             "ticks": ""
            },
            "type": "mesh3d"
           }
          ],
          "parcoords": [
           {
            "line": {
             "colorbar": {
              "outlinewidth": 0,
              "ticks": ""
             }
            },
            "type": "parcoords"
           }
          ],
          "pie": [
           {
            "automargin": true,
            "type": "pie"
           }
          ],
          "scatter": [
           {
            "fillpattern": {
             "fillmode": "overlay",
             "size": 10,
             "solidity": 0.2
            },
            "type": "scatter"
           }
          ],
          "scatter3d": [
           {
            "line": {
             "colorbar": {
              "outlinewidth": 0,
              "ticks": ""
             }
            },
            "marker": {
             "colorbar": {
              "outlinewidth": 0,
              "ticks": ""
             }
            },
            "type": "scatter3d"
           }
          ],
          "scattercarpet": [
           {
            "marker": {
             "colorbar": {
              "outlinewidth": 0,
              "ticks": ""
             }
            },
            "type": "scattercarpet"
           }
          ],
          "scattergeo": [
           {
            "marker": {
             "colorbar": {
              "outlinewidth": 0,
              "ticks": ""
             }
            },
            "type": "scattergeo"
           }
          ],
          "scattergl": [
           {
            "marker": {
             "colorbar": {
              "outlinewidth": 0,
              "ticks": ""
             }
            },
            "type": "scattergl"
           }
          ],
          "scattermapbox": [
           {
            "marker": {
             "colorbar": {
              "outlinewidth": 0,
              "ticks": ""
             }
            },
            "type": "scattermapbox"
           }
          ],
          "scatterpolar": [
           {
            "marker": {
             "colorbar": {
              "outlinewidth": 0,
              "ticks": ""
             }
            },
            "type": "scatterpolar"
           }
          ],
          "scatterpolargl": [
           {
            "marker": {
             "colorbar": {
              "outlinewidth": 0,
              "ticks": ""
             }
            },
            "type": "scatterpolargl"
           }
          ],
          "scatterternary": [
           {
            "marker": {
             "colorbar": {
              "outlinewidth": 0,
              "ticks": ""
             }
            },
            "type": "scatterternary"
           }
          ],
          "surface": [
           {
            "colorbar": {
             "outlinewidth": 0,
             "ticks": ""
            },
            "colorscale": [
             [
              0,
              "#0d0887"
             ],
             [
              0.1111111111111111,
              "#46039f"
             ],
             [
              0.2222222222222222,
              "#7201a8"
             ],
             [
              0.3333333333333333,
              "#9c179e"
             ],
             [
              0.4444444444444444,
              "#bd3786"
             ],
             [
              0.5555555555555556,
              "#d8576b"
             ],
             [
              0.6666666666666666,
              "#ed7953"
             ],
             [
              0.7777777777777778,
              "#fb9f3a"
             ],
             [
              0.8888888888888888,
              "#fdca26"
             ],
             [
              1,
              "#f0f921"
             ]
            ],
            "type": "surface"
           }
          ],
          "table": [
           {
            "cells": {
             "fill": {
              "color": "#EBF0F8"
             },
             "line": {
              "color": "white"
             }
            },
            "header": {
             "fill": {
              "color": "#C8D4E3"
             },
             "line": {
              "color": "white"
             }
            },
            "type": "table"
           }
          ]
         },
         "layout": {
          "annotationdefaults": {
           "arrowcolor": "#2a3f5f",
           "arrowhead": 0,
           "arrowwidth": 1
          },
          "autotypenumbers": "strict",
          "coloraxis": {
           "colorbar": {
            "outlinewidth": 0,
            "ticks": ""
           }
          },
          "colorscale": {
           "diverging": [
            [
             0,
             "#8e0152"
            ],
            [
             0.1,
             "#c51b7d"
            ],
            [
             0.2,
             "#de77ae"
            ],
            [
             0.3,
             "#f1b6da"
            ],
            [
             0.4,
             "#fde0ef"
            ],
            [
             0.5,
             "#f7f7f7"
            ],
            [
             0.6,
             "#e6f5d0"
            ],
            [
             0.7,
             "#b8e186"
            ],
            [
             0.8,
             "#7fbc41"
            ],
            [
             0.9,
             "#4d9221"
            ],
            [
             1,
             "#276419"
            ]
           ],
           "sequential": [
            [
             0,
             "#0d0887"
            ],
            [
             0.1111111111111111,
             "#46039f"
            ],
            [
             0.2222222222222222,
             "#7201a8"
            ],
            [
             0.3333333333333333,
             "#9c179e"
            ],
            [
             0.4444444444444444,
             "#bd3786"
            ],
            [
             0.5555555555555556,
             "#d8576b"
            ],
            [
             0.6666666666666666,
             "#ed7953"
            ],
            [
             0.7777777777777778,
             "#fb9f3a"
            ],
            [
             0.8888888888888888,
             "#fdca26"
            ],
            [
             1,
             "#f0f921"
            ]
           ],
           "sequentialminus": [
            [
             0,
             "#0d0887"
            ],
            [
             0.1111111111111111,
             "#46039f"
            ],
            [
             0.2222222222222222,
             "#7201a8"
            ],
            [
             0.3333333333333333,
             "#9c179e"
            ],
            [
             0.4444444444444444,
             "#bd3786"
            ],
            [
             0.5555555555555556,
             "#d8576b"
            ],
            [
             0.6666666666666666,
             "#ed7953"
            ],
            [
             0.7777777777777778,
             "#fb9f3a"
            ],
            [
             0.8888888888888888,
             "#fdca26"
            ],
            [
             1,
             "#f0f921"
            ]
           ]
          },
          "colorway": [
           "#636efa",
           "#EF553B",
           "#00cc96",
           "#ab63fa",
           "#FFA15A",
           "#19d3f3",
           "#FF6692",
           "#B6E880",
           "#FF97FF",
           "#FECB52"
          ],
          "font": {
           "color": "#2a3f5f"
          },
          "geo": {
           "bgcolor": "white",
           "lakecolor": "white",
           "landcolor": "#E5ECF6",
           "showlakes": true,
           "showland": true,
           "subunitcolor": "white"
          },
          "hoverlabel": {
           "align": "left"
          },
          "hovermode": "closest",
          "mapbox": {
           "style": "light"
          },
          "paper_bgcolor": "white",
          "plot_bgcolor": "#E5ECF6",
          "polar": {
           "angularaxis": {
            "gridcolor": "white",
            "linecolor": "white",
            "ticks": ""
           },
           "bgcolor": "#E5ECF6",
           "radialaxis": {
            "gridcolor": "white",
            "linecolor": "white",
            "ticks": ""
           }
          },
          "scene": {
           "xaxis": {
            "backgroundcolor": "#E5ECF6",
            "gridcolor": "white",
            "gridwidth": 2,
            "linecolor": "white",
            "showbackground": true,
            "ticks": "",
            "zerolinecolor": "white"
           },
           "yaxis": {
            "backgroundcolor": "#E5ECF6",
            "gridcolor": "white",
            "gridwidth": 2,
            "linecolor": "white",
            "showbackground": true,
            "ticks": "",
            "zerolinecolor": "white"
           },
           "zaxis": {
            "backgroundcolor": "#E5ECF6",
            "gridcolor": "white",
            "gridwidth": 2,
            "linecolor": "white",
            "showbackground": true,
            "ticks": "",
            "zerolinecolor": "white"
           }
          },
          "shapedefaults": {
           "line": {
            "color": "#2a3f5f"
           }
          },
          "ternary": {
           "aaxis": {
            "gridcolor": "white",
            "linecolor": "white",
            "ticks": ""
           },
           "baxis": {
            "gridcolor": "white",
            "linecolor": "white",
            "ticks": ""
           },
           "bgcolor": "#E5ECF6",
           "caxis": {
            "gridcolor": "white",
            "linecolor": "white",
            "ticks": ""
           }
          },
          "title": {
           "x": 0.05
          },
          "xaxis": {
           "automargin": true,
           "gridcolor": "white",
           "linecolor": "white",
           "ticks": "",
           "title": {
            "standoff": 15
           },
           "zerolinecolor": "white",
           "zerolinewidth": 2
          },
          "yaxis": {
           "automargin": true,
           "gridcolor": "white",
           "linecolor": "white",
           "ticks": "",
           "title": {
            "standoff": 15
           },
           "zerolinecolor": "white",
           "zerolinewidth": 2
          }
         }
        },
        "title": {
         "text": "Feature Importance using the Lasso Method",
         "x": 0.5
        },
        "xaxis": {
         "anchor": "y",
         "domain": [
          0,
          1
         ],
         "title": {
          "text": "Coefficient"
         }
        },
        "yaxis": {
         "anchor": "x",
         "domain": [
          0,
          1
         ],
         "title": {
          "text": "Feature"
         }
        }
       }
      }
     },
     "metadata": {},
     "output_type": "display_data"
    }
   ],
   "source": [
    "tf.lasso(X_grades_train_scaled, y_grades_train, threshold = 0.2)"
   ]
  },
  {
   "cell_type": "markdown",
   "id": "52bd2a18",
   "metadata": {},
   "source": [
    "-------\n",
    "### <font color='#BFD62F'>3.6.9. Conclusion</font> <a class=\"anchor\" id=\"conclusion\"></a>\n",
    "[Back to Contents](#toc)\n",
    "\n",
    "The decisions for each of the implemented feature selection techniques were compilated in the following Excel sheet, whose results can be displayed as follows.\n",
    "\n",
    "We opted to keep features that were voted to be kept by the majority of the techniques to which they were applied (4/7 for numerical variables, and 3/5 for categorical variables). We dedided not to drop the variables marked as \"Keep*\" due to our understanding of the problem and their potential value to the models, despite having been narrowly eliminated. The exception is the `idgenero` variable. Although it is fantastic (in terms of Nova IMS' operations) that the applicants' gender does not impact admissions, we cannot prove that our ML solution is also neutral regarding this field unless we include it in our model. Therefore, it will be maintained for the following steps of our study."
   ]
  },
  {
   "cell_type": "code",
   "execution_count": 20,
   "id": "d5969d31",
   "metadata": {},
   "outputs": [
    {
     "data": {
      "text/html": [
       "<style type=\"text/css\">\n",
       "#T_9e8be_row0_col1, #T_9e8be_row0_col6, #T_9e8be_row0_col8, #T_9e8be_row1_col1, #T_9e8be_row2_col8, #T_9e8be_row3_col1, #T_9e8be_row3_col6, #T_9e8be_row4_col1, #T_9e8be_row5_col1, #T_9e8be_row5_col5, #T_9e8be_row5_col6, #T_9e8be_row5_col8, #T_9e8be_row5_col9, #T_9e8be_row6_col1, #T_9e8be_row6_col2, #T_9e8be_row6_col5, #T_9e8be_row7_col5, #T_9e8be_row8_col2, #T_9e8be_row8_col5, #T_9e8be_row8_col6, #T_9e8be_row9_col2, #T_9e8be_row9_col5, #T_9e8be_row9_col6, #T_9e8be_row10_col1, #T_9e8be_row10_col5, #T_9e8be_row10_col6, #T_9e8be_row10_col8, #T_9e8be_row10_col9, #T_9e8be_row11_col1, #T_9e8be_row11_col2, #T_9e8be_row11_col6, #T_9e8be_row12_col1, #T_9e8be_row12_col5, #T_9e8be_row13_col1, #T_9e8be_row13_col6, #T_9e8be_row14_col1, #T_9e8be_row14_col5, #T_9e8be_row15_col6, #T_9e8be_row16_col1, #T_9e8be_row16_col2, #T_9e8be_row16_col5, #T_9e8be_row16_col6, #T_9e8be_row16_col7, #T_9e8be_row16_col9, #T_9e8be_row17_col2, #T_9e8be_row17_col5, #T_9e8be_row17_col6, #T_9e8be_row17_col7, #T_9e8be_row17_col8, #T_9e8be_row18_col2, #T_9e8be_row18_col5, #T_9e8be_row18_col7, #T_9e8be_row18_col8, #T_9e8be_row19_col1, #T_9e8be_row19_col5, #T_9e8be_row19_col6, #T_9e8be_row20_col1, #T_9e8be_row20_col2, #T_9e8be_row20_col5, #T_9e8be_row20_col6, #T_9e8be_row20_col7, #T_9e8be_row20_col8, #T_9e8be_row20_col9, #T_9e8be_row21_col1, #T_9e8be_row21_col2, #T_9e8be_row21_col5, #T_9e8be_row21_col6, #T_9e8be_row21_col7, #T_9e8be_row21_col8, #T_9e8be_row21_col9, #T_9e8be_row22_col1, #T_9e8be_row22_col7, #T_9e8be_row23_col7, #T_9e8be_row23_col8, #T_9e8be_row24_col1, #T_9e8be_row24_col5, #T_9e8be_row24_col6, #T_9e8be_row24_col7, #T_9e8be_row24_col8, #T_9e8be_row24_col9, #T_9e8be_row25_col1, #T_9e8be_row25_col5, #T_9e8be_row26_col1, #T_9e8be_row26_col7, #T_9e8be_row27_col1, #T_9e8be_row28_col1, #T_9e8be_row28_col7, #T_9e8be_row29_col3, #T_9e8be_row29_col4, #T_9e8be_row30_col6, #T_9e8be_row31_col3, #T_9e8be_row31_col4, #T_9e8be_row31_col5, #T_9e8be_row31_col8, #T_9e8be_row31_col9, #T_9e8be_row32_col3, #T_9e8be_row32_col4, #T_9e8be_row32_col5, #T_9e8be_row32_col8, #T_9e8be_row32_col9, #T_9e8be_row33_col5, #T_9e8be_row34_col3, #T_9e8be_row34_col4, #T_9e8be_row34_col5, #T_9e8be_row35_col5, #T_9e8be_row36_col3, #T_9e8be_row36_col4, #T_9e8be_row36_col5, #T_9e8be_row37_col3, #T_9e8be_row37_col5, #T_9e8be_row37_col8, #T_9e8be_row38_col3, #T_9e8be_row38_col4, #T_9e8be_row38_col5, #T_9e8be_row38_col8, #T_9e8be_row38_col9, #T_9e8be_row39_col3, #T_9e8be_row39_col4, #T_9e8be_row39_col8, #T_9e8be_row40_col3, #T_9e8be_row40_col4, #T_9e8be_row40_col5, #T_9e8be_row40_col6, #T_9e8be_row40_col8, #T_9e8be_row40_col9, #T_9e8be_row41_col6, #T_9e8be_row41_col8, #T_9e8be_row44_col3, #T_9e8be_row44_col4, #T_9e8be_row44_col5, #T_9e8be_row44_col8, #T_9e8be_row44_col9, #T_9e8be_row45_col5, #T_9e8be_row46_col5, #T_9e8be_row47_col5, #T_9e8be_row48_col5, #T_9e8be_row49_col5, #T_9e8be_row49_col8, #T_9e8be_row50_col5, #T_9e8be_row51_col3, #T_9e8be_row51_col4, #T_9e8be_row51_col5, #T_9e8be_row52_col3, #T_9e8be_row52_col4, #T_9e8be_row52_col5, #T_9e8be_row54_col3, #T_9e8be_row54_col4, #T_9e8be_row54_col8, #T_9e8be_row55_col3, #T_9e8be_row55_col4, #T_9e8be_row55_col8, #T_9e8be_row56_col3, #T_9e8be_row56_col7, #T_9e8be_row56_col8, #T_9e8be_row56_col9, #T_9e8be_row57_col8, #T_9e8be_row59_col3, #T_9e8be_row59_col5, #T_9e8be_row59_col6, #T_9e8be_row59_col8, #T_9e8be_row59_col9, #T_9e8be_row61_col3, #T_9e8be_row61_col8, #T_9e8be_row62_col3, #T_9e8be_row62_col6, #T_9e8be_row62_col7, #T_9e8be_row62_col8, #T_9e8be_row62_col9, #T_9e8be_row63_col7, #T_9e8be_row63_col8 {\n",
       "  background-color: #99FF99;\n",
       "}\n",
       "#T_9e8be_row0_col2, #T_9e8be_row0_col5, #T_9e8be_row0_col7, #T_9e8be_row0_col9, #T_9e8be_row1_col2, #T_9e8be_row1_col5, #T_9e8be_row1_col6, #T_9e8be_row1_col7, #T_9e8be_row1_col8, #T_9e8be_row1_col9, #T_9e8be_row2_col1, #T_9e8be_row2_col2, #T_9e8be_row2_col5, #T_9e8be_row2_col6, #T_9e8be_row2_col7, #T_9e8be_row2_col9, #T_9e8be_row3_col2, #T_9e8be_row3_col5, #T_9e8be_row3_col7, #T_9e8be_row3_col8, #T_9e8be_row3_col9, #T_9e8be_row4_col2, #T_9e8be_row4_col5, #T_9e8be_row4_col6, #T_9e8be_row4_col7, #T_9e8be_row4_col8, #T_9e8be_row4_col9, #T_9e8be_row5_col2, #T_9e8be_row5_col7, #T_9e8be_row6_col6, #T_9e8be_row6_col7, #T_9e8be_row6_col8, #T_9e8be_row6_col9, #T_9e8be_row7_col1, #T_9e8be_row7_col2, #T_9e8be_row7_col6, #T_9e8be_row7_col7, #T_9e8be_row7_col8, #T_9e8be_row7_col9, #T_9e8be_row8_col1, #T_9e8be_row8_col7, #T_9e8be_row8_col8, #T_9e8be_row8_col9, #T_9e8be_row9_col1, #T_9e8be_row9_col7, #T_9e8be_row9_col8, #T_9e8be_row9_col9, #T_9e8be_row10_col2, #T_9e8be_row10_col7, #T_9e8be_row11_col5, #T_9e8be_row11_col7, #T_9e8be_row11_col8, #T_9e8be_row11_col9, #T_9e8be_row12_col2, #T_9e8be_row12_col6, #T_9e8be_row12_col7, #T_9e8be_row12_col8, #T_9e8be_row12_col9, #T_9e8be_row13_col2, #T_9e8be_row13_col5, #T_9e8be_row13_col7, #T_9e8be_row13_col8, #T_9e8be_row13_col9, #T_9e8be_row14_col2, #T_9e8be_row14_col6, #T_9e8be_row14_col7, #T_9e8be_row14_col8, #T_9e8be_row14_col9, #T_9e8be_row15_col1, #T_9e8be_row15_col2, #T_9e8be_row15_col5, #T_9e8be_row15_col7, #T_9e8be_row15_col8, #T_9e8be_row15_col9, #T_9e8be_row16_col8, #T_9e8be_row17_col1, #T_9e8be_row18_col1, #T_9e8be_row18_col6, #T_9e8be_row19_col2, #T_9e8be_row19_col7, #T_9e8be_row19_col8, #T_9e8be_row19_col9, #T_9e8be_row22_col2, #T_9e8be_row22_col5, #T_9e8be_row22_col6, #T_9e8be_row22_col8, #T_9e8be_row22_col9, #T_9e8be_row23_col1, #T_9e8be_row23_col2, #T_9e8be_row23_col5, #T_9e8be_row23_col6, #T_9e8be_row23_col9, #T_9e8be_row24_col2, #T_9e8be_row25_col2, #T_9e8be_row25_col6, #T_9e8be_row25_col7, #T_9e8be_row25_col8, #T_9e8be_row25_col9, #T_9e8be_row26_col2, #T_9e8be_row26_col5, #T_9e8be_row26_col6, #T_9e8be_row26_col8, #T_9e8be_row26_col9, #T_9e8be_row27_col2, #T_9e8be_row27_col5, #T_9e8be_row27_col6, #T_9e8be_row27_col7, #T_9e8be_row27_col8, #T_9e8be_row27_col9, #T_9e8be_row28_col2, #T_9e8be_row28_col5, #T_9e8be_row28_col6, #T_9e8be_row28_col8, #T_9e8be_row28_col9, #T_9e8be_row29_col5, #T_9e8be_row29_col6, #T_9e8be_row29_col7, #T_9e8be_row29_col8, #T_9e8be_row29_col9, #T_9e8be_row30_col3, #T_9e8be_row30_col4, #T_9e8be_row30_col5, #T_9e8be_row30_col7, #T_9e8be_row30_col8, #T_9e8be_row30_col9, #T_9e8be_row31_col6, #T_9e8be_row31_col7, #T_9e8be_row32_col6, #T_9e8be_row32_col7, #T_9e8be_row33_col3, #T_9e8be_row33_col4, #T_9e8be_row33_col6, #T_9e8be_row33_col7, #T_9e8be_row33_col8, #T_9e8be_row33_col9, #T_9e8be_row34_col6, #T_9e8be_row34_col7, #T_9e8be_row34_col8, #T_9e8be_row34_col9, #T_9e8be_row35_col3, #T_9e8be_row35_col4, #T_9e8be_row35_col6, #T_9e8be_row35_col7, #T_9e8be_row35_col8, #T_9e8be_row35_col9, #T_9e8be_row36_col6, #T_9e8be_row36_col7, #T_9e8be_row36_col8, #T_9e8be_row36_col9, #T_9e8be_row37_col4, #T_9e8be_row37_col6, #T_9e8be_row37_col7, #T_9e8be_row37_col9, #T_9e8be_row38_col6, #T_9e8be_row38_col7, #T_9e8be_row39_col5, #T_9e8be_row39_col6, #T_9e8be_row39_col7, #T_9e8be_row39_col9, #T_9e8be_row40_col7, #T_9e8be_row41_col3, #T_9e8be_row41_col4, #T_9e8be_row41_col5, #T_9e8be_row41_col7, #T_9e8be_row41_col9, #T_9e8be_row42_col3, #T_9e8be_row42_col4, #T_9e8be_row42_col5, #T_9e8be_row42_col6, #T_9e8be_row42_col7, #T_9e8be_row42_col8, #T_9e8be_row42_col9, #T_9e8be_row43_col3, #T_9e8be_row43_col4, #T_9e8be_row43_col5, #T_9e8be_row43_col6, #T_9e8be_row43_col7, #T_9e8be_row43_col8, #T_9e8be_row43_col9, #T_9e8be_row44_col6, #T_9e8be_row44_col7, #T_9e8be_row45_col3, #T_9e8be_row45_col4, #T_9e8be_row45_col6, #T_9e8be_row45_col7, #T_9e8be_row45_col8, #T_9e8be_row45_col9, #T_9e8be_row46_col3, #T_9e8be_row46_col4, #T_9e8be_row46_col6, #T_9e8be_row46_col7, #T_9e8be_row46_col8, #T_9e8be_row46_col9, #T_9e8be_row47_col3, #T_9e8be_row47_col4, #T_9e8be_row47_col6, #T_9e8be_row47_col7, #T_9e8be_row47_col8, #T_9e8be_row47_col9, #T_9e8be_row48_col3, #T_9e8be_row48_col4, #T_9e8be_row48_col6, #T_9e8be_row48_col7, #T_9e8be_row48_col8, #T_9e8be_row48_col9, #T_9e8be_row49_col3, #T_9e8be_row49_col4, #T_9e8be_row49_col6, #T_9e8be_row49_col7, #T_9e8be_row49_col9, #T_9e8be_row50_col3, #T_9e8be_row50_col4, #T_9e8be_row50_col6, #T_9e8be_row50_col7, #T_9e8be_row50_col8, #T_9e8be_row50_col9, #T_9e8be_row51_col6, #T_9e8be_row51_col7, #T_9e8be_row51_col8, #T_9e8be_row51_col9, #T_9e8be_row52_col6, #T_9e8be_row52_col7, #T_9e8be_row52_col8, #T_9e8be_row52_col9, #T_9e8be_row53_col3, #T_9e8be_row53_col4, #T_9e8be_row53_col5, #T_9e8be_row53_col6, #T_9e8be_row53_col7, #T_9e8be_row53_col8, #T_9e8be_row53_col9, #T_9e8be_row54_col5, #T_9e8be_row54_col6, #T_9e8be_row54_col7, #T_9e8be_row55_col5, #T_9e8be_row55_col6, #T_9e8be_row55_col7, #T_9e8be_row56_col5, #T_9e8be_row56_col6, #T_9e8be_row57_col3, #T_9e8be_row57_col5, #T_9e8be_row57_col6, #T_9e8be_row57_col7, #T_9e8be_row57_col9, #T_9e8be_row58_col3, #T_9e8be_row58_col5, #T_9e8be_row58_col6, #T_9e8be_row58_col7, #T_9e8be_row58_col8, #T_9e8be_row58_col9, #T_9e8be_row59_col7, #T_9e8be_row60_col3, #T_9e8be_row60_col5, #T_9e8be_row60_col6, #T_9e8be_row60_col7, #T_9e8be_row60_col8, #T_9e8be_row60_col9, #T_9e8be_row61_col5, #T_9e8be_row61_col6, #T_9e8be_row61_col7, #T_9e8be_row61_col9, #T_9e8be_row62_col5, #T_9e8be_row63_col3, #T_9e8be_row63_col5, #T_9e8be_row63_col6, #T_9e8be_row63_col9, #T_9e8be_row64_col3, #T_9e8be_row64_col5, #T_9e8be_row64_col6, #T_9e8be_row64_col7, #T_9e8be_row64_col8, #T_9e8be_row64_col9 {\n",
       "  background-color: #FF8989;\n",
       "}\n",
       "</style>\n",
       "<table id=\"T_9e8be\">\n",
       "  <thead>\n",
       "    <tr>\n",
       "      <th class=\"blank level0\" >&nbsp;</th>\n",
       "      <th id=\"T_9e8be_level0_col0\" class=\"col_heading level0 col0\" >Variable</th>\n",
       "      <th id=\"T_9e8be_level0_col1\" class=\"col_heading level0 col1\" >Spearman (1)</th>\n",
       "      <th id=\"T_9e8be_level0_col2\" class=\"col_heading level0 col2\" >Spearman (2)</th>\n",
       "      <th id=\"T_9e8be_level0_col3\" class=\"col_heading level0 col3\" >ANOVA</th>\n",
       "      <th id=\"T_9e8be_level0_col4\" class=\"col_heading level0 col4\" >Point Biserial</th>\n",
       "      <th id=\"T_9e8be_level0_col5\" class=\"col_heading level0 col5\" >RFE - LogReg</th>\n",
       "      <th id=\"T_9e8be_level0_col6\" class=\"col_heading level0 col6\" >RFE - LinSVM</th>\n",
       "      <th id=\"T_9e8be_level0_col7\" class=\"col_heading level0 col7\" >Random Forest</th>\n",
       "      <th id=\"T_9e8be_level0_col8\" class=\"col_heading level0 col8\" >LASSO</th>\n",
       "      <th id=\"T_9e8be_level0_col9\" class=\"col_heading level0 col9\" >Decision</th>\n",
       "    </tr>\n",
       "  </thead>\n",
       "  <tbody>\n",
       "    <tr>\n",
       "      <th id=\"T_9e8be_level0_row0\" class=\"row_heading level0 row0\" >1</th>\n",
       "      <td id=\"T_9e8be_row0_col0\" class=\"data row0 col0\" >Prop_Finished_Programs</td>\n",
       "      <td id=\"T_9e8be_row0_col1\" class=\"data row0 col1\" >Keep</td>\n",
       "      <td id=\"T_9e8be_row0_col2\" class=\"data row0 col2\" >Discard</td>\n",
       "      <td id=\"T_9e8be_row0_col3\" class=\"data row0 col3\" >-</td>\n",
       "      <td id=\"T_9e8be_row0_col4\" class=\"data row0 col4\" >-</td>\n",
       "      <td id=\"T_9e8be_row0_col5\" class=\"data row0 col5\" >Discard</td>\n",
       "      <td id=\"T_9e8be_row0_col6\" class=\"data row0 col6\" >Keep</td>\n",
       "      <td id=\"T_9e8be_row0_col7\" class=\"data row0 col7\" >Discard</td>\n",
       "      <td id=\"T_9e8be_row0_col8\" class=\"data row0 col8\" >Keep</td>\n",
       "      <td id=\"T_9e8be_row0_col9\" class=\"data row0 col9\" >Discard</td>\n",
       "    </tr>\n",
       "    <tr>\n",
       "      <th id=\"T_9e8be_level0_row1\" class=\"row_heading level0 row1\" >2</th>\n",
       "      <td id=\"T_9e8be_row1_col0\" class=\"data row1 col0\" >NumberAcademicExperiences</td>\n",
       "      <td id=\"T_9e8be_row1_col1\" class=\"data row1 col1\" >Keep</td>\n",
       "      <td id=\"T_9e8be_row1_col2\" class=\"data row1 col2\" >Discard</td>\n",
       "      <td id=\"T_9e8be_row1_col3\" class=\"data row1 col3\" >-</td>\n",
       "      <td id=\"T_9e8be_row1_col4\" class=\"data row1 col4\" >-</td>\n",
       "      <td id=\"T_9e8be_row1_col5\" class=\"data row1 col5\" >Discard</td>\n",
       "      <td id=\"T_9e8be_row1_col6\" class=\"data row1 col6\" >Discard</td>\n",
       "      <td id=\"T_9e8be_row1_col7\" class=\"data row1 col7\" >Discard</td>\n",
       "      <td id=\"T_9e8be_row1_col8\" class=\"data row1 col8\" >Discard</td>\n",
       "      <td id=\"T_9e8be_row1_col9\" class=\"data row1 col9\" >Discard</td>\n",
       "    </tr>\n",
       "    <tr>\n",
       "      <th id=\"T_9e8be_level0_row2\" class=\"row_heading level0 row2\" >3</th>\n",
       "      <td id=\"T_9e8be_row2_col0\" class=\"data row2 col0\" >NumberAcademicDegrees</td>\n",
       "      <td id=\"T_9e8be_row2_col1\" class=\"data row2 col1\" >Discard</td>\n",
       "      <td id=\"T_9e8be_row2_col2\" class=\"data row2 col2\" >Discard</td>\n",
       "      <td id=\"T_9e8be_row2_col3\" class=\"data row2 col3\" >-</td>\n",
       "      <td id=\"T_9e8be_row2_col4\" class=\"data row2 col4\" >-</td>\n",
       "      <td id=\"T_9e8be_row2_col5\" class=\"data row2 col5\" >Discard</td>\n",
       "      <td id=\"T_9e8be_row2_col6\" class=\"data row2 col6\" >Discard</td>\n",
       "      <td id=\"T_9e8be_row2_col7\" class=\"data row2 col7\" >Discard</td>\n",
       "      <td id=\"T_9e8be_row2_col8\" class=\"data row2 col8\" >Keep</td>\n",
       "      <td id=\"T_9e8be_row2_col9\" class=\"data row2 col9\" >Discard</td>\n",
       "    </tr>\n",
       "    <tr>\n",
       "      <th id=\"T_9e8be_level0_row3\" class=\"row_heading level0 row3\" >4</th>\n",
       "      <td id=\"T_9e8be_row3_col0\" class=\"data row3 col0\" >Rank</td>\n",
       "      <td id=\"T_9e8be_row3_col1\" class=\"data row3 col1\" >Keep</td>\n",
       "      <td id=\"T_9e8be_row3_col2\" class=\"data row3 col2\" >Discard</td>\n",
       "      <td id=\"T_9e8be_row3_col3\" class=\"data row3 col3\" >-</td>\n",
       "      <td id=\"T_9e8be_row3_col4\" class=\"data row3 col4\" >-</td>\n",
       "      <td id=\"T_9e8be_row3_col5\" class=\"data row3 col5\" >Discard</td>\n",
       "      <td id=\"T_9e8be_row3_col6\" class=\"data row3 col6\" >Keep</td>\n",
       "      <td id=\"T_9e8be_row3_col7\" class=\"data row3 col7\" >Discard</td>\n",
       "      <td id=\"T_9e8be_row3_col8\" class=\"data row3 col8\" >Discard</td>\n",
       "      <td id=\"T_9e8be_row3_col9\" class=\"data row3 col9\" >Discard</td>\n",
       "    </tr>\n",
       "    <tr>\n",
       "      <th id=\"T_9e8be_level0_row4\" class=\"row_heading level0 row4\" >5</th>\n",
       "      <td id=\"T_9e8be_row4_col0\" class=\"data row4 col0\" >Student Population</td>\n",
       "      <td id=\"T_9e8be_row4_col1\" class=\"data row4 col1\" >Keep</td>\n",
       "      <td id=\"T_9e8be_row4_col2\" class=\"data row4 col2\" >Discard</td>\n",
       "      <td id=\"T_9e8be_row4_col3\" class=\"data row4 col3\" >-</td>\n",
       "      <td id=\"T_9e8be_row4_col4\" class=\"data row4 col4\" >-</td>\n",
       "      <td id=\"T_9e8be_row4_col5\" class=\"data row4 col5\" >Discard</td>\n",
       "      <td id=\"T_9e8be_row4_col6\" class=\"data row4 col6\" >Discard</td>\n",
       "      <td id=\"T_9e8be_row4_col7\" class=\"data row4 col7\" >Discard</td>\n",
       "      <td id=\"T_9e8be_row4_col8\" class=\"data row4 col8\" >Discard</td>\n",
       "      <td id=\"T_9e8be_row4_col9\" class=\"data row4 col9\" >Discard</td>\n",
       "    </tr>\n",
       "    <tr>\n",
       "      <th id=\"T_9e8be_level0_row5\" class=\"row_heading level0 row5\" >6</th>\n",
       "      <td id=\"T_9e8be_row5_col0\" class=\"data row5 col0\" >Students to Staff Ratio</td>\n",
       "      <td id=\"T_9e8be_row5_col1\" class=\"data row5 col1\" >Keep</td>\n",
       "      <td id=\"T_9e8be_row5_col2\" class=\"data row5 col2\" >Discard</td>\n",
       "      <td id=\"T_9e8be_row5_col3\" class=\"data row5 col3\" >-</td>\n",
       "      <td id=\"T_9e8be_row5_col4\" class=\"data row5 col4\" >-</td>\n",
       "      <td id=\"T_9e8be_row5_col5\" class=\"data row5 col5\" >Keep</td>\n",
       "      <td id=\"T_9e8be_row5_col6\" class=\"data row5 col6\" >Keep</td>\n",
       "      <td id=\"T_9e8be_row5_col7\" class=\"data row5 col7\" >Discard</td>\n",
       "      <td id=\"T_9e8be_row5_col8\" class=\"data row5 col8\" >Keep</td>\n",
       "      <td id=\"T_9e8be_row5_col9\" class=\"data row5 col9\" >Keep</td>\n",
       "    </tr>\n",
       "    <tr>\n",
       "      <th id=\"T_9e8be_level0_row6\" class=\"row_heading level0 row6\" >7</th>\n",
       "      <td id=\"T_9e8be_row6_col0\" class=\"data row6 col0\" >Overall Score</td>\n",
       "      <td id=\"T_9e8be_row6_col1\" class=\"data row6 col1\" >Keep</td>\n",
       "      <td id=\"T_9e8be_row6_col2\" class=\"data row6 col2\" >Keep</td>\n",
       "      <td id=\"T_9e8be_row6_col3\" class=\"data row6 col3\" >-</td>\n",
       "      <td id=\"T_9e8be_row6_col4\" class=\"data row6 col4\" >-</td>\n",
       "      <td id=\"T_9e8be_row6_col5\" class=\"data row6 col5\" >Keep</td>\n",
       "      <td id=\"T_9e8be_row6_col6\" class=\"data row6 col6\" >Discard</td>\n",
       "      <td id=\"T_9e8be_row6_col7\" class=\"data row6 col7\" >Discard</td>\n",
       "      <td id=\"T_9e8be_row6_col8\" class=\"data row6 col8\" >Discard</td>\n",
       "      <td id=\"T_9e8be_row6_col9\" class=\"data row6 col9\" >Discard</td>\n",
       "    </tr>\n",
       "    <tr>\n",
       "      <th id=\"T_9e8be_level0_row7\" class=\"row_heading level0 row7\" >8</th>\n",
       "      <td id=\"T_9e8be_row7_col0\" class=\"data row7 col0\" >Teaching</td>\n",
       "      <td id=\"T_9e8be_row7_col1\" class=\"data row7 col1\" >Discard</td>\n",
       "      <td id=\"T_9e8be_row7_col2\" class=\"data row7 col2\" >Discard</td>\n",
       "      <td id=\"T_9e8be_row7_col3\" class=\"data row7 col3\" >-</td>\n",
       "      <td id=\"T_9e8be_row7_col4\" class=\"data row7 col4\" >-</td>\n",
       "      <td id=\"T_9e8be_row7_col5\" class=\"data row7 col5\" >Keep</td>\n",
       "      <td id=\"T_9e8be_row7_col6\" class=\"data row7 col6\" >Discard</td>\n",
       "      <td id=\"T_9e8be_row7_col7\" class=\"data row7 col7\" >Discard</td>\n",
       "      <td id=\"T_9e8be_row7_col8\" class=\"data row7 col8\" >Discard</td>\n",
       "      <td id=\"T_9e8be_row7_col9\" class=\"data row7 col9\" >Discard</td>\n",
       "    </tr>\n",
       "    <tr>\n",
       "      <th id=\"T_9e8be_level0_row8\" class=\"row_heading level0 row8\" >9</th>\n",
       "      <td id=\"T_9e8be_row8_col0\" class=\"data row8 col0\" >Research Environment</td>\n",
       "      <td id=\"T_9e8be_row8_col1\" class=\"data row8 col1\" >Discard</td>\n",
       "      <td id=\"T_9e8be_row8_col2\" class=\"data row8 col2\" >Keep</td>\n",
       "      <td id=\"T_9e8be_row8_col3\" class=\"data row8 col3\" >-</td>\n",
       "      <td id=\"T_9e8be_row8_col4\" class=\"data row8 col4\" >-</td>\n",
       "      <td id=\"T_9e8be_row8_col5\" class=\"data row8 col5\" >Keep</td>\n",
       "      <td id=\"T_9e8be_row8_col6\" class=\"data row8 col6\" >Keep</td>\n",
       "      <td id=\"T_9e8be_row8_col7\" class=\"data row8 col7\" >Discard</td>\n",
       "      <td id=\"T_9e8be_row8_col8\" class=\"data row8 col8\" >Discard</td>\n",
       "      <td id=\"T_9e8be_row8_col9\" class=\"data row8 col9\" >Discard</td>\n",
       "    </tr>\n",
       "    <tr>\n",
       "      <th id=\"T_9e8be_level0_row9\" class=\"row_heading level0 row9\" >10</th>\n",
       "      <td id=\"T_9e8be_row9_col0\" class=\"data row9 col0\" >Research Quality</td>\n",
       "      <td id=\"T_9e8be_row9_col1\" class=\"data row9 col1\" >Discard</td>\n",
       "      <td id=\"T_9e8be_row9_col2\" class=\"data row9 col2\" >Keep</td>\n",
       "      <td id=\"T_9e8be_row9_col3\" class=\"data row9 col3\" >-</td>\n",
       "      <td id=\"T_9e8be_row9_col4\" class=\"data row9 col4\" >-</td>\n",
       "      <td id=\"T_9e8be_row9_col5\" class=\"data row9 col5\" >Keep</td>\n",
       "      <td id=\"T_9e8be_row9_col6\" class=\"data row9 col6\" >Keep</td>\n",
       "      <td id=\"T_9e8be_row9_col7\" class=\"data row9 col7\" >Discard</td>\n",
       "      <td id=\"T_9e8be_row9_col8\" class=\"data row9 col8\" >Discard</td>\n",
       "      <td id=\"T_9e8be_row9_col9\" class=\"data row9 col9\" >Discard</td>\n",
       "    </tr>\n",
       "    <tr>\n",
       "      <th id=\"T_9e8be_level0_row10\" class=\"row_heading level0 row10\" >11</th>\n",
       "      <td id=\"T_9e8be_row10_col0\" class=\"data row10 col0\" >Industry Impact</td>\n",
       "      <td id=\"T_9e8be_row10_col1\" class=\"data row10 col1\" >Keep</td>\n",
       "      <td id=\"T_9e8be_row10_col2\" class=\"data row10 col2\" >Discard</td>\n",
       "      <td id=\"T_9e8be_row10_col3\" class=\"data row10 col3\" >-</td>\n",
       "      <td id=\"T_9e8be_row10_col4\" class=\"data row10 col4\" >-</td>\n",
       "      <td id=\"T_9e8be_row10_col5\" class=\"data row10 col5\" >Keep</td>\n",
       "      <td id=\"T_9e8be_row10_col6\" class=\"data row10 col6\" >Keep</td>\n",
       "      <td id=\"T_9e8be_row10_col7\" class=\"data row10 col7\" >Discard</td>\n",
       "      <td id=\"T_9e8be_row10_col8\" class=\"data row10 col8\" >Keep</td>\n",
       "      <td id=\"T_9e8be_row10_col9\" class=\"data row10 col9\" >Keep</td>\n",
       "    </tr>\n",
       "    <tr>\n",
       "      <th id=\"T_9e8be_level0_row11\" class=\"row_heading level0 row11\" >12</th>\n",
       "      <td id=\"T_9e8be_row11_col0\" class=\"data row11 col0\" >International Outlook</td>\n",
       "      <td id=\"T_9e8be_row11_col1\" class=\"data row11 col1\" >Keep</td>\n",
       "      <td id=\"T_9e8be_row11_col2\" class=\"data row11 col2\" >Keep</td>\n",
       "      <td id=\"T_9e8be_row11_col3\" class=\"data row11 col3\" >-</td>\n",
       "      <td id=\"T_9e8be_row11_col4\" class=\"data row11 col4\" >-</td>\n",
       "      <td id=\"T_9e8be_row11_col5\" class=\"data row11 col5\" >Discard</td>\n",
       "      <td id=\"T_9e8be_row11_col6\" class=\"data row11 col6\" >Keep</td>\n",
       "      <td id=\"T_9e8be_row11_col7\" class=\"data row11 col7\" >Discard</td>\n",
       "      <td id=\"T_9e8be_row11_col8\" class=\"data row11 col8\" >Discard</td>\n",
       "      <td id=\"T_9e8be_row11_col9\" class=\"data row11 col9\" >Discard</td>\n",
       "    </tr>\n",
       "    <tr>\n",
       "      <th id=\"T_9e8be_level0_row12\" class=\"row_heading level0 row12\" >13</th>\n",
       "      <td id=\"T_9e8be_row12_col0\" class=\"data row12 col0\" >Percentage_International_Students</td>\n",
       "      <td id=\"T_9e8be_row12_col1\" class=\"data row12 col1\" >Keep</td>\n",
       "      <td id=\"T_9e8be_row12_col2\" class=\"data row12 col2\" >Discard</td>\n",
       "      <td id=\"T_9e8be_row12_col3\" class=\"data row12 col3\" >-</td>\n",
       "      <td id=\"T_9e8be_row12_col4\" class=\"data row12 col4\" >-</td>\n",
       "      <td id=\"T_9e8be_row12_col5\" class=\"data row12 col5\" >Keep</td>\n",
       "      <td id=\"T_9e8be_row12_col6\" class=\"data row12 col6\" >Discard</td>\n",
       "      <td id=\"T_9e8be_row12_col7\" class=\"data row12 col7\" >Discard</td>\n",
       "      <td id=\"T_9e8be_row12_col8\" class=\"data row12 col8\" >Discard</td>\n",
       "      <td id=\"T_9e8be_row12_col9\" class=\"data row12 col9\" >Discard</td>\n",
       "    </tr>\n",
       "    <tr>\n",
       "      <th id=\"T_9e8be_level0_row13\" class=\"row_heading level0 row13\" >14</th>\n",
       "      <td id=\"T_9e8be_row13_col0\" class=\"data row13 col0\" >Percentage_Female_Students</td>\n",
       "      <td id=\"T_9e8be_row13_col1\" class=\"data row13 col1\" >Keep</td>\n",
       "      <td id=\"T_9e8be_row13_col2\" class=\"data row13 col2\" >Discard</td>\n",
       "      <td id=\"T_9e8be_row13_col3\" class=\"data row13 col3\" >-</td>\n",
       "      <td id=\"T_9e8be_row13_col4\" class=\"data row13 col4\" >-</td>\n",
       "      <td id=\"T_9e8be_row13_col5\" class=\"data row13 col5\" >Discard</td>\n",
       "      <td id=\"T_9e8be_row13_col6\" class=\"data row13 col6\" >Keep</td>\n",
       "      <td id=\"T_9e8be_row13_col7\" class=\"data row13 col7\" >Discard</td>\n",
       "      <td id=\"T_9e8be_row13_col8\" class=\"data row13 col8\" >Discard</td>\n",
       "      <td id=\"T_9e8be_row13_col9\" class=\"data row13 col9\" >Discard</td>\n",
       "    </tr>\n",
       "    <tr>\n",
       "      <th id=\"T_9e8be_level0_row14\" class=\"row_heading level0 row14\" >15</th>\n",
       "      <td id=\"T_9e8be_row14_col0\" class=\"data row14 col0\" >Number_Studied_Fields</td>\n",
       "      <td id=\"T_9e8be_row14_col1\" class=\"data row14 col1\" >Keep</td>\n",
       "      <td id=\"T_9e8be_row14_col2\" class=\"data row14 col2\" >Discard</td>\n",
       "      <td id=\"T_9e8be_row14_col3\" class=\"data row14 col3\" >-</td>\n",
       "      <td id=\"T_9e8be_row14_col4\" class=\"data row14 col4\" >-</td>\n",
       "      <td id=\"T_9e8be_row14_col5\" class=\"data row14 col5\" >Keep</td>\n",
       "      <td id=\"T_9e8be_row14_col6\" class=\"data row14 col6\" >Discard</td>\n",
       "      <td id=\"T_9e8be_row14_col7\" class=\"data row14 col7\" >Discard</td>\n",
       "      <td id=\"T_9e8be_row14_col8\" class=\"data row14 col8\" >Discard</td>\n",
       "      <td id=\"T_9e8be_row14_col9\" class=\"data row14 col9\" >Discard</td>\n",
       "    </tr>\n",
       "    <tr>\n",
       "      <th id=\"T_9e8be_level0_row15\" class=\"row_heading level0 row15\" >16</th>\n",
       "      <td id=\"T_9e8be_row15_col0\" class=\"data row15 col0\" >Non_Finished_Programs</td>\n",
       "      <td id=\"T_9e8be_row15_col1\" class=\"data row15 col1\" >Discard</td>\n",
       "      <td id=\"T_9e8be_row15_col2\" class=\"data row15 col2\" >Discard</td>\n",
       "      <td id=\"T_9e8be_row15_col3\" class=\"data row15 col3\" >-</td>\n",
       "      <td id=\"T_9e8be_row15_col4\" class=\"data row15 col4\" >-</td>\n",
       "      <td id=\"T_9e8be_row15_col5\" class=\"data row15 col5\" >Discard</td>\n",
       "      <td id=\"T_9e8be_row15_col6\" class=\"data row15 col6\" >Keep</td>\n",
       "      <td id=\"T_9e8be_row15_col7\" class=\"data row15 col7\" >Discard</td>\n",
       "      <td id=\"T_9e8be_row15_col8\" class=\"data row15 col8\" >Discard</td>\n",
       "      <td id=\"T_9e8be_row15_col9\" class=\"data row15 col9\" >Discard</td>\n",
       "    </tr>\n",
       "    <tr>\n",
       "      <th id=\"T_9e8be_level0_row16\" class=\"row_heading level0 row16\" >17</th>\n",
       "      <td id=\"T_9e8be_row16_col0\" class=\"data row16 col0\" >AverageScaledGrade</td>\n",
       "      <td id=\"T_9e8be_row16_col1\" class=\"data row16 col1\" >Keep</td>\n",
       "      <td id=\"T_9e8be_row16_col2\" class=\"data row16 col2\" >Keep</td>\n",
       "      <td id=\"T_9e8be_row16_col3\" class=\"data row16 col3\" >-</td>\n",
       "      <td id=\"T_9e8be_row16_col4\" class=\"data row16 col4\" >-</td>\n",
       "      <td id=\"T_9e8be_row16_col5\" class=\"data row16 col5\" >Keep</td>\n",
       "      <td id=\"T_9e8be_row16_col6\" class=\"data row16 col6\" >Keep</td>\n",
       "      <td id=\"T_9e8be_row16_col7\" class=\"data row16 col7\" >Keep</td>\n",
       "      <td id=\"T_9e8be_row16_col8\" class=\"data row16 col8\" >Discard</td>\n",
       "      <td id=\"T_9e8be_row16_col9\" class=\"data row16 col9\" >Keep</td>\n",
       "    </tr>\n",
       "    <tr>\n",
       "      <th id=\"T_9e8be_level0_row17\" class=\"row_heading level0 row17\" >18</th>\n",
       "      <td id=\"T_9e8be_row17_col0\" class=\"data row17 col0\" >MaxScaledGrade</td>\n",
       "      <td id=\"T_9e8be_row17_col1\" class=\"data row17 col1\" >Discard</td>\n",
       "      <td id=\"T_9e8be_row17_col2\" class=\"data row17 col2\" >Keep</td>\n",
       "      <td id=\"T_9e8be_row17_col3\" class=\"data row17 col3\" >-</td>\n",
       "      <td id=\"T_9e8be_row17_col4\" class=\"data row17 col4\" >-</td>\n",
       "      <td id=\"T_9e8be_row17_col5\" class=\"data row17 col5\" >Keep</td>\n",
       "      <td id=\"T_9e8be_row17_col6\" class=\"data row17 col6\" >Keep</td>\n",
       "      <td id=\"T_9e8be_row17_col7\" class=\"data row17 col7\" >Keep</td>\n",
       "      <td id=\"T_9e8be_row17_col8\" class=\"data row17 col8\" >Keep</td>\n",
       "      <td id=\"T_9e8be_row17_col9\" class=\"data row17 col9\" >Discard*</td>\n",
       "    </tr>\n",
       "    <tr>\n",
       "      <th id=\"T_9e8be_level0_row18\" class=\"row_heading level0 row18\" >19</th>\n",
       "      <td id=\"T_9e8be_row18_col0\" class=\"data row18 col0\" >MinScaledGrade</td>\n",
       "      <td id=\"T_9e8be_row18_col1\" class=\"data row18 col1\" >Discard</td>\n",
       "      <td id=\"T_9e8be_row18_col2\" class=\"data row18 col2\" >Keep</td>\n",
       "      <td id=\"T_9e8be_row18_col3\" class=\"data row18 col3\" >-</td>\n",
       "      <td id=\"T_9e8be_row18_col4\" class=\"data row18 col4\" >-</td>\n",
       "      <td id=\"T_9e8be_row18_col5\" class=\"data row18 col5\" >Keep</td>\n",
       "      <td id=\"T_9e8be_row18_col6\" class=\"data row18 col6\" >Discard</td>\n",
       "      <td id=\"T_9e8be_row18_col7\" class=\"data row18 col7\" >Keep</td>\n",
       "      <td id=\"T_9e8be_row18_col8\" class=\"data row18 col8\" >Keep</td>\n",
       "      <td id=\"T_9e8be_row18_col9\" class=\"data row18 col9\" >Discard*</td>\n",
       "    </tr>\n",
       "    <tr>\n",
       "      <th id=\"T_9e8be_level0_row19\" class=\"row_heading level0 row19\" >20</th>\n",
       "      <td id=\"T_9e8be_row19_col0\" class=\"data row19 col0\" >countries_dist</td>\n",
       "      <td id=\"T_9e8be_row19_col1\" class=\"data row19 col1\" >Keep</td>\n",
       "      <td id=\"T_9e8be_row19_col2\" class=\"data row19 col2\" >Discard</td>\n",
       "      <td id=\"T_9e8be_row19_col3\" class=\"data row19 col3\" >-</td>\n",
       "      <td id=\"T_9e8be_row19_col4\" class=\"data row19 col4\" >-</td>\n",
       "      <td id=\"T_9e8be_row19_col5\" class=\"data row19 col5\" >Keep</td>\n",
       "      <td id=\"T_9e8be_row19_col6\" class=\"data row19 col6\" >Keep</td>\n",
       "      <td id=\"T_9e8be_row19_col7\" class=\"data row19 col7\" >Discard</td>\n",
       "      <td id=\"T_9e8be_row19_col8\" class=\"data row19 col8\" >Discard</td>\n",
       "      <td id=\"T_9e8be_row19_col9\" class=\"data row19 col9\" >Discard</td>\n",
       "    </tr>\n",
       "    <tr>\n",
       "      <th id=\"T_9e8be_level0_row20\" class=\"row_heading level0 row20\" >21</th>\n",
       "      <td id=\"T_9e8be_row20_col0\" class=\"data row20 col0\" >countries_GDP_per_capita</td>\n",
       "      <td id=\"T_9e8be_row20_col1\" class=\"data row20 col1\" >Keep</td>\n",
       "      <td id=\"T_9e8be_row20_col2\" class=\"data row20 col2\" >Keep</td>\n",
       "      <td id=\"T_9e8be_row20_col3\" class=\"data row20 col3\" >-</td>\n",
       "      <td id=\"T_9e8be_row20_col4\" class=\"data row20 col4\" >-</td>\n",
       "      <td id=\"T_9e8be_row20_col5\" class=\"data row20 col5\" >Keep</td>\n",
       "      <td id=\"T_9e8be_row20_col6\" class=\"data row20 col6\" >Keep</td>\n",
       "      <td id=\"T_9e8be_row20_col7\" class=\"data row20 col7\" >Keep</td>\n",
       "      <td id=\"T_9e8be_row20_col8\" class=\"data row20 col8\" >Keep</td>\n",
       "      <td id=\"T_9e8be_row20_col9\" class=\"data row20 col9\" >Keep</td>\n",
       "    </tr>\n",
       "    <tr>\n",
       "      <th id=\"T_9e8be_level0_row21\" class=\"row_heading level0 row21\" >22</th>\n",
       "      <td id=\"T_9e8be_row21_col0\" class=\"data row21 col0\" >Program_Name</td>\n",
       "      <td id=\"T_9e8be_row21_col1\" class=\"data row21 col1\" >Keep</td>\n",
       "      <td id=\"T_9e8be_row21_col2\" class=\"data row21 col2\" >Keep</td>\n",
       "      <td id=\"T_9e8be_row21_col3\" class=\"data row21 col3\" >-</td>\n",
       "      <td id=\"T_9e8be_row21_col4\" class=\"data row21 col4\" >-</td>\n",
       "      <td id=\"T_9e8be_row21_col5\" class=\"data row21 col5\" >Keep</td>\n",
       "      <td id=\"T_9e8be_row21_col6\" class=\"data row21 col6\" >Keep</td>\n",
       "      <td id=\"T_9e8be_row21_col7\" class=\"data row21 col7\" >Keep</td>\n",
       "      <td id=\"T_9e8be_row21_col8\" class=\"data row21 col8\" >Keep</td>\n",
       "      <td id=\"T_9e8be_row21_col9\" class=\"data row21 col9\" >Keep</td>\n",
       "    </tr>\n",
       "    <tr>\n",
       "      <th id=\"T_9e8be_level0_row22\" class=\"row_heading level0 row22\" >23</th>\n",
       "      <td id=\"T_9e8be_row22_col0\" class=\"data row22 col0\" >Number_Professional_Experiences</td>\n",
       "      <td id=\"T_9e8be_row22_col1\" class=\"data row22 col1\" >Keep</td>\n",
       "      <td id=\"T_9e8be_row22_col2\" class=\"data row22 col2\" >Discard</td>\n",
       "      <td id=\"T_9e8be_row22_col3\" class=\"data row22 col3\" >-</td>\n",
       "      <td id=\"T_9e8be_row22_col4\" class=\"data row22 col4\" >-</td>\n",
       "      <td id=\"T_9e8be_row22_col5\" class=\"data row22 col5\" >Discard</td>\n",
       "      <td id=\"T_9e8be_row22_col6\" class=\"data row22 col6\" >Discard</td>\n",
       "      <td id=\"T_9e8be_row22_col7\" class=\"data row22 col7\" >Keep</td>\n",
       "      <td id=\"T_9e8be_row22_col8\" class=\"data row22 col8\" >Discard</td>\n",
       "      <td id=\"T_9e8be_row22_col9\" class=\"data row22 col9\" >Discard</td>\n",
       "    </tr>\n",
       "    <tr>\n",
       "      <th id=\"T_9e8be_level0_row23\" class=\"row_heading level0 row23\" >24</th>\n",
       "      <td id=\"T_9e8be_row23_col0\" class=\"data row23 col0\" >Years_of_Experience</td>\n",
       "      <td id=\"T_9e8be_row23_col1\" class=\"data row23 col1\" >Discard</td>\n",
       "      <td id=\"T_9e8be_row23_col2\" class=\"data row23 col2\" >Discard</td>\n",
       "      <td id=\"T_9e8be_row23_col3\" class=\"data row23 col3\" >-</td>\n",
       "      <td id=\"T_9e8be_row23_col4\" class=\"data row23 col4\" >-</td>\n",
       "      <td id=\"T_9e8be_row23_col5\" class=\"data row23 col5\" >Discard</td>\n",
       "      <td id=\"T_9e8be_row23_col6\" class=\"data row23 col6\" >Discard</td>\n",
       "      <td id=\"T_9e8be_row23_col7\" class=\"data row23 col7\" >Keep</td>\n",
       "      <td id=\"T_9e8be_row23_col8\" class=\"data row23 col8\" >Keep</td>\n",
       "      <td id=\"T_9e8be_row23_col9\" class=\"data row23 col9\" >Discard</td>\n",
       "    </tr>\n",
       "    <tr>\n",
       "      <th id=\"T_9e8be_level0_row24\" class=\"row_heading level0 row24\" >25</th>\n",
       "      <td id=\"T_9e8be_row24_col0\" class=\"data row24 col0\" >Years_of_Longest_Prof_Experience</td>\n",
       "      <td id=\"T_9e8be_row24_col1\" class=\"data row24 col1\" >Keep</td>\n",
       "      <td id=\"T_9e8be_row24_col2\" class=\"data row24 col2\" >Discard</td>\n",
       "      <td id=\"T_9e8be_row24_col3\" class=\"data row24 col3\" >-</td>\n",
       "      <td id=\"T_9e8be_row24_col4\" class=\"data row24 col4\" >-</td>\n",
       "      <td id=\"T_9e8be_row24_col5\" class=\"data row24 col5\" >Keep</td>\n",
       "      <td id=\"T_9e8be_row24_col6\" class=\"data row24 col6\" >Keep</td>\n",
       "      <td id=\"T_9e8be_row24_col7\" class=\"data row24 col7\" >Keep</td>\n",
       "      <td id=\"T_9e8be_row24_col8\" class=\"data row24 col8\" >Keep</td>\n",
       "      <td id=\"T_9e8be_row24_col9\" class=\"data row24 col9\" >Keep</td>\n",
       "    </tr>\n",
       "    <tr>\n",
       "      <th id=\"T_9e8be_level0_row25\" class=\"row_heading level0 row25\" >26</th>\n",
       "      <td id=\"T_9e8be_row25_col0\" class=\"data row25 col0\" >Number_Fields_Worked</td>\n",
       "      <td id=\"T_9e8be_row25_col1\" class=\"data row25 col1\" >Keep</td>\n",
       "      <td id=\"T_9e8be_row25_col2\" class=\"data row25 col2\" >Discard</td>\n",
       "      <td id=\"T_9e8be_row25_col3\" class=\"data row25 col3\" >-</td>\n",
       "      <td id=\"T_9e8be_row25_col4\" class=\"data row25 col4\" >-</td>\n",
       "      <td id=\"T_9e8be_row25_col5\" class=\"data row25 col5\" >Keep</td>\n",
       "      <td id=\"T_9e8be_row25_col6\" class=\"data row25 col6\" >Discard</td>\n",
       "      <td id=\"T_9e8be_row25_col7\" class=\"data row25 col7\" >Discard</td>\n",
       "      <td id=\"T_9e8be_row25_col8\" class=\"data row25 col8\" >Discard</td>\n",
       "      <td id=\"T_9e8be_row25_col9\" class=\"data row25 col9\" >Discard</td>\n",
       "    </tr>\n",
       "    <tr>\n",
       "      <th id=\"T_9e8be_level0_row26\" class=\"row_heading level0 row26\" >27</th>\n",
       "      <td id=\"T_9e8be_row26_col0\" class=\"data row26 col0\" >AverageAcademicDegree</td>\n",
       "      <td id=\"T_9e8be_row26_col1\" class=\"data row26 col1\" >Keep</td>\n",
       "      <td id=\"T_9e8be_row26_col2\" class=\"data row26 col2\" >Discard</td>\n",
       "      <td id=\"T_9e8be_row26_col3\" class=\"data row26 col3\" >-</td>\n",
       "      <td id=\"T_9e8be_row26_col4\" class=\"data row26 col4\" >-</td>\n",
       "      <td id=\"T_9e8be_row26_col5\" class=\"data row26 col5\" >Discard</td>\n",
       "      <td id=\"T_9e8be_row26_col6\" class=\"data row26 col6\" >Discard</td>\n",
       "      <td id=\"T_9e8be_row26_col7\" class=\"data row26 col7\" >Keep</td>\n",
       "      <td id=\"T_9e8be_row26_col8\" class=\"data row26 col8\" >Discard</td>\n",
       "      <td id=\"T_9e8be_row26_col9\" class=\"data row26 col9\" >Discard</td>\n",
       "    </tr>\n",
       "    <tr>\n",
       "      <th id=\"T_9e8be_level0_row27\" class=\"row_heading level0 row27\" >28</th>\n",
       "      <td id=\"T_9e8be_row27_col0\" class=\"data row27 col0\" >datacandidaturafim_day_of_week_sin</td>\n",
       "      <td id=\"T_9e8be_row27_col1\" class=\"data row27 col1\" >Keep</td>\n",
       "      <td id=\"T_9e8be_row27_col2\" class=\"data row27 col2\" >Discard</td>\n",
       "      <td id=\"T_9e8be_row27_col3\" class=\"data row27 col3\" >-</td>\n",
       "      <td id=\"T_9e8be_row27_col4\" class=\"data row27 col4\" >-</td>\n",
       "      <td id=\"T_9e8be_row27_col5\" class=\"data row27 col5\" >Discard</td>\n",
       "      <td id=\"T_9e8be_row27_col6\" class=\"data row27 col6\" >Discard</td>\n",
       "      <td id=\"T_9e8be_row27_col7\" class=\"data row27 col7\" >Discard</td>\n",
       "      <td id=\"T_9e8be_row27_col8\" class=\"data row27 col8\" >Discard</td>\n",
       "      <td id=\"T_9e8be_row27_col9\" class=\"data row27 col9\" >Discard</td>\n",
       "    </tr>\n",
       "    <tr>\n",
       "      <th id=\"T_9e8be_level0_row28\" class=\"row_heading level0 row28\" >29</th>\n",
       "      <td id=\"T_9e8be_row28_col0\" class=\"data row28 col0\" >datacandidaturafim_day_of_week_cos</td>\n",
       "      <td id=\"T_9e8be_row28_col1\" class=\"data row28 col1\" >Keep</td>\n",
       "      <td id=\"T_9e8be_row28_col2\" class=\"data row28 col2\" >Discard</td>\n",
       "      <td id=\"T_9e8be_row28_col3\" class=\"data row28 col3\" >-</td>\n",
       "      <td id=\"T_9e8be_row28_col4\" class=\"data row28 col4\" >-</td>\n",
       "      <td id=\"T_9e8be_row28_col5\" class=\"data row28 col5\" >Discard</td>\n",
       "      <td id=\"T_9e8be_row28_col6\" class=\"data row28 col6\" >Discard</td>\n",
       "      <td id=\"T_9e8be_row28_col7\" class=\"data row28 col7\" >Keep</td>\n",
       "      <td id=\"T_9e8be_row28_col8\" class=\"data row28 col8\" >Discard</td>\n",
       "      <td id=\"T_9e8be_row28_col9\" class=\"data row28 col9\" >Discard</td>\n",
       "    </tr>\n",
       "    <tr>\n",
       "      <th id=\"T_9e8be_level0_row29\" class=\"row_heading level0 row29\" >30</th>\n",
       "      <td id=\"T_9e8be_row29_col0\" class=\"data row29 col0\" >dprograma</td>\n",
       "      <td id=\"T_9e8be_row29_col1\" class=\"data row29 col1\" >-</td>\n",
       "      <td id=\"T_9e8be_row29_col2\" class=\"data row29 col2\" >-</td>\n",
       "      <td id=\"T_9e8be_row29_col3\" class=\"data row29 col3\" >Keep</td>\n",
       "      <td id=\"T_9e8be_row29_col4\" class=\"data row29 col4\" >Keep</td>\n",
       "      <td id=\"T_9e8be_row29_col5\" class=\"data row29 col5\" >Discard</td>\n",
       "      <td id=\"T_9e8be_row29_col6\" class=\"data row29 col6\" >Discard</td>\n",
       "      <td id=\"T_9e8be_row29_col7\" class=\"data row29 col7\" >Discard</td>\n",
       "      <td id=\"T_9e8be_row29_col8\" class=\"data row29 col8\" >Discard</td>\n",
       "      <td id=\"T_9e8be_row29_col9\" class=\"data row29 col9\" >Discard</td>\n",
       "    </tr>\n",
       "    <tr>\n",
       "      <th id=\"T_9e8be_level0_row30\" class=\"row_heading level0 row30\" >31</th>\n",
       "      <td id=\"T_9e8be_row30_col0\" class=\"data row30 col0\" >Is_Ranked</td>\n",
       "      <td id=\"T_9e8be_row30_col1\" class=\"data row30 col1\" >-</td>\n",
       "      <td id=\"T_9e8be_row30_col2\" class=\"data row30 col2\" >-</td>\n",
       "      <td id=\"T_9e8be_row30_col3\" class=\"data row30 col3\" >Discard</td>\n",
       "      <td id=\"T_9e8be_row30_col4\" class=\"data row30 col4\" >Discard</td>\n",
       "      <td id=\"T_9e8be_row30_col5\" class=\"data row30 col5\" >Discard</td>\n",
       "      <td id=\"T_9e8be_row30_col6\" class=\"data row30 col6\" >Keep</td>\n",
       "      <td id=\"T_9e8be_row30_col7\" class=\"data row30 col7\" >Discard</td>\n",
       "      <td id=\"T_9e8be_row30_col8\" class=\"data row30 col8\" >Discard</td>\n",
       "      <td id=\"T_9e8be_row30_col9\" class=\"data row30 col9\" >Discard</td>\n",
       "    </tr>\n",
       "    <tr>\n",
       "      <th id=\"T_9e8be_level0_row31\" class=\"row_heading level0 row31\" >32</th>\n",
       "      <td id=\"T_9e8be_row31_col0\" class=\"data row31 col0\" >Previous_IMS_Student</td>\n",
       "      <td id=\"T_9e8be_row31_col1\" class=\"data row31 col1\" >-</td>\n",
       "      <td id=\"T_9e8be_row31_col2\" class=\"data row31 col2\" >-</td>\n",
       "      <td id=\"T_9e8be_row31_col3\" class=\"data row31 col3\" >Keep</td>\n",
       "      <td id=\"T_9e8be_row31_col4\" class=\"data row31 col4\" >Keep</td>\n",
       "      <td id=\"T_9e8be_row31_col5\" class=\"data row31 col5\" >Keep</td>\n",
       "      <td id=\"T_9e8be_row31_col6\" class=\"data row31 col6\" >Discard</td>\n",
       "      <td id=\"T_9e8be_row31_col7\" class=\"data row31 col7\" >Discard</td>\n",
       "      <td id=\"T_9e8be_row31_col8\" class=\"data row31 col8\" >Keep</td>\n",
       "      <td id=\"T_9e8be_row31_col9\" class=\"data row31 col9\" >Keep</td>\n",
       "    </tr>\n",
       "    <tr>\n",
       "      <th id=\"T_9e8be_level0_row32\" class=\"row_heading level0 row32\" >33</th>\n",
       "      <td id=\"T_9e8be_row32_col0\" class=\"data row32 col0\" >Previous_Data_Studies</td>\n",
       "      <td id=\"T_9e8be_row32_col1\" class=\"data row32 col1\" >-</td>\n",
       "      <td id=\"T_9e8be_row32_col2\" class=\"data row32 col2\" >-</td>\n",
       "      <td id=\"T_9e8be_row32_col3\" class=\"data row32 col3\" >Keep</td>\n",
       "      <td id=\"T_9e8be_row32_col4\" class=\"data row32 col4\" >Keep</td>\n",
       "      <td id=\"T_9e8be_row32_col5\" class=\"data row32 col5\" >Keep</td>\n",
       "      <td id=\"T_9e8be_row32_col6\" class=\"data row32 col6\" >Discard</td>\n",
       "      <td id=\"T_9e8be_row32_col7\" class=\"data row32 col7\" >Discard</td>\n",
       "      <td id=\"T_9e8be_row32_col8\" class=\"data row32 col8\" >Keep</td>\n",
       "      <td id=\"T_9e8be_row32_col9\" class=\"data row32 col9\" >Keep</td>\n",
       "    </tr>\n",
       "    <tr>\n",
       "      <th id=\"T_9e8be_level0_row33\" class=\"row_heading level0 row33\" >34</th>\n",
       "      <td id=\"T_9e8be_row33_col0\" class=\"data row33 col0\" >Previous_Computer_Studies</td>\n",
       "      <td id=\"T_9e8be_row33_col1\" class=\"data row33 col1\" >-</td>\n",
       "      <td id=\"T_9e8be_row33_col2\" class=\"data row33 col2\" >-</td>\n",
       "      <td id=\"T_9e8be_row33_col3\" class=\"data row33 col3\" >Discard</td>\n",
       "      <td id=\"T_9e8be_row33_col4\" class=\"data row33 col4\" >Discard</td>\n",
       "      <td id=\"T_9e8be_row33_col5\" class=\"data row33 col5\" >Keep</td>\n",
       "      <td id=\"T_9e8be_row33_col6\" class=\"data row33 col6\" >Discard</td>\n",
       "      <td id=\"T_9e8be_row33_col7\" class=\"data row33 col7\" >Discard</td>\n",
       "      <td id=\"T_9e8be_row33_col8\" class=\"data row33 col8\" >Discard</td>\n",
       "      <td id=\"T_9e8be_row33_col9\" class=\"data row33 col9\" >Discard</td>\n",
       "    </tr>\n",
       "    <tr>\n",
       "      <th id=\"T_9e8be_level0_row34\" class=\"row_heading level0 row34\" >35</th>\n",
       "      <td id=\"T_9e8be_row34_col0\" class=\"data row34 col0\" >Previous_Tech_Studies</td>\n",
       "      <td id=\"T_9e8be_row34_col1\" class=\"data row34 col1\" >-</td>\n",
       "      <td id=\"T_9e8be_row34_col2\" class=\"data row34 col2\" >-</td>\n",
       "      <td id=\"T_9e8be_row34_col3\" class=\"data row34 col3\" >Keep</td>\n",
       "      <td id=\"T_9e8be_row34_col4\" class=\"data row34 col4\" >Keep</td>\n",
       "      <td id=\"T_9e8be_row34_col5\" class=\"data row34 col5\" >Keep</td>\n",
       "      <td id=\"T_9e8be_row34_col6\" class=\"data row34 col6\" >Discard</td>\n",
       "      <td id=\"T_9e8be_row34_col7\" class=\"data row34 col7\" >Discard</td>\n",
       "      <td id=\"T_9e8be_row34_col8\" class=\"data row34 col8\" >Discard</td>\n",
       "      <td id=\"T_9e8be_row34_col9\" class=\"data row34 col9\" >Discard</td>\n",
       "    </tr>\n",
       "    <tr>\n",
       "      <th id=\"T_9e8be_level0_row35\" class=\"row_heading level0 row35\" >36</th>\n",
       "      <td id=\"T_9e8be_row35_col0\" class=\"data row35 col0\" >Previous_Math_Studies</td>\n",
       "      <td id=\"T_9e8be_row35_col1\" class=\"data row35 col1\" >-</td>\n",
       "      <td id=\"T_9e8be_row35_col2\" class=\"data row35 col2\" >-</td>\n",
       "      <td id=\"T_9e8be_row35_col3\" class=\"data row35 col3\" >Discard</td>\n",
       "      <td id=\"T_9e8be_row35_col4\" class=\"data row35 col4\" >Discard</td>\n",
       "      <td id=\"T_9e8be_row35_col5\" class=\"data row35 col5\" >Keep</td>\n",
       "      <td id=\"T_9e8be_row35_col6\" class=\"data row35 col6\" >Discard</td>\n",
       "      <td id=\"T_9e8be_row35_col7\" class=\"data row35 col7\" >Discard</td>\n",
       "      <td id=\"T_9e8be_row35_col8\" class=\"data row35 col8\" >Discard</td>\n",
       "      <td id=\"T_9e8be_row35_col9\" class=\"data row35 col9\" >Discard</td>\n",
       "    </tr>\n",
       "    <tr>\n",
       "      <th id=\"T_9e8be_level0_row36\" class=\"row_heading level0 row36\" >37</th>\n",
       "      <td id=\"T_9e8be_row36_col0\" class=\"data row36 col0\" >Previous_Engineering_Studies</td>\n",
       "      <td id=\"T_9e8be_row36_col1\" class=\"data row36 col1\" >-</td>\n",
       "      <td id=\"T_9e8be_row36_col2\" class=\"data row36 col2\" >-</td>\n",
       "      <td id=\"T_9e8be_row36_col3\" class=\"data row36 col3\" >Keep</td>\n",
       "      <td id=\"T_9e8be_row36_col4\" class=\"data row36 col4\" >Keep</td>\n",
       "      <td id=\"T_9e8be_row36_col5\" class=\"data row36 col5\" >Keep</td>\n",
       "      <td id=\"T_9e8be_row36_col6\" class=\"data row36 col6\" >Discard</td>\n",
       "      <td id=\"T_9e8be_row36_col7\" class=\"data row36 col7\" >Discard</td>\n",
       "      <td id=\"T_9e8be_row36_col8\" class=\"data row36 col8\" >Discard</td>\n",
       "      <td id=\"T_9e8be_row36_col9\" class=\"data row36 col9\" >Discard</td>\n",
       "    </tr>\n",
       "    <tr>\n",
       "      <th id=\"T_9e8be_level0_row37\" class=\"row_heading level0 row37\" >38</th>\n",
       "      <td id=\"T_9e8be_row37_col0\" class=\"data row37 col0\" >Previous_Finance_Studies</td>\n",
       "      <td id=\"T_9e8be_row37_col1\" class=\"data row37 col1\" >-</td>\n",
       "      <td id=\"T_9e8be_row37_col2\" class=\"data row37 col2\" >-</td>\n",
       "      <td id=\"T_9e8be_row37_col3\" class=\"data row37 col3\" >Keep</td>\n",
       "      <td id=\"T_9e8be_row37_col4\" class=\"data row37 col4\" >Discard</td>\n",
       "      <td id=\"T_9e8be_row37_col5\" class=\"data row37 col5\" >Keep</td>\n",
       "      <td id=\"T_9e8be_row37_col6\" class=\"data row37 col6\" >Discard</td>\n",
       "      <td id=\"T_9e8be_row37_col7\" class=\"data row37 col7\" >Discard</td>\n",
       "      <td id=\"T_9e8be_row37_col8\" class=\"data row37 col8\" >Keep</td>\n",
       "      <td id=\"T_9e8be_row37_col9\" class=\"data row37 col9\" >Discard</td>\n",
       "    </tr>\n",
       "    <tr>\n",
       "      <th id=\"T_9e8be_level0_row38\" class=\"row_heading level0 row38\" >39</th>\n",
       "      <td id=\"T_9e8be_row38_col0\" class=\"data row38 col0\" >Previous_Marketing_Studies</td>\n",
       "      <td id=\"T_9e8be_row38_col1\" class=\"data row38 col1\" >-</td>\n",
       "      <td id=\"T_9e8be_row38_col2\" class=\"data row38 col2\" >-</td>\n",
       "      <td id=\"T_9e8be_row38_col3\" class=\"data row38 col3\" >Keep</td>\n",
       "      <td id=\"T_9e8be_row38_col4\" class=\"data row38 col4\" >Keep</td>\n",
       "      <td id=\"T_9e8be_row38_col5\" class=\"data row38 col5\" >Keep</td>\n",
       "      <td id=\"T_9e8be_row38_col6\" class=\"data row38 col6\" >Discard</td>\n",
       "      <td id=\"T_9e8be_row38_col7\" class=\"data row38 col7\" >Discard</td>\n",
       "      <td id=\"T_9e8be_row38_col8\" class=\"data row38 col8\" >Keep</td>\n",
       "      <td id=\"T_9e8be_row38_col9\" class=\"data row38 col9\" >Keep</td>\n",
       "    </tr>\n",
       "    <tr>\n",
       "      <th id=\"T_9e8be_level0_row39\" class=\"row_heading level0 row39\" >40</th>\n",
       "      <td id=\"T_9e8be_row39_col0\" class=\"data row39 col0\" >Previous_Field_Studies</td>\n",
       "      <td id=\"T_9e8be_row39_col1\" class=\"data row39 col1\" >-</td>\n",
       "      <td id=\"T_9e8be_row39_col2\" class=\"data row39 col2\" >-</td>\n",
       "      <td id=\"T_9e8be_row39_col3\" class=\"data row39 col3\" >Keep</td>\n",
       "      <td id=\"T_9e8be_row39_col4\" class=\"data row39 col4\" >Keep</td>\n",
       "      <td id=\"T_9e8be_row39_col5\" class=\"data row39 col5\" >Discard</td>\n",
       "      <td id=\"T_9e8be_row39_col6\" class=\"data row39 col6\" >Discard</td>\n",
       "      <td id=\"T_9e8be_row39_col7\" class=\"data row39 col7\" >Discard</td>\n",
       "      <td id=\"T_9e8be_row39_col8\" class=\"data row39 col8\" >Keep</td>\n",
       "      <td id=\"T_9e8be_row39_col9\" class=\"data row39 col9\" >Discard</td>\n",
       "    </tr>\n",
       "    <tr>\n",
       "      <th id=\"T_9e8be_level0_row40\" class=\"row_heading level0 row40\" >41</th>\n",
       "      <td id=\"T_9e8be_row40_col0\" class=\"data row40 col0\" >is_Portuguese</td>\n",
       "      <td id=\"T_9e8be_row40_col1\" class=\"data row40 col1\" >-</td>\n",
       "      <td id=\"T_9e8be_row40_col2\" class=\"data row40 col2\" >-</td>\n",
       "      <td id=\"T_9e8be_row40_col3\" class=\"data row40 col3\" >Keep</td>\n",
       "      <td id=\"T_9e8be_row40_col4\" class=\"data row40 col4\" >Keep</td>\n",
       "      <td id=\"T_9e8be_row40_col5\" class=\"data row40 col5\" >Keep</td>\n",
       "      <td id=\"T_9e8be_row40_col6\" class=\"data row40 col6\" >Keep</td>\n",
       "      <td id=\"T_9e8be_row40_col7\" class=\"data row40 col7\" >Discard</td>\n",
       "      <td id=\"T_9e8be_row40_col8\" class=\"data row40 col8\" >Keep</td>\n",
       "      <td id=\"T_9e8be_row40_col9\" class=\"data row40 col9\" >Keep</td>\n",
       "    </tr>\n",
       "    <tr>\n",
       "      <th id=\"T_9e8be_level0_row41\" class=\"row_heading level0 row41\" >42</th>\n",
       "      <td id=\"T_9e8be_row41_col0\" class=\"data row41 col0\" >is_After_Working_Hours</td>\n",
       "      <td id=\"T_9e8be_row41_col1\" class=\"data row41 col1\" >-</td>\n",
       "      <td id=\"T_9e8be_row41_col2\" class=\"data row41 col2\" >-</td>\n",
       "      <td id=\"T_9e8be_row41_col3\" class=\"data row41 col3\" >Discard</td>\n",
       "      <td id=\"T_9e8be_row41_col4\" class=\"data row41 col4\" >Discard</td>\n",
       "      <td id=\"T_9e8be_row41_col5\" class=\"data row41 col5\" >Discard</td>\n",
       "      <td id=\"T_9e8be_row41_col6\" class=\"data row41 col6\" >Keep</td>\n",
       "      <td id=\"T_9e8be_row41_col7\" class=\"data row41 col7\" >Discard</td>\n",
       "      <td id=\"T_9e8be_row41_col8\" class=\"data row41 col8\" >Keep</td>\n",
       "      <td id=\"T_9e8be_row41_col9\" class=\"data row41 col9\" >Discard</td>\n",
       "    </tr>\n",
       "    <tr>\n",
       "      <th id=\"T_9e8be_level0_row42\" class=\"row_heading level0 row42\" >43</th>\n",
       "      <td id=\"T_9e8be_row42_col0\" class=\"data row42 col0\" >is_Fully_In_Person</td>\n",
       "      <td id=\"T_9e8be_row42_col1\" class=\"data row42 col1\" >-</td>\n",
       "      <td id=\"T_9e8be_row42_col2\" class=\"data row42 col2\" >-</td>\n",
       "      <td id=\"T_9e8be_row42_col3\" class=\"data row42 col3\" >Discard</td>\n",
       "      <td id=\"T_9e8be_row42_col4\" class=\"data row42 col4\" >Discard</td>\n",
       "      <td id=\"T_9e8be_row42_col5\" class=\"data row42 col5\" >Discard</td>\n",
       "      <td id=\"T_9e8be_row42_col6\" class=\"data row42 col6\" >Discard</td>\n",
       "      <td id=\"T_9e8be_row42_col7\" class=\"data row42 col7\" >Discard</td>\n",
       "      <td id=\"T_9e8be_row42_col8\" class=\"data row42 col8\" >Discard</td>\n",
       "      <td id=\"T_9e8be_row42_col9\" class=\"data row42 col9\" >Discard</td>\n",
       "    </tr>\n",
       "    <tr>\n",
       "      <th id=\"T_9e8be_level0_row43\" class=\"row_heading level0 row43\" >44</th>\n",
       "      <td id=\"T_9e8be_row43_col0\" class=\"data row43 col0\" >Working_Upon_Application</td>\n",
       "      <td id=\"T_9e8be_row43_col1\" class=\"data row43 col1\" >-</td>\n",
       "      <td id=\"T_9e8be_row43_col2\" class=\"data row43 col2\" >-</td>\n",
       "      <td id=\"T_9e8be_row43_col3\" class=\"data row43 col3\" >Discard</td>\n",
       "      <td id=\"T_9e8be_row43_col4\" class=\"data row43 col4\" >Discard</td>\n",
       "      <td id=\"T_9e8be_row43_col5\" class=\"data row43 col5\" >Discard</td>\n",
       "      <td id=\"T_9e8be_row43_col6\" class=\"data row43 col6\" >Discard</td>\n",
       "      <td id=\"T_9e8be_row43_col7\" class=\"data row43 col7\" >Discard</td>\n",
       "      <td id=\"T_9e8be_row43_col8\" class=\"data row43 col8\" >Discard</td>\n",
       "      <td id=\"T_9e8be_row43_col9\" class=\"data row43 col9\" >Discard</td>\n",
       "    </tr>\n",
       "    <tr>\n",
       "      <th id=\"T_9e8be_level0_row44\" class=\"row_heading level0 row44\" >45</th>\n",
       "      <td id=\"T_9e8be_row44_col0\" class=\"data row44 col0\" >Previous_Data_Jobs</td>\n",
       "      <td id=\"T_9e8be_row44_col1\" class=\"data row44 col1\" >-</td>\n",
       "      <td id=\"T_9e8be_row44_col2\" class=\"data row44 col2\" >-</td>\n",
       "      <td id=\"T_9e8be_row44_col3\" class=\"data row44 col3\" >Keep</td>\n",
       "      <td id=\"T_9e8be_row44_col4\" class=\"data row44 col4\" >Keep</td>\n",
       "      <td id=\"T_9e8be_row44_col5\" class=\"data row44 col5\" >Keep</td>\n",
       "      <td id=\"T_9e8be_row44_col6\" class=\"data row44 col6\" >Discard</td>\n",
       "      <td id=\"T_9e8be_row44_col7\" class=\"data row44 col7\" >Discard</td>\n",
       "      <td id=\"T_9e8be_row44_col8\" class=\"data row44 col8\" >Keep</td>\n",
       "      <td id=\"T_9e8be_row44_col9\" class=\"data row44 col9\" >Keep</td>\n",
       "    </tr>\n",
       "    <tr>\n",
       "      <th id=\"T_9e8be_level0_row45\" class=\"row_heading level0 row45\" >46</th>\n",
       "      <td id=\"T_9e8be_row45_col0\" class=\"data row45 col0\" >Previous_Analytics_Jobs</td>\n",
       "      <td id=\"T_9e8be_row45_col1\" class=\"data row45 col1\" >-</td>\n",
       "      <td id=\"T_9e8be_row45_col2\" class=\"data row45 col2\" >-</td>\n",
       "      <td id=\"T_9e8be_row45_col3\" class=\"data row45 col3\" >Discard</td>\n",
       "      <td id=\"T_9e8be_row45_col4\" class=\"data row45 col4\" >Discard</td>\n",
       "      <td id=\"T_9e8be_row45_col5\" class=\"data row45 col5\" >Keep</td>\n",
       "      <td id=\"T_9e8be_row45_col6\" class=\"data row45 col6\" >Discard</td>\n",
       "      <td id=\"T_9e8be_row45_col7\" class=\"data row45 col7\" >Discard</td>\n",
       "      <td id=\"T_9e8be_row45_col8\" class=\"data row45 col8\" >Discard</td>\n",
       "      <td id=\"T_9e8be_row45_col9\" class=\"data row45 col9\" >Discard</td>\n",
       "    </tr>\n",
       "    <tr>\n",
       "      <th id=\"T_9e8be_level0_row46\" class=\"row_heading level0 row46\" >47</th>\n",
       "      <td id=\"T_9e8be_row46_col0\" class=\"data row46 col0\" >Previous_Computing_Jobs</td>\n",
       "      <td id=\"T_9e8be_row46_col1\" class=\"data row46 col1\" >-</td>\n",
       "      <td id=\"T_9e8be_row46_col2\" class=\"data row46 col2\" >-</td>\n",
       "      <td id=\"T_9e8be_row46_col3\" class=\"data row46 col3\" >Discard</td>\n",
       "      <td id=\"T_9e8be_row46_col4\" class=\"data row46 col4\" >Discard</td>\n",
       "      <td id=\"T_9e8be_row46_col5\" class=\"data row46 col5\" >Keep</td>\n",
       "      <td id=\"T_9e8be_row46_col6\" class=\"data row46 col6\" >Discard</td>\n",
       "      <td id=\"T_9e8be_row46_col7\" class=\"data row46 col7\" >Discard</td>\n",
       "      <td id=\"T_9e8be_row46_col8\" class=\"data row46 col8\" >Discard</td>\n",
       "      <td id=\"T_9e8be_row46_col9\" class=\"data row46 col9\" >Discard</td>\n",
       "    </tr>\n",
       "    <tr>\n",
       "      <th id=\"T_9e8be_level0_row47\" class=\"row_heading level0 row47\" >48</th>\n",
       "      <td id=\"T_9e8be_row47_col0\" class=\"data row47 col0\" >Previous_Tech_Jobs</td>\n",
       "      <td id=\"T_9e8be_row47_col1\" class=\"data row47 col1\" >-</td>\n",
       "      <td id=\"T_9e8be_row47_col2\" class=\"data row47 col2\" >-</td>\n",
       "      <td id=\"T_9e8be_row47_col3\" class=\"data row47 col3\" >Discard</td>\n",
       "      <td id=\"T_9e8be_row47_col4\" class=\"data row47 col4\" >Discard</td>\n",
       "      <td id=\"T_9e8be_row47_col5\" class=\"data row47 col5\" >Keep</td>\n",
       "      <td id=\"T_9e8be_row47_col6\" class=\"data row47 col6\" >Discard</td>\n",
       "      <td id=\"T_9e8be_row47_col7\" class=\"data row47 col7\" >Discard</td>\n",
       "      <td id=\"T_9e8be_row47_col8\" class=\"data row47 col8\" >Discard</td>\n",
       "      <td id=\"T_9e8be_row47_col9\" class=\"data row47 col9\" >Discard</td>\n",
       "    </tr>\n",
       "    <tr>\n",
       "      <th id=\"T_9e8be_level0_row48\" class=\"row_heading level0 row48\" >49</th>\n",
       "      <td id=\"T_9e8be_row48_col0\" class=\"data row48 col0\" >Previous_Math_Jobs</td>\n",
       "      <td id=\"T_9e8be_row48_col1\" class=\"data row48 col1\" >-</td>\n",
       "      <td id=\"T_9e8be_row48_col2\" class=\"data row48 col2\" >-</td>\n",
       "      <td id=\"T_9e8be_row48_col3\" class=\"data row48 col3\" >Discard</td>\n",
       "      <td id=\"T_9e8be_row48_col4\" class=\"data row48 col4\" >Discard</td>\n",
       "      <td id=\"T_9e8be_row48_col5\" class=\"data row48 col5\" >Keep</td>\n",
       "      <td id=\"T_9e8be_row48_col6\" class=\"data row48 col6\" >Discard</td>\n",
       "      <td id=\"T_9e8be_row48_col7\" class=\"data row48 col7\" >Discard</td>\n",
       "      <td id=\"T_9e8be_row48_col8\" class=\"data row48 col8\" >Discard</td>\n",
       "      <td id=\"T_9e8be_row48_col9\" class=\"data row48 col9\" >Discard</td>\n",
       "    </tr>\n",
       "    <tr>\n",
       "      <th id=\"T_9e8be_level0_row49\" class=\"row_heading level0 row49\" >50</th>\n",
       "      <td id=\"T_9e8be_row49_col0\" class=\"data row49 col0\" >Previous_Engineering_Jobs</td>\n",
       "      <td id=\"T_9e8be_row49_col1\" class=\"data row49 col1\" >-</td>\n",
       "      <td id=\"T_9e8be_row49_col2\" class=\"data row49 col2\" >-</td>\n",
       "      <td id=\"T_9e8be_row49_col3\" class=\"data row49 col3\" >Discard</td>\n",
       "      <td id=\"T_9e8be_row49_col4\" class=\"data row49 col4\" >Discard</td>\n",
       "      <td id=\"T_9e8be_row49_col5\" class=\"data row49 col5\" >Keep</td>\n",
       "      <td id=\"T_9e8be_row49_col6\" class=\"data row49 col6\" >Discard</td>\n",
       "      <td id=\"T_9e8be_row49_col7\" class=\"data row49 col7\" >Discard</td>\n",
       "      <td id=\"T_9e8be_row49_col8\" class=\"data row49 col8\" >Keep</td>\n",
       "      <td id=\"T_9e8be_row49_col9\" class=\"data row49 col9\" >Discard</td>\n",
       "    </tr>\n",
       "    <tr>\n",
       "      <th id=\"T_9e8be_level0_row50\" class=\"row_heading level0 row50\" >51</th>\n",
       "      <td id=\"T_9e8be_row50_col0\" class=\"data row50 col0\" >Previous_Finance_Jobs</td>\n",
       "      <td id=\"T_9e8be_row50_col1\" class=\"data row50 col1\" >-</td>\n",
       "      <td id=\"T_9e8be_row50_col2\" class=\"data row50 col2\" >-</td>\n",
       "      <td id=\"T_9e8be_row50_col3\" class=\"data row50 col3\" >Discard</td>\n",
       "      <td id=\"T_9e8be_row50_col4\" class=\"data row50 col4\" >Discard</td>\n",
       "      <td id=\"T_9e8be_row50_col5\" class=\"data row50 col5\" >Keep</td>\n",
       "      <td id=\"T_9e8be_row50_col6\" class=\"data row50 col6\" >Discard</td>\n",
       "      <td id=\"T_9e8be_row50_col7\" class=\"data row50 col7\" >Discard</td>\n",
       "      <td id=\"T_9e8be_row50_col8\" class=\"data row50 col8\" >Discard</td>\n",
       "      <td id=\"T_9e8be_row50_col9\" class=\"data row50 col9\" >Discard</td>\n",
       "    </tr>\n",
       "    <tr>\n",
       "      <th id=\"T_9e8be_level0_row51\" class=\"row_heading level0 row51\" >52</th>\n",
       "      <td id=\"T_9e8be_row51_col0\" class=\"data row51 col0\" >Previous_Marketing_Jobs</td>\n",
       "      <td id=\"T_9e8be_row51_col1\" class=\"data row51 col1\" >-</td>\n",
       "      <td id=\"T_9e8be_row51_col2\" class=\"data row51 col2\" >-</td>\n",
       "      <td id=\"T_9e8be_row51_col3\" class=\"data row51 col3\" >Keep</td>\n",
       "      <td id=\"T_9e8be_row51_col4\" class=\"data row51 col4\" >Keep</td>\n",
       "      <td id=\"T_9e8be_row51_col5\" class=\"data row51 col5\" >Keep</td>\n",
       "      <td id=\"T_9e8be_row51_col6\" class=\"data row51 col6\" >Discard</td>\n",
       "      <td id=\"T_9e8be_row51_col7\" class=\"data row51 col7\" >Discard</td>\n",
       "      <td id=\"T_9e8be_row51_col8\" class=\"data row51 col8\" >Discard</td>\n",
       "      <td id=\"T_9e8be_row51_col9\" class=\"data row51 col9\" >Discard</td>\n",
       "    </tr>\n",
       "    <tr>\n",
       "      <th id=\"T_9e8be_level0_row52\" class=\"row_heading level0 row52\" >53</th>\n",
       "      <td id=\"T_9e8be_row52_col0\" class=\"data row52 col0\" >Previous_Project_Jobs</td>\n",
       "      <td id=\"T_9e8be_row52_col1\" class=\"data row52 col1\" >-</td>\n",
       "      <td id=\"T_9e8be_row52_col2\" class=\"data row52 col2\" >-</td>\n",
       "      <td id=\"T_9e8be_row52_col3\" class=\"data row52 col3\" >Keep</td>\n",
       "      <td id=\"T_9e8be_row52_col4\" class=\"data row52 col4\" >Keep</td>\n",
       "      <td id=\"T_9e8be_row52_col5\" class=\"data row52 col5\" >Keep</td>\n",
       "      <td id=\"T_9e8be_row52_col6\" class=\"data row52 col6\" >Discard</td>\n",
       "      <td id=\"T_9e8be_row52_col7\" class=\"data row52 col7\" >Discard</td>\n",
       "      <td id=\"T_9e8be_row52_col8\" class=\"data row52 col8\" >Discard</td>\n",
       "      <td id=\"T_9e8be_row52_col9\" class=\"data row52 col9\" >Discard</td>\n",
       "    </tr>\n",
       "    <tr>\n",
       "      <th id=\"T_9e8be_level0_row53\" class=\"row_heading level0 row53\" >54</th>\n",
       "      <td id=\"T_9e8be_row53_col0\" class=\"data row53 col0\" >Previous_Field_Jobs</td>\n",
       "      <td id=\"T_9e8be_row53_col1\" class=\"data row53 col1\" >-</td>\n",
       "      <td id=\"T_9e8be_row53_col2\" class=\"data row53 col2\" >-</td>\n",
       "      <td id=\"T_9e8be_row53_col3\" class=\"data row53 col3\" >Discard</td>\n",
       "      <td id=\"T_9e8be_row53_col4\" class=\"data row53 col4\" >Discard</td>\n",
       "      <td id=\"T_9e8be_row53_col5\" class=\"data row53 col5\" >Discard</td>\n",
       "      <td id=\"T_9e8be_row53_col6\" class=\"data row53 col6\" >Discard</td>\n",
       "      <td id=\"T_9e8be_row53_col7\" class=\"data row53 col7\" >Discard</td>\n",
       "      <td id=\"T_9e8be_row53_col8\" class=\"data row53 col8\" >Discard</td>\n",
       "      <td id=\"T_9e8be_row53_col9\" class=\"data row53 col9\" >Discard</td>\n",
       "    </tr>\n",
       "    <tr>\n",
       "      <th id=\"T_9e8be_level0_row54\" class=\"row_heading level0 row54\" >55</th>\n",
       "      <td id=\"T_9e8be_row54_col0\" class=\"data row54 col0\" >Previous_Trainee_Jobs</td>\n",
       "      <td id=\"T_9e8be_row54_col1\" class=\"data row54 col1\" >-</td>\n",
       "      <td id=\"T_9e8be_row54_col2\" class=\"data row54 col2\" >-</td>\n",
       "      <td id=\"T_9e8be_row54_col3\" class=\"data row54 col3\" >Keep</td>\n",
       "      <td id=\"T_9e8be_row54_col4\" class=\"data row54 col4\" >Keep</td>\n",
       "      <td id=\"T_9e8be_row54_col5\" class=\"data row54 col5\" >Discard</td>\n",
       "      <td id=\"T_9e8be_row54_col6\" class=\"data row54 col6\" >Discard</td>\n",
       "      <td id=\"T_9e8be_row54_col7\" class=\"data row54 col7\" >Discard</td>\n",
       "      <td id=\"T_9e8be_row54_col8\" class=\"data row54 col8\" >Keep</td>\n",
       "      <td id=\"T_9e8be_row54_col9\" class=\"data row54 col9\" >Keep*</td>\n",
       "    </tr>\n",
       "    <tr>\n",
       "      <th id=\"T_9e8be_level0_row55\" class=\"row_heading level0 row55\" >56</th>\n",
       "      <td id=\"T_9e8be_row55_col0\" class=\"data row55 col0\" >Previous_Jobs_in_Partners</td>\n",
       "      <td id=\"T_9e8be_row55_col1\" class=\"data row55 col1\" >-</td>\n",
       "      <td id=\"T_9e8be_row55_col2\" class=\"data row55 col2\" >-</td>\n",
       "      <td id=\"T_9e8be_row55_col3\" class=\"data row55 col3\" >Keep</td>\n",
       "      <td id=\"T_9e8be_row55_col4\" class=\"data row55 col4\" >Keep</td>\n",
       "      <td id=\"T_9e8be_row55_col5\" class=\"data row55 col5\" >Discard</td>\n",
       "      <td id=\"T_9e8be_row55_col6\" class=\"data row55 col6\" >Discard</td>\n",
       "      <td id=\"T_9e8be_row55_col7\" class=\"data row55 col7\" >Discard</td>\n",
       "      <td id=\"T_9e8be_row55_col8\" class=\"data row55 col8\" >Keep</td>\n",
       "      <td id=\"T_9e8be_row55_col9\" class=\"data row55 col9\" >Keep*</td>\n",
       "    </tr>\n",
       "    <tr>\n",
       "      <th id=\"T_9e8be_level0_row56\" class=\"row_heading level0 row56\" >57</th>\n",
       "      <td id=\"T_9e8be_row56_col0\" class=\"data row56 col0\" >nivelInglesCompreensao</td>\n",
       "      <td id=\"T_9e8be_row56_col1\" class=\"data row56 col1\" >-</td>\n",
       "      <td id=\"T_9e8be_row56_col2\" class=\"data row56 col2\" >-</td>\n",
       "      <td id=\"T_9e8be_row56_col3\" class=\"data row56 col3\" >Keep</td>\n",
       "      <td id=\"T_9e8be_row56_col4\" class=\"data row56 col4\" >-</td>\n",
       "      <td id=\"T_9e8be_row56_col5\" class=\"data row56 col5\" >Discard</td>\n",
       "      <td id=\"T_9e8be_row56_col6\" class=\"data row56 col6\" >Discard</td>\n",
       "      <td id=\"T_9e8be_row56_col7\" class=\"data row56 col7\" >Keep</td>\n",
       "      <td id=\"T_9e8be_row56_col8\" class=\"data row56 col8\" >Keep</td>\n",
       "      <td id=\"T_9e8be_row56_col9\" class=\"data row56 col9\" >Keep</td>\n",
       "    </tr>\n",
       "    <tr>\n",
       "      <th id=\"T_9e8be_level0_row57\" class=\"row_heading level0 row57\" >58</th>\n",
       "      <td id=\"T_9e8be_row57_col0\" class=\"data row57 col0\" >nivelInglesFala</td>\n",
       "      <td id=\"T_9e8be_row57_col1\" class=\"data row57 col1\" >-</td>\n",
       "      <td id=\"T_9e8be_row57_col2\" class=\"data row57 col2\" >-</td>\n",
       "      <td id=\"T_9e8be_row57_col3\" class=\"data row57 col3\" >Discard</td>\n",
       "      <td id=\"T_9e8be_row57_col4\" class=\"data row57 col4\" >-</td>\n",
       "      <td id=\"T_9e8be_row57_col5\" class=\"data row57 col5\" >Discard</td>\n",
       "      <td id=\"T_9e8be_row57_col6\" class=\"data row57 col6\" >Discard</td>\n",
       "      <td id=\"T_9e8be_row57_col7\" class=\"data row57 col7\" >Discard</td>\n",
       "      <td id=\"T_9e8be_row57_col8\" class=\"data row57 col8\" >Keep</td>\n",
       "      <td id=\"T_9e8be_row57_col9\" class=\"data row57 col9\" >Discard</td>\n",
       "    </tr>\n",
       "    <tr>\n",
       "      <th id=\"T_9e8be_level0_row58\" class=\"row_heading level0 row58\" >59</th>\n",
       "      <td id=\"T_9e8be_row58_col0\" class=\"data row58 col0\" >nivelInglesEscrita</td>\n",
       "      <td id=\"T_9e8be_row58_col1\" class=\"data row58 col1\" >-</td>\n",
       "      <td id=\"T_9e8be_row58_col2\" class=\"data row58 col2\" >-</td>\n",
       "      <td id=\"T_9e8be_row58_col3\" class=\"data row58 col3\" >Discard</td>\n",
       "      <td id=\"T_9e8be_row58_col4\" class=\"data row58 col4\" >-</td>\n",
       "      <td id=\"T_9e8be_row58_col5\" class=\"data row58 col5\" >Discard</td>\n",
       "      <td id=\"T_9e8be_row58_col6\" class=\"data row58 col6\" >Discard</td>\n",
       "      <td id=\"T_9e8be_row58_col7\" class=\"data row58 col7\" >Discard</td>\n",
       "      <td id=\"T_9e8be_row58_col8\" class=\"data row58 col8\" >Discard</td>\n",
       "      <td id=\"T_9e8be_row58_col9\" class=\"data row58 col9\" >Discard</td>\n",
       "    </tr>\n",
       "    <tr>\n",
       "      <th id=\"T_9e8be_level0_row59\" class=\"row_heading level0 row59\" >60</th>\n",
       "      <td id=\"T_9e8be_row59_col0\" class=\"data row59 col0\" >HighestAcademicDegree</td>\n",
       "      <td id=\"T_9e8be_row59_col1\" class=\"data row59 col1\" >-</td>\n",
       "      <td id=\"T_9e8be_row59_col2\" class=\"data row59 col2\" >-</td>\n",
       "      <td id=\"T_9e8be_row59_col3\" class=\"data row59 col3\" >Keep</td>\n",
       "      <td id=\"T_9e8be_row59_col4\" class=\"data row59 col4\" >-</td>\n",
       "      <td id=\"T_9e8be_row59_col5\" class=\"data row59 col5\" >Keep</td>\n",
       "      <td id=\"T_9e8be_row59_col6\" class=\"data row59 col6\" >Keep</td>\n",
       "      <td id=\"T_9e8be_row59_col7\" class=\"data row59 col7\" >Discard</td>\n",
       "      <td id=\"T_9e8be_row59_col8\" class=\"data row59 col8\" >Keep</td>\n",
       "      <td id=\"T_9e8be_row59_col9\" class=\"data row59 col9\" >Keep</td>\n",
       "    </tr>\n",
       "    <tr>\n",
       "      <th id=\"T_9e8be_level0_row60\" class=\"row_heading level0 row60\" >61</th>\n",
       "      <td id=\"T_9e8be_row60_col0\" class=\"data row60 col0\" >idgenero</td>\n",
       "      <td id=\"T_9e8be_row60_col1\" class=\"data row60 col1\" >-</td>\n",
       "      <td id=\"T_9e8be_row60_col2\" class=\"data row60 col2\" >-</td>\n",
       "      <td id=\"T_9e8be_row60_col3\" class=\"data row60 col3\" >Discard</td>\n",
       "      <td id=\"T_9e8be_row60_col4\" class=\"data row60 col4\" >-</td>\n",
       "      <td id=\"T_9e8be_row60_col5\" class=\"data row60 col5\" >Discard</td>\n",
       "      <td id=\"T_9e8be_row60_col6\" class=\"data row60 col6\" >Discard</td>\n",
       "      <td id=\"T_9e8be_row60_col7\" class=\"data row60 col7\" >Discard</td>\n",
       "      <td id=\"T_9e8be_row60_col8\" class=\"data row60 col8\" >Discard</td>\n",
       "      <td id=\"T_9e8be_row60_col9\" class=\"data row60 col9\" >Discard</td>\n",
       "    </tr>\n",
       "    <tr>\n",
       "      <th id=\"T_9e8be_level0_row61\" class=\"row_heading level0 row61\" >62</th>\n",
       "      <td id=\"T_9e8be_row61_col0\" class=\"data row61 col0\" >countries_region</td>\n",
       "      <td id=\"T_9e8be_row61_col1\" class=\"data row61 col1\" >-</td>\n",
       "      <td id=\"T_9e8be_row61_col2\" class=\"data row61 col2\" >-</td>\n",
       "      <td id=\"T_9e8be_row61_col3\" class=\"data row61 col3\" >Keep</td>\n",
       "      <td id=\"T_9e8be_row61_col4\" class=\"data row61 col4\" >-</td>\n",
       "      <td id=\"T_9e8be_row61_col5\" class=\"data row61 col5\" >Discard</td>\n",
       "      <td id=\"T_9e8be_row61_col6\" class=\"data row61 col6\" >Discard</td>\n",
       "      <td id=\"T_9e8be_row61_col7\" class=\"data row61 col7\" >Discard</td>\n",
       "      <td id=\"T_9e8be_row61_col8\" class=\"data row61 col8\" >Keep</td>\n",
       "      <td id=\"T_9e8be_row61_col9\" class=\"data row61 col9\" >Discard</td>\n",
       "    </tr>\n",
       "    <tr>\n",
       "      <th id=\"T_9e8be_level0_row62\" class=\"row_heading level0 row62\" >63</th>\n",
       "      <td id=\"T_9e8be_row62_col0\" class=\"data row62 col0\" >datacandidaturafim_month</td>\n",
       "      <td id=\"T_9e8be_row62_col1\" class=\"data row62 col1\" >-</td>\n",
       "      <td id=\"T_9e8be_row62_col2\" class=\"data row62 col2\" >-</td>\n",
       "      <td id=\"T_9e8be_row62_col3\" class=\"data row62 col3\" >Keep</td>\n",
       "      <td id=\"T_9e8be_row62_col4\" class=\"data row62 col4\" >-</td>\n",
       "      <td id=\"T_9e8be_row62_col5\" class=\"data row62 col5\" >Discard</td>\n",
       "      <td id=\"T_9e8be_row62_col6\" class=\"data row62 col6\" >Keep</td>\n",
       "      <td id=\"T_9e8be_row62_col7\" class=\"data row62 col7\" >Keep</td>\n",
       "      <td id=\"T_9e8be_row62_col8\" class=\"data row62 col8\" >Keep</td>\n",
       "      <td id=\"T_9e8be_row62_col9\" class=\"data row62 col9\" >Keep</td>\n",
       "    </tr>\n",
       "    <tr>\n",
       "      <th id=\"T_9e8be_level0_row63\" class=\"row_heading level0 row63\" >64</th>\n",
       "      <td id=\"T_9e8be_row63_col0\" class=\"data row63 col0\" >datacandidaturafim_day</td>\n",
       "      <td id=\"T_9e8be_row63_col1\" class=\"data row63 col1\" >-</td>\n",
       "      <td id=\"T_9e8be_row63_col2\" class=\"data row63 col2\" >-</td>\n",
       "      <td id=\"T_9e8be_row63_col3\" class=\"data row63 col3\" >Discard</td>\n",
       "      <td id=\"T_9e8be_row63_col4\" class=\"data row63 col4\" >-</td>\n",
       "      <td id=\"T_9e8be_row63_col5\" class=\"data row63 col5\" >Discard</td>\n",
       "      <td id=\"T_9e8be_row63_col6\" class=\"data row63 col6\" >Discard</td>\n",
       "      <td id=\"T_9e8be_row63_col7\" class=\"data row63 col7\" >Keep</td>\n",
       "      <td id=\"T_9e8be_row63_col8\" class=\"data row63 col8\" >Keep</td>\n",
       "      <td id=\"T_9e8be_row63_col9\" class=\"data row63 col9\" >Discard</td>\n",
       "    </tr>\n",
       "    <tr>\n",
       "      <th id=\"T_9e8be_level0_row64\" class=\"row_heading level0 row64\" >65</th>\n",
       "      <td id=\"T_9e8be_row64_col0\" class=\"data row64 col0\" >datacandidaturafim_time_of_day</td>\n",
       "      <td id=\"T_9e8be_row64_col1\" class=\"data row64 col1\" >-</td>\n",
       "      <td id=\"T_9e8be_row64_col2\" class=\"data row64 col2\" >-</td>\n",
       "      <td id=\"T_9e8be_row64_col3\" class=\"data row64 col3\" >Discard</td>\n",
       "      <td id=\"T_9e8be_row64_col4\" class=\"data row64 col4\" >-</td>\n",
       "      <td id=\"T_9e8be_row64_col5\" class=\"data row64 col5\" >Discard</td>\n",
       "      <td id=\"T_9e8be_row64_col6\" class=\"data row64 col6\" >Discard</td>\n",
       "      <td id=\"T_9e8be_row64_col7\" class=\"data row64 col7\" >Discard</td>\n",
       "      <td id=\"T_9e8be_row64_col8\" class=\"data row64 col8\" >Discard</td>\n",
       "      <td id=\"T_9e8be_row64_col9\" class=\"data row64 col9\" >Discard</td>\n",
       "    </tr>\n",
       "  </tbody>\n",
       "</table>\n"
      ],
      "text/plain": [
       "<pandas.io.formats.style.Styler at 0x271bb91b390>"
      ]
     },
     "execution_count": 20,
     "metadata": {},
     "output_type": "execute_result"
    }
   ],
   "source": [
    "excel_path = \"Feature Selection.xlsx\"\n",
    "sheet_name = \"Grades\"\n",
    "wb = load_workbook(excel_path, data_only=True)\n",
    "sheet = wb[sheet_name]\n",
    "\n",
    "fs_table = pd.DataFrame(sheet.values, columns = [cell.value for cell in sheet[1]])\n",
    "fs_table.drop(index = 0, inplace = True)\n",
    "styled_df = fs_table.style.apply(lambda row: [tf.highlight_cell(val, column) for val, column in zip(row, fs_table.columns)], axis=1)\n",
    "styled_df"
   ]
  },
  {
   "cell_type": "code",
   "execution_count": 21,
   "id": "9f7fdd82",
   "metadata": {},
   "outputs": [
    {
     "data": {
      "text/html": [
       "<div>\n",
       "<style scoped>\n",
       "    .dataframe tbody tr th:only-of-type {\n",
       "        vertical-align: middle;\n",
       "    }\n",
       "\n",
       "    .dataframe tbody tr th {\n",
       "        vertical-align: top;\n",
       "    }\n",
       "\n",
       "    .dataframe thead th {\n",
       "        text-align: right;\n",
       "    }\n",
       "</style>\n",
       "<table border=\"1\" class=\"dataframe\">\n",
       "  <thead>\n",
       "    <tr style=\"text-align: right;\">\n",
       "      <th></th>\n",
       "      <th>Students to Staff Ratio</th>\n",
       "      <th>Industry Impact</th>\n",
       "      <th>AverageScaledGrade</th>\n",
       "      <th>countries_GDP_per_capita</th>\n",
       "      <th>Program_Name</th>\n",
       "      <th>Years_of_Longest_Prof_Experience</th>\n",
       "      <th>Previous_IMS_Student</th>\n",
       "      <th>Previous_Data_Studies</th>\n",
       "      <th>Previous_Marketing_Studies</th>\n",
       "      <th>is_Portuguese</th>\n",
       "      <th>Previous_Data_Jobs</th>\n",
       "      <th>Previous_Trainee_Jobs</th>\n",
       "      <th>Previous_Jobs_in_Partners</th>\n",
       "      <th>nivelInglesCompreensao</th>\n",
       "      <th>HighestAcademicDegree</th>\n",
       "      <th>datacandidaturafim_month</th>\n",
       "    </tr>\n",
       "  </thead>\n",
       "  <tbody>\n",
       "    <tr>\n",
       "      <th>14</th>\n",
       "      <td>0.416507</td>\n",
       "      <td>0.961995</td>\n",
       "      <td>0.855</td>\n",
       "      <td>0.210667</td>\n",
       "      <td>0.854255</td>\n",
       "      <td>0.030303</td>\n",
       "      <td>0</td>\n",
       "      <td>0</td>\n",
       "      <td>0</td>\n",
       "      <td>1</td>\n",
       "      <td>0</td>\n",
       "      <td>1</td>\n",
       "      <td>0</td>\n",
       "      <td>0.50</td>\n",
       "      <td>0.6</td>\n",
       "      <td>0.090909</td>\n",
       "    </tr>\n",
       "    <tr>\n",
       "      <th>15</th>\n",
       "      <td>0.195777</td>\n",
       "      <td>0.655582</td>\n",
       "      <td>0.750</td>\n",
       "      <td>0.635463</td>\n",
       "      <td>1.000000</td>\n",
       "      <td>0.060606</td>\n",
       "      <td>0</td>\n",
       "      <td>0</td>\n",
       "      <td>0</td>\n",
       "      <td>0</td>\n",
       "      <td>0</td>\n",
       "      <td>0</td>\n",
       "      <td>0</td>\n",
       "      <td>1.00</td>\n",
       "      <td>0.6</td>\n",
       "      <td>0.090909</td>\n",
       "    </tr>\n",
       "    <tr>\n",
       "      <th>25</th>\n",
       "      <td>0.170825</td>\n",
       "      <td>0.239905</td>\n",
       "      <td>0.650</td>\n",
       "      <td>0.210667</td>\n",
       "      <td>1.000000</td>\n",
       "      <td>0.030303</td>\n",
       "      <td>0</td>\n",
       "      <td>0</td>\n",
       "      <td>0</td>\n",
       "      <td>1</td>\n",
       "      <td>0</td>\n",
       "      <td>1</td>\n",
       "      <td>0</td>\n",
       "      <td>0.75</td>\n",
       "      <td>0.4</td>\n",
       "      <td>0.090909</td>\n",
       "    </tr>\n",
       "    <tr>\n",
       "      <th>27</th>\n",
       "      <td>0.182342</td>\n",
       "      <td>0.328979</td>\n",
       "      <td>0.630</td>\n",
       "      <td>0.025924</td>\n",
       "      <td>1.000000</td>\n",
       "      <td>0.060606</td>\n",
       "      <td>0</td>\n",
       "      <td>0</td>\n",
       "      <td>0</td>\n",
       "      <td>0</td>\n",
       "      <td>0</td>\n",
       "      <td>0</td>\n",
       "      <td>0</td>\n",
       "      <td>0.50</td>\n",
       "      <td>0.8</td>\n",
       "      <td>0.090909</td>\n",
       "    </tr>\n",
       "    <tr>\n",
       "      <th>28</th>\n",
       "      <td>0.030710</td>\n",
       "      <td>0.157957</td>\n",
       "      <td>0.830</td>\n",
       "      <td>0.210667</td>\n",
       "      <td>0.854255</td>\n",
       "      <td>0.000000</td>\n",
       "      <td>0</td>\n",
       "      <td>0</td>\n",
       "      <td>0</td>\n",
       "      <td>1</td>\n",
       "      <td>0</td>\n",
       "      <td>0</td>\n",
       "      <td>0</td>\n",
       "      <td>0.75</td>\n",
       "      <td>1.0</td>\n",
       "      <td>0.090909</td>\n",
       "    </tr>\n",
       "  </tbody>\n",
       "</table>\n",
       "</div>"
      ],
      "text/plain": [
       "    Students to Staff Ratio  Industry Impact  AverageScaledGrade  \\\n",
       "14                 0.416507         0.961995               0.855   \n",
       "15                 0.195777         0.655582               0.750   \n",
       "25                 0.170825         0.239905               0.650   \n",
       "27                 0.182342         0.328979               0.630   \n",
       "28                 0.030710         0.157957               0.830   \n",
       "\n",
       "    countries_GDP_per_capita  Program_Name  Years_of_Longest_Prof_Experience  \\\n",
       "14                  0.210667      0.854255                          0.030303   \n",
       "15                  0.635463      1.000000                          0.060606   \n",
       "25                  0.210667      1.000000                          0.030303   \n",
       "27                  0.025924      1.000000                          0.060606   \n",
       "28                  0.210667      0.854255                          0.000000   \n",
       "\n",
       "    Previous_IMS_Student  Previous_Data_Studies  Previous_Marketing_Studies  \\\n",
       "14                     0                      0                           0   \n",
       "15                     0                      0                           0   \n",
       "25                     0                      0                           0   \n",
       "27                     0                      0                           0   \n",
       "28                     0                      0                           0   \n",
       "\n",
       "    is_Portuguese  Previous_Data_Jobs  Previous_Trainee_Jobs  \\\n",
       "14              1                   0                      1   \n",
       "15              0                   0                      0   \n",
       "25              1                   0                      1   \n",
       "27              0                   0                      0   \n",
       "28              1                   0                      0   \n",
       "\n",
       "    Previous_Jobs_in_Partners  nivelInglesCompreensao  HighestAcademicDegree  \\\n",
       "14                          0                    0.50                    0.6   \n",
       "15                          0                    1.00                    0.6   \n",
       "25                          0                    0.75                    0.4   \n",
       "27                          0                    0.50                    0.8   \n",
       "28                          0                    0.75                    1.0   \n",
       "\n",
       "    datacandidaturafim_month  \n",
       "14                  0.090909  \n",
       "15                  0.090909  \n",
       "25                  0.090909  \n",
       "27                  0.090909  \n",
       "28                  0.090909  "
      ]
     },
     "execution_count": 21,
     "metadata": {},
     "output_type": "execute_result"
    }
   ],
   "source": [
    "variables_to_keep = fs_table[(fs_table[\"Decision\"].isin([\"Keep\", \"Keep*\"]))][\"Variable\"].tolist()\n",
    "\n",
    "X_grades_train_scaled = X_grades_train_scaled[variables_to_keep]\n",
    "X_grades_val_scaled = X_grades_val_scaled[variables_to_keep]\n",
    "\n",
    "X_grades_train_scaled.head()"
   ]
  },
  {
   "cell_type": "code",
   "execution_count": 22,
   "id": "fa27c1b5",
   "metadata": {},
   "outputs": [],
   "source": [
    "numerical_variables_grades = [var for var in numerical_variables if var in variables_to_keep]\n",
    "binary_variables_grades = [var for var in binary_variables if var in variables_to_keep]\n",
    "categorical_variables_grades = [var for var in categorical_variables if var in variables_to_keep]"
   ]
  },
  {
   "cell_type": "markdown",
   "id": "3621148a",
   "metadata": {},
   "source": [
    "## <font color='#BFD62F'>3.7. DBSCAN for Outlier Removal</font> <a class=\"anchor\" id=\"dbscan\"></a>\n",
    "[Back to Contents](#toc)\n",
    "\n",
    "Density-Based Spatial Clustering of Applications with Noise (commonly known as DBSCAN) is a popular algorithm to perform density-based clustering, which groups observations according to the density of the regions surronding it in the feature space.\n",
    "\n",
    "Our implementation (adapted from [Pierian Training](https://pieriantraining.com/dbscan-for-outlier-detection-in-python-and-scikit-learn-machine-learning-in-python/) and [Medium](https://medium.com/@dilip.voleti/dbscan-algorithm-for-fraud-detection-outlier-detection-in-a-data-set-60a10ad06ea8)) will retrieve the outliers as per this algorithm, which are observations (applicants) that are in a sparser region of the feature space.\n",
    "\n",
    "Since our data has more than 2 dimensions, we will define our ideal number of neighbours by doing 2 * number of dimensions in the data. [(Sander et al., 1998)](https://doi.org/10.1023/A:1009745219419)"
   ]
  },
  {
   "cell_type": "code",
   "execution_count": 23,
   "id": "911ff9ee",
   "metadata": {},
   "outputs": [
    {
     "name": "stdout",
     "output_type": "stream",
     "text": [
      "Number of neighbours: 11\n"
     ]
    }
   ],
   "source": [
    "neigh = NearestNeighbors(n_neighbors = 2 * len(numerical_variables_grades) - 1)\n",
    "nbrs = neigh.fit(X_grades_train_scaled[numerical_variables_grades])\n",
    "distances, indices = nbrs.kneighbors(X_grades_train_scaled[numerical_variables_grades])\n",
    "\n",
    "print(\"Number of neighbours:\", 2 * len(numerical_variables_grades) - 1)"
   ]
  },
  {
   "cell_type": "code",
   "execution_count": 24,
   "id": "4a89621b",
   "metadata": {},
   "outputs": [
    {
     "data": {
      "image/png": "[encoded data removed]",
      "text/plain": [
       "<Figure size 2000x1000 with 1 Axes>"
      ]
     },
     "metadata": {},
     "output_type": "display_data"
    }
   ],
   "source": [
    "distances = np.sort(distances, axis = 0)\n",
    "distances = distances[:,1]\n",
    "plt.figure(figsize=(20,10))\n",
    "plt.plot(distances, color = \"navy\")\n",
    "plt.axhline(y = 0.15, color = \"black\", linestyle = \"--\") \n",
    "plt.title(\"K-distance Graph\", fontsize = 20)\n",
    "plt.xlabel(\"Data Points sorted by distance\", fontsize = 14)\n",
    "plt.ylabel(\"Epsilon\", fontsize = 14)\n",
    "plt.show()"
   ]
  },
  {
   "cell_type": "markdown",
   "id": "6808a957",
   "metadata": {},
   "source": [
    "Contrary to what could be expected, there is not a clear frontier that separates what is an outlier and what isn't (we would expect for a much bigger slope after a certain number of data points). Therefore, it seems that our DBSCAN solution, even with a considerably high value for the epsilon parameter (which defines the radius of the neighbourhood), will identify too many observations as outliers - which raises the question to if they really are outliers in that case."
   ]
  },
  {
   "cell_type": "code",
   "execution_count": 25,
   "id": "c9465ee5",
   "metadata": {},
   "outputs": [
    {
     "data": {
      "text/html": [
       "<div>\n",
       "<style scoped>\n",
       "    .dataframe tbody tr th:only-of-type {\n",
       "        vertical-align: middle;\n",
       "    }\n",
       "\n",
       "    .dataframe tbody tr th {\n",
       "        vertical-align: top;\n",
       "    }\n",
       "\n",
       "    .dataframe thead th {\n",
       "        text-align: right;\n",
       "    }\n",
       "</style>\n",
       "<table border=\"1\" class=\"dataframe\">\n",
       "  <thead>\n",
       "    <tr style=\"text-align: right;\">\n",
       "      <th></th>\n",
       "      <th>Students to Staff Ratio</th>\n",
       "      <th>Industry Impact</th>\n",
       "      <th>AverageScaledGrade</th>\n",
       "      <th>countries_GDP_per_capita</th>\n",
       "      <th>Program_Name</th>\n",
       "      <th>Years_of_Longest_Prof_Experience</th>\n",
       "      <th>Previous_IMS_Student</th>\n",
       "      <th>Previous_Data_Studies</th>\n",
       "      <th>Previous_Marketing_Studies</th>\n",
       "      <th>is_Portuguese</th>\n",
       "      <th>Previous_Data_Jobs</th>\n",
       "      <th>Previous_Trainee_Jobs</th>\n",
       "      <th>Previous_Jobs_in_Partners</th>\n",
       "      <th>nivelInglesCompreensao</th>\n",
       "      <th>HighestAcademicDegree</th>\n",
       "      <th>datacandidaturafim_month</th>\n",
       "    </tr>\n",
       "  </thead>\n",
       "  <tbody>\n",
       "    <tr>\n",
       "      <th>14</th>\n",
       "      <td>0.416507</td>\n",
       "      <td>0.961995</td>\n",
       "      <td>0.855</td>\n",
       "      <td>0.210667</td>\n",
       "      <td>0.854255</td>\n",
       "      <td>0.030303</td>\n",
       "      <td>0</td>\n",
       "      <td>0</td>\n",
       "      <td>0</td>\n",
       "      <td>1</td>\n",
       "      <td>0</td>\n",
       "      <td>1</td>\n",
       "      <td>0</td>\n",
       "      <td>0.50</td>\n",
       "      <td>0.6</td>\n",
       "      <td>0.090909</td>\n",
       "    </tr>\n",
       "    <tr>\n",
       "      <th>15</th>\n",
       "      <td>0.195777</td>\n",
       "      <td>0.655582</td>\n",
       "      <td>0.750</td>\n",
       "      <td>0.635463</td>\n",
       "      <td>1.000000</td>\n",
       "      <td>0.060606</td>\n",
       "      <td>0</td>\n",
       "      <td>0</td>\n",
       "      <td>0</td>\n",
       "      <td>0</td>\n",
       "      <td>0</td>\n",
       "      <td>0</td>\n",
       "      <td>0</td>\n",
       "      <td>1.00</td>\n",
       "      <td>0.6</td>\n",
       "      <td>0.090909</td>\n",
       "    </tr>\n",
       "    <tr>\n",
       "      <th>28</th>\n",
       "      <td>0.030710</td>\n",
       "      <td>0.157957</td>\n",
       "      <td>0.830</td>\n",
       "      <td>0.210667</td>\n",
       "      <td>0.854255</td>\n",
       "      <td>0.000000</td>\n",
       "      <td>0</td>\n",
       "      <td>0</td>\n",
       "      <td>0</td>\n",
       "      <td>1</td>\n",
       "      <td>0</td>\n",
       "      <td>0</td>\n",
       "      <td>0</td>\n",
       "      <td>0.75</td>\n",
       "      <td>1.0</td>\n",
       "      <td>0.090909</td>\n",
       "    </tr>\n",
       "    <tr>\n",
       "      <th>51</th>\n",
       "      <td>0.809981</td>\n",
       "      <td>0.933492</td>\n",
       "      <td>0.420</td>\n",
       "      <td>0.409830</td>\n",
       "      <td>1.000000</td>\n",
       "      <td>0.030303</td>\n",
       "      <td>0</td>\n",
       "      <td>0</td>\n",
       "      <td>0</td>\n",
       "      <td>0</td>\n",
       "      <td>0</td>\n",
       "      <td>1</td>\n",
       "      <td>0</td>\n",
       "      <td>0.75</td>\n",
       "      <td>0.6</td>\n",
       "      <td>0.090909</td>\n",
       "    </tr>\n",
       "    <tr>\n",
       "      <th>66</th>\n",
       "      <td>0.267754</td>\n",
       "      <td>0.060570</td>\n",
       "      <td>0.600</td>\n",
       "      <td>0.018183</td>\n",
       "      <td>0.035816</td>\n",
       "      <td>0.545455</td>\n",
       "      <td>0</td>\n",
       "      <td>0</td>\n",
       "      <td>0</td>\n",
       "      <td>0</td>\n",
       "      <td>0</td>\n",
       "      <td>0</td>\n",
       "      <td>0</td>\n",
       "      <td>0.50</td>\n",
       "      <td>0.6</td>\n",
       "      <td>0.090909</td>\n",
       "    </tr>\n",
       "    <tr>\n",
       "      <th>...</th>\n",
       "      <td>...</td>\n",
       "      <td>...</td>\n",
       "      <td>...</td>\n",
       "      <td>...</td>\n",
       "      <td>...</td>\n",
       "      <td>...</td>\n",
       "      <td>...</td>\n",
       "      <td>...</td>\n",
       "      <td>...</td>\n",
       "      <td>...</td>\n",
       "      <td>...</td>\n",
       "      <td>...</td>\n",
       "      <td>...</td>\n",
       "      <td>...</td>\n",
       "      <td>...</td>\n",
       "      <td>...</td>\n",
       "    </tr>\n",
       "    <tr>\n",
       "      <th>6385</th>\n",
       "      <td>0.391555</td>\n",
       "      <td>0.078385</td>\n",
       "      <td>0.850</td>\n",
       "      <td>0.044924</td>\n",
       "      <td>1.000000</td>\n",
       "      <td>0.030303</td>\n",
       "      <td>0</td>\n",
       "      <td>1</td>\n",
       "      <td>0</td>\n",
       "      <td>0</td>\n",
       "      <td>1</td>\n",
       "      <td>0</td>\n",
       "      <td>0</td>\n",
       "      <td>0.50</td>\n",
       "      <td>0.6</td>\n",
       "      <td>0.363636</td>\n",
       "    </tr>\n",
       "    <tr>\n",
       "      <th>6386</th>\n",
       "      <td>0.391555</td>\n",
       "      <td>0.078385</td>\n",
       "      <td>0.850</td>\n",
       "      <td>0.044924</td>\n",
       "      <td>1.000000</td>\n",
       "      <td>0.030303</td>\n",
       "      <td>0</td>\n",
       "      <td>1</td>\n",
       "      <td>0</td>\n",
       "      <td>0</td>\n",
       "      <td>1</td>\n",
       "      <td>0</td>\n",
       "      <td>0</td>\n",
       "      <td>0.50</td>\n",
       "      <td>0.6</td>\n",
       "      <td>0.363636</td>\n",
       "    </tr>\n",
       "    <tr>\n",
       "      <th>6419</th>\n",
       "      <td>0.209213</td>\n",
       "      <td>0.574822</td>\n",
       "      <td>0.800</td>\n",
       "      <td>0.166522</td>\n",
       "      <td>0.854255</td>\n",
       "      <td>0.030303</td>\n",
       "      <td>0</td>\n",
       "      <td>0</td>\n",
       "      <td>0</td>\n",
       "      <td>0</td>\n",
       "      <td>0</td>\n",
       "      <td>1</td>\n",
       "      <td>0</td>\n",
       "      <td>0.75</td>\n",
       "      <td>0.6</td>\n",
       "      <td>0.363636</td>\n",
       "    </tr>\n",
       "    <tr>\n",
       "      <th>6437</th>\n",
       "      <td>0.170825</td>\n",
       "      <td>0.239905</td>\n",
       "      <td>0.800</td>\n",
       "      <td>0.210667</td>\n",
       "      <td>0.665248</td>\n",
       "      <td>0.393939</td>\n",
       "      <td>0</td>\n",
       "      <td>0</td>\n",
       "      <td>1</td>\n",
       "      <td>1</td>\n",
       "      <td>0</td>\n",
       "      <td>0</td>\n",
       "      <td>0</td>\n",
       "      <td>0.50</td>\n",
       "      <td>0.6</td>\n",
       "      <td>0.363636</td>\n",
       "    </tr>\n",
       "    <tr>\n",
       "      <th>6441</th>\n",
       "      <td>0.261036</td>\n",
       "      <td>0.067696</td>\n",
       "      <td>0.810</td>\n",
       "      <td>0.007889</td>\n",
       "      <td>0.665248</td>\n",
       "      <td>0.121212</td>\n",
       "      <td>0</td>\n",
       "      <td>0</td>\n",
       "      <td>0</td>\n",
       "      <td>0</td>\n",
       "      <td>0</td>\n",
       "      <td>0</td>\n",
       "      <td>0</td>\n",
       "      <td>0.75</td>\n",
       "      <td>0.6</td>\n",
       "      <td>0.363636</td>\n",
       "    </tr>\n",
       "  </tbody>\n",
       "</table>\n",
       "<p>317 rows × 16 columns</p>\n",
       "</div>"
      ],
      "text/plain": [
       "      Students to Staff Ratio  Industry Impact  AverageScaledGrade  \\\n",
       "14                   0.416507         0.961995               0.855   \n",
       "15                   0.195777         0.655582               0.750   \n",
       "28                   0.030710         0.157957               0.830   \n",
       "51                   0.809981         0.933492               0.420   \n",
       "66                   0.267754         0.060570               0.600   \n",
       "...                       ...              ...                 ...   \n",
       "6385                 0.391555         0.078385               0.850   \n",
       "6386                 0.391555         0.078385               0.850   \n",
       "6419                 0.209213         0.574822               0.800   \n",
       "6437                 0.170825         0.239905               0.800   \n",
       "6441                 0.261036         0.067696               0.810   \n",
       "\n",
       "      countries_GDP_per_capita  Program_Name  \\\n",
       "14                    0.210667      0.854255   \n",
       "15                    0.635463      1.000000   \n",
       "28                    0.210667      0.854255   \n",
       "51                    0.409830      1.000000   \n",
       "66                    0.018183      0.035816   \n",
       "...                        ...           ...   \n",
       "6385                  0.044924      1.000000   \n",
       "6386                  0.044924      1.000000   \n",
       "6419                  0.166522      0.854255   \n",
       "6437                  0.210667      0.665248   \n",
       "6441                  0.007889      0.665248   \n",
       "\n",
       "      Years_of_Longest_Prof_Experience  Previous_IMS_Student  \\\n",
       "14                            0.030303                     0   \n",
       "15                            0.060606                     0   \n",
       "28                            0.000000                     0   \n",
       "51                            0.030303                     0   \n",
       "66                            0.545455                     0   \n",
       "...                                ...                   ...   \n",
       "6385                          0.030303                     0   \n",
       "6386                          0.030303                     0   \n",
       "6419                          0.030303                     0   \n",
       "6437                          0.393939                     0   \n",
       "6441                          0.121212                     0   \n",
       "\n",
       "      Previous_Data_Studies  Previous_Marketing_Studies  is_Portuguese  \\\n",
       "14                        0                           0              1   \n",
       "15                        0                           0              0   \n",
       "28                        0                           0              1   \n",
       "51                        0                           0              0   \n",
       "66                        0                           0              0   \n",
       "...                     ...                         ...            ...   \n",
       "6385                      1                           0              0   \n",
       "6386                      1                           0              0   \n",
       "6419                      0                           0              0   \n",
       "6437                      0                           1              1   \n",
       "6441                      0                           0              0   \n",
       "\n",
       "      Previous_Data_Jobs  Previous_Trainee_Jobs  Previous_Jobs_in_Partners  \\\n",
       "14                     0                      1                          0   \n",
       "15                     0                      0                          0   \n",
       "28                     0                      0                          0   \n",
       "51                     0                      1                          0   \n",
       "66                     0                      0                          0   \n",
       "...                  ...                    ...                        ...   \n",
       "6385                   1                      0                          0   \n",
       "6386                   1                      0                          0   \n",
       "6419                   0                      1                          0   \n",
       "6437                   0                      0                          0   \n",
       "6441                   0                      0                          0   \n",
       "\n",
       "      nivelInglesCompreensao  HighestAcademicDegree  datacandidaturafim_month  \n",
       "14                      0.50                    0.6                  0.090909  \n",
       "15                      1.00                    0.6                  0.090909  \n",
       "28                      0.75                    1.0                  0.090909  \n",
       "51                      0.75                    0.6                  0.090909  \n",
       "66                      0.50                    0.6                  0.090909  \n",
       "...                      ...                    ...                       ...  \n",
       "6385                    0.50                    0.6                  0.363636  \n",
       "6386                    0.50                    0.6                  0.363636  \n",
       "6419                    0.75                    0.6                  0.363636  \n",
       "6437                    0.50                    0.6                  0.363636  \n",
       "6441                    0.75                    0.6                  0.363636  \n",
       "\n",
       "[317 rows x 16 columns]"
      ]
     },
     "execution_count": 25,
     "metadata": {},
     "output_type": "execute_result"
    }
   ],
   "source": [
    "dbscan_out = DBSCAN(eps = 0.15, min_samples = 2 * len(numerical_variables_grades) - 1).fit(\n",
    "    X_grades_train_scaled[numerical_variables_grades])\n",
    "\n",
    "outliers_dbscan = X_grades_train_scaled[dbscan_out.labels_ == -1]\n",
    "outliers_dbscan"
   ]
  },
  {
   "cell_type": "markdown",
   "id": "6fad8e85",
   "metadata": {},
   "source": [
    "Since DBSCAN identified more than 14% of our dataset as being outliers (even with a higher threshold), __we will choose not to remove any observation from the dataset__. It is not clear that there are applicants whose characteristics fall far from the common behaviour, and therefore we will allow our prediction models to learn using all these observations.\n",
    "\n",
    "## <font color='#BFD62F'>3.8. Storing the Dataframes</font> <a class=\"anchor\" id=\"storing\"></a>\n",
    "[Back to Contents](#toc)\n",
    "\n",
    "Marking the end of our preprocessing notebooks, we will store the dataframes to be used for modelling in the next notebook. See you there! 👋"
   ]
  },
  {
   "cell_type": "code",
   "execution_count": 26,
   "id": "776fa228",
   "metadata": {},
   "outputs": [
    {
     "name": "stdout",
     "output_type": "stream",
     "text": [
      "Stored 'X_grades_train_scaled' (DataFrame)\n",
      "Stored 'X_grades_val_scaled' (DataFrame)\n",
      "Stored 'y_grades_train_scaled' (Series)\n",
      "Stored 'y_grades_val_scaled' (Series)\n",
      "Stored 'numerical_variables_grades' (list)\n",
      "Stored 'binary_variables_grades' (list)\n",
      "Stored 'categorical_variables_grades' (list)\n"
     ]
    }
   ],
   "source": [
    "%store X_grades_train_scaled\n",
    "%store X_grades_val_scaled\n",
    "%store y_grades_train_scaled\n",
    "%store y_grades_val_scaled\n",
    "\n",
    "#%store X_grades_train\n",
    "#%store X_grades_val\n",
    "#%store y_grades_train\n",
    "#%store y_grades_val\n",
    "\n",
    "%store numerical_variables_grades\n",
    "%store binary_variables_grades\n",
    "%store categorical_variables_grades"
   ]
  }
 ],
 "metadata": {
  "kernelspec": {
   "display_name": "nova",
   "language": "python",
   "name": "python3"
  },
  "language_info": {
   "codemirror_mode": {
    "name": "ipython",
    "version": 3
   },
   "file_extension": ".py",
   "mimetype": "text/x-python",
   "name": "python",
   "nbconvert_exporter": "python",
   "pygments_lexer": "ipython3",
   "version": "3.11.8"
  }
 },
 "nbformat": 4,
 "nbformat_minor": 5
}
